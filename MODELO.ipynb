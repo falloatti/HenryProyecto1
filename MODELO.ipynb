{
  "nbformat": 4,
  "nbformat_minor": 0,
  "metadata": {
    "colab": {
      "provenance": [],
      "authorship_tag": "ABX9TyPS8gvX/9ELsT0gEBxkm+Kq",
      "include_colab_link": true
    },
    "kernelspec": {
      "name": "python3",
      "display_name": "Python 3"
    },
    "language_info": {
      "name": "python"
    }
  },
  "cells": [
    {
      "cell_type": "markdown",
      "metadata": {
        "id": "view-in-github",
        "colab_type": "text"
      },
      "source": [
        "<a href=\"https://colab.research.google.com/github/falloatti/HenryProyectoUno/blob/main/MODELO.ipynb\" target=\"_parent\"><img src=\"https://colab.research.google.com/assets/colab-badge.svg\" alt=\"Open In Colab\"/></a>"
      ]
    },
    {
      "cell_type": "code",
      "execution_count": null,
      "metadata": {
        "colab": {
          "base_uri": "https://localhost:8080/"
        },
        "id": "mSFj3S_Es02q",
        "outputId": "7bc2b7ac-2390-483e-88bc-58a852362708"
      },
      "outputs": [
        {
          "output_type": "stream",
          "name": "stdout",
          "text": [
            "Mounted at /content/drive\n"
          ]
        }
      ],
      "source": [
        "#habilito lectura en Drive\n",
        "from google.colab import drive\n",
        "drive.mount('/content/drive')"
      ]
    },
    {
      "cell_type": "code",
      "source": [
        "import pandas as pd\n",
        "import numpy as np\n",
        "import matplotlib.pyplot as plt\n",
        "import os\n",
        "import seaborn as sns\n",
        "from pandas_profiling import ProfileReport\n",
        "from datetime import datetime, timedelta\n",
        "from sklearn import metrics\n",
        "import math\n",
        "from sklearn.metrics import classification_report\n",
        "from sklearn import linear_model\n",
        "import pickle as pkl\n",
        "import pyarrow as pa\n",
        "import pyarrow.parquet as pq"
      ],
      "metadata": {
        "id": "VQkf_V0Rs5Y2"
      },
      "execution_count": null,
      "outputs": []
    },
    {
      "cell_type": "code",
      "source": [
        "movies = pd.read_parquet(r'/content/drive/MyDrive/ProyectosHenry/archivoEDA.parquet')"
      ],
      "metadata": {
        "id": "vTfxzhNZtDYT"
      },
      "execution_count": null,
      "outputs": []
    },
    {
      "cell_type": "code",
      "source": [
        "movies.shape"
      ],
      "metadata": {
        "colab": {
          "base_uri": "https://localhost:8080/"
        },
        "id": "ojQ3gIlztZb6",
        "outputId": "825624fd-4de0-44a1-895c-3c7c89952481"
      },
      "execution_count": null,
      "outputs": [
        {
          "output_type": "execute_result",
          "data": {
            "text/plain": [
              "(11013823, 58)"
            ]
          },
          "metadata": {},
          "execution_count": 4
        }
      ]
    },
    {
      "cell_type": "code",
      "source": [
        "# Obtiene las columnas como una lista\n",
        "columnas = movies.columns.tolist()\n",
        "\n",
        "# Imprime la lista de columnas\n",
        "print(columnas)"
      ],
      "metadata": {
        "colab": {
          "base_uri": "https://localhost:8080/"
        },
        "id": "UOVPR2CsuZ5a",
        "outputId": "fe0507be-495e-4629-c1b0-0d02e8212195"
      },
      "execution_count": null,
      "outputs": [
        {
          "output_type": "stream",
          "name": "stdout",
          "text": [
            "['userId', 'score', 'id', 'title', 'year', 'duration_int', 'duration_type', 'scored', 'multiple_values', 'mark knight', 'cannis holder', 'jay chapman', 'moonbug entertainment', 'arthur van merwijk', 'maggie binkley', 'shah rukh khan', 'gene autry', 'akshay kumar', 'nicolas cage', 'united states', 'india', 'diftiempo', '13+', '16', '16+', '18+', '7+', 'ages_16_', 'ages_18_', 'all', 'all_ages', 'g', 'nc-17', 'not rated', 'not_rate', 'nr', 'pg', 'pg-13', 'r', 'tv-14', 'tv-g', 'tv-ma', 'tv-nr', 'tv-pg', 'tv-y', 'tv-y7', 'tv-y7-fv', 'unrated', 'ur', 'drama', 'comedy', 'documentaries', 'kids', 'horror, suspense', 'amazon', 'netflix', 'hulu', 'disney']\n"
          ]
        }
      ]
    },
    {
      "cell_type": "code",
      "source": [
        "pip install scikit-surprise\n"
      ],
      "metadata": {
        "colab": {
          "base_uri": "https://localhost:8080/"
        },
        "id": "SilTGpxZvk46",
        "outputId": "2c231ac7-6c1c-443c-afec-cc72b111e223"
      },
      "execution_count": null,
      "outputs": [
        {
          "output_type": "stream",
          "name": "stdout",
          "text": [
            "Looking in indexes: https://pypi.org/simple, https://us-python.pkg.dev/colab-wheels/public/simple/\n",
            "Collecting scikit-surprise\n",
            "  Downloading scikit-surprise-1.1.3.tar.gz (771 kB)\n",
            "\u001b[2K     \u001b[90m━━━━━━━━━━━━━━━━━━━━━━━━━━━━━━━━━━━━━━\u001b[0m \u001b[32m772.0/772.0 KB\u001b[0m \u001b[31m12.0 MB/s\u001b[0m eta \u001b[36m0:00:00\u001b[0m\n",
            "\u001b[?25h  Preparing metadata (setup.py) ... \u001b[?25l\u001b[?25hdone\n",
            "Requirement already satisfied: joblib>=1.0.0 in /usr/local/lib/python3.8/dist-packages (from scikit-surprise) (1.2.0)\n",
            "Requirement already satisfied: numpy>=1.17.3 in /usr/local/lib/python3.8/dist-packages (from scikit-surprise) (1.21.6)\n",
            "Requirement already satisfied: scipy>=1.3.2 in /usr/local/lib/python3.8/dist-packages (from scikit-surprise) (1.7.3)\n",
            "Building wheels for collected packages: scikit-surprise\n",
            "  Building wheel for scikit-surprise (setup.py) ... \u001b[?25l\u001b[?25hdone\n",
            "  Created wheel for scikit-surprise: filename=scikit_surprise-1.1.3-cp38-cp38-linux_x86_64.whl size=3366463 sha256=6a58e54c8a4511a4f4c071897c0811a823e2bbf41e3116a7f85948a41c545495\n",
            "  Stored in directory: /root/.cache/pip/wheels/af/db/86/2c18183a80ba05da35bf0fb7417aac5cddbd93bcb1b92fd3ea\n",
            "Successfully built scikit-surprise\n",
            "Installing collected packages: scikit-surprise\n",
            "Successfully installed scikit-surprise-1.1.3\n"
          ]
        }
      ]
    },
    {
      "cell_type": "code",
      "source": [
        "from surprise import Dataset, Reader, SVD\n",
        "from surprise.model_selection import train_test_split"
      ],
      "metadata": {
        "id": "eoRQlZSuupUH"
      },
      "execution_count": null,
      "outputs": []
    },
    {
      "cell_type": "code",
      "source": [
        "moviesModelo1 = movies[['userId', 'id','score']]"
      ],
      "metadata": {
        "id": "ThI1rCjnvyn6"
      },
      "execution_count": null,
      "outputs": []
    },
    {
      "cell_type": "code",
      "source": [
        "\n",
        "# Definir el rango de calificaciones\n",
        "reader = Reader(rating_scale=(1, 5))"
      ],
      "metadata": {
        "id": "2vsGT-bhwFs3"
      },
      "execution_count": null,
      "outputs": []
    },
    {
      "cell_type": "code",
      "source": [
        "data = Dataset.load_from_df(moviesModelo1[['userId', 'id','score']], reader)\n"
      ],
      "metadata": {
        "id": "xqhpIGCvyL_D"
      },
      "execution_count": null,
      "outputs": []
    },
    {
      "cell_type": "code",
      "source": [
        "# Crear un conjunto de entrenamiento y prueba a partir del objeto Dataset\n",
        "trainset, testset = train_test_split(data, test_size=0.25)"
      ],
      "metadata": {
        "id": "kUEbZ9QBzdJu"
      },
      "execution_count": null,
      "outputs": []
    },
    {
      "cell_type": "code",
      "source": [
        "# Crear un modelo de recomendación utilizando el algoritmo SVD\n",
        "model = SVD()"
      ],
      "metadata": {
        "id": "CP0jgTSpzhXs"
      },
      "execution_count": null,
      "outputs": []
    },
    {
      "cell_type": "code",
      "source": [
        "# Entrenar el modelo utilizando el conjunto de entrenamiento\n",
        "model.fit(trainset)"
      ],
      "metadata": {
        "colab": {
          "base_uri": "https://localhost:8080/"
        },
        "id": "xV99piz_yhNI",
        "outputId": "019ddac3-8f37-434c-fa10-bb624c3e58f9"
      },
      "execution_count": null,
      "outputs": [
        {
          "output_type": "execute_result",
          "data": {
            "text/plain": [
              "<surprise.prediction_algorithms.matrix_factorization.SVD at 0x7f8ac7b5b550>"
            ]
          },
          "metadata": {},
          "execution_count": 13
        }
      ]
    },
    {
      "cell_type": "code",
      "source": [
        "# Generar predicciones para el conjunto de prueba\n",
        "predictions = model.test(testset)"
      ],
      "metadata": {
        "id": "9qYKT8LEzmkn"
      },
      "execution_count": null,
      "outputs": []
    },
    {
      "cell_type": "code",
      "source": [
        "# Hacer una predicción para un  usuario y una  película \n",
        "userId= 782\n",
        "id = 'ns123'\n",
        "prediction = model.predict(userId, id)\n",
        "\n",
        "# Evaluar la calificación predicha y devolver un mensaje correspondiente\n",
        "if prediction.est >= 4:\n",
        "    mensaje = \"Tenes que verla!!\", prediction.est\n",
        "elif prediction.est >= 3 and prediction.est < 4:\n",
        "    mensaje = \"Te la recomendamos!\", prediction.est\n",
        "else:\n",
        "    mensaje = \"La neta wey? No la veas!\", prediction.est\n",
        "\n",
        "# Imprimir el mensaje correspondiente\n",
        "print(mensaje)"
      ],
      "metadata": {
        "colab": {
          "base_uri": "https://localhost:8080/"
        },
        "id": "ZFRwDcTM5r4P",
        "outputId": "156a9cff-0460-4076-a317-d5e466e041b1"
      },
      "execution_count": null,
      "outputs": [
        {
          "output_type": "stream",
          "name": "stdout",
          "text": [
            "('Te la recomendamos!', 3.652265727589211)\n"
          ]
        }
      ]
    },
    {
      "cell_type": "code",
      "source": [
        "\n",
        "# Guardar el modelo entrenado en un archivo utilizando pickle\n",
        "with open('mi_modelo_entrenado.pkl', 'wb') as archivo:\n",
        "    pkl.dump(model, archivo)"
      ],
      "metadata": {
        "id": "VFApWeKb-t2q"
      },
      "execution_count": null,
      "outputs": []
    },
    {
      "cell_type": "markdown",
      "source": [
        "Obtencion de muestra potencial por tiempos de procesamientos para un modelo mas completo, con menos peliculas y usuarios, pero filtrando por importancia por ahora no lo vamos a usar"
      ],
      "metadata": {
        "id": "H3Zrl5PttK9_"
      }
    },
    {
      "cell_type": "code",
      "source": [
        "# Filtrar los id que aparecen con mas de 500 calificaciones \n",
        "id_counts = movies['id'].value_counts()\n",
        "popular_ids = id_counts[id_counts > 500].index\n",
        "df_popular = movies[movies['id'].isin(popular_ids)]\n",
        "\n",
        "# Agrupar por grupos de 10000 userId y contar los id únicos\n",
        "users = df_popular.groupby('userId')['id'].nunique()\n",
        "\n",
        "# ordenar los usuarios por el número de 'id' únicos que tienen\n",
        "users = users.sort_values(ascending=False)\n",
        "\n",
        "# seleccionar los 10000 usuarios con más 'id' únicos\n",
        "top_users = users[:10000]\n",
        "\n",
        "# obtener una muestra del dataframe que contenga solo los 'id' de los 10000 usuarios seleccionados\n",
        "sample_df = df_popular[df_popular['userId'].isin(top_users.index)]"
      ],
      "metadata": {
        "id": "XLRZSQq4tIxf"
      },
      "execution_count": null,
      "outputs": []
    },
    {
      "cell_type": "code",
      "source": [
        "unique_values = sample_df['id'].nunique()\n",
        "print(\"La columna 'id' tiene\", unique_values, \"valores únicos.\")\n",
        "unique_values = sample_df['userId'].nunique()\n",
        "print(\"La columna 'userId' tiene\", unique_values, \"valores únicos.\")"
      ],
      "metadata": {
        "colab": {
          "base_uri": "https://localhost:8080/"
        },
        "id": "fg71ZCvLtIrE",
        "outputId": "fc81abf0-07a8-4805-80c5-5b025ce53306"
      },
      "execution_count": null,
      "outputs": [
        {
          "output_type": "stream",
          "name": "stdout",
          "text": [
            "La columna 'id' tiene 3788 valores únicos.\n",
            "La columna 'userId' tiene 10000 valores únicos.\n"
          ]
        }
      ]
    },
    {
      "cell_type": "code",
      "source": [
        "sample_df.shape"
      ],
      "metadata": {
        "colab": {
          "base_uri": "https://localhost:8080/"
        },
        "id": "ZLZhsNkcel_H",
        "outputId": "664589f3-99bf-45fd-eaea-3f5fe8a62590"
      },
      "execution_count": null,
      "outputs": [
        {
          "output_type": "execute_result",
          "data": {
            "text/plain": [
              "(1020495, 58)"
            ]
          },
          "metadata": {},
          "execution_count": 31
        }
      ]
    },
    {
      "cell_type": "code",
      "source": [
        "sample_df.to_csv('smalldataset.csv')"
      ],
      "metadata": {
        "id": "WotW11Xf9s6V"
      },
      "execution_count": null,
      "outputs": []
    }
  ]
}