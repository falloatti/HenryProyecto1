{
  "nbformat": 4,
  "nbformat_minor": 0,
  "metadata": {
    "colab": {
      "provenance": [],
      "machine_shape": "hm",
      "include_colab_link": true
    },
    "kernelspec": {
      "name": "python3",
      "display_name": "Python 3"
    },
    "language_info": {
      "name": "python"
    },
    "gpuClass": "standard"
  },
  "cells": [
    {
      "cell_type": "markdown",
      "metadata": {
        "id": "view-in-github",
        "colab_type": "text"
      },
      "source": [
        "<a href=\"https://colab.research.google.com/github/falloatti/HenryProyectoUno/blob/main/EDA.ipynb\" target=\"_parent\"><img src=\"https://colab.research.google.com/assets/colab-badge.svg\" alt=\"Open In Colab\"/></a>"
      ]
    },
    {
      "cell_type": "code",
      "execution_count": null,
      "metadata": {
        "colab": {
          "base_uri": "https://localhost:8080/"
        },
        "id": "Qg3VM9rV9DHa",
        "outputId": "64daacac-eb6f-4cfd-9fb1-e8bcc881de17"
      },
      "outputs": [
        {
          "output_type": "stream",
          "name": "stdout",
          "text": [
            "Mounted at /content/drive\n"
          ]
        }
      ],
      "source": [
        "#habilito lectura en Drive\n",
        "from google.colab import drive\n",
        "drive.mount('/content/drive')"
      ]
    },
    {
      "cell_type": "code",
      "source": [
        "import pandas as pd\n",
        "import numpy as np\n",
        "import matplotlib.pyplot as plt\n",
        "import os\n",
        "import seaborn as sns\n",
        "from pandas_profiling import ProfileReport\n",
        "from datetime import datetime, timedelta\n",
        "from sklearn import metrics\n",
        "import math\n",
        "from sklearn.metrics import classification_report\n",
        "from sklearn import linear_model\n",
        "import pickle as pkl"
      ],
      "metadata": {
        "id": "foWo2FWh9MuI"
      },
      "execution_count": null,
      "outputs": []
    },
    {
      "cell_type": "code",
      "source": [
        "pd.options.display.float_format = '{:.2f}'.format\n"
      ],
      "metadata": {
        "id": "VsEGd8vkY4b3"
      },
      "execution_count": null,
      "outputs": []
    },
    {
      "cell_type": "code",
      "source": [
        "movies = pd.read_parquet(r'/content/drive/MyDrive/ProyectosHenry/archivo.parquet')\n"
      ],
      "metadata": {
        "id": "vgDLLM3e9Yvr"
      },
      "execution_count": null,
      "outputs": []
    },
    {
      "cell_type": "code",
      "source": [
        "movies.shape"
      ],
      "metadata": {
        "colab": {
          "base_uri": "https://localhost:8080/"
        },
        "id": "85sOeodL-YHA",
        "outputId": "4370f85c-e97f-40ba-c818-521fce13faa6"
      },
      "execution_count": null,
      "outputs": [
        {
          "output_type": "execute_result",
          "data": {
            "text/plain": [
              "(11013823, 17)"
            ]
          },
          "metadata": {},
          "execution_count": 5
        }
      ]
    },
    {
      "cell_type": "code",
      "source": [
        "movies.head()"
      ],
      "metadata": {
        "colab": {
          "base_uri": "https://localhost:8080/",
          "height": 337
        },
        "id": "dRvcaGH0-Z3b",
        "outputId": "dcea7e3c-9f73-47d3-f638-0fe86cacacaa"
      },
      "execution_count": null,
      "outputs": [
        {
          "output_type": "execute_result",
          "data": {
            "text/plain": [
              "   userId  score  timestamp     id     type                  title director  \\\n",
              "0       1   1.00 2015-03-09  as680  tv show  the english civil war     None   \n",
              "1     583   4.50 2005-04-08  as680  tv show  the english civil war     None   \n",
              "2     765   5.00 1998-03-12  as680  tv show  the english civil war     None   \n",
              "3    2116   3.00 1996-07-01  as680  tv show  the english civil war     None   \n",
              "4    2143   3.00 2015-06-23  as680  tv show  the english civil war     None   \n",
              "\n",
              "            cast country date_added  year rating  \\\n",
              "0  robert whelan    None        NaT  2019    13+   \n",
              "1  robert whelan    None        NaT  2019    13+   \n",
              "2  robert whelan    None        NaT  2019    13+   \n",
              "3  robert whelan    None        NaT  2019    13+   \n",
              "4  robert whelan    None        NaT  2019    13+   \n",
              "\n",
              "                       listed_in platform  duration_int duration_type  scored  \n",
              "0  documentary, special interest   amazon             1        season    3.55  \n",
              "1  documentary, special interest   amazon             1        season    3.55  \n",
              "2  documentary, special interest   amazon             1        season    3.55  \n",
              "3  documentary, special interest   amazon             1        season    3.55  \n",
              "4  documentary, special interest   amazon             1        season    3.55  "
            ],
            "text/html": [
              "\n",
              "  <div id=\"df-5a871a3b-7d85-4557-b9aa-2e8143ce872d\">\n",
              "    <div class=\"colab-df-container\">\n",
              "      <div>\n",
              "<style scoped>\n",
              "    .dataframe tbody tr th:only-of-type {\n",
              "        vertical-align: middle;\n",
              "    }\n",
              "\n",
              "    .dataframe tbody tr th {\n",
              "        vertical-align: top;\n",
              "    }\n",
              "\n",
              "    .dataframe thead th {\n",
              "        text-align: right;\n",
              "    }\n",
              "</style>\n",
              "<table border=\"1\" class=\"dataframe\">\n",
              "  <thead>\n",
              "    <tr style=\"text-align: right;\">\n",
              "      <th></th>\n",
              "      <th>userId</th>\n",
              "      <th>score</th>\n",
              "      <th>timestamp</th>\n",
              "      <th>id</th>\n",
              "      <th>type</th>\n",
              "      <th>title</th>\n",
              "      <th>director</th>\n",
              "      <th>cast</th>\n",
              "      <th>country</th>\n",
              "      <th>date_added</th>\n",
              "      <th>year</th>\n",
              "      <th>rating</th>\n",
              "      <th>listed_in</th>\n",
              "      <th>platform</th>\n",
              "      <th>duration_int</th>\n",
              "      <th>duration_type</th>\n",
              "      <th>scored</th>\n",
              "    </tr>\n",
              "  </thead>\n",
              "  <tbody>\n",
              "    <tr>\n",
              "      <th>0</th>\n",
              "      <td>1</td>\n",
              "      <td>1.00</td>\n",
              "      <td>2015-03-09</td>\n",
              "      <td>as680</td>\n",
              "      <td>tv show</td>\n",
              "      <td>the english civil war</td>\n",
              "      <td>None</td>\n",
              "      <td>robert whelan</td>\n",
              "      <td>None</td>\n",
              "      <td>NaT</td>\n",
              "      <td>2019</td>\n",
              "      <td>13+</td>\n",
              "      <td>documentary, special interest</td>\n",
              "      <td>amazon</td>\n",
              "      <td>1</td>\n",
              "      <td>season</td>\n",
              "      <td>3.55</td>\n",
              "    </tr>\n",
              "    <tr>\n",
              "      <th>1</th>\n",
              "      <td>583</td>\n",
              "      <td>4.50</td>\n",
              "      <td>2005-04-08</td>\n",
              "      <td>as680</td>\n",
              "      <td>tv show</td>\n",
              "      <td>the english civil war</td>\n",
              "      <td>None</td>\n",
              "      <td>robert whelan</td>\n",
              "      <td>None</td>\n",
              "      <td>NaT</td>\n",
              "      <td>2019</td>\n",
              "      <td>13+</td>\n",
              "      <td>documentary, special interest</td>\n",
              "      <td>amazon</td>\n",
              "      <td>1</td>\n",
              "      <td>season</td>\n",
              "      <td>3.55</td>\n",
              "    </tr>\n",
              "    <tr>\n",
              "      <th>2</th>\n",
              "      <td>765</td>\n",
              "      <td>5.00</td>\n",
              "      <td>1998-03-12</td>\n",
              "      <td>as680</td>\n",
              "      <td>tv show</td>\n",
              "      <td>the english civil war</td>\n",
              "      <td>None</td>\n",
              "      <td>robert whelan</td>\n",
              "      <td>None</td>\n",
              "      <td>NaT</td>\n",
              "      <td>2019</td>\n",
              "      <td>13+</td>\n",
              "      <td>documentary, special interest</td>\n",
              "      <td>amazon</td>\n",
              "      <td>1</td>\n",
              "      <td>season</td>\n",
              "      <td>3.55</td>\n",
              "    </tr>\n",
              "    <tr>\n",
              "      <th>3</th>\n",
              "      <td>2116</td>\n",
              "      <td>3.00</td>\n",
              "      <td>1996-07-01</td>\n",
              "      <td>as680</td>\n",
              "      <td>tv show</td>\n",
              "      <td>the english civil war</td>\n",
              "      <td>None</td>\n",
              "      <td>robert whelan</td>\n",
              "      <td>None</td>\n",
              "      <td>NaT</td>\n",
              "      <td>2019</td>\n",
              "      <td>13+</td>\n",
              "      <td>documentary, special interest</td>\n",
              "      <td>amazon</td>\n",
              "      <td>1</td>\n",
              "      <td>season</td>\n",
              "      <td>3.55</td>\n",
              "    </tr>\n",
              "    <tr>\n",
              "      <th>4</th>\n",
              "      <td>2143</td>\n",
              "      <td>3.00</td>\n",
              "      <td>2015-06-23</td>\n",
              "      <td>as680</td>\n",
              "      <td>tv show</td>\n",
              "      <td>the english civil war</td>\n",
              "      <td>None</td>\n",
              "      <td>robert whelan</td>\n",
              "      <td>None</td>\n",
              "      <td>NaT</td>\n",
              "      <td>2019</td>\n",
              "      <td>13+</td>\n",
              "      <td>documentary, special interest</td>\n",
              "      <td>amazon</td>\n",
              "      <td>1</td>\n",
              "      <td>season</td>\n",
              "      <td>3.55</td>\n",
              "    </tr>\n",
              "  </tbody>\n",
              "</table>\n",
              "</div>\n",
              "      <button class=\"colab-df-convert\" onclick=\"convertToInteractive('df-5a871a3b-7d85-4557-b9aa-2e8143ce872d')\"\n",
              "              title=\"Convert this dataframe to an interactive table.\"\n",
              "              style=\"display:none;\">\n",
              "        \n",
              "  <svg xmlns=\"http://www.w3.org/2000/svg\" height=\"24px\"viewBox=\"0 0 24 24\"\n",
              "       width=\"24px\">\n",
              "    <path d=\"M0 0h24v24H0V0z\" fill=\"none\"/>\n",
              "    <path d=\"M18.56 5.44l.94 2.06.94-2.06 2.06-.94-2.06-.94-.94-2.06-.94 2.06-2.06.94zm-11 1L8.5 8.5l.94-2.06 2.06-.94-2.06-.94L8.5 2.5l-.94 2.06-2.06.94zm10 10l.94 2.06.94-2.06 2.06-.94-2.06-.94-.94-2.06-.94 2.06-2.06.94z\"/><path d=\"M17.41 7.96l-1.37-1.37c-.4-.4-.92-.59-1.43-.59-.52 0-1.04.2-1.43.59L10.3 9.45l-7.72 7.72c-.78.78-.78 2.05 0 2.83L4 21.41c.39.39.9.59 1.41.59.51 0 1.02-.2 1.41-.59l7.78-7.78 2.81-2.81c.8-.78.8-2.07 0-2.86zM5.41 20L4 18.59l7.72-7.72 1.47 1.35L5.41 20z\"/>\n",
              "  </svg>\n",
              "      </button>\n",
              "      \n",
              "  <style>\n",
              "    .colab-df-container {\n",
              "      display:flex;\n",
              "      flex-wrap:wrap;\n",
              "      gap: 12px;\n",
              "    }\n",
              "\n",
              "    .colab-df-convert {\n",
              "      background-color: #E8F0FE;\n",
              "      border: none;\n",
              "      border-radius: 50%;\n",
              "      cursor: pointer;\n",
              "      display: none;\n",
              "      fill: #1967D2;\n",
              "      height: 32px;\n",
              "      padding: 0 0 0 0;\n",
              "      width: 32px;\n",
              "    }\n",
              "\n",
              "    .colab-df-convert:hover {\n",
              "      background-color: #E2EBFA;\n",
              "      box-shadow: 0px 1px 2px rgba(60, 64, 67, 0.3), 0px 1px 3px 1px rgba(60, 64, 67, 0.15);\n",
              "      fill: #174EA6;\n",
              "    }\n",
              "\n",
              "    [theme=dark] .colab-df-convert {\n",
              "      background-color: #3B4455;\n",
              "      fill: #D2E3FC;\n",
              "    }\n",
              "\n",
              "    [theme=dark] .colab-df-convert:hover {\n",
              "      background-color: #434B5C;\n",
              "      box-shadow: 0px 1px 3px 1px rgba(0, 0, 0, 0.15);\n",
              "      filter: drop-shadow(0px 1px 2px rgba(0, 0, 0, 0.3));\n",
              "      fill: #FFFFFF;\n",
              "    }\n",
              "  </style>\n",
              "\n",
              "      <script>\n",
              "        const buttonEl =\n",
              "          document.querySelector('#df-5a871a3b-7d85-4557-b9aa-2e8143ce872d button.colab-df-convert');\n",
              "        buttonEl.style.display =\n",
              "          google.colab.kernel.accessAllowed ? 'block' : 'none';\n",
              "\n",
              "        async function convertToInteractive(key) {\n",
              "          const element = document.querySelector('#df-5a871a3b-7d85-4557-b9aa-2e8143ce872d');\n",
              "          const dataTable =\n",
              "            await google.colab.kernel.invokeFunction('convertToInteractive',\n",
              "                                                     [key], {});\n",
              "          if (!dataTable) return;\n",
              "\n",
              "          const docLinkHtml = 'Like what you see? Visit the ' +\n",
              "            '<a target=\"_blank\" href=https://colab.research.google.com/notebooks/data_table.ipynb>data table notebook</a>'\n",
              "            + ' to learn more about interactive tables.';\n",
              "          element.innerHTML = '';\n",
              "          dataTable['output_type'] = 'display_data';\n",
              "          await google.colab.output.renderOutput(dataTable, element);\n",
              "          const docLink = document.createElement('div');\n",
              "          docLink.innerHTML = docLinkHtml;\n",
              "          element.appendChild(docLink);\n",
              "        }\n",
              "      </script>\n",
              "    </div>\n",
              "  </div>\n",
              "  "
            ]
          },
          "metadata": {},
          "execution_count": 6
        }
      ]
    },
    {
      "cell_type": "code",
      "source": [
        "movies.describe()"
      ],
      "metadata": {
        "colab": {
          "base_uri": "https://localhost:8080/",
          "height": 300
        },
        "id": "vtGb9CBRW-8s",
        "outputId": "ce63b070-ad08-479b-bc64-0b2b2d4df581"
      },
      "execution_count": null,
      "outputs": [
        {
          "output_type": "execute_result",
          "data": {
            "text/plain": [
              "           userId       score        year  duration_int      scored\n",
              "count 11013823.00 11013823.00 11013823.00   11013823.00 11013823.00\n",
              "mean     89970.60        3.53     2010.82         66.60        3.53\n",
              "std      86863.89        1.06       15.39         51.42        0.05\n",
              "min          1.00        0.50     1920.00          0.00        3.34\n",
              "25%      28557.00        3.00     2010.00          3.00        3.50\n",
              "50%      56845.00        3.50     2016.00         84.00        3.53\n",
              "75%     116864.00        4.00     2019.00        101.00        3.57\n",
              "max     270896.00        5.00     2021.00        601.00        3.72"
            ],
            "text/html": [
              "\n",
              "  <div id=\"df-b532cc63-322f-4df4-a7ff-b4e28317592c\">\n",
              "    <div class=\"colab-df-container\">\n",
              "      <div>\n",
              "<style scoped>\n",
              "    .dataframe tbody tr th:only-of-type {\n",
              "        vertical-align: middle;\n",
              "    }\n",
              "\n",
              "    .dataframe tbody tr th {\n",
              "        vertical-align: top;\n",
              "    }\n",
              "\n",
              "    .dataframe thead th {\n",
              "        text-align: right;\n",
              "    }\n",
              "</style>\n",
              "<table border=\"1\" class=\"dataframe\">\n",
              "  <thead>\n",
              "    <tr style=\"text-align: right;\">\n",
              "      <th></th>\n",
              "      <th>userId</th>\n",
              "      <th>score</th>\n",
              "      <th>year</th>\n",
              "      <th>duration_int</th>\n",
              "      <th>scored</th>\n",
              "    </tr>\n",
              "  </thead>\n",
              "  <tbody>\n",
              "    <tr>\n",
              "      <th>count</th>\n",
              "      <td>11013823.00</td>\n",
              "      <td>11013823.00</td>\n",
              "      <td>11013823.00</td>\n",
              "      <td>11013823.00</td>\n",
              "      <td>11013823.00</td>\n",
              "    </tr>\n",
              "    <tr>\n",
              "      <th>mean</th>\n",
              "      <td>89970.60</td>\n",
              "      <td>3.53</td>\n",
              "      <td>2010.82</td>\n",
              "      <td>66.60</td>\n",
              "      <td>3.53</td>\n",
              "    </tr>\n",
              "    <tr>\n",
              "      <th>std</th>\n",
              "      <td>86863.89</td>\n",
              "      <td>1.06</td>\n",
              "      <td>15.39</td>\n",
              "      <td>51.42</td>\n",
              "      <td>0.05</td>\n",
              "    </tr>\n",
              "    <tr>\n",
              "      <th>min</th>\n",
              "      <td>1.00</td>\n",
              "      <td>0.50</td>\n",
              "      <td>1920.00</td>\n",
              "      <td>0.00</td>\n",
              "      <td>3.34</td>\n",
              "    </tr>\n",
              "    <tr>\n",
              "      <th>25%</th>\n",
              "      <td>28557.00</td>\n",
              "      <td>3.00</td>\n",
              "      <td>2010.00</td>\n",
              "      <td>3.00</td>\n",
              "      <td>3.50</td>\n",
              "    </tr>\n",
              "    <tr>\n",
              "      <th>50%</th>\n",
              "      <td>56845.00</td>\n",
              "      <td>3.50</td>\n",
              "      <td>2016.00</td>\n",
              "      <td>84.00</td>\n",
              "      <td>3.53</td>\n",
              "    </tr>\n",
              "    <tr>\n",
              "      <th>75%</th>\n",
              "      <td>116864.00</td>\n",
              "      <td>4.00</td>\n",
              "      <td>2019.00</td>\n",
              "      <td>101.00</td>\n",
              "      <td>3.57</td>\n",
              "    </tr>\n",
              "    <tr>\n",
              "      <th>max</th>\n",
              "      <td>270896.00</td>\n",
              "      <td>5.00</td>\n",
              "      <td>2021.00</td>\n",
              "      <td>601.00</td>\n",
              "      <td>3.72</td>\n",
              "    </tr>\n",
              "  </tbody>\n",
              "</table>\n",
              "</div>\n",
              "      <button class=\"colab-df-convert\" onclick=\"convertToInteractive('df-b532cc63-322f-4df4-a7ff-b4e28317592c')\"\n",
              "              title=\"Convert this dataframe to an interactive table.\"\n",
              "              style=\"display:none;\">\n",
              "        \n",
              "  <svg xmlns=\"http://www.w3.org/2000/svg\" height=\"24px\"viewBox=\"0 0 24 24\"\n",
              "       width=\"24px\">\n",
              "    <path d=\"M0 0h24v24H0V0z\" fill=\"none\"/>\n",
              "    <path d=\"M18.56 5.44l.94 2.06.94-2.06 2.06-.94-2.06-.94-.94-2.06-.94 2.06-2.06.94zm-11 1L8.5 8.5l.94-2.06 2.06-.94-2.06-.94L8.5 2.5l-.94 2.06-2.06.94zm10 10l.94 2.06.94-2.06 2.06-.94-2.06-.94-.94-2.06-.94 2.06-2.06.94z\"/><path d=\"M17.41 7.96l-1.37-1.37c-.4-.4-.92-.59-1.43-.59-.52 0-1.04.2-1.43.59L10.3 9.45l-7.72 7.72c-.78.78-.78 2.05 0 2.83L4 21.41c.39.39.9.59 1.41.59.51 0 1.02-.2 1.41-.59l7.78-7.78 2.81-2.81c.8-.78.8-2.07 0-2.86zM5.41 20L4 18.59l7.72-7.72 1.47 1.35L5.41 20z\"/>\n",
              "  </svg>\n",
              "      </button>\n",
              "      \n",
              "  <style>\n",
              "    .colab-df-container {\n",
              "      display:flex;\n",
              "      flex-wrap:wrap;\n",
              "      gap: 12px;\n",
              "    }\n",
              "\n",
              "    .colab-df-convert {\n",
              "      background-color: #E8F0FE;\n",
              "      border: none;\n",
              "      border-radius: 50%;\n",
              "      cursor: pointer;\n",
              "      display: none;\n",
              "      fill: #1967D2;\n",
              "      height: 32px;\n",
              "      padding: 0 0 0 0;\n",
              "      width: 32px;\n",
              "    }\n",
              "\n",
              "    .colab-df-convert:hover {\n",
              "      background-color: #E2EBFA;\n",
              "      box-shadow: 0px 1px 2px rgba(60, 64, 67, 0.3), 0px 1px 3px 1px rgba(60, 64, 67, 0.15);\n",
              "      fill: #174EA6;\n",
              "    }\n",
              "\n",
              "    [theme=dark] .colab-df-convert {\n",
              "      background-color: #3B4455;\n",
              "      fill: #D2E3FC;\n",
              "    }\n",
              "\n",
              "    [theme=dark] .colab-df-convert:hover {\n",
              "      background-color: #434B5C;\n",
              "      box-shadow: 0px 1px 3px 1px rgba(0, 0, 0, 0.15);\n",
              "      filter: drop-shadow(0px 1px 2px rgba(0, 0, 0, 0.3));\n",
              "      fill: #FFFFFF;\n",
              "    }\n",
              "  </style>\n",
              "\n",
              "      <script>\n",
              "        const buttonEl =\n",
              "          document.querySelector('#df-b532cc63-322f-4df4-a7ff-b4e28317592c button.colab-df-convert');\n",
              "        buttonEl.style.display =\n",
              "          google.colab.kernel.accessAllowed ? 'block' : 'none';\n",
              "\n",
              "        async function convertToInteractive(key) {\n",
              "          const element = document.querySelector('#df-b532cc63-322f-4df4-a7ff-b4e28317592c');\n",
              "          const dataTable =\n",
              "            await google.colab.kernel.invokeFunction('convertToInteractive',\n",
              "                                                     [key], {});\n",
              "          if (!dataTable) return;\n",
              "\n",
              "          const docLinkHtml = 'Like what you see? Visit the ' +\n",
              "            '<a target=\"_blank\" href=https://colab.research.google.com/notebooks/data_table.ipynb>data table notebook</a>'\n",
              "            + ' to learn more about interactive tables.';\n",
              "          element.innerHTML = '';\n",
              "          dataTable['output_type'] = 'display_data';\n",
              "          await google.colab.output.renderOutput(dataTable, element);\n",
              "          const docLink = document.createElement('div');\n",
              "          docLink.innerHTML = docLinkHtml;\n",
              "          element.appendChild(docLink);\n",
              "        }\n",
              "      </script>\n",
              "    </div>\n",
              "  </div>\n",
              "  "
            ]
          },
          "metadata": {},
          "execution_count": 7
        }
      ]
    },
    {
      "cell_type": "code",
      "source": [
        "movies.info()"
      ],
      "metadata": {
        "colab": {
          "base_uri": "https://localhost:8080/"
        },
        "id": "MHjhWeABXIp-",
        "outputId": "c243baa4-8563-4dd4-994a-2d45818b2f7e"
      },
      "execution_count": null,
      "outputs": [
        {
          "output_type": "stream",
          "name": "stdout",
          "text": [
            "<class 'pandas.core.frame.DataFrame'>\n",
            "Int64Index: 11013823 entries, 0 to 11024288\n",
            "Data columns (total 17 columns):\n",
            " #   Column         Dtype         \n",
            "---  ------         -----         \n",
            " 0   userId         int64         \n",
            " 1   score          float64       \n",
            " 2   timestamp      datetime64[ns]\n",
            " 3   id             object        \n",
            " 4   type           object        \n",
            " 5   title          object        \n",
            " 6   director       object        \n",
            " 7   cast           object        \n",
            " 8   country        object        \n",
            " 9   date_added     datetime64[ns]\n",
            " 10  year           int64         \n",
            " 11  rating         object        \n",
            " 12  listed_in      object        \n",
            " 13  platform       object        \n",
            " 14  duration_int   int64         \n",
            " 15  duration_type  object        \n",
            " 16  scored         float64       \n",
            "dtypes: datetime64[ns](2), float64(2), int64(3), object(10)\n",
            "memory usage: 1.5+ GB\n"
          ]
        }
      ]
    },
    {
      "cell_type": "markdown",
      "source": [
        "**Revisar valores no nulos por columna**"
      ],
      "metadata": {
        "id": "WK5VCh9tZJCZ"
      }
    },
    {
      "cell_type": "code",
      "source": [
        "print(\"Cantidad de filas: \", movies.shape[0])\n",
        "for column in movies.columns:\n",
        "    print(column, movies[column].dtype, \"Valores no nulos: \", movies[column].count())"
      ],
      "metadata": {
        "colab": {
          "base_uri": "https://localhost:8080/"
        },
        "id": "yQPBndC4YJHN",
        "outputId": "9e122f90-4e28-44a8-ab66-35b1f0f48dcc"
      },
      "execution_count": null,
      "outputs": [
        {
          "output_type": "stream",
          "name": "stdout",
          "text": [
            "Cantidad de filas:  11013823\n",
            "userId int64 Valores no nulos:  11013823\n",
            "score float64 Valores no nulos:  11013823\n",
            "timestamp datetime64[ns] Valores no nulos:  11013823\n",
            "id object Valores no nulos:  11013823\n",
            "type object Valores no nulos:  11013823\n",
            "title object Valores no nulos:  11013823\n",
            "director object Valores no nulos:  7056968\n",
            "cast object Valores no nulos:  8465400\n",
            "country object Valores no nulos:  5509022\n",
            "date_added datetime64[ns] Valores no nulos:  6440690\n",
            "year int64 Valores no nulos:  11013823\n",
            "rating object Valores no nulos:  11013823\n",
            "listed_in object Valores no nulos:  11013823\n",
            "platform object Valores no nulos:  11013823\n",
            "duration_int int64 Valores no nulos:  11013823\n",
            "duration_type object Valores no nulos:  10924436\n",
            "scored float64 Valores no nulos:  11013823\n"
          ]
        }
      ]
    },
    {
      "cell_type": "markdown",
      "source": [
        "**chequeo duplicados**"
      ],
      "metadata": {
        "id": "zso-s5WgZSKw"
      }
    },
    {
      "cell_type": "code",
      "source": [
        "# los duplicados fueron eliminados en el ETL, chequeamos\n",
        "num_duplicados = movies.duplicated().sum()\n",
        "\n",
        "# imprimir el número de valores duplicados\n",
        "print(\"El número de valores duplicados en el dataset es:\", num_duplicados)"
      ],
      "metadata": {
        "colab": {
          "base_uri": "https://localhost:8080/"
        },
        "id": "4pkfHgX7-d0p",
        "outputId": "620d7763-5814-4e61-d80c-ef03a7efa5c4"
      },
      "execution_count": null,
      "outputs": [
        {
          "output_type": "stream",
          "name": "stdout",
          "text": [
            "El número de valores duplicados en el dataset es: 0\n"
          ]
        }
      ]
    },
    {
      "cell_type": "markdown",
      "source": [
        "**variables iniciales**"
      ],
      "metadata": {
        "id": "pcOwNj50ZcUq"
      }
    },
    {
      "cell_type": "code",
      "source": [
        "movies.columns"
      ],
      "metadata": {
        "colab": {
          "base_uri": "https://localhost:8080/"
        },
        "id": "_04mt18u-nPc",
        "outputId": "ffac250d-42e9-47a6-e036-4727470691d1"
      },
      "execution_count": null,
      "outputs": [
        {
          "output_type": "execute_result",
          "data": {
            "text/plain": [
              "Index(['userId', 'score', 'timestamp', 'id', 'type', 'title', 'director',\n",
              "       'cast', 'country', 'date_added', 'year', 'rating', 'listed_in',\n",
              "       'platform', 'duration_int', 'duration_type', 'scored'],\n",
              "      dtype='object')"
            ]
          },
          "metadata": {},
          "execution_count": 11
        }
      ]
    },
    {
      "cell_type": "code",
      "source": [
        "unique_values = movies['userId'].nunique()\n",
        "print(\"La columna 'userId' tiene\", unique_values, \"valores únicos.\")"
      ],
      "metadata": {
        "colab": {
          "base_uri": "https://localhost:8080/"
        },
        "id": "bWB-ytHT-z-_",
        "outputId": "4494636a-4f69-478e-d686-2a799566367c"
      },
      "execution_count": null,
      "outputs": [
        {
          "output_type": "stream",
          "name": "stdout",
          "text": [
            "La columna 'userId' tiene 115077 valores únicos.\n"
          ]
        }
      ]
    },
    {
      "cell_type": "code",
      "source": [
        "counts = movies['userId'].value_counts()\n",
        "cumulative_counts = counts.cumsum()\n",
        "cumulative_percents = cumulative_counts / len(movies)\n",
        "pareto_df = pd.DataFrame({'userId': counts.index, 'count': counts, 'cumulative_percent': cumulative_percents})\n",
        "pareto_df = pareto_df.sort_values(by='cumulative_percent', ascending=False)\n",
        "total_percent = 100 * cumulative_counts / len(movies)\n",
        "pareto_df['total_percent'] = total_percent\n",
        "print(pareto_df)"
      ],
      "metadata": {
        "colab": {
          "base_uri": "https://localhost:8080/"
        },
        "id": "VWmpS7ko-06C",
        "outputId": "938329d3-40c0-4ddc-9813-7e9167255a7d"
      },
      "execution_count": null,
      "outputs": [
        {
          "output_type": "stream",
          "name": "stdout",
          "text": [
            "        userId  count  cumulative_percent  total_percent\n",
            "17774    17774      1                1.00         100.00\n",
            "44302    44302      1                1.00         100.00\n",
            "22271    22271      1                1.00         100.00\n",
            "113012  113012      1                1.00         100.00\n",
            "12252    12252      1                1.00         100.00\n",
            "...        ...    ...                 ...            ...\n",
            "24025    24025   4861                0.00           0.41\n",
            "70648    70648   5337                0.00           0.36\n",
            "270123  270123   7500                0.00           0.32\n",
            "8659      8659   9252                0.00           0.25\n",
            "45811    45811  18044                0.00           0.16\n",
            "\n",
            "[115077 rows x 4 columns]\n"
          ]
        }
      ]
    },
    {
      "cell_type": "code",
      "source": [
        "filtered_df = pareto_df[pareto_df['cumulative_percent'] <= 0.80]\n",
        "unique_values = len(filtered_df)\n",
        "print(unique_values)"
      ],
      "metadata": {
        "colab": {
          "base_uri": "https://localhost:8080/"
        },
        "id": "80FdadGS_D7U",
        "outputId": "b2492ef0-fe1f-466e-cce9-47322d8df8db"
      },
      "execution_count": null,
      "outputs": [
        {
          "output_type": "stream",
          "name": "stdout",
          "text": [
            "30549\n"
          ]
        }
      ]
    },
    {
      "cell_type": "code",
      "source": [
        "for percent in range(70, 81):\n",
        "    percent /= 100\n",
        "    filtered_df = pareto_df[pareto_df['cumulative_percent'] <= percent]\n",
        "    unique_values = len(filtered_df)\n",
        "    percent_of_unique = 100 * unique_values / len(pareto_df['userId'].unique())\n",
        "    print(f\"Con {percent*100}% del porcentaje acumulado de 'userId', se tienen {unique_values} valores únicos que representan el {percent_of_unique:.2f}% de todos los valores únicos.\")\n"
      ],
      "metadata": {
        "colab": {
          "base_uri": "https://localhost:8080/"
        },
        "id": "0-XrdLNR_goY",
        "outputId": "6fe2b317-ea6c-4783-bcbf-3398e83292ae"
      },
      "execution_count": null,
      "outputs": [
        {
          "output_type": "stream",
          "name": "stdout",
          "text": [
            "Con 70.0% del porcentaje acumulado de 'userId', se tienen 20295 valores únicos que representan el 17.64% de todos los valores únicos.\n",
            "Con 71.0% del porcentaje acumulado de 'userId', se tienen 21127 valores únicos que representan el 18.36% de todos los valores únicos.\n",
            "Con 72.0% del porcentaje acumulado de 'userId', se tienen 21996 valores únicos que representan el 19.11% de todos los valores únicos.\n",
            "Con 73.0% del porcentaje acumulado de 'userId', se tienen 22904 valores únicos que representan el 19.90% de todos los valores únicos.\n",
            "Con 74.0% del porcentaje acumulado de 'userId', se tienen 23853 valores únicos que representan el 20.73% de todos los valores únicos.\n",
            "Con 75.0% del porcentaje acumulado de 'userId', se tienen 24846 valores únicos que representan el 21.59% de todos los valores únicos.\n",
            "Con 76.0% del porcentaje acumulado de 'userId', se tienen 25882 valores únicos que representan el 22.49% de todos los valores únicos.\n",
            "Con 77.0% del porcentaje acumulado de 'userId', se tienen 26963 valores únicos que representan el 23.43% de todos los valores únicos.\n",
            "Con 78.0% del porcentaje acumulado de 'userId', se tienen 28090 valores únicos que representan el 24.41% de todos los valores únicos.\n",
            "Con 79.0% del porcentaje acumulado de 'userId', se tienen 29284 valores únicos que representan el 25.45% de todos los valores únicos.\n",
            "Con 80.0% del porcentaje acumulado de 'userId', se tienen 30549 valores únicos que representan el 26.55% de todos los valores únicos.\n"
          ]
        }
      ]
    },
    {
      "cell_type": "markdown",
      "source": [
        "**Comentarios:** la base cuenta con 115077 usuarios totales. Del total de filas, el 26.55% de los usuarios representa el 80% de las calificaciones de la base. "
      ],
      "metadata": {
        "id": "3LCih_EpZsrL"
      }
    },
    {
      "cell_type": "markdown",
      "source": [
        "**VARIABLE 'score'** corresponde a la calificacion dada por los usuarios. El rango es desde 1 a 5 en intervalos de 0,5. La puntuacion media es de 3.53 y mediana de 3.5"
      ],
      "metadata": {
        "id": "Cd3H7gN3aOJN"
      }
    },
    {
      "cell_type": "code",
      "source": [
        "movies.score.describe()"
      ],
      "metadata": {
        "colab": {
          "base_uri": "https://localhost:8080/"
        },
        "id": "o4s4ClgG_xWv",
        "outputId": "89035c88-ec86-4737-f559-ea2d3ee055cb"
      },
      "execution_count": null,
      "outputs": [
        {
          "output_type": "execute_result",
          "data": {
            "text/plain": [
              "count   11013823.00\n",
              "mean           3.53\n",
              "std            1.06\n",
              "min            0.50\n",
              "25%            3.00\n",
              "50%            3.50\n",
              "75%            4.00\n",
              "max            5.00\n",
              "Name: score, dtype: float64"
            ]
          },
          "metadata": {},
          "execution_count": 16
        }
      ]
    },
    {
      "cell_type": "code",
      "source": [
        "valores_unicos = movies[\"score\"].unique()\n",
        "print(valores_unicos)"
      ],
      "metadata": {
        "colab": {
          "base_uri": "https://localhost:8080/"
        },
        "id": "5rqGOSa0RFa0",
        "outputId": "ea32e0bc-ca3a-40f8-daf0-ace51c839ccb"
      },
      "execution_count": null,
      "outputs": [
        {
          "output_type": "stream",
          "name": "stdout",
          "text": [
            "[1.  4.5 5.  3.  4.  2.  3.5 2.5 0.5 1.5]\n"
          ]
        }
      ]
    },
    {
      "cell_type": "code",
      "source": [
        "tabla_valores_unicos = movies[\"score\"].value_counts().reset_index()\n",
        "tabla_valores_unicos.columns = ['valor', 'cantidad']\n",
        "tabla_valores_unicos['porcentaje'] = tabla_valores_unicos['cantidad'] / len(movies) * 100\n",
        "tabla_valores_unicos['porcentaje'] = tabla_valores_unicos['porcentaje'].round(2).astype(str) + '%'\n",
        "print(tabla_valores_unicos)"
      ],
      "metadata": {
        "colab": {
          "base_uri": "https://localhost:8080/"
        },
        "id": "H5JAoXf7SGAb",
        "outputId": "744c1ef6-ed96-412a-91a3-8470a9db124b"
      },
      "execution_count": null,
      "outputs": [
        {
          "output_type": "stream",
          "name": "stdout",
          "text": [
            "   valor  cantidad porcentaje\n",
            "0   4.00   2968261     26.95%\n",
            "1   3.00   2231080     20.26%\n",
            "2   5.00   1615290     14.67%\n",
            "3   3.50   1328630     12.06%\n",
            "4   4.50    919070      8.34%\n",
            "5   2.00    739522      6.71%\n",
            "6   2.50    530228      4.81%\n",
            "7   1.00    350378      3.18%\n",
            "8   1.50    167371      1.52%\n",
            "9   0.50    163993      1.49%\n"
          ]
        }
      ]
    },
    {
      "cell_type": "code",
      "source": [
        "%matplotlib inline"
      ],
      "metadata": {
        "id": "VzlxDP6kVg7d"
      },
      "execution_count": null,
      "outputs": []
    },
    {
      "cell_type": "code",
      "source": [
        "plt.hist(movies['score'], edgecolor = 'black', linewidth = 1)\n",
        "plt.show()"
      ],
      "metadata": {
        "id": "_KFT55nVeDKP",
        "colab": {
          "base_uri": "https://localhost:8080/",
          "height": 276
        },
        "outputId": "8e626cc1-086e-415f-bcdb-afdd36f968c4"
      },
      "execution_count": null,
      "outputs": [
        {
          "output_type": "display_data",
          "data": {
            "text/plain": [
              "<Figure size 432x288 with 1 Axes>"
            ],
            "image/png": "[encoded data removed]"
          },
          "metadata": {
            "needs_background": "light"
          }
        }
      ]
    },
    {
      "cell_type": "markdown",
      "source": [
        "**comentarios:** es una variable categorica ordinal, mientras mas alta la puntuacion mejor valoracion. "
      ],
      "metadata": {
        "id": "u6wIbwjHbRS2"
      }
    },
    {
      "cell_type": "markdown",
      "source": [
        "**VARIABLE 'timestamp'** corresponde a la fecha de la calificacion"
      ],
      "metadata": {
        "id": "DeYWsaO9bcxe"
      }
    },
    {
      "cell_type": "code",
      "source": [
        "import matplotlib.pyplot as plt\n",
        "\n",
        "# Configuramos la figura y el eje\n",
        "fig, ax = plt.subplots(figsize=(10, 6))\n",
        "\n",
        "# Agrupamos los datos por día usando resample()\n",
        "frecuencia = movies.resample('D', on='timestamp').count()\n",
        "\n",
        "# Graficamos los resultados\n",
        "ax.plot(frecuencia.index, frecuencia['score'])\n",
        "\n",
        "# Configuramos las etiquetas del eje x y el título del gráfico\n",
        "ax.set_xlabel('Fecha')\n",
        "ax.set_ylabel('Frecuencia')\n",
        "ax.set_title('Frecuencia por día')\n",
        "\n",
        "# Mostramos el gráfico\n",
        "plt.show()"
      ],
      "metadata": {
        "colab": {
          "base_uri": "https://localhost:8080/",
          "height": 404
        },
        "id": "TvBmKhpCViB_",
        "outputId": "32cfccf6-7c96-41b9-868c-4fef73eb1c6e"
      },
      "execution_count": null,
      "outputs": [
        {
          "output_type": "display_data",
          "data": {
            "text/plain": [
              "<Figure size 720x432 with 1 Axes>"
            ],
            "image/png": "[encoded data removed]"
          },
          "metadata": {
            "needs_background": "light"
          }
        }
      ]
    },
    {
      "cell_type": "markdown",
      "source": [
        "**comentarios**: no hay valores nulos"
      ],
      "metadata": {
        "id": "XHQJXZuwbxpk"
      }
    },
    {
      "cell_type": "markdown",
      "source": [
        "**VARIABLE 'id'** corresponde al id de la pelicula"
      ],
      "metadata": {
        "id": "wAJ6OEW2cH9J"
      }
    },
    {
      "cell_type": "code",
      "source": [
        "unique_values = movies['id'].nunique()\n",
        "print(\"La columna 'id' tiene\", unique_values, \"valores únicos.\")"
      ],
      "metadata": {
        "colab": {
          "base_uri": "https://localhost:8080/"
        },
        "id": "KKTzN13kcTpw",
        "outputId": "75c89636-c597-49c0-8c30-5aee2396d38b"
      },
      "execution_count": null,
      "outputs": [
        {
          "output_type": "stream",
          "name": "stdout",
          "text": [
            "La columna 'id' tiene 22998 valores únicos.\n"
          ]
        }
      ]
    },
    {
      "cell_type": "markdown",
      "source": [
        "**VARIABLE 'type'** corresponde al tipo de programa (TV show o movie)"
      ],
      "metadata": {
        "id": "VMTugBlAcI3u"
      }
    },
    {
      "cell_type": "code",
      "source": [
        "valores_unicos = movies[\"type\"].unique()\n",
        "print(valores_unicos)"
      ],
      "metadata": {
        "colab": {
          "base_uri": "https://localhost:8080/"
        },
        "id": "FeHgCRyCct7K",
        "outputId": "a812be8d-9a55-4632-fa60-2fa212f1c90c"
      },
      "execution_count": null,
      "outputs": [
        {
          "output_type": "stream",
          "name": "stdout",
          "text": [
            "['tv show' 'movie']\n"
          ]
        }
      ]
    },
    {
      "cell_type": "code",
      "source": [
        "tabla_valores_unicos = movies[\"type\"].value_counts().reset_index()\n",
        "tabla_valores_unicos.columns = ['valor', 'cantidad']\n",
        "tabla_valores_unicos['porcentaje'] = tabla_valores_unicos['cantidad'] / len(movies) * 100\n",
        "tabla_valores_unicos['porcentaje'] = tabla_valores_unicos['porcentaje'].round(2).astype(str) + '%'\n",
        "print(tabla_valores_unicos)"
      ],
      "metadata": {
        "colab": {
          "base_uri": "https://localhost:8080/"
        },
        "id": "s-UDuNzfdALS",
        "outputId": "d08951c9-d688-4d67-b964-e6601ad94509"
      },
      "execution_count": null,
      "outputs": [
        {
          "output_type": "stream",
          "name": "stdout",
          "text": [
            "     valor  cantidad porcentaje\n",
            "0    movie   7889721     71.63%\n",
            "1  tv show   3124102     28.37%\n"
          ]
        }
      ]
    },
    {
      "cell_type": "code",
      "source": [
        "# Crear una lista de colores para cada sección del gráfico\n",
        "colores = ['red', 'orange']\n",
        "\n",
        "# Crear un gráfico circular\n",
        "plt.pie(tabla_valores_unicos['cantidad'], labels=tabla_valores_unicos['valor'], \n",
        "        colors=colores, autopct='%1.1f%%', startangle=90)\n",
        "\n",
        "# Agregar título al gráfico\n",
        "plt.title('Distribución de películas por tipo')\n",
        "\n",
        "# Mostrar el gráfico\n",
        "plt.show()"
      ],
      "metadata": {
        "colab": {
          "base_uri": "https://localhost:8080/",
          "height": 264
        },
        "id": "d6d8EYZj9QRU",
        "outputId": "b8c453d6-c11d-41ad-b1aa-ba59af694f07"
      },
      "execution_count": null,
      "outputs": [
        {
          "output_type": "display_data",
          "data": {
            "text/plain": [
              "<Figure size 432x288 with 1 Axes>"
            ],
            "image/png": "[encoded data removed]"
          },
          "metadata": {}
        }
      ]
    },
    {
      "cell_type": "markdown",
      "source": [
        "**comentarios**: el 71.63% corresponde a movies y el 28.37% corresponde a tv show. Se genera variable dummies con cada una. "
      ],
      "metadata": {
        "id": "FFe7W5NGdFv9"
      }
    },
    {
      "cell_type": "code",
      "source": [
        "dummies = pd.get_dummies(movies[\"type\"])\n"
      ],
      "metadata": {
        "id": "t8fp_fnTdT2g"
      },
      "execution_count": null,
      "outputs": []
    },
    {
      "cell_type": "code",
      "source": [
        "movies = pd.concat([movies, dummies], axis=1)\n"
      ],
      "metadata": {
        "id": "Lt3drz6RfhbO"
      },
      "execution_count": null,
      "outputs": []
    },
    {
      "cell_type": "code",
      "source": [
        "movies.head(2)"
      ],
      "metadata": {
        "colab": {
          "base_uri": "https://localhost:8080/",
          "height": 208
        },
        "id": "H6vSqJjjfkRo",
        "outputId": "e96064c1-32d7-49d4-d15f-4e0393d0a030"
      },
      "execution_count": null,
      "outputs": [
        {
          "output_type": "execute_result",
          "data": {
            "text/plain": [
              "   userId  score  timestamp     id     type                  title director  \\\n",
              "0       1   1.00 2015-03-09  as680  tv show  the english civil war     None   \n",
              "1     583   4.50 2005-04-08  as680  tv show  the english civil war     None   \n",
              "\n",
              "            cast country date_added  year rating  \\\n",
              "0  robert whelan    None        NaT  2019    13+   \n",
              "1  robert whelan    None        NaT  2019    13+   \n",
              "\n",
              "                       listed_in platform  duration_int duration_type  scored  \\\n",
              "0  documentary, special interest   amazon             1        season    3.55   \n",
              "1  documentary, special interest   amazon             1        season    3.55   \n",
              "\n",
              "   movie  tv show  \n",
              "0      0        1  \n",
              "1      0        1  "
            ],
            "text/html": [
              "\n",
              "  <div id=\"df-840d80e3-17e3-4547-858b-059c741e27a1\">\n",
              "    <div class=\"colab-df-container\">\n",
              "      <div>\n",
              "<style scoped>\n",
              "    .dataframe tbody tr th:only-of-type {\n",
              "        vertical-align: middle;\n",
              "    }\n",
              "\n",
              "    .dataframe tbody tr th {\n",
              "        vertical-align: top;\n",
              "    }\n",
              "\n",
              "    .dataframe thead th {\n",
              "        text-align: right;\n",
              "    }\n",
              "</style>\n",
              "<table border=\"1\" class=\"dataframe\">\n",
              "  <thead>\n",
              "    <tr style=\"text-align: right;\">\n",
              "      <th></th>\n",
              "      <th>userId</th>\n",
              "      <th>score</th>\n",
              "      <th>timestamp</th>\n",
              "      <th>id</th>\n",
              "      <th>type</th>\n",
              "      <th>title</th>\n",
              "      <th>director</th>\n",
              "      <th>cast</th>\n",
              "      <th>country</th>\n",
              "      <th>date_added</th>\n",
              "      <th>year</th>\n",
              "      <th>rating</th>\n",
              "      <th>listed_in</th>\n",
              "      <th>platform</th>\n",
              "      <th>duration_int</th>\n",
              "      <th>duration_type</th>\n",
              "      <th>scored</th>\n",
              "      <th>movie</th>\n",
              "      <th>tv show</th>\n",
              "    </tr>\n",
              "  </thead>\n",
              "  <tbody>\n",
              "    <tr>\n",
              "      <th>0</th>\n",
              "      <td>1</td>\n",
              "      <td>1.00</td>\n",
              "      <td>2015-03-09</td>\n",
              "      <td>as680</td>\n",
              "      <td>tv show</td>\n",
              "      <td>the english civil war</td>\n",
              "      <td>None</td>\n",
              "      <td>robert whelan</td>\n",
              "      <td>None</td>\n",
              "      <td>NaT</td>\n",
              "      <td>2019</td>\n",
              "      <td>13+</td>\n",
              "      <td>documentary, special interest</td>\n",
              "      <td>amazon</td>\n",
              "      <td>1</td>\n",
              "      <td>season</td>\n",
              "      <td>3.55</td>\n",
              "      <td>0</td>\n",
              "      <td>1</td>\n",
              "    </tr>\n",
              "    <tr>\n",
              "      <th>1</th>\n",
              "      <td>583</td>\n",
              "      <td>4.50</td>\n",
              "      <td>2005-04-08</td>\n",
              "      <td>as680</td>\n",
              "      <td>tv show</td>\n",
              "      <td>the english civil war</td>\n",
              "      <td>None</td>\n",
              "      <td>robert whelan</td>\n",
              "      <td>None</td>\n",
              "      <td>NaT</td>\n",
              "      <td>2019</td>\n",
              "      <td>13+</td>\n",
              "      <td>documentary, special interest</td>\n",
              "      <td>amazon</td>\n",
              "      <td>1</td>\n",
              "      <td>season</td>\n",
              "      <td>3.55</td>\n",
              "      <td>0</td>\n",
              "      <td>1</td>\n",
              "    </tr>\n",
              "  </tbody>\n",
              "</table>\n",
              "</div>\n",
              "      <button class=\"colab-df-convert\" onclick=\"convertToInteractive('df-840d80e3-17e3-4547-858b-059c741e27a1')\"\n",
              "              title=\"Convert this dataframe to an interactive table.\"\n",
              "              style=\"display:none;\">\n",
              "        \n",
              "  <svg xmlns=\"http://www.w3.org/2000/svg\" height=\"24px\"viewBox=\"0 0 24 24\"\n",
              "       width=\"24px\">\n",
              "    <path d=\"M0 0h24v24H0V0z\" fill=\"none\"/>\n",
              "    <path d=\"M18.56 5.44l.94 2.06.94-2.06 2.06-.94-2.06-.94-.94-2.06-.94 2.06-2.06.94zm-11 1L8.5 8.5l.94-2.06 2.06-.94-2.06-.94L8.5 2.5l-.94 2.06-2.06.94zm10 10l.94 2.06.94-2.06 2.06-.94-2.06-.94-.94-2.06-.94 2.06-2.06.94z\"/><path d=\"M17.41 7.96l-1.37-1.37c-.4-.4-.92-.59-1.43-.59-.52 0-1.04.2-1.43.59L10.3 9.45l-7.72 7.72c-.78.78-.78 2.05 0 2.83L4 21.41c.39.39.9.59 1.41.59.51 0 1.02-.2 1.41-.59l7.78-7.78 2.81-2.81c.8-.78.8-2.07 0-2.86zM5.41 20L4 18.59l7.72-7.72 1.47 1.35L5.41 20z\"/>\n",
              "  </svg>\n",
              "      </button>\n",
              "      \n",
              "  <style>\n",
              "    .colab-df-container {\n",
              "      display:flex;\n",
              "      flex-wrap:wrap;\n",
              "      gap: 12px;\n",
              "    }\n",
              "\n",
              "    .colab-df-convert {\n",
              "      background-color: #E8F0FE;\n",
              "      border: none;\n",
              "      border-radius: 50%;\n",
              "      cursor: pointer;\n",
              "      display: none;\n",
              "      fill: #1967D2;\n",
              "      height: 32px;\n",
              "      padding: 0 0 0 0;\n",
              "      width: 32px;\n",
              "    }\n",
              "\n",
              "    .colab-df-convert:hover {\n",
              "      background-color: #E2EBFA;\n",
              "      box-shadow: 0px 1px 2px rgba(60, 64, 67, 0.3), 0px 1px 3px 1px rgba(60, 64, 67, 0.15);\n",
              "      fill: #174EA6;\n",
              "    }\n",
              "\n",
              "    [theme=dark] .colab-df-convert {\n",
              "      background-color: #3B4455;\n",
              "      fill: #D2E3FC;\n",
              "    }\n",
              "\n",
              "    [theme=dark] .colab-df-convert:hover {\n",
              "      background-color: #434B5C;\n",
              "      box-shadow: 0px 1px 3px 1px rgba(0, 0, 0, 0.15);\n",
              "      filter: drop-shadow(0px 1px 2px rgba(0, 0, 0, 0.3));\n",
              "      fill: #FFFFFF;\n",
              "    }\n",
              "  </style>\n",
              "\n",
              "      <script>\n",
              "        const buttonEl =\n",
              "          document.querySelector('#df-840d80e3-17e3-4547-858b-059c741e27a1 button.colab-df-convert');\n",
              "        buttonEl.style.display =\n",
              "          google.colab.kernel.accessAllowed ? 'block' : 'none';\n",
              "\n",
              "        async function convertToInteractive(key) {\n",
              "          const element = document.querySelector('#df-840d80e3-17e3-4547-858b-059c741e27a1');\n",
              "          const dataTable =\n",
              "            await google.colab.kernel.invokeFunction('convertToInteractive',\n",
              "                                                     [key], {});\n",
              "          if (!dataTable) return;\n",
              "\n",
              "          const docLinkHtml = 'Like what you see? Visit the ' +\n",
              "            '<a target=\"_blank\" href=https://colab.research.google.com/notebooks/data_table.ipynb>data table notebook</a>'\n",
              "            + ' to learn more about interactive tables.';\n",
              "          element.innerHTML = '';\n",
              "          dataTable['output_type'] = 'display_data';\n",
              "          await google.colab.output.renderOutput(dataTable, element);\n",
              "          const docLink = document.createElement('div');\n",
              "          docLink.innerHTML = docLinkHtml;\n",
              "          element.appendChild(docLink);\n",
              "        }\n",
              "      </script>\n",
              "    </div>\n",
              "  </div>\n",
              "  "
            ]
          },
          "metadata": {},
          "execution_count": 28
        }
      ]
    },
    {
      "cell_type": "code",
      "source": [
        "movies.drop('type', axis= 'columns', inplace= True)"
      ],
      "metadata": {
        "id": "6IWQ1STof8Di"
      },
      "execution_count": null,
      "outputs": []
    },
    {
      "cell_type": "code",
      "source": [
        "movies.head(2)"
      ],
      "metadata": {
        "colab": {
          "base_uri": "https://localhost:8080/",
          "height": 208
        },
        "id": "CdZgPRP-dFBH",
        "outputId": "ac2c8601-d958-4288-c0a6-f7ec78f61200"
      },
      "execution_count": null,
      "outputs": [
        {
          "output_type": "execute_result",
          "data": {
            "text/plain": [
              "   userId  score  timestamp     id                  title director  \\\n",
              "0       1   1.00 2015-03-09  as680  the english civil war     None   \n",
              "1     583   4.50 2005-04-08  as680  the english civil war     None   \n",
              "\n",
              "            cast country date_added  year rating  \\\n",
              "0  robert whelan    None        NaT  2019    13+   \n",
              "1  robert whelan    None        NaT  2019    13+   \n",
              "\n",
              "                       listed_in platform  duration_int duration_type  scored  \\\n",
              "0  documentary, special interest   amazon             1        season    3.55   \n",
              "1  documentary, special interest   amazon             1        season    3.55   \n",
              "\n",
              "   movie  tv show  \n",
              "0      0        1  \n",
              "1      0        1  "
            ],
            "text/html": [
              "\n",
              "  <div id=\"df-09911847-ca50-44d4-83bc-612e739d979f\">\n",
              "    <div class=\"colab-df-container\">\n",
              "      <div>\n",
              "<style scoped>\n",
              "    .dataframe tbody tr th:only-of-type {\n",
              "        vertical-align: middle;\n",
              "    }\n",
              "\n",
              "    .dataframe tbody tr th {\n",
              "        vertical-align: top;\n",
              "    }\n",
              "\n",
              "    .dataframe thead th {\n",
              "        text-align: right;\n",
              "    }\n",
              "</style>\n",
              "<table border=\"1\" class=\"dataframe\">\n",
              "  <thead>\n",
              "    <tr style=\"text-align: right;\">\n",
              "      <th></th>\n",
              "      <th>userId</th>\n",
              "      <th>score</th>\n",
              "      <th>timestamp</th>\n",
              "      <th>id</th>\n",
              "      <th>title</th>\n",
              "      <th>director</th>\n",
              "      <th>cast</th>\n",
              "      <th>country</th>\n",
              "      <th>date_added</th>\n",
              "      <th>year</th>\n",
              "      <th>rating</th>\n",
              "      <th>listed_in</th>\n",
              "      <th>platform</th>\n",
              "      <th>duration_int</th>\n",
              "      <th>duration_type</th>\n",
              "      <th>scored</th>\n",
              "      <th>movie</th>\n",
              "      <th>tv show</th>\n",
              "    </tr>\n",
              "  </thead>\n",
              "  <tbody>\n",
              "    <tr>\n",
              "      <th>0</th>\n",
              "      <td>1</td>\n",
              "      <td>1.00</td>\n",
              "      <td>2015-03-09</td>\n",
              "      <td>as680</td>\n",
              "      <td>the english civil war</td>\n",
              "      <td>None</td>\n",
              "      <td>robert whelan</td>\n",
              "      <td>None</td>\n",
              "      <td>NaT</td>\n",
              "      <td>2019</td>\n",
              "      <td>13+</td>\n",
              "      <td>documentary, special interest</td>\n",
              "      <td>amazon</td>\n",
              "      <td>1</td>\n",
              "      <td>season</td>\n",
              "      <td>3.55</td>\n",
              "      <td>0</td>\n",
              "      <td>1</td>\n",
              "    </tr>\n",
              "    <tr>\n",
              "      <th>1</th>\n",
              "      <td>583</td>\n",
              "      <td>4.50</td>\n",
              "      <td>2005-04-08</td>\n",
              "      <td>as680</td>\n",
              "      <td>the english civil war</td>\n",
              "      <td>None</td>\n",
              "      <td>robert whelan</td>\n",
              "      <td>None</td>\n",
              "      <td>NaT</td>\n",
              "      <td>2019</td>\n",
              "      <td>13+</td>\n",
              "      <td>documentary, special interest</td>\n",
              "      <td>amazon</td>\n",
              "      <td>1</td>\n",
              "      <td>season</td>\n",
              "      <td>3.55</td>\n",
              "      <td>0</td>\n",
              "      <td>1</td>\n",
              "    </tr>\n",
              "  </tbody>\n",
              "</table>\n",
              "</div>\n",
              "      <button class=\"colab-df-convert\" onclick=\"convertToInteractive('df-09911847-ca50-44d4-83bc-612e739d979f')\"\n",
              "              title=\"Convert this dataframe to an interactive table.\"\n",
              "              style=\"display:none;\">\n",
              "        \n",
              "  <svg xmlns=\"http://www.w3.org/2000/svg\" height=\"24px\"viewBox=\"0 0 24 24\"\n",
              "       width=\"24px\">\n",
              "    <path d=\"M0 0h24v24H0V0z\" fill=\"none\"/>\n",
              "    <path d=\"M18.56 5.44l.94 2.06.94-2.06 2.06-.94-2.06-.94-.94-2.06-.94 2.06-2.06.94zm-11 1L8.5 8.5l.94-2.06 2.06-.94-2.06-.94L8.5 2.5l-.94 2.06-2.06.94zm10 10l.94 2.06.94-2.06 2.06-.94-2.06-.94-.94-2.06-.94 2.06-2.06.94z\"/><path d=\"M17.41 7.96l-1.37-1.37c-.4-.4-.92-.59-1.43-.59-.52 0-1.04.2-1.43.59L10.3 9.45l-7.72 7.72c-.78.78-.78 2.05 0 2.83L4 21.41c.39.39.9.59 1.41.59.51 0 1.02-.2 1.41-.59l7.78-7.78 2.81-2.81c.8-.78.8-2.07 0-2.86zM5.41 20L4 18.59l7.72-7.72 1.47 1.35L5.41 20z\"/>\n",
              "  </svg>\n",
              "      </button>\n",
              "      \n",
              "  <style>\n",
              "    .colab-df-container {\n",
              "      display:flex;\n",
              "      flex-wrap:wrap;\n",
              "      gap: 12px;\n",
              "    }\n",
              "\n",
              "    .colab-df-convert {\n",
              "      background-color: #E8F0FE;\n",
              "      border: none;\n",
              "      border-radius: 50%;\n",
              "      cursor: pointer;\n",
              "      display: none;\n",
              "      fill: #1967D2;\n",
              "      height: 32px;\n",
              "      padding: 0 0 0 0;\n",
              "      width: 32px;\n",
              "    }\n",
              "\n",
              "    .colab-df-convert:hover {\n",
              "      background-color: #E2EBFA;\n",
              "      box-shadow: 0px 1px 2px rgba(60, 64, 67, 0.3), 0px 1px 3px 1px rgba(60, 64, 67, 0.15);\n",
              "      fill: #174EA6;\n",
              "    }\n",
              "\n",
              "    [theme=dark] .colab-df-convert {\n",
              "      background-color: #3B4455;\n",
              "      fill: #D2E3FC;\n",
              "    }\n",
              "\n",
              "    [theme=dark] .colab-df-convert:hover {\n",
              "      background-color: #434B5C;\n",
              "      box-shadow: 0px 1px 3px 1px rgba(0, 0, 0, 0.15);\n",
              "      filter: drop-shadow(0px 1px 2px rgba(0, 0, 0, 0.3));\n",
              "      fill: #FFFFFF;\n",
              "    }\n",
              "  </style>\n",
              "\n",
              "      <script>\n",
              "        const buttonEl =\n",
              "          document.querySelector('#df-09911847-ca50-44d4-83bc-612e739d979f button.colab-df-convert');\n",
              "        buttonEl.style.display =\n",
              "          google.colab.kernel.accessAllowed ? 'block' : 'none';\n",
              "\n",
              "        async function convertToInteractive(key) {\n",
              "          const element = document.querySelector('#df-09911847-ca50-44d4-83bc-612e739d979f');\n",
              "          const dataTable =\n",
              "            await google.colab.kernel.invokeFunction('convertToInteractive',\n",
              "                                                     [key], {});\n",
              "          if (!dataTable) return;\n",
              "\n",
              "          const docLinkHtml = 'Like what you see? Visit the ' +\n",
              "            '<a target=\"_blank\" href=https://colab.research.google.com/notebooks/data_table.ipynb>data table notebook</a>'\n",
              "            + ' to learn more about interactive tables.';\n",
              "          element.innerHTML = '';\n",
              "          dataTable['output_type'] = 'display_data';\n",
              "          await google.colab.output.renderOutput(dataTable, element);\n",
              "          const docLink = document.createElement('div');\n",
              "          docLink.innerHTML = docLinkHtml;\n",
              "          element.appendChild(docLink);\n",
              "        }\n",
              "      </script>\n",
              "    </div>\n",
              "  </div>\n",
              "  "
            ]
          },
          "metadata": {},
          "execution_count": 30
        }
      ]
    },
    {
      "cell_type": "markdown",
      "source": [
        "**VARIABLE 'title'** corresponde al titulo de la pelicula o tv show. No hay valores nulos. Se podria realizar algun procesamiento de lenguaje sobre el texo como con la descripcion (ya eliminado) pero se quita del alcance del proyecto esa opcion. Se mantiene la variable para alguna consulta que necesite devolver el valor. "
      ],
      "metadata": {
        "id": "w1yHunWMcJbs"
      }
    },
    {
      "cell_type": "code",
      "source": [
        "unique_values = movies['title'].nunique()\n",
        "print(\"La columna 'title' tiene\", unique_values, \"valores únicos.\")"
      ],
      "metadata": {
        "colab": {
          "base_uri": "https://localhost:8080/"
        },
        "id": "xyLO5mOQjHTb",
        "outputId": "9e0a89f3-bdc1-477c-a3a9-0322c39c06cb"
      },
      "execution_count": null,
      "outputs": [
        {
          "output_type": "stream",
          "name": "stdout",
          "text": [
            "La columna 'title' tiene 22042 valores únicos.\n"
          ]
        }
      ]
    },
    {
      "cell_type": "markdown",
      "source": [
        "**comentarios**: los valores unicos del titulo es menor a la cantidad de unicos de id. Esto es porque hay peliculas que tienen una remake o mismo nombre. **Ver que hacemos**"
      ],
      "metadata": {
        "id": "RSf4J0pJjPbN"
      }
    },
    {
      "cell_type": "markdown",
      "source": [
        "**VARIABLE 'director'** corresponde al director de la pelicula. Valores no nulos:  7056968\n"
      ],
      "metadata": {
        "id": "WsYcvhWecKN0"
      }
    },
    {
      "cell_type": "code",
      "source": [
        "# Verificamos si hay más de un valor en cada celda de la columna \"values\"\n",
        "movies[\"multiple_values\"] = (movies[\"director\"].str.count(\",\") >= 1).astype(int)\n"
      ],
      "metadata": {
        "id": "2BEj9qqDlHiD"
      },
      "execution_count": null,
      "outputs": []
    },
    {
      "cell_type": "code",
      "source": [
        "movies.sample(1)"
      ],
      "metadata": {
        "colab": {
          "base_uri": "https://localhost:8080/",
          "height": 249
        },
        "id": "wke_QBVxlQbc",
        "outputId": "ea6c513e-6da3-410d-aeae-dd9353c8fa20"
      },
      "execution_count": null,
      "outputs": [
        {
          "output_type": "execute_result",
          "data": {
            "text/plain": [
              "         userId  score  timestamp      id    title director  \\\n",
              "4173399   63446   1.00 1999-12-14  ns7829  ramayan     None   \n",
              "\n",
              "                                         cast country date_added  year rating  \\\n",
              "4173399  gagan malik, neha sargam, neil bhatt   india 2018-04-01  2012  tv-14   \n",
              "\n",
              "                                 listed_in platform  duration_int  \\\n",
              "4173399  international tv shows, tv dramas  netflix             1   \n",
              "\n",
              "        duration_type  scored  movie  tv show  multiple_values  \n",
              "4173399        season    3.54      0        1                0  "
            ],
            "text/html": [
              "\n",
              "  <div id=\"df-19bd6369-4c33-4bdf-b3c2-b4ba6172bb9d\">\n",
              "    <div class=\"colab-df-container\">\n",
              "      <div>\n",
              "<style scoped>\n",
              "    .dataframe tbody tr th:only-of-type {\n",
              "        vertical-align: middle;\n",
              "    }\n",
              "\n",
              "    .dataframe tbody tr th {\n",
              "        vertical-align: top;\n",
              "    }\n",
              "\n",
              "    .dataframe thead th {\n",
              "        text-align: right;\n",
              "    }\n",
              "</style>\n",
              "<table border=\"1\" class=\"dataframe\">\n",
              "  <thead>\n",
              "    <tr style=\"text-align: right;\">\n",
              "      <th></th>\n",
              "      <th>userId</th>\n",
              "      <th>score</th>\n",
              "      <th>timestamp</th>\n",
              "      <th>id</th>\n",
              "      <th>title</th>\n",
              "      <th>director</th>\n",
              "      <th>cast</th>\n",
              "      <th>country</th>\n",
              "      <th>date_added</th>\n",
              "      <th>year</th>\n",
              "      <th>rating</th>\n",
              "      <th>listed_in</th>\n",
              "      <th>platform</th>\n",
              "      <th>duration_int</th>\n",
              "      <th>duration_type</th>\n",
              "      <th>scored</th>\n",
              "      <th>movie</th>\n",
              "      <th>tv show</th>\n",
              "      <th>multiple_values</th>\n",
              "    </tr>\n",
              "  </thead>\n",
              "  <tbody>\n",
              "    <tr>\n",
              "      <th>4173399</th>\n",
              "      <td>63446</td>\n",
              "      <td>1.00</td>\n",
              "      <td>1999-12-14</td>\n",
              "      <td>ns7829</td>\n",
              "      <td>ramayan</td>\n",
              "      <td>None</td>\n",
              "      <td>gagan malik, neha sargam, neil bhatt</td>\n",
              "      <td>india</td>\n",
              "      <td>2018-04-01</td>\n",
              "      <td>2012</td>\n",
              "      <td>tv-14</td>\n",
              "      <td>international tv shows, tv dramas</td>\n",
              "      <td>netflix</td>\n",
              "      <td>1</td>\n",
              "      <td>season</td>\n",
              "      <td>3.54</td>\n",
              "      <td>0</td>\n",
              "      <td>1</td>\n",
              "      <td>0</td>\n",
              "    </tr>\n",
              "  </tbody>\n",
              "</table>\n",
              "</div>\n",
              "      <button class=\"colab-df-convert\" onclick=\"convertToInteractive('df-19bd6369-4c33-4bdf-b3c2-b4ba6172bb9d')\"\n",
              "              title=\"Convert this dataframe to an interactive table.\"\n",
              "              style=\"display:none;\">\n",
              "        \n",
              "  <svg xmlns=\"http://www.w3.org/2000/svg\" height=\"24px\"viewBox=\"0 0 24 24\"\n",
              "       width=\"24px\">\n",
              "    <path d=\"M0 0h24v24H0V0z\" fill=\"none\"/>\n",
              "    <path d=\"M18.56 5.44l.94 2.06.94-2.06 2.06-.94-2.06-.94-.94-2.06-.94 2.06-2.06.94zm-11 1L8.5 8.5l.94-2.06 2.06-.94-2.06-.94L8.5 2.5l-.94 2.06-2.06.94zm10 10l.94 2.06.94-2.06 2.06-.94-2.06-.94-.94-2.06-.94 2.06-2.06.94z\"/><path d=\"M17.41 7.96l-1.37-1.37c-.4-.4-.92-.59-1.43-.59-.52 0-1.04.2-1.43.59L10.3 9.45l-7.72 7.72c-.78.78-.78 2.05 0 2.83L4 21.41c.39.39.9.59 1.41.59.51 0 1.02-.2 1.41-.59l7.78-7.78 2.81-2.81c.8-.78.8-2.07 0-2.86zM5.41 20L4 18.59l7.72-7.72 1.47 1.35L5.41 20z\"/>\n",
              "  </svg>\n",
              "      </button>\n",
              "      \n",
              "  <style>\n",
              "    .colab-df-container {\n",
              "      display:flex;\n",
              "      flex-wrap:wrap;\n",
              "      gap: 12px;\n",
              "    }\n",
              "\n",
              "    .colab-df-convert {\n",
              "      background-color: #E8F0FE;\n",
              "      border: none;\n",
              "      border-radius: 50%;\n",
              "      cursor: pointer;\n",
              "      display: none;\n",
              "      fill: #1967D2;\n",
              "      height: 32px;\n",
              "      padding: 0 0 0 0;\n",
              "      width: 32px;\n",
              "    }\n",
              "\n",
              "    .colab-df-convert:hover {\n",
              "      background-color: #E2EBFA;\n",
              "      box-shadow: 0px 1px 2px rgba(60, 64, 67, 0.3), 0px 1px 3px 1px rgba(60, 64, 67, 0.15);\n",
              "      fill: #174EA6;\n",
              "    }\n",
              "\n",
              "    [theme=dark] .colab-df-convert {\n",
              "      background-color: #3B4455;\n",
              "      fill: #D2E3FC;\n",
              "    }\n",
              "\n",
              "    [theme=dark] .colab-df-convert:hover {\n",
              "      background-color: #434B5C;\n",
              "      box-shadow: 0px 1px 3px 1px rgba(0, 0, 0, 0.15);\n",
              "      filter: drop-shadow(0px 1px 2px rgba(0, 0, 0, 0.3));\n",
              "      fill: #FFFFFF;\n",
              "    }\n",
              "  </style>\n",
              "\n",
              "      <script>\n",
              "        const buttonEl =\n",
              "          document.querySelector('#df-19bd6369-4c33-4bdf-b3c2-b4ba6172bb9d button.colab-df-convert');\n",
              "        buttonEl.style.display =\n",
              "          google.colab.kernel.accessAllowed ? 'block' : 'none';\n",
              "\n",
              "        async function convertToInteractive(key) {\n",
              "          const element = document.querySelector('#df-19bd6369-4c33-4bdf-b3c2-b4ba6172bb9d');\n",
              "          const dataTable =\n",
              "            await google.colab.kernel.invokeFunction('convertToInteractive',\n",
              "                                                     [key], {});\n",
              "          if (!dataTable) return;\n",
              "\n",
              "          const docLinkHtml = 'Like what you see? Visit the ' +\n",
              "            '<a target=\"_blank\" href=https://colab.research.google.com/notebooks/data_table.ipynb>data table notebook</a>'\n",
              "            + ' to learn more about interactive tables.';\n",
              "          element.innerHTML = '';\n",
              "          dataTable['output_type'] = 'display_data';\n",
              "          await google.colab.output.renderOutput(dataTable, element);\n",
              "          const docLink = document.createElement('div');\n",
              "          docLink.innerHTML = docLinkHtml;\n",
              "          element.appendChild(docLink);\n",
              "        }\n",
              "      </script>\n",
              "    </div>\n",
              "  </div>\n",
              "  "
            ]
          },
          "metadata": {},
          "execution_count": 33
        }
      ]
    },
    {
      "cell_type": "code",
      "source": [
        "unique_values = movies['multiple_values'].nunique()\n",
        "print(\"La columna 'multiple_values' tiene\", unique_values, \"valores únicos.\")"
      ],
      "metadata": {
        "colab": {
          "base_uri": "https://localhost:8080/"
        },
        "id": "t7FWhauMlzAn",
        "outputId": "ce039d8b-e2f2-4076-e698-3324edfbb936"
      },
      "execution_count": null,
      "outputs": [
        {
          "output_type": "stream",
          "name": "stdout",
          "text": [
            "La columna 'multiple_values' tiene 2 valores únicos.\n"
          ]
        }
      ]
    },
    {
      "cell_type": "code",
      "source": [
        "valores_unicos = movies[\"multiple_values\"].unique()\n",
        "print(valores_unicos)"
      ],
      "metadata": {
        "colab": {
          "base_uri": "https://localhost:8080/"
        },
        "id": "b6xOsvI2l9kz",
        "outputId": "2b9949fb-4b5d-4adc-8d69-4dfe5f6a074f"
      },
      "execution_count": null,
      "outputs": [
        {
          "output_type": "stream",
          "name": "stdout",
          "text": [
            "[0 1]\n"
          ]
        }
      ]
    },
    {
      "cell_type": "code",
      "source": [
        "tabla_valores_unicos = movies[\"multiple_values\"].value_counts().reset_index()\n",
        "tabla_valores_unicos.columns = ['valor', 'cantidad']\n",
        "tabla_valores_unicos['porcentaje'] = tabla_valores_unicos['cantidad'] / len(movies) * 100\n",
        "tabla_valores_unicos['porcentaje'] = tabla_valores_unicos['porcentaje'].round(2).astype(str) + '%'\n",
        "print(tabla_valores_unicos)"
      ],
      "metadata": {
        "colab": {
          "base_uri": "https://localhost:8080/"
        },
        "id": "Rdl11VV8mHKR",
        "outputId": "f79f624b-a68a-44c8-890d-2125e9d09a67"
      },
      "execution_count": null,
      "outputs": [
        {
          "output_type": "stream",
          "name": "stdout",
          "text": [
            "   valor  cantidad porcentaje\n",
            "0      0  10418568      94.6%\n",
            "1      1    595255       5.4%\n"
          ]
        }
      ]
    },
    {
      "cell_type": "code",
      "source": [
        "tabla_valores_unicos = movies[\"director\"].value_counts().reset_index()\n",
        "tabla_valores_unicos.columns = ['valor', 'cantidad']\n",
        "tabla_valores_unicos['porcentaje'] = tabla_valores_unicos['cantidad'] / len(movies) * 100\n",
        "tabla_valores_unicos['porcentaje'] = tabla_valores_unicos['porcentaje'].round(2).astype(str) + '%'\n",
        "print(tabla_valores_unicos.head(5))"
      ],
      "metadata": {
        "colab": {
          "base_uri": "https://localhost:8080/"
        },
        "id": "sTfCIesGmkNj",
        "outputId": "a279ac93-99eb-4151-e679-00b678bffee9"
      },
      "execution_count": null,
      "outputs": [
        {
          "output_type": "stream",
          "name": "stdout",
          "text": [
            "                   valor  cantidad porcentaje\n",
            "0            mark knight     54424      0.49%\n",
            "1          cannis holder     29440      0.27%\n",
            "2            jay chapman     21928       0.2%\n",
            "3  moonbug entertainment     17715      0.16%\n",
            "4     arthur van merwijk     14196      0.13%\n"
          ]
        }
      ]
    },
    {
      "cell_type": "code",
      "source": [
        "# Generar una lista de valores de la columna \"valor\"\n",
        "lista_valores = tabla_valores_unicos['valor'].tolist()\n",
        "print(lista_valores)"
      ],
      "metadata": {
        "colab": {
          "base_uri": "https://localhost:8080/"
        },
        "id": "vKJmkfFt-1wY",
        "outputId": "89bedd96-bee0-4704-843a-c71028ba0b50"
      },
      "execution_count": null,
      "outputs": [
        {
          "output_type": "stream",
          "name": "stdout",
          "text": [
            "['mark knight', 'cannis holder', 'jay chapman', 'moonbug entertainment', 'arthur van merwijk', 'manny rodriguez', 'jay karas', 'john english', 'rajiv chilaka', 'raúl campos, jan suter', 'marcus raboy', 'brian volk-weiss', 'jack hannah', '1', 'paul hoen', 'john lasseter', 'suhas kadav', 'robert stevenson', 'baeble music', 'robert vince', 'ryan polito', 'steven spielberg', 'joseph kane', 'cathy garcia-molina', 'youssef chahine', 'michael j. nelson', 'george archainbaud', 'martin scorsese', 'john asher', 'charles nichols', 'don michael paul', 'lance bangs', 'david dhawan', 'william nigh', 'shawn levy', 'aaron michael', 'pinkfong', 'ron howard', 'vincent mceveety', 'kenny ortega', 'tim gray', 'robert rodriguez', 'rob reiner', 'bob peterson', 'mora tv', 'fernando ayllón', 'bruce legg', 'johnnie to', 'sean mcnamara', 'norman tokar', 'christian hughes', 'doug campbell', 'percy adlon', 'james algar', 'william hoareau', 'spike lee', 'ram gopal varma', 'robert luketic', 'frank mcdonald', 'william wyler', 'wilfred jackson', 'noah baumbach', 'stevin john', 'yılmaz erdoğan', 'hooplakidz', 'yash chopra', 'andy tennant', 'garry marshall', 'shannon hartman', 'justin g. dyck', 'tim burton', 'kunle afolayan', 'quentin tarantino', 'john ford', 'craig moss', 'david fincher', 'stuart gillard', 'nick hatton jones, richard hickey', 'fred olen ray', 'krishnan-panju', 'sam newfield', 'troy miller', 'hakan algül', 'duwayne dunham', 'martin campbell', 'steven soderbergh', 's.s. rajamouli', 'mcg', 'jon turteltaub', 'hidenori inoue', 'damien eckhardt-jacobi, vincent bova', 'matt askem', 'priyadarshan', 'david batty', 'toshiya shinohara', 'rohit jugraj', 'prakash satam', 'isaac halasima', 'alex zamm', 'mae czarina cruz', 'hemant madhukar', 'john huston', 'omoni oboli', 'karan johar', 'clint eastwood', 'rob minkoff', 'jonathan demme', 'anees bazmee', 'lee tamahori', 'michael feifer', 'ozan açıktan', 'robert n. bradbury', 'lokesh kanagaraj', 'cameron crowe', 'werner herzog', 'jack kinney', 'oliver stone', 'brad bird', 'shiva nirvana', 'noriaki yuasa', 'clyde geronimi', 'ridley scott', 'raja gosnell', 'keoni waxman', 'phillip noyce', 'simon wincer', 'rob marshall', 'dibakar banerjee', 'arthur merkulov, nikita yurov, vladimir gerasimov', 'steven t. shippy', 'randal kleiser', 'mark robson', 'bharathiraja', 'paul thomas anderson', 'anthony c. ferrante', 'marc forster', 'richard hickey, nick hatton jones', 'mohana krishna indraganti', 'imtiaz ali', 'sooraj r. barjatya', 'mahesh bhatt', 'indra kumar', 'joey so', 'robert zemeckis', 'steven c. miller', 'milan luthria', 'lasse hallström', 'bruce beresford', 'adam shankman', 'wenn v. deramas', 'jay roach', 'milton lage', 'ava duvernay', 'mike newell', 'kevin smith', 'hanung bramantyo', 'woody allen', 'shakti samanta', 'andrew v. mclaglen', 'ashutosh gowariker', 'roger kumble', 'jon favreau', 'leslie small', 'chris columbus', 'michael apted', 'sameh abdulaziz', 'shinpei miyashita', 'jim wilmer', 'william witney', 'michael simon', 'vishal bhardwaj', 'vlad yudin', 'ben sharpsteen', 'tim fywell', 'rajkumar santoshi', 'philippa lowthorpe', 'prakash jha', 'sujeeth', 'bobcat goldthwait', 'neville shah', 'wael ihsan', 'diane paloma eskenazi', 'andy fickman', 'john whitesell', 'david silverman', 'aditya sarpotdar', 'peyton reed', 'james bobin', 'robert iscove', 'satish rajwade', 'a. c. tirulokchandar', 'joe camp', 'khaled marei', 'a. l. vijay', 'wilson yip', 'yakov smirnoff', 'stephen herek', 'gore verbinski', 'anil ravipudi', 'thierry donard', 'lynn shelton', 'rocky soraya', 'anurag kashyap', 'jesse v. johnson', 'ernie barbarash', 'mike clattenburg', 'jim henson', 'michael dowse', 'joe dante', 'paul w.s. anderson', 'madhur bhandarkar', 'nico mastorakis', 'rohit shetty', 'brian levant', 'roy william neill', 'antoinette jadaone', 'nagesh kukunoor', 'jim wynorski', 'michael mckay', 'kabir khan', 'hark tsui', 'richard fleischer', 'alex gibney', 'a.r. murugadoss', 'wong jing', 'mark waters', 'brad anderson', 'rakeysh omprakash mehra', 'siddharth anand', 'julian grant', 'kundan shah', 'rajiv mehra', 'steve brill', 'clay glen', 'samuel brownfield', 'umesh mehra', 'greg beeman', 'john mctiernan', 'kevin connor', 'brett haley', 'rian johnson', 'stan lathan', 'anthony russo, joe russo', 'frank capra', 'kıvanç baruönü', 'peter segal', 'armand mastroianni', 'bryan singer', 'a.l. vijay', 'mahesh manjrekar', 'renny harlin', 'angga dwimas sasongko', 'john g. avildsen', 'david zucker', 'william beaudine', 'test director', 'paul dugdale', 'randall miller', 'prashanth neel', 'mike nichols', 'gil junger', 'ulli lommel', 'burt gillett', 'riri riza', 'jack king', 'mani ratnam', 'uwe boll', 'john fortenberry', 'andrew jones', 'simon curtis', 'joe berlinger', 'niyi akinmolayan', 'kunihiko yuyama', 'tony charmoli', 'p. vasu', 'william dear', 'vince marcello', 'michael hegner', 'paul schneider', 'detlev buck', 'roland emmerich', 'farhan akhtar', 'david ayer', 'anurag basu', 'sylvain white', 'david attwood', 'kevin macdonald', 'sheldon larry', 'michael bay', 'alan metzger', 'drake doremus', 'tony bill', 'pradeep krishnamoorthy', 'hrishikesh mukherjee', 'david gordon green', 'reginald hudlin', 'andrew stanton', 'norman jewison', 'toa fraser', 'punit malhotra', 'rama narayanan', 'vikram bhatt', 'gabriele muccino', 'les mayfield', 'ringo lam', 'peter chelsom', 'ahmed nader galal', 'farah khan', 'poj arnon', 'santhosh ananddram', 'beasy jones', 'hernán zin', 'satyajit ray', 'frank coraci', 'savage steve holland', 'jeff nichols', 'steven feinartz', 'steve ball', 'sankalp', 'stanley donen', 'sudha kongara', 'sudhir mishra', 'david gelb', 'maroun baghdadi', 'jeremy saulnier', 'nelson mccormick', 'bradley raymond', 'william lau', 'george stevens', 'ahmad el-badri', 'marvista entertainment,  inc.', 'barry sonnenfeld', 'dennis dugan', 'andrzej bartkowiak', 'zeptolab', 'john stockwell', 'bobby roth', 'stuart orme', 'johannes roberts', 'mahesh kothare', 'christopher morahan', 'cristina jacob', 'darren lynn bousman', 'maria ripoll', 'keith scholey', 'jun lana', 'kedar shinde', 'carlos saldanha', 'mike flanagan', 'martin ritt', 'gregory hoblit', 'robin sheppard', 'rob gibbs', 'russell mulcahy', 'chia-liang liu', 'moses inwang', 'brian a. miller', 'david jackson', 'mike gunther', 'thomas astruc', 'roger donaldson', 'edward cotterill', 'k. muralimohana rao', 'zoya akhtar', 'chris seaver', 'craig brewer', 'antonio campos', 'jim fall', 'ali abbas zafar', 'antoine fuqua', 'abbas alibhai burmawalla, mastan alibhai burmawalla', 'abhishek kapoor', 'jeff baena', 'pete docter', 'john musker, ron clements', 'david mackenzie', 'subhash ghai', 'dan fraga, lloyd goldfine', 'shyam benegal', 'phil karlson', 'prakash mehra', 'sam irvin', 'kevin lima', 'super simple songs', 'douglas barr', 'howard bretherton', 'steve boyum', 'james toback', 'orlando von einsiedel', 'sean cisterna', 'michael polish', 'bruno garotti', 'john lee hancock', 'michael tiddes', 'thiru', 'fernando gonzález molina', 'nishikant kamat', 'raj kapoor', 'shaun paul piccinino', 'philippe aractingi', 'michael winterbottom', 'daniel calparsoro', 'rathindran r prasad', 'chris stokes', 'michael curtiz', 'gilles paquet-brenner', \"remo d'souza\", 'justin lee', 'timothy armstrong', 'henry hathaway', 'ron oliver', 'guillermo del toro', 'sidney lumet', 'roger corman', 'dan villegas', 'r.s durai senthilkumar', 'george lucas', 'lakshmy ramakrishnan', 'morgan spurlock', 'wael ehsan', 'alan parker', 'steve loter', 'kayode kasum', 'michael damian', 'michael ritchie', 'abhinay deo', 'barry avrich', 'david mickey evans', 'tim hill', 'glenn jordan', 'eric till', 'john hussey', 'pa. ranjith', 'dante lam', 'jeethu joseph', 'curtis hanson', 'shaad ali', 'lekh tandon', 'thomas lucas', 'seth breedlove', 'shashank khaitan', 'lucas margutti', 'hasan karacadağ', 'peggy holmes', 'richard roy', 'masahiko murata', 'danny boyle', 'david stoten', 'brett kelly', 'roger christian', 'lev l. spiro', 'john schultz', 'chris bould', 'abhishek chaubey', 'mahi v raghav', 'trivikram srinivas', 'venu sriram', 's. p. muthuraman', 'ron myrick', 'rako prijanto', 'todd phillips', 'rob cohen', 'leo riley', 'b. v. nandini reddy', 'karyn kusama', 'mary lambert', 'scott l. montoya', 'usp studios', 'karthik subbaraj', 'asghar farhadi', 'greg macgillivray', 'not available', 'charles lamont', 'sujoy ghosh', 'harry winer', 'shakun batra', 'joe demaio', 'ishaya bako', 'wolfgang reitherman', 'ken ghosh', 'neil jordan', 'mark steven johnson', 'christian duguay', 'blair hayes', 'pierre morel', 'stephen poliakoff', 'mike smith, john paul tremblay, robb wells', 'mike mitchell', 'david swift', 'michael switzer', 'michael radford', 'james yukich', 'chris smith', 'amitoj mann', 'sumitra bhave, sunil sukthankar', 'alfredo b. crevenna', 'alex woo, stanley moore', 'kobun shizuno, hiroyuki seshita', 'brandon jones', 'john sayles', 'kenneth branagh', 'raj kumar gupta', 'vic sarin', 'lee unkrich', 'steve carr', 'vikramaditya motwane', 'chandrakant kulkarni', 'gillian robespierre', 'adam mckay', 'michael simon, matthew mcneil', 'christopher nolen', 'latif faiziyev, umesh mehra', 'mukul anand', 'gus van sant', 'sermiyan midyat', 'paul greengrass', 'grant mcphee', 'tom vaughan', 'rano karno', 'david lynch', 'sylvester stallone', 'aditya chopra', 'barak goodman', 'jane campion', 'john badham', 'kemi adetiba', 'michael mazzola', 'tom shadyac', 'lesley selander', 'joe carnahan', 'stephen frears', 'umesh shukla', 'edward zwick', 'hansal mehta', 'peter sullivan', 'nate adams, adam carolla', 'bejoy nambiar', 'ida lupino', 'tony randel', 'tarun mansukhani', 'mikhail red', 'maggie greenwald', 'miguel arteta', 'cybela clare', 'jordan hill', 'michèle ohayon', 'simon rumley', 'ivan sen', 'angshuman ghosh', 'stanley tong', 'brian henson', 'momoko kamiya', 'isaac ezban', 'jeffrey walker', 'shirish kunder', 'eashvar karthic', 'sachin yardi', 'shigeyasu yamauchi', 'mohan bammidi', 'gerd oswald', 'jeffrey gee chin', 'shankar', 'matthew heineman', 'elmer clifton', 'dave hand', 'omung kumar', 'sidney j. furie', 'william castle', 'arthur merkulov', 'ryan coogler', 'joel schumacher', 'robert fernandez', 'daniel stamm', 'david michôd', 'wolfgang petersen', 'wallace fox', 'pang ho-cheung', 'kentaro takayanagi', 'mark williams', 'yoshiyuki tomino, yoshikazu yasuhiko', 'charlie vaughn', 'danny cannon', 'leslie iwerks', 'peter hyams', 'john pasquin', 'joseph sargent', 'jorge montesi', 'adrian teh', 'glenn weiss', 'maneesh sharma', 'michael moore', 'sam weisman', 'sreenivass redde', 'neal brennan', 'tilak shetty', 'robert benton', 'navaniat singh', 'martha coolidge', 'eli roth', 'bill corcoran', 'justin kelly', 'terry gilliam', 'j.j. johnson', 'craig gillespie', 'luis ara', 'rod daniel', 'jerry warren', 'david raynr', 'jon m. chu', 'brian de palma', 'iginio straffi', 'davis guggenheim', 'savvas d. michael', 'graeme campbell', 'fajar bustomi, pidi baiq', 'note chern-yim', 'hardik mehta', 'reema kagti', 'sarah townsend', 'charles stone iii', 'anurag singh', 'g.j. echternkamp', 'hsiao ya-chuan', 'robert o. peters', 'harold trompetero', 'jeremy kagan', 'kim nguyen', 'jonas åkerlund', 'k. bapaiah', 'greg mclean', 'joseph h. lewis', 'vivieno caldinelli', 'matthew vaughn', 'kunal kohli', 'bill condon', 'michael showalter', 'walter c. miller', 'edgar g. ulmer', 'morgan neville', 'pa.ranjith', 'obi emelonye', 'jordan brady', 'peter jackson', 'j. lee thompson', 'david frankel', 'mainak bhaumik', 'castille landon', \"renzil d'silva\", 'blair simmons', 'tiller russell', 'j.j. abrams', 'alex lehmann', 'nick castle', 'matías gueilburt', 'clive donner', 'bedran güzel', 'oz scott', 'sofia coppola', 'john madden', 'joseph novoa', 'john hancock', 'burak aksak', 'steve race', 'ishi rudell', 'jofin t. chacko', 'liz garbus', 'henry selick', 'biodun stephen', 'j ramesh', 'mark raso', 'joe nussbaum', 'mohit suri', 'adriano rudiman', 'pablo larraín', 'satish kaushik', 'munjal shroff, tilak shetty', 'karen shakhnazarov', 'cosima spender', 'leigh janiak', 'yasmin ahmad', 'barry levinson', 'tristan dubois', 'don bluth', 'a. bhimsingh', 'simon wells', 'irvin kershner', 'rob zombie', 'timothy woodward jr.', 'jeffrey hornaday', 'jon rosenbaum', 'mark dippé', 'soudade kaadan', 'tom hooper', 'robert ramirez', 'michael winnick', 'richard laxton', 'neeraj pandey', 'shoojit sircar', 'luis valdez', 'julien leclercq', 'david l. cunningham', 'sanjay jadhav', 'ron clements, john musker', 'fritz lang', 'raymelle a adams', 'zack snyder', 'julia hart', 'lewis milestone', 'charlie steeds', 'walter hill', 'peter spirer', 'bb sasore', 'wayne wang', 'seth barrish', 'elisa amoruso', 'magnolia', 'david dobkin', 'justin chon', 'stanley kubrick', 'camillo mastrocinque', 'ric roman waugh', 'mario van peebles', 'thor freudenthal', 'niki caro', 'louie schwartzberg', 'ashwin saravanan', 'james wan', 'cheh chang', 'jared hess', 'todd haynes', 'sean penn', 'halitha shameem', 'matt eskandari', 'paolo barzman', 'noriyuki abe', 'michael mccaffrey', 'sebastián schindel', 'andibachtiar yusuf', 'pbs', 'steve rash', 'wes craven', 'george c. wolfe', 'onir', 'taika waititi', 'roger spottiswoode', 'john herzfeld', 'jean yarbrough', 'letia clouston', 'vikas bahl', 'ivan reitman', 'aziz mirza', 'matthew longfellow', 'gajendra ahire', 'rocco urbisci', 'daniel zirilli', 'daniel lee', 'gonzalo lópez-gallego', 'tay garnett', 'richard weston', 'peter hewitt', 'conrad helten', 'rajiv menon', 'john reinhardt', 'ajay bahl', 'warren p. sonoda', 'theodore boborol', 'shûsuke kaneko', 'linda mendoza', 'kenneth gyang', 'ketan mehta', 'tom jennings', 'abhishek sharma', 'k. shankar', 'alastair fothergill', 'manny coto', 'shigeaki kubo', 'sarah gavron', 'sam liu', 'girish mohite', 'ethan coen, joel coen', 'mark woodward', 'qaushiq mukherjee', 'david hand', 'seyi babatope', 'pankaj batra', 'nikkhil advani', 'luv ranjan', 'toshiyuki kubooka', 'olivia m. lamasan', 'george roy hill', 'george gallo', 'manolo caro', 'gary ross', 'nicholas ray', 'daniel knudsen', 'michael crichton', 'ahmed al-badry', 'alex merkin', 'alfonso cuarón', 'liu chia-liang', 'ken burns', 'wim wenders', 'allan dwan', 'david jones', 'mohamed samy', 'wes anderson', 'lilly wachowski, lana wachowski', 'paul m. green', 'michael lembeck', 'adze ugah', 'paul weitz', 'rob silvestri', 'gary rydstrom', 'mark dindal', 'tony giglio', 'chris buck, jennifer lee', 'tope oshin', 'george erschbamer', 'kevin deters, stevie wermers-skelton', 'ribhu dasgupta', 'scott moran', 'david kennard', 'louis c.k.', 'gary nelson', 'steven brill', 'michael mayer', 'jalil lespert', 'chris howe', 'steve miner', 'blair treu', 'mohamed hamdy', 'angus maclane', 'diego pignataro', 'michael keusch', 'mike robe', 'surrender reddy', 'pororo the little penguin', 'rituparno ghosh', 'gurinder chadha', 'guy ritchie', 'john moore', 'anna elizabeth james', 'vicente aranda', 'richard gabai', 'robert altman', 'olivier assayas', 'phyllida lloyd', 'richard rich', 'jesse low', 'scott zabielski', 'vijay krishna acharya', 'chris bell', 'daniel benmayor', 'rajkumar hirani', 'john mckay', 'albert herman', 'atom egoyan', 'marc webb', 'chapman way, maclain way', 'ken russell', 'dharmesh darshan', 'brian robbins', 'jeremy lasky', 'robert parrish', 'amr arafa', 'jeffrey schwarz', 'victor halperin', 'tyler spindel', 'josh webber', 'nila madhab panda', 'leena yadav', 'prithviraj sukumaran', 'amir valinia', 'paul verhoeven', 'robert greenwald', 'joe hostettler', 'david r. ellis', 'andreas prochaska', 'kriv stenders', 'mahmoud karim', 'tate taylor', 'ken kwapis', 'josh cooley', 'don medford', 'sheldon lettich', 'emile ardolino', 'paul haggis', 'ruel s. bayani', 'rodrigo van der put', 'sara colangelo', 'laura brownson', 'ahmed zein', 'timo tjahjanto', 'norman taurog', 'aisling walsh', 'mandie fletcher', 'bob nelson', 'klay hall', 'neal israel', 'saandeep patel', 'william tannen', 'dominic sena', 'paul hunt', 'simon stone', 'vishal pandya', 'akiva schaffer', 'tom mccarthy', 'david anspaugh', 'eli craig', 'manish jha', 'chris nahon', 'jocelyn moorhouse', 'harjit singh', 'amy schumer', 'vadim jean', 'shawn arranha', 'mark neale', 'jay russell', 'stephen gyllenhaal', 'l. raja', 'alistair legrand', 'kyle newman', 'kevin booth, david johndrow', 'wendy jo carlton', 'najwa najjar', 'john putch', 'richie mehta', 'james f. collier', 'steve greisen', 'dick lundy', 'daniel alfredson', 'gareth evans', 'cristina costantini, darren foster', \"liam o'donnell\", 'zheng xu', 'sona jho', 'desmond davis', 'daniel kontur', 'andrew lau wai-keung', 'jacob kornbluth', 'alfred robbins', 'andrew goth', 'bill norton', 'pascal amanfo', 'kevin layne', 'ryan little', 'saratswadee wongsomphet', 'elizabeth allen rosenbaum', 'earl bellamy', 'nicole conn', 'raju murugan', 'atlee', 'edwin', 'simon langton', 'trey haley', 'j.a. bayona', 'mario andreacchio', 'sumit das', 'richard donner', 'dan scanlon', 'treagen kier', 'doug spearman', 'maryo j. de los reyes', 'david mirkin', 'ziad doueiri', 'paul andrew williams', 'beyoncé knowles-carter', 'jordan stone, martin hughes', 'richard linklater', 'habib faisal', 'john pogue', 'sam taplin', 'jobim sampson', 'jason reitman', 'dileesh pothan', 'ericson core', 'mike birbiglia', 'john stephenson', 'alexandre avancini', 'kevin hooks', 'bill paxton', 'gianfranco rosi', 'patryk vega', 'stevie wermers-skelton, kevin deters', 'morgan matthews', 'ekene som mekwunye', 'robert lieberman', 'dick lowry', 'destin daniel cretton', 'brian smrz', '20th_century_fox', 'richard eyre', 'john shepphird', 'shivam nair', 'phil morrison', 'mohamed diab', 'manav shah', 'john erick dowdle', 'tigmanshu dhulia', 'zach braff', 'herman yau', 'brett bentman', 'kreeti gogia', 'antonia bird', 'alison klayman', 'j.d. dillard', 'subhash kapoor', 'spike jonze', 'javier jiménez vaquerizo', 'mark osborne', 'scott hicks', 'felix chong', 'maury thompson', 'oz rodriguez', 'derrick borte', 'gokul', 'yorgos lanthimos', 'rick rosenthal', 'jack c. newell', 'mitja okorn', 'michael patrick king', 'christopher storer', 'gary lundgren', 'jim jarmusch', 'robin swicord', 'jonathan mostow', 'scott jeffrey, rebecca j matthews', 'charlie lightening', 'steve barker', 'heidi ewing, rachel grady', 'bruce hendricks', 'david guy levy', 'matt drummond', 'daniel armstrong', 'eric weston', 'anton corbijn', 'oliver parker', 'marco risi', 'roger mitchell', 'kamal smith', 'harvey lowry', 'juan carlos valdivia', 'anna boden, ryan fleck', 'george mendeluk', 'kazuchika kise', 'nagraj manjule', 'nathan greno, byron howard', 'robert eggers', 'hani hamdi', 'king vidor', 'mandeep benipal', 'jamal hill', 'glendyn ivin', 'tosin igho', 'aaron sorkin', 'wilfred jackson, william beaudine', 'mahesh narayan', 'harold cronk', 't.c. christensen', 'richard cutting', 'peter sollett', 'simerjit singh', 'karen j. lloyd', 'frank borzage', 'lloyd corrigan', 'lasse hallström, joe johnston', 'niall johnson', 'scott speer', 'chris rock', 'john n. smith', 'charles burnett', 'dominic burns', 'stephen chiodo', 'aditya kripalani', 'kingsley ogoro', 'lucky kuswandi', 'bruce smith', 'julie delpy', 'charles binamé', 'rahul rawail', 'francis ford coppola', 'siddharth vasani', 'richard lagravenese', 'peter hutchings', 'lee hirsch', 'david e. talbert', 'jonathan sobol', 'terry jones', 'tarun sudhir', 'john hough', 'david decoteau', 'alyssa rallo bennett', 'thom fitzgerald', 'erwin van den eshof', 'ivan ayr', 'marco deufemia', 'george clooney', 'shaji kailas', 'ismail farouk', 'peter weir', 'allan ungar', 'ahishor solomon', 'manbhavan singh', 'malcolm st. clair', 'leslie small, tim story', 'michael anderson', 'alejandro g. iñárritu', 'josh c. waller', 'lars von trier', 'yvan attal', 'jim gardner', 'h. bruce humberstone', 'olivier megaton', 'jerrold tarog', 'satish manwar', 'arthur lubin', 'david allensworth, monière', 'anubhav sinha', 'julián hernández', 'danny j. boyle', 'aditya vikram sengupta', 'brett simmons', 'j.c. chandor', 'jose manuel colón', 'gregory hatanaka', 'shalini kantayya', 'herbert kline', 'r. kannan', 'angelina jolie', 's. kalyaan', 'bunmi ajakaiye', 'steve paley', 'david winters', 'osgood perkins', 'andrew davis', 'debra granik', 'don chaffey', 'mana yasuda', 'howard hall productions', 'alexis morante', 'atanu ghosh', 'brett ratner', 'stephen sommers', 'chanda bell', 'kornél mundruczó', 'sergio leone', 'george ford', 'beeban kidron', 'saket chaudhary', 'v. z. durai', 'jason campbell', 'federico veiroj', 'dan forrer', 'waymon boone', 'saravana rajan', 'owen egerton', 'rohin venkatesan', 'lulu wang', 'levar burton', 'kurt voelker', 'eric abrams', 'nick gomez', 'david lowery', 'jonathan hensleigh', 'anthony giordano', 'michael carney', 'dhilip kumar', \"anthony d'souza\", 'mike hodges', 'nishi chawla', 'everardo gonzález', \"gavin o'connor\", 'meltem bozoflu', 'nupur asthana', 'baljit singh deo', 'robi michael', 'norma bailey', 'james mcteigue', 'kyran kelly', 'lena khan', 'trey edward shults', 'gene saks', 'garrett bradley', 'estela renner', 'sophie harris', 'charles martin smith', 'jp habac', 'dennie gordon', 'victor cook', 'v vignarajan', 'scott montoya', 'alessandro angulo', 'mary harron', 'dan gilroy', 'william bindley', 'arron michael', 'ben carland', 'justin chadwick', 'david paul meyer', 'hussein kamal', 'ken hughes', 'bradley parker', 'zak knutson', 'sam anton', 'greg rankin, tj sullivan', 'pushkar-gayathri', 'peter orton', 'robin bextor', 'steve gukas', 'peter sohn', 'neill blomkamp', 'sexy intellectual', 'aravind sa', 'joe talbot', 'kike maíllo', 'renju ramesh', 'bille woodruff', 'harold becker', 'frank oz', 'april mullen', 'pete travis', 'michael fredianelli', 'anthony minghella', 'terence young', 'simon west', 'damian lee', 'neil labute', 'jonathan baker', 'rza', 'n. linguswamy', 'james edward grant', 'david bowers', 'clayton cogswell', 'michael drumm', 'jota linares', 'girish joshi', 'ara paiaya', 'stuart heisler', 'álex de la iglesia', 'robert child', 'michael mcgowan', 'fisher stevens', 'kieran darcy-smith', 'sam hobkinson', 'keith bearden', 'jim mickle', 'rodrigo garcia', 'zakariya', 'm.d. sridhar', 'michael cuesta', 'dan krauss', 'robert clouse', 'glenn miller', 'steven lisberger', 'kenneth johnson', 'samuel fuller', 'stefano sollima', 'brian trenchard-smith', 'florent bodin', 'jeeva', 'william h. macy', 'brett harvey', 'tom harper', 'errol morris', 'arthur penn', 'clark johnson', 'rajat kapoor', 'graham theakston', 'charles haid', 'james ivory', 'james frawley', 'john duigan', 'billy corben', 'katherine brooks', 'k. s. ravikumar', 'damon cardasis', 'marc evans', 'gary trousdale, kirk wise', 'ali ragab', 'omar iyer', 'joshua marston', 'david morrissey', 'siddique', 'marcus nispel', 'reinhard klooss', 'jeffrey g. hunt', 'tyrone tizak jackson', 'takashi miike', 'thomas sieben', 'james mark', 'mysskin', 'balaji mohan', 'phil rosen', 'nick nanton', 'robin christian', 'ted geoghegan', 'justin webster', 'peter hedges', 'steven r. monroe', 'pratim d. gupta', 'erik bloomquist', 'shanker raman', 'ben ryder', 'karthick naren', 'mika kaurismäki', 'matthew cooke', 'lee chang-dong', 'd.w. griffith', 'mark linfield', 'óskar thór axelsson', 'ahmed zain', 'george hickenlooper', 'smeep kang', 'elena altman', 'larry buchanan', 'r. ellis frazier', 'sion sono', 'ben wallis', 'rob seidenglanz', 'axelle carolyn', 'alastair fothergill, jeff wilson', 'marshall cook', 'jorge michel grau', 'will mackenzie', 'eduardo chauvet', 'steve antin', 'bruno mattei', 'matthew diamond', 'paul shoulberg', 'manimaran', 'enrico casarosa', 'boaz yakin', 'howard zieff', 'mark atkins', 'dale resteghini', 'matt spease', 'mitch schauer', 'dennis hopper', 'terence fisher', 'amar kaushik', 'luca guadagnino', 'jason friedberg, aaron seltzer', 'brian oakes', 'amit saxena', 'malcolm mowbray', 'laura fairrie', 'kevin mcmullin', 'jason paul laxamana', 'david pablos', 'joss whedon', 'mark polonia', 'louis j. gasnier', 'matthew leutwyler', 'dallas jackson', 'dan curtis', 'colin trevorrow', 'benjamin arfmann', 'chad van de keere', 'floyd russ', 'pawel pawlikowski', 'ari sandel', 'pedro almodovar', 'theodore melfi', 'david cronenberg', 'kyle newacheck', 'bong joon ho', 'peter berg', 'craig mcmahon', 'dwight little', 'courtney hunt', 'michael j. bassett', 'fred gerber', 'scott ziehl', 'kim a. snyder', 'alex proyas', 'paul soriano', 'michael gracey', 'ari aster', 'vanessa roth', 'kishore tummala', 'irving pichel', 'hari', 'harmesh malhotra', 'david chirchirillo', 'don hahn', 'norman foster', 'aristotle athiras', 'toka mcbaror', 'kevin bachar', 'albert pyun', 'bart freundlich', 'peter facinelli', 'ifa isfansyah', 'andrew niccol', 'kristian mercado', 'shirley frimpong-manso', 'martin guigui', 'swapna waghmare joshi', 'naoko yamada', 'michael petroni', 'tibor takács', 'john patterson', 'graham phillips, parker phillips', 'tony collingwood', 'howard davies', 'abba t. makama', 'quinn lasher', 'mark savage', 'aubrey scotto', 'william butler', 'john barnwell', 'oliver twinch', 'joseph ruben', 'bob clark', 'nicolas winding refn', 'sekhar kammula', 'ivan silvestrini', 'bobby farrelly, peter farrelly', 'tony stone', 'zoe berriatúa', 'ralph bakshi', 'joe lynch', 'upi avianto', 'christopher guest', 'sturla gunnarsson', 'sridhar rangayan', 'ben simms', 'sarik andreasyan', 'sundar c.', 'bernard rose', 'anirban majumder', 'kirby dick', 'richard attenborough', 'elliot weaver, zander weaver', 'jon s. baird', 'oriol paulo', 'adam green', 'jim field smith', 'malcolm d. lee', 'julian jarrold', 'delmer daves', 'julie taymor', 'myriam ballesteros', 'archie mayo', 'melanie mayron', 'keith samples', 'john dahl', 'larry charles', 'han han', 'randall maclowry', 'jim kammerud', 'shigeaki kubo, tsuyoshi nakakuki', 'philippe falardeau', 'ruben fleischer', 'eric bross', 'kurt neumann', 'clive barker', 'audrey cummings', 'bala', 'rich cowan', 'frank marshall', 'susanne bier', 'mikhil musale', 'jay lee', 'jesse warn', 'gordon anderson', 'jerry seinfeld', 'micha wald', 'henry levin', 'anthony lucero', 'frank r. strayer', 'david albala', 'sidney furie', 'derek scott', 'derek cianfrance', 'elia k. schneider', 'jayson thiessen', 'kheiron', 'michael d. black', 'karlton t. clay', 'bora dagtekin', 'salvador calvo', 'alan scales', 'emmett malloy', 'malik nejer', 'chris fisher', 'brian klein', 'ted demme', 'arthur greville collins', 'mimi leder', 'stephan schultze', 'jean-claude la marre', 'ulises valencia', 'alexandre aja', 'michael a. nickles', 'taron lexton', 'charles uwagbai', 'mauricio eça', 'timothy wayne folsome', 'darnell martin', 'terry ingram', 'elliot bour, saul blinkoff', 'rebecca zlotowski', 'don siegel', 'michelle maclaren', 'sam macaroni', 'steven m. smith', 'rob stewart', 'stephen kay', 'jacques perrin, jacques cluzaud', 'burt brinckerhoff', 'john karas', 'richard whorf', 'sutton roley', 'tim story', 'ranjith sankar', 'daniel sandu', 'chris gorak', 'soham shah', 'rowland v. lee', 'steven bognar, julia reichert', 'sonia anderson', 'tony jaa, panna rittikrai', 'shlok sharma', 'kenny young', 'chandra sekhar yeleti', 'amy poehler', 'scott stewart', 'd.j. caruso', 'jerry lewis', 'ben wheatley', 'bryan bertino', 'alejandro agresti', 'diarmuid lawrence', 'ömer faruk sorak', 'gary fleder', 'ricky gervais', 'alice wu', 'charles martin', 'nag ashwin', 'b.r. vijayalakshmi', 'susan seidelman', 'raditya dika', 'mark lewis', 'don bluth, gary goldman', 'dany boon', 'tony vidal', 'david m. rosenthal', 'larry latham', 'jeremy norrie', 'jeff wadlow', 'william brent bell', 'sam raimi', 'camille delamarre', 'santhosh viswanath', 'conor allyn', 'rex piano', 'babybus', 'jesse peretz', 'måns mårlind, björn stein', 'test title', 'norman z. mcleod', 'howard hawks', 'damián romay', 'pedro brenner', 'fred durst', 'boaz davidson', 'jeff garcia', 'alain gsponer', 'bruce bilson', 'roberto santucci', 'tom donahue', 'duncan jones', 'florian henckel von donnersmarck', 'gautham menon', 'vivek agnihotri', 'kim joo-hyung', 'herbert ross', 'alejandro montiel', 'peter lepeniotis', 'petra costa', 'joel oliansky', 'nikhil advani', 'robert kurtzman', 'jonathan meyers', 'hao wu', 'abhijit panse', 'rob diamond', 'steven schachter', 'francesco imperato', 'alejandro doria', 'paco plaza', 'mark neveldine', 'james vasanthan', 'pawan sharma', 'joseph cross', 'peter yost', 'alex díaz', 'kabir sadanand', 'jaume collet-serra', 'john flynn', 'jon jones', 'emir kusturica', 'john wells', 'jamal doctor', 'damien o’connor', 'hideaki anno, masayuki, kazuya tsurumaki', 'swapnaneel jayakar', 'steven jacobson', 'henry king', 'terry miles', 'dee rees', 'james d.r. hickox', 'gary yates', 'joyce bernal', 'jonathan levine', 'nia dinata', 'bronwen hughes', 'wes miller', 'alex holmes', 'donald petrie', 'tim mccanlies', 'buzz kulik', 'jonathan lynn', 'brian herzlinger', 'giulio base, terence hill', 'jayan moodley', 'stacie passon', 'ashok nanda', 'sally potter', 'rhys thomas', 'don mcbrearty', 'stanley nelson', 'isao yukisada', 'esteban crespo', 'daniel gray longino', 'gavin millar', 'joram lürsen', 'matt danner', 'carl pierson', 'will yapp', 'noam murro', 'vivy kathiresan', 'alejandro fernández almendras', 'vinil mathew', 'iain softley', 'erik canuel', 'john upchurch', 'zak hilditch', 'les mahoney', 'baran bo odar', 'peter bogdanovich', 'tanuja chandra', 'hamish hamilton', 'david evans', 'pipalupa animation', 'james franco', 'tom green', 'alfred hitchcock', 'robin pront', 'david grubin', 'richard lester', 'jeff orlowski', 'sameer vidwans', 'eurika pratts', 'david wall', 'james kent', 'edward drake', 'nelson venkatesan', 'chris wilson', 'jean stewart', 'dianne dreyer', 'brett donowho', 'kasia uscinska', 'chito s. roño', 'tim johnson', 'jean-claude lamarre', 'alfred santell', 'lucian pintille', 'ken cunningham', 'soumendra padhi', 'jeremy haft', 'john kastner', 'nancy meyers', 'alfonso rodríguez', 'stanisław różewicz', 'k. balachander', 'mike disa', 'timo vuorensola', 'brian hennigan', 'roar uthaug', 'nicolas pesce', 'dean matthew ronalds', 'stanley moore, alex woo', 'srijit mukherji', 'olivier marchal', 'darrell rooney', 'sanjay gadhvi', 'venkat prabhu', 'josh perrault', 'dino risi', 'philip saville', 'tim wolochatiuk', 'raja menon', 'loki mulholland', 'richard marquand', 'john korty', 'adrian picardi, devin graham', 'atlee kumar', 'cate shortland', 'james moll', 'aaron woodley', 'jorge bastidas zea', 'lone scherfig', 'kevin reynolds', 'sachin', 'christian ditter', 'swaroop rsj', 'abu nizam', 'kevin phillips', 'gideon raff', 'adrian konstant', 'richard bates jr.', 'ryan murphy', 'chris robinson', 'katt shea', 'john murlowski', 'stephen shimek', 'wattsenglish ltd.', 'ed perkins', 'luis buñuel', 'rob bowman', 'nick simon', 'benjamin turner, gabe turner', 'tyler perry', 'stephen chow', 'oluseyi asurf', 'keith truesdell', 'babyfirst', 'philipp stölzl', 'kim seong-hun', 'harry bradbeer', 'francine mcdougall', 'gabriela cowperthwaite', 'fred zinnemann', 'pusic entertainment', 'juan camilo pinzon', 'oliver frampton', 'theodore thomas', 'betty thomas', 'nicolás lópez', 'mat whitecross', 'ted emery', 'adam marino', 'tony scott', 'navdeep singh', 'charlie mcdowell', 'aaron nee, adam nee', 'j. michael long', 'david allen', 'martin gorst', 'ritesh batra', \"bill d'elia\", 'matteo garrone', 'joe roth', 'bill roberts', 'paul serafini', 'leon ding', 'christopher smith', 'tom dicillo', 'robert townsend', 'sachin kundalkar', 'fred schepisi', 'christopher spencer', 'a. v. meiyappan', 'marita grabiak', 'bernie denk', 'israel adrián caetano', 'brad peyton', 'dean parisot', 'jan de bont', 'mike slee', 'joshua caldwell', 'david o. russell', 'jason bourque', 'kazuhiro furuhashi', 'anthony mandler', 'mark rydell', 'luc vinciguerra', 'andrew renzi', 'greydon clark', 'eric laneuville', 'derrick sims', 'ian samuels', 'gil cunha', 'stephen cone', 'matthew ross', 'aleksey sidorov', 'billy wilder', 'tensai okamura', 'james neilson', 'ram kumar', 'john papola', 'david sington', 'aidan belizaire', 'sonia lowman', 'gallagher', 'jean aspen, tom irons', 'mary mcmurray', 'jake helgren', 'sven unterwaldt', 'matt mitchell', 'gabriel grieco', 'ben bolt', 'keishi otomo', 'parambrata chatterjee', 'k v anand', 'ed hartwell', 'mrighdeep singh lamba', 'mark palansky', 'adrian grunberg', 'daniel barber', 'david a. vargas', 'gary winick', 'ron lagomarsino', 'thierry demaizière, alban teurlai', 'nick broomfield', 'john hillcoat', 'bo burnham', 'marcelo galvão', 'bauddhayan mukherji', 'aleksey tsitsilin', 'louis j. horvitz', 'justin benson, aaron moorhead', 'joel hopkins', 'hannah fidell', 'mary mazzio', 'v. k. prakash', 'robert hill', 'ali f. mostafa', 'peter werner', 'khaled el halafawy', 'trevor nunn', 'anjan choudhury', 'tsutomu mizushima', 'prabhudeva', 'sze yu lau', 'chris weitz', 'abhishek varman', 'sarah polley', 'hsu fu-chun', 'esteban vidal', 'sylvie verheyde', 'vetrimaaran', 'quentin lee', 'brad silberling', 'tim ritter', 'takashi shimizu', 'steven zaillian', 'michael davis', 'david slade', 'elle callahan', 'ib melchior', 'david mamet', 'peter webber', 'rojin thomas', 'cem yılmaz', 'alex ranarivelo', 'sangeeth sivan', 'david mitchell', 'sriram raghavan', 'lynne ramsay', 'philippe gagnon', 'martin pfeil', 'teja', 'gregory caruso', 'remy kohli', 'buta singh', 'asif kapadia', 'bonni cohen, jon shenk', 'jeannie gaffigan', 'apoorva lakhia', 'nadia hallgren', 'peter deluise', 'megan griffiths', 'bumpy', 'menno meyjes', 'david koepp', 'cristi puiu', 'john laing', 'antonio serrano', 'kevin kangas', 'jon lucas, scott moore', 'vishal devrukhkar', 'ron underwood', 'michelle ferrari', 'karan malhotra', 'nawapol thamrongrattanarit', 'daniel oriahi', 'laxman utekar', 'elijah moshinsky', 'wilfred jackson, walt disney', 'les anas', 'elaine mcmillion sheldon', 'brian aabech', 'mark l. lester', 'manjari makijany', 'mike binder', 'john crowley', 'daniel lindsay, t.j. martin', 'santosh sivan', 'david hemmings', 'luis estrada', 'paul tanter', 'dimitri logothetis', 'brad furman', 'vijay milton', 'madhumita', 'hans petter moland', 'haifaa al-mansour', 'joe johnston', 'sean baker', 'richard pearce', 'peter svatek', 'tanuj chopra', 'parveen kumar', 'mateo gil', 'bert i. gordon', 'sunil bandyopadhyay', 'fernando frías de la parra', 'craig r. baxley', 'rizal mantovani', 'ramesh talwar', 'sang-ho yeon', \"tom o'brien\", 'kohl glass', 'matt green', 'tom mcloughlin', 'shin won-ho', 'marilyn ness', 'tom ford', 'mark sobel', 'jay chandrasekhar', 'edwin l. marin', 'storm saulter', 'ramsey nouah', 'siu-tung ching', 'shinji aramaki', 'nisha ganatra', 'àlex pastor, david pastor', 'marek kanievska', 'james mangold', 'dominic cooke', 'feng xiaogang', 'mar targarona', 'pablo behrens', 'saul dibb', 'chris koch', 'girish malik', 'michael lange', 'eric drath', 'chris sivertson', 'john sturges', 'scott martin', 'freddie francis', 'cal seville', 'tom gries', 'jose mario salas boza', 'jon keeyes', 'satyajit bhatkal', 'frank rajah arase', 'james gunn', 's.s. wilson', 'john suits', 'andrew adamson', 'michael fimognari', 'ravi chopra', 'adam randall', 'ward kimball', 'simon hunter', 'julius onah', 'harvey lilley', 'jeremy kenyon lockyer corbell', 'alan j. pakula', 's. s. stanley', 'jay craven', 'patricia rozema', 'vinod bharathan', 'arthur allan seidelman', 'stephen daldry', 'steven tsuchida', 'basu chatterjee', 'federico lemos', 'clive tonge', 'chuck vinson', 'susan johnson', 'ezekiel norton', 'arunkanth v', 'jean-jacques annaud', 'arlene sanford', 'jenny popplewell', 'dolph lundgren', 'charles barton', 'jerry rothwell', 'mrinal sen', 'gary wang', 'janusz majewski', 'brian larsen', 'husam el-gohari', 'santhosh p jayakumar', 'peter stylianou', 'jodie foster', 'hajime kamegaki', 'william berke', 'rob rapley', 'auturo gavino', 'gregg bishop', 'scott jeffrey, rebecca matthews', 'mark tonderai', 'matt kugelman', 'james marsh', 'nicholas kharkongor', 'corey grant', 'anurag kashyap, dibakar banerjee, karan johar, zoya akhtar', 'tom mccomas', 'dharani dharan', 'benedict andrews', 'jordi llompart', 'ken annakin', 'don coscarelli', 'r. sundarrajan', 'william wesley', 'geoff anderson', 'jimmy henderson', 'katie bauer murdock', 'ron davis', 'joe cornish', 'jazz boon', 'orson welles', 'sharmeen obaid-chinoy', 'susannah ward', 'roger young', 'william friedkin', 'manfred oldenburg', 'hakan sahin', 'olivia cappuccini', 'james wong', 'marc abraham', 'fred wolf', 'k. bhagyaraj', 'anand tucker', 'craig ross jr.', 'eduardo roy jr.', 'john dower', 'ross boyask', 'claire scanlon', 'nigel bach', 'phil traill', 'test director us', 'joachim rønning, espen sandberg', 'wayne blair', 'stuart gordon', 'kagiso lediga', 'pascal atuma', 'bernard carr', 'anu menon', 'frank nissen', 'hasraf dulull', 'makarand mane', 'craig johnson', 'masaaki yuasa', 'banjong pisanthanakun', 'justin baldoni', 'antoine bardou-jacquet', 'sanjay gupta', 'david thacker', 'phil weinstein', 'michael landon jr.', 'howard higgin', 'drea cooper, zackary canepari', 'marcos bucay', 'şenol sönmez', 'mahsun kırmızıgül', 'dave higby', 'joe wright', 'sanjay leela bhansali', 'michael berz', 'kip andersen, keegan kuhn', 'dustin ferguson', 'sam mendes', 'gerardo olivares', 'park hoon-jung', 'michael samuels', 'kenny scott', 'kenneth okinkwo okwy', 'anubhav sushila sinha', 'james fox', 'pandiraj', 'anil sharma', 'ashok pati', 'j.s. cardone', 'mike elliott', 'm. night shyamalan', 'roland west', 'otto preminger', 'ian edelman', 'avadhoot gupte', 'darcy weir', 'suseenthiran', 'mez tharatorn', 'liam lynch', 'shannon jones', 'roman polanski', 'ciarán foy', 'benjamin dickinson', 'patrick brice', 'sam wood', 'james ponsoldt', 'fred walton', 'javier ruiz caldera', 'tarsem singh', 'vipul amrutlal shah', 'sherif arafa', 'ken scott', 'nitin kakkar', 'david grossman', 'hadi el bagoury', 'andré øvredal', 'stephen whittaker', 'paul schrader', 'walter taylaur', 'sabaah folayan, damon davis', 'robert aldrich', 'will gluck', 'brian smith', 'sanjay patel', 'vicky matthews', 'aaron norris', 'bo burnham, christopher storer', 'andrew bujalski', 'raj b. shetty', 'sarah adina smith', 'jeff tremaine', 'guy vasilovich', 'scott hester', 'gordon parks jr.', 'raymond de felitta', 'delhiprasad deenadayalan', 'ksshitij chaudhary', 'tosin coker', 'pras lingam', 'charles marquis warren', 'barry strugatz', 'alexander payne', 'andrew jarecki', 'daniel cohen', 'peter mimi', 'michael giehmann', 'scott hussion, seth fuller', 'saheed arafath', 'zeke norton', 'pradip kurbah', 'john p. gibson', 'monica floyd', 'rick beyer', 'laurent bouhnik', 'mati diop', 'mike fleiss', 'megha ramaswamy', 'benjamin weill', 'kasra farahani', 'george loomis, elias talbot', 'jon sumple', 'alanis obomsawin', 'tarek abdel moaty', 'leslie selander', 'neil benn', 'shaadi ali sahgal', 'christophe charrier', 'ian barber', '朱家欣 , 钟智行', 'david johnson', 'kenny roy', 'sung-yoon lee', 'william wyler, john sturges', 'julia willoughby nason, jenner furst', 'paul berczeller, mark radice', 'arthur hiller', 'p. arokiyadoss', 'vijay maurya', 'adam schindler', 'emily cohn', 'will canon', 'roberts gannaway, tony craig', 'stewart wade', 'giovanni grimaldi', 'arabinda mukherjee', 'pierfrancesco diliberto', 'toby genkel, sean mccormack', 'simon napier-bell', 'roger larry', 'andres clariond', 'kevin munroe', 'ryan kwanten, sara canning', 'pedro antonio', 'dharmendra suresh desai', 'neal miller', 'dan tondowski', 'adam rothlein', 'malcolm j. goodwin', 'nathan wiley', 's. shankar', 'anthony \"ceo peso\" cremeans, jason dbks hampton', 'mike corbera, andre relis', 'sohanlal', 'sacha polak', 'joseph mensch', 'vinil matthew', 'aadish keluskar', 'sesha sindhu rao', 'swami tadatmananda', 'g. lee gordon', 'harry l. fraser', 'doug dearth', 'lindsey cordero, armando croda', 'ellen smit', 'andré warwar', 'kris pearn', 'robert harmon', 'burhan qurbani', 'grant korgan, brian niles', 'jorge hinojosa', 'rahi anil barve, adesh prasad', 'matthew b.c.', 'robert bierman', 'pratima joshi', 'jean paul lal', 'john scheinfeld', 'gavin rothery', 'paul spurrier', 'murat kepez', 'ram', 'marc fouchard', 'arisil moorthy', 'bedabrata pain', 'glen winter', 'christopher rey', 'myriam verreault', 'ken rodgers, betty rodgers', 'jake kheel, juan mejia botero', 'derek ting', 'dan lucchesi', 'ryan mcgonagle', 'antonio morabito', 'tània balló', 'hideaki anno, kazuya tsurumaki', 'tommy frazier', 'samir soni', 'adam r. steigert', 'laurent chouchan', 'jody hill', 'hideaki anno', 'bipin varty', 'herbert j. biberman', 'jorge m. fontana', 'helena coan', 'mike henricks, melody brooke', 'bernardo arellano', 'robert garofalo', 'heidi horne', 'john l. spencer', 'jatin satish wagle', 'andre roberson', 'francis megahy', 'timothy linh bui', 'haridas kesavan', 'seiji mizushima', 'ali taner baltacı, cem yılmaz', 'jay hayes', 'marc francis, max pugh', 'zackary adler', 'samir karnik', 'david sampliner', 'gary binkow', 'fran strine', 'jude weng', 'catherine cyran', 'dan forgione, pete jacobs, matt whitlock', 'david hinds', 'zaur dzhafarov', 'mark blumberg', 'syed ahmad afzal', 'premasish dey', 'enrico bisi', 'rajanish', 'onur ünlü', 'alex winter', 'james melkonian', 'iñaki dorronsoro', 'william f. claxton', 'kunlin wang', 'vaclav marhoul', 'jen soska, sylvia soska', 'lisa gottlieb', 'stephanie zwane', 'ravi varma', 'emmanuel ndejito, joseph duke, mark gullickson', 'shawn cunningham', 'levan tsikurishvili', 'santhana bharathi', 'nathan mowery', 'lee jang hee', 'sonia kohli', 'manoj kp', 'toby haynes', 'hsu chien', 'alfonso serrano maturino', 'amitava bhattacharya', 'rob meyer', 'sreekanth addala', 'goran dukic', 'cris gomes, monik macedo, tininha araujo', 'mel gibson', 'wong jing, jason kwan', 'p. rajapandi', 'mikiko, daito manabe', 'lenny abrahamson', 'george ratliff', 'rahat kazmi', 'digo ricio', 'chris menaul', 'rob burke, ronan burke', 'rajveer singh maan, harpeet singh', 'dick maas', 'muhammad fadl, hany motawie', 'john milius', 'shammi kapoor', 'peter flynn', 'raj babu', 'todd standing', 'fred ouro preto', 'hideaki anno, kazuya tsurumaki, katsuichi nakayama, mahiro maeda', 'chris blake', 'nick renton', 'felix binder', 'ragavendra prasad', 'gabriela garcía rivas', 'catlin adams', 'diana c. frank', 'marianna palka', 'vert wright', 'svati chakravarty bhatkal', 'arthur mulholland', 'trevor ryan', 'steven bernstein', 'ernesto diaz espinoza', 'ricky gervais, matthew robinson', 'fabio grassadonia, antonio piazza', 'frieder schlaich', 'david burton morris', 'dejan zečević', 'vincent carter', 'kirk de micco, chris sanders', 'mickey blaine', 'giancarlo esposito', 'kranti kanade', 'thomas kail, alex rudzinski', 'julie nimoy, david knight', 'miranda july', 'ti west', 'john h. lee', 'lorcan finnegan', 'elite zexer', 'rocky lang', 'derick cabrido', 'will dennis', 'nuel naval', 'franziska meyer price', 'hani bay', 'juan antin', 'robbie countryman', 'jim wilmer, mark knight', 'venkat ramji', 'robert schwentke', 'arun prabu purushothaman', 'doo-yopng lee', 'hang-jun jang', 'todd sheets', 'leli maki', 'al campbell, alice mathias', 'anthony fabian', 'jon izen', 'c. nichols', 'robert silver', 'ernest morris', 'kari skogland', 'karan gour', 'shola lynch', 'mona achache, patricia tourancheau', 'matthew jacobs', 'pixote hunt, hendel butoy, eric goldberg', 'oskar santos', 'vinay bharadwaj', 'the existentialist', 'prashanth pandiraj', 'asit mohapatra, shyamal chaulia', 'arthur wong, brandy yuen', 'athiyan athirai', 'baldvin zophoníasson', 'madhan kumar', 'scott beck, bryan woods', 'srijit mukherji, vasan bala, abhishek chaubey', 'jayaprakash radhakrishnan', 'prime cruz', 'kate horne', \"jasmine d'souza\", 'karan anshuman', 'alessandro pepe', 'jonah miles', 'mark j davis', 'sebastián cordero', 'devi prasad', 'lucie arnaz', 'vijay jayapal', 'andrucha waddington, pedro waddington', 'marian crisan', 'sylvie faiveley', 'nikolay lebedev', 'jorge gaggero', 'randal plunkett', 'samuel omole', 'lily keber', 'craig freimond', 'steven luke', 'manjeet maan', 'coodie, chike', 'david yarovesky', 'm.a. taylor', 'natalie portman', 'pieter kuijpers', 'angie black', 'christian sesma', 'sam rega', \"jim o'hanlon\", 'naresh saigal', 'shamyl othman', 'yin chen-hao', 'nicanor loreti', 'josep maría nunes', 'nic stacey', 'lô politi', 'arjun gourisaria, moinak biswas', 'stephen kinigopoulos, alexa kinigopoulos', 'jeffrey j. moore', 'takuya igarashi', 'thomas bezucha', 'amin bakhshian, kyla simone bruce', 'kar lok chin', 'brandon slagle', 'steve sekely', 'wade allain-marcus, jesse allain-marcus', 'jeffery scott lando', 'walter lima jnr', 'marleen gorris', 'sean olson', 'cristina costantini, kareem tabsch', 'scott spiegel', 'michael gates', 'marc rocco', 'hung tzu-huan', 'ai weiwei', 'deryck broom,  roger hawkins', 'bora kim', 'hamilton luske', 'harry watt', 'kris kertanian', 'aitor arregi, jon garaño', 'manmohan krishna', 'keirda bahruth', 'huw cordey', 'joshua tate', 'karan asnani', 'vassan', 'stig bergqvist, paul demeyer', 'alphonso j. wesson', 'robert f. hill & sam katzman, robert f. hill, sam katzman', 'awi suryadi', 'lionsgate', 'brian decubellis', 'michael a. simpson', 'gary cohen, ross hockrow', 'veera ganamala', 'nikita mikhalkov', 'andrew dean', 'moyoung jin, caroline sá, deepti kakkar, fahad mustafa, hikaru toda, chico pereira, elaine mcmillion sheldon', 'steven rinella', 'graham townsley', 'ken corben', 'logan kibens', 'zach a. parrish', 'caryl ebenezer, j. mervyn williams', 'p. amudhavanan', 'jay wright', 'roger allers, gaëtan brizzi, paul brizzi, joan c. gratz, mohammed saeed harib, tomm moore, nina paley, bill plympton, joann sfar, michael socha', 'manika sharma', 'jay surridge', 'david creed', 'prateek vats', 'k. v. anand', 'so yong kim', 'julien royal', 'radha krishna jagarlamundi, kangana ranaut', 'josh aronson', 'chris rodley', 'azita mougouie', 'paolo licata', 'pankaj saraswat', 'vitus petrus', 'kelly duane de la vega', 'akiva goldsman', 'm. anbazhagan', 'ben gosling fuller', 'bhanu pratap singh', 'borja cobeaga', 'kyle rankin', 'michael bouson', 'miguel alexandre', 'steve previn', 'marcus lee', 'one9', 'david mrnka', 'suresh krissna', 'john erman', 'norman ferguson, clyde geronimi, jack kinney', 'barry jenkins', 'gaurav seth', 'arvi', 'benny fredman', 'donald crisp', 'richard kelly', 'josh sabey', 'saurabh varma', 'michelle johnston', 'jon gunn', 'jayvee kang margaja', 'tharun bhascker dhaassyam, b. v. nandini reddy, nag ashwin, sankalp reddy', 'agustí villaronga', 'steven ayromlooi', 'lee toland krieger', 'blaine thurier', 'halder gomes', 'anne troake', 'josh greenbaum', 'gobi m. rahimi', 'b. t thomas', 'rajkumar', 'david lane', 'todd biermann', 'gil baroni', 'nicolas moneuse', 'euros lyn', 'woo min-ho', 'muh chen', 'anthony fankhauser', 'vikramaditya motwane, anurag kashyap', 'brandon lunzman', 'stephen anderson', 'chris baugh', 'roy poortmans', 'will lockhart, cole d. pruitt', 'alfredo b. crevenn, emilio fernandez', 'pradhuman singh', 'eric aghimien', 'ben dejesus', 'sandra goldbacher', 'minoru yamada', 'lawrence cheng', 'hamilton macfadden', 'trey borzillieri, barbara schroeder', 'ed blum', 'charles a. nichols, iwao takamoto', 'robert florey', 'kumaresh kumar', 'shunsuke kariyama', 'nick mead', 'hollingsworth morse', 'rajamohan', 'kevin mcmahon', 'sidharta tata, aco tenriyagelli, dian sastrowardoyo, ifa isfansyah, jason iskandar', 'ertanto robby soediskam', 'barry bowles', 'ashley wilson', 'ziad h. hamzeh', 'jon primo, hector felix', 'john eyres', 'luis lopez', 'david de vos', 'faraday okoro', 'tobias lindholm', 'michael g. cooney', 'jonathan helpert', 'laurent bouzereau', 'antonio chavarrías', 'jay lowi', 'inda reid', 'tanit jitnukul', 'winston azzopardi', 'romain gavras', 'biswajeet bora', 'jovanka vuckovic, annie clark, roxanne benjamin, karyn kusama', 'harold guskin', 'allan harmon', 'jeanine isabel butler', 'érik canuel', 'theresa demarest', 'marc payton', 'reid nicewonder', 'alfred gimeno', 'alejandro lozano', 'marc levin', 'drew gabreski', 'lee kirk', 'maryam zahirimehr', 'ricardo curtis', 'indrasis acharya', 'carly stone', 'xiaogang feng', 'charles sturridge', 'ian macallister-mcdonald', 'david raymond', 'lee kyoungmi, yim pilsung, jeon go-woon, kim jong-kwan', 'justin krook', 'denis hennelly, casey suchan', 'mikael håfström', 'balu chandrashekar', 'stephen campanelli', 'jenny bowen', 'serge ou', 'george case', 'thor moreno', 'micaela wittman, arthur de larroche', 'omegia keeys', 'jason liquori', 'mary wharton', 'sundar.c', 'keiichi sato, yasushi kawamura', 'chris miller', 'david oyelowo', 'ari novak', 'anna sofaer', 'jeff gordon', 'raja', 'carlos moreno', 'bobby j. brown', 'alexander wraith', 'ernest b. schoedsack, irving pichel', 'lai chun-yu', 'c.h. santiago', 'tolga örnek', 'matt shakman', 'karthik rapolu', 'jack kinney, clyde geronimi, james algar', 'j. davis', 'suparn verma', 'rainer fromm', 'russell owen', 'robert allan ackerman', 'makoto shinkai', 'stanislav sokolov, derek w. hayes', 'olivier nakache, éric toledano', 'alfred l. werker, anthony mann', 'joseph ramos', 'john balazs', 'william dieterle', 'cosmo segurson', 'prakash kunjhan moorayil', 'thomas robins', 'mina shum', 'sandra n. farrell', 'elisabeth vogler', 'shamim sarif', 'josh f. huber', 'dylan bank, daniel dimauro, morgan pehme', 'greg kohs', 'jim miskell', 'arron blake, darius shu', 'anthony solorzano', 'danny draven', 'domben chisom', 'hanu raghavapudi', 'sharecare windows', 'john strickland', 'see-yuen ng', 'massimiliano camaiti', 'michael duggan', 'richard finn, tim maltby', 'rarecho', 'numa perrier', 'antony smith', 'dennis rovira van boekholt', 'cosmo feilding-mellen', 'tony gilroy', 'david ogden', 'tom paton', 'steve greenwood', 'nick rowland', 'us office of war', 'samir al asfory', 'nibal arakji', 'joachim lafosse', 'reel', 'brandon walker', 'andrés goteira', 'vinod anantoju', 'aniruddha roy chowdhury', 'james campbell', 'patrik syversen', 'jedd wider, todd wider', 'sashi kiran tikka', 'fernando meirelles', 'kathryn bigelow', 'lee howard', 'jasbir bijendra bhati', 'david drury', 'vijay patkar', 'avinash arun', 'james bills', 'ashish r. mohan', 'kelsey mann', 'p.k. baaburaaj', 'greg pritikin', 'kris kertenian', 'brett jubinville', 'zeek earl, christopher caldwell', 'emma tammi', 'pippa ehrlich, james reed', 'matt ross', 'mark sawers', 'bhagyaraj', 'mehran c. torgoley', 'antonin baudry', 'cary joji fukunaga', 'roland joffé', 'trevor moore', 'arthur joffe', 'john holowach', 'j miller', 'peter von puttkamer', 'benjamin diouris', 'francis lee', 'karim el shenawy', 'allan moyle', 'h.c. potter, stuart heisler, william wyler', 'elisee junior st preux', 'hassan hegazy, shady ali', 'gavin fitzgerald', 'kwabena gyansah', 'amanda micheli', 'manu warrier', 'nick hurran', 'keva rosenfeld', 'ajay bhuyan, kunal kohli', 'scott kenyon barker', 'evan jackson leong', 'joseph j graber', 'wych kaosayananda', 'cindy jansen', 'travis cluff', 'rajiv chilaka, anirban majumder, alka amarkant dubey', 'regina king', 'kaveesh shetty', 'craig mcmahon, auturo gavino', 'david van eyssen', 'antoine matuttis, sejad ademaj', 'piotr szkopiak', 'andrew mondshein', 'louis mandylor', 'rambabu muddapu', 'scott marshall', 'matt russell', 'tony glazer', 'wells root', 'shakti chidambaram', 'sam fell, chris butler', 'mark herzog, sandrine orabona', 'stephanie laing', 'lilly wachowski, lana wachowski, tom tykwer', 'bradley walsh', 'lynn roth', 'jared hess, tyler measom', 'david gidali', 'zac crouse', 'pawan kumar', 'bill rahn', 'l. frazier', 'lisa arld', 'k. raghavendra rao', 'colin minihan', 'richard bailey', 'mike ockrent', 'ibrahim bin mohamed, hasan aljaberi', 'johanna demetrakas', 'joe leone', 'nandha kishor', 'chris iheuwa', 'andrew thompson', 'dennis bartok', 'abbas raziji', 'vasiko bedoshvili, oleg uzhinov, ivan pshonkin', 'valeria golino', 'danny a. abeckaser', 'zoya akhtar, karan johar, anurag kashyap, dibakar banerjee', 'peter cattaneo', 'jeremy lovering', 'nathan greno', 'clarence yiu-leung fok', 'chai min', 'claudio fäh', 'feroz qureshi', 'royce davis', 'tamta gabrichidze', 'lucien jean-baptiste', 'j.b. armstrong', 'jack nicholson', 'bradley raymond, tom ellery', 'mark von sternberg', 'ian white', 'jens östberg', 'lars kaalund', 'antony varghese', 'max fleischer, tex avery', 'shanjey kumar perumal', 'fred dekker', 'joseph granda', 'harald reinl', 'jeff franklin', 'hanns-bruno kammertöns, vanessa nöcker, michael wech', 'jeffrey brown', 'roger armstrong', 'edward l. cahn, melville w. brown', 'sivabalan', 'remi weekes', 'lorene machado', 'marti noxon', 'alan rickman', 'kirati nakintanon', 'megan peterson, john douglas sinclair', 'ronnie del carmen', 'michele lunella', 'felix limardo', 'the pop ups', 'amit v masurkar', 'joshua logan, arthur ripley, george cukor', 'christian charles', 'klaudia reynicke', 'ezhil', 'jung-woo park', 'michael noer', 'albert s. rogell', 'timothy bond', 'manish saini', 'jacob schwarz, jared cook', 'shivang shukla', 'g p rama krishna', 'chadd harbold', 'julie crisante', 'ramesh mylaram', 'don sperling', 'alejandro ruax, ramiro martínez', 'lorna tucker', 'vijay lalwani', 'azazel jacobs', 'jorge dorado', 'pali yahya', 'chris weitz, paul weitz', 'lucas james mcgraw', 'rajasekhar', 'joe kane', 'john tracy', 'franck mancuso', 'david christians, anonymous user', 'nick brokaw', 'garson kanin', 'scott gabriel', 'john k.d. graham', 'christian cashmir', 'raj khosla', 'daniel ablin', 'nicolas breton', 'manop janjarasskul', 'renato de maria', 'shane acker', \"shane o'sullivan\", 'jorge r. gutiérrez', 'victor frad', 'raj & dk,  nikkhil advani,  tannishtha chatterjee,  avinash arun,  nitya mehra', 'steve rolston', 'michael harte', 'alfonso cortés-cavanillas', 'jennifer brea', 'michael caleo', 'will eisenberg', 'torsten künstler', 'deniz gamze ergüven', 'ricky staub', 'ward crockett', 'raffaele picchio', 'meissa hampton', 'will lovelace, dylan southern', 'cory wexler grant', 'tenill ransom', 'li pei-chuan', 'roger vadim', 'rod s. scott', 'selva vinayagam', 'peter billingsley', 'hao zheng', 'scott z. burns', 'gabriel clarke, torquil jones', 'tariq alkazim', 'cody cameron, kris pearn', 'nicholas renton', 'bob saget', 'beno obano', 'andrew douglas', 'john riggins', 'frank hutto', 'kantú lentz', 'byron howard, rich moore', 'christian desmares, franck ekinci', 'prabhakar meena bhaskar pant', 'ramana s. venkat', 'chris cofer', 'asri bendacha', 'jangeti sravani rajesh', 'james hayman', 'elizabeth rohrbaugh', 'alejandra márquez abella', 'hidetaka inazuka', 'phil nibbelink, simon wells', 'janie sloan', 'bert marcus, cyrus saidi', 'mahendran k', 'alan metter', 'chaitanya tamhane', 'jeff goodman', 'isabel coixet', 'devika bhagat', 'brian volk-weiss, gil cunha', 'ashok g.', 'mira nair', 'hong khaou', 'jeff feuerzeig', 'yuki yamato', 'john lee', 'michael cooney', 'dale hildebrand', 'saul blinkoff', 'dan harris', 'leslie hope', 'richard claus, karsten kiilerich', 'howard avedis', 'daniel stern', 'jeff tomsic', 'm. jeevan', 'john zaritsky', 'femi oyeniran, nicky slimting walker', 'josh radnor', 'katia lewkowicz', 'paul feig', 'shazia javed', 'leandro neri', 'philipp eichholtz', 'pradeep maddali', 'prabadish samz', 'oksana karas', 'chi lo', 'k. subhash', 'mark franchetti, andrew meier', 'adam buck', 'frida barkfors, lasse barkfors', 'hsin-yen chang', 'rachel griffiths', 'aditya ajay sarpotdar', 'daniel arasanz', 'cole sharpe', 'michael doneger', 'edmund coulthard', 'rupert hitzig', 'nora twomey', 'jack cutting', 'christian de vita', 'srijit mukherjee', 'ian leese', 'robert kenner', 'nishanth ravindaran, jathin sanker raj', 'emilio martínez lázaro', 'marta cunningham', 'ernst gossner', 'sofie šustková', 'matt johnson', 'julien rambaldi', 'joel gilbert', 'masami hata, william t. hurtz', 'koratala siva', 'brent dawes', 'michael almereyda', 'k. selvaraghavan', 'naveen', 'jason hehir', 'todd newman', 'pierre coré', 'rico harmon', 'tom stern', 'ira sachs', 'caarthik raju', 'ken burns, lynn novick', 'kevin peeples', 'monique gardenberg', 'attila till', 'ramón salazar', 'patrice chereau', 'wouter bouvijn', 'jill sprecher', 'chandrajith belliappa, karan ananth, shashi kumar, rahul pk, jamadagni manoj, kiranraj k, jai shankar a', 'ramon termens', 'alonso ramirez ramos, dave wasson', 'kristen lester', 'steve martino', 'andaç haznedaroğlu', 'yaw agyapong', 'mike klassen', 'morris d. small', 'akshay sanjeev chavan, sumit das', 'cal saville', 'chris buck, jennifer lee, patrick osborne, lauren macmullan, john kahrs, nathan greno, byron howard, stevie wermers, dean wellins, kevin deters, roger allers, mike gabriel, mark henn', 'brian jordan alvarez', 'akhil paul, anas khan', 'teng huatao', 'jon reiner, brad rothschild', 'patricia cardoso', 'martha burr', 'a.j. murugan', 'mélanie laurent', 'veljko bulajic', 'wang ping', 'clyde geronimi, jack kinney, hamilton luske', 'jonathan ignatius green', 'anne pick, bill spahic', 'jayme monjardim', 'atsuko ishizuka', 'prabhu solomon', 'reem kherici', 'christopher bell', 'bill clark', 'christopher amos', 'dave hoffman', 'jeremy thomas', 'emily aguilar', 'carl gottlieb', 'chris eneng enaji', 'anand ravichandran', 'samu fuentes', 'steve james', 'm.v. raman', 'mahadev', 'tomas brickhill', 'saw teong hin, nik amir mustapha, m.s. prem nath', 'chandrakant kanse', \"cathleen o'connell\", 'corey lee', 'ali samadi ahadi', 'jenica bergere', 'john ferry', 'lee fulkerson', 'matt hartley', 'rocío de prat gay', 'kathleen marshall', 'felix chong, alan mak', 'frederick keeve', 'hans albin', 'carles torrens', 'd.j. viola, bernard l. kowalski', 'nathan willard', 'malcolm mcdonald', 'derek diorio', 'shawn seet', 'mark mcqueen', 'christian e igbinovia', 'neil rawles', 'alex power', 'gervasio iglesias, alexis morante', 'peter markle', 'sigrid andrea bernardo', 'shubham sanjay shevade', 'mo fini, edesio alejandro', 'chi keung fung', \"darragh o'connell\", 'eddie romero', 'jonathan kaplan', 'geoff reisner, jason tobias', 'majid majidi', 'bethel buckalew', 'hua shan', 'ravishankar venkateswaran', 'scot armstrong', 'pete mortimer, nick rosen', 'amos poe', 'giulio base', 'christopher james lang', \"yi'nan diao\", 'duane clark', 'tchaiko omawale', 'ryan keating, daniel dollase, zoe tweedie', 'greg berlanti', 'jose magan', 'ken may', 'nathan morlando', 'kristina goolsby, ashley york', 'david m. talley', 'christian trumble', 'jon hurwitz, hayden schlossberg', 'shaina feinberg', 'tyson caron', 'mario ramos', 'erol özlevi', 'ann marie pace', 'customflix', 'charles walters', 'zaahir abdullah', 'patrick graham', 'gerhard mostert', 'suku purvaj', 'matt tyrnauer', 'george ungar', 'm.j. bassett', 'al reinert', 'jon spira', 'rajeev chaudhari', 'pablo aparo, martín benchimol', 'camilla nielsson', 'kirsten johnson', 'hanung bramantyo, meisa felaroze', 'kamala lopez', 'george mccowan', 'tolulope itegboje', 'jason holmes', 'stephen m. miller', 'harold young', 'kelly reichardt', 'rathna kumar', 'nathaniel atcheson', 'kids 1st tv - kids nursery rhymes tv and baby songs', 'chris simoes', 'falz', 'sushrut jain', 'victor varnado', 'fada dee', 'lou kennedy', 'joe berlinger, bruce sinofsky', 'chris foggin', 'richard gray', 'sushil rajpal', 'lucky mckee', 'robert peters', 'tommy vance, graham mctavish', 'ted kotcheff', 'michael lovan', 'dan garcia', 'jis joy', 'anthony simmons', 'theo davies', 'francis lawrence', 'john lemont', 'tomer eshed', 'alice waddington', 'tarun majumder', 'prince mabutu nayabingi', 'bernard ray', 'akram farouk', 'anasuya samanta', 'cris d’amato', 'sharan koppisetty', 'amy s. weber', 'mike  berry', 'pravin raja karale', 'lee esposito', 'benjamin dejesus', 'héctor rodríguez', 'suresh triveni', 'audu paden, eric radomski', 'andrew bellware', 'munni pankaj', 'joshua land', 'david duncan', 'victor vu', 'gugu e. michaels', 'gary burns', 'brandon hill, marc ostrick', 'raghu gopasani', 'alejo mo-sun', 'park chan-wook', 'jeff pearson', 'matthew aeberhard, leander ward', 'michael baez', 'ron meyer', 'doug prose, diane lamacchia', 'sam dunn, scot mcfadyen', 'josh binney', 'harrison smith', 'barry shils', 'hugo cardozo', 'jason cunningham', 'tony succar', 'pete mcbride', 'nils gaup', 'kate barker-froyland', 'matthew whiteman', 'dara singh', 'susanna fogel', 'amol kale', 'david shisgall', 'hallvard bræin', 'rafa cortes', 'tracy nichole cring, jon russell cring', 'dave wascavage', 'tyler maddox', 'nick searcy', 'william olsen', 'angus benfield', 'francine parker', 'david stubbs', 'edward ellis, flor salcedo, aaron woolf', 'alrick riley', 'micah barber', 'sarah lancaster', 'michael tolajian', 'c premkumar', 'michael mohan', 'ángel gonzález', 'steve dayton', \"matt d'avella\", 'peter foott', 'liv ullmann', 'anik datta', 'roel reiné', 'frank oz, jim henson', 'michael ballard', 'roger melvin', 'adrien lagier, ousmane ly', 'k n vaidyanath', 'carlos diegues', 'michael gornick', 'james murphy', 'jeff lieberman', 'derek hui', 'diego enrique osorno', 'ramdev', 'roy burdine, johnny castuciano', 'lilibet foster', 'mads matthiesen', 'vicente villanueva', 'fernando lebrija', 'doug liman', 'juan antonio de la riva', 'brendan cowell', 'wilhelm kuhn', 'eric bilitch', 'john bokenkamp', 'kirk wise', 'raj kiran', 'michael pack', 'tom gatley', 'martin hodara', 'jesús torres torres', 'kelly fremon craig', 'ashwath marimuthu', 'ananth narayan mahadevan', 'graeme clifford', 'eric stoltz', 'mark andrews, andrew jimenez', 'daniel raim', 'mark blanchard', 'harry horner, john beal', 'stephen metcalfe', 'stefon bristol', 'sasha burrow', 'paul barbeau', 'benjamin ross', 'saron sakina', 'andrew paul davis', 'eoin macken', 'arhtur lubin, arthur lubin', 'erik kling, kevin peaty', 'marta ferencová', 'spencer collins iv', 'tasha hubbard', 'rémy four, julien war', 'ding sheng', 'thomas buschbeck', 'jeffrey james binney', 'laurence thiriat', 'christian james', 'jennifer yuh nelson', 'jayan vannery', 'jerry g. angelo', 'handan i̇pekçi', 'sameer patil', 'rakesh mehta', 'jason bernard', 'martha kehoe, joan tosni', 'paul-razvan macovei', 'faozan rizal', 'venugopan', 'alison e. rose', 'frank dicesare, mahmoud salimi', 'michael scott', 'lisa arnold', 'greg barker', 'rupert julian, eric von stroheim', 'stephen reynolds', 'mark a.z dippe, taedong park', 'ian a. hunt', 'leo scott, ting poo', 'roy battersby', 'jon j. whelan', 'vimal vasthav', 'major jack, hively captain, jess lasky jr.', 'patricia white', 'ravin gandhi', 'junior carelli, rudge campos', 'roger hedden', 'nicolas silhol', 'christian smooth', 'joseph vittorie', 'ayaan mukherji', 'ferdinando cito filomarino', 'dutta keshav', 'steve mclean', 'vadim perelman', 'jesse holland, andy mitton', 'haim silberstein', 'prince mabutu nayabing', 'pailin wedel', 'deborah gee', 'd. rama naidu, b. gopal', 'brilliams', 'surya s.j., sunil kumar agrawal', 's. a. chandrasekhar', 'aatmaram dharne', 'p.j. hogan', 'lance hammer', 'dylan mohan gray', 'bernard vorhaus', 'brian skiba', 'dhanush', 'sia', 'alex ferrari', 'justin price', 'kevin costner', 'elizabeth vasarhelyi, jimmy chin', 'chantelle squires', 'don mckellar', 'elisa fuksas', 'liao shih-han', 'ivan kavanagh', 'ballem venumadhav', 'marek losey', 'christopher auchter', 'braden r. duemmler', 'tommy avallone', 'evan spiridellis, jeff gill', 'martina saková', 'ajay koundinya', 'bram coppens', 'kim tae-hyung', 'todd robinson', 'alberto rodríguez', 'milt schaffer', 'sean king, taylor king', 'taylor morden', 'abhishek saxena', 'gowtham namasivayam', 'jennifer peedom', 'sudip bandyopadhyay', 'george kaczender', 'michael kennedy', 'melville shavelson', 'brendan gabriel murphy', 'rené bjerregaard', 'michael pressman', 'paul levine', 'shailesh tiwari', 'bill gentile', 'swapan saha', 'kaizad gustad', 'mario ribero ferreira', 'jesse zwick', 'dave skinner, freddie waters', 'roger allers, jill culton', 'bikash raj acharya', 'vasan bala', 'kranthi madhav', 'josiah ng', 'vidhu vinod chopra', 'cory krueckeberg', 'shimizu takashi', 'nolan lawlor, john christensen', 'pål øie', 'dante tomaselli', 'giulia clark', 'yasuhiro irie', 'tor ramsey', 'neslihan yesilyurt', 'hanno olderdissen', 'christopher olen ray', 'renae smith treviño, brian volk-weiss', 'ashvin m', 'pritesh chheda', 'vijay yelakanti', 'samuel armstrong, james algar, bill roberts', 'gordon douglas', 'ernest r. dickerson', 'suresh krishna', 'john lyde', 'maximilian erlenwein', 'glenn triggs', 'amal neerad', 'ramon menendez', 'tade ogidan', 'selima taibi', 'max jabs', 'alan james', 'sarah moshman', 'travon free, martin desmond roe', 'hisonni johnson', 'alex smith, andrew j. smith', 'amit roy', 'alexis almström', 'christian gudegast', 'nils tavernier', 'siju jawahar', 'ian cheney, sharon shattuck', 'devin hume', 'amy waddell', 'derick martini', 'bryan g. thompson', 'saara cantell', 'sam friedman', 'paula apsell, kirk wolfinger', 't. p. gajendran', 'ludwig shammasian, paul shammasian', 'jesse wallace jr', 'mick jackson', 'ralph ziman', 'durga p s', 'adam bolt', 'gerard walsh', 'alfonso ciccarelli', 'inas el-degheidy', 'andy capper', 'hideki wada', 'gaspar antillo', 'david schalko', 'caroline laskow, ian rosenberg', 'neeraj vora', 'enrique gato, david alonso', 'k.s. prakash rao', 'louise alston', 'joe barajas', 'jonathan newman', 'rajesh mapuskar', 'srimahesh', 'dick sebast', 'sonia nassery cole', 'omi bedi', 'atanu mukherjee', 'david hartford', 'joseph v. mascelli', 'joan carr-wiggin', 'evan goldberg, seth rogen', 'whit stillman', 'jang jae-hyun', 'terry winsor', 'michael dominic', 'robert cohen', 'eli daughdrill', 'f.w. murnau', 'tim rouhana', 'gerardo gabaldón', 'richard e. grant', 'michael shelton', 'ryan page, christopher pomerenke', 'jeremy waltman', 'adam goldberg', 'taylor sheridan', 'steve pink', 'arnold laven', 'storm theunissen', 'jagdeep sidhu', 'rudrapatla venugopal', 'charles officer', 'deb ellis, denis mueller', 'yen cheng-kuo', 'carl joglar', 'stuart paul', 'matt kay', 'regina welker, nina wels', 'dean murphy', 'andrew dominik', 'aaron courseault', 'jennifer siebel newsom', 'martin prakkat', 'leo matsuda', 'alex pastor, david pastor', 'will allen', 'ann deborah fishman', 'metin huseyin', 'c. ranganathan', 'bashir el deek', 'radha mohan', 'bobby rubio', 'sebastian gutierrez', 'william l. nolte', 'george miller', 'lisa azuelos', 'tony laudati', 'caroline côté', 'alberto lattuada', 'turner clay', 'rudranil chaudhuri', 'dave green', 'eytan fox', 'azfar jafri', 'martin roe', 'john barnard', 'jill bauer, ronna gradus', 'masaya kato', 'rick cikowski', 'lucien bourjeily', 'robert marcarelli', 'aziz jindani', 'rod blackhurst, brian mcginn', 'harold daniels, jerry warren', 'stephan pacheco', 'adrian panek', 'jason zada', 'kumar', 'delbert mann', 'kadhal sukumar', 'justin foia', 'bill cote', 'kumar dutt', 'dallas jenkins', 'alex santiago pérez', 'frank lin', 'ken kushner', 'amar gupte', 'andy de emmony', 'vin moore', 'paddy breathnach', 'francesco mandelli', 'chandra prakash dwivedi', 'joy rosalyn', 'david czarnetzki', 'jim kunz, mel welles', 'chuck vinson, michael a. bloom', 'richard sears', 'tt the artist', 'alastair fothergill, jonnie hughes, keith scholey', 'daniel minahan', 'jonathan miller', 'charles guérin surville', 'charlie fonville', 'c.j. wallis', 'tayarisha poe', 'paul reddish', 'catherine bainbridge, alfonso maiorana (co-director)', 'gianfranco parolini', 'tom beard', 'angie bojtler', 'simeon halligan', 'martin donovan', 'yuen woo-ping', 'lu chun ku', 'kjell sundvall', 'eduardo maytorena, wayne mitchell', 'victor gatonye', 'lygia barbosa da silva, eliane brum', 'william boyd', 'jonathan kaufman', 'jurgen schadeberg', 'j. sabarish', 'cameron nugent', 'william d. russell', 'tomas portella', 'nikolai lebedev', 'alan mak, felix chong', 'walt becker', 'salmeen almurry amer', 'michael epstein', 'ashim ahluwalia', 'jorge granier', 'clyde geronimi, hamilton luske, wilfred jackson', 'miguel ángel vivas', 'bob strange', 'scott ressler', 'robert osman, nathanael wiseman', 'alex r. johnson', 'achille brice', 'chris nickin', 'stephen ives', 'riccardo pilizzeri', 'seth kramer, daniel a. miller, jeremy newberger', 'yim ho', 'david salzberg, christian tureaud', 'gary young', 'jake mahaffy', 'andrea sedlackova', 'richard rush', 'paul downs colaizzo', 'leos carax', 'vonda harrell, daniel camenisch', 'robin hays', 'b. unnikrishnan', 'matias mariani', 'valeri milev', 'patrick meaney', 'luc marescot', 'chinna', 'jay dahl', 'arthur hilton', 'joe alves', 'icíar bollaín', 'heber cannon', 'frank marshal', 'hitesh kewalya', 'chris zonnas', 'derek yee', 'gerard mcmurray', 'mike fetterly, steve sacks', 'n. ragavan', 'amelia moses', 'oliver blackburn', 'andreas johnsen', 'abhay chopra', 'ruchi narain', 'daisuke sato', 'agustin adba', 'rebecca harrison', 'supavitra babul', 'osamu dezaki', 'amy rice', 'navneet behal', 'anders sømme hammer, marius arnesen, klaus erik okstad, olav njaastad', 'dereck joubert', 'prakash balwant saini', 'carlos therón', 'lo wei', 'anvita dutt', 'neshu saluja', 'huang hsin-yao', 'olaf de fleur', 'shawn cain', 'reiner holzemer', 'paul reubens, wayne orr', 'syed atif ali', 'jesse baget', 'tirumala kishore', 'udoka oyeka', 'nicholas dibella', 'bruce leddy', 'david charhon', 'steven robman', 'raam reddy', 'michael legge', 'ge shuiying', 'bekaarfilms', 'milton kremer', 'aleksandr boguslavskiy, francesco cinquemani', 'jack speirs', 'yen-ping chu', 'john kafka', 'emmanuvel n k', 'thomas borch nielse', 'sacha jenkins', 'francesca gregorini, tatiana von furstenberg', 'ville jankeri', 's. v. krishna reddy', 'ben wallis, emma fraser, jess tombs', 'kad merad', 'don omope', 'douglas attal', 'leslie stevens', 'joe menendez', 'shaun garcia, orlando eric street', 'lek kitaparaporn', 'jim monaco', 'keanu reeves', 'sarah harper', 'christian darkin', \"eric 'ptah' herbert\", 'matthew o. henderson', 'wyatt cenac', 'hallie meyers-shyer', 'justin kreutzmann', 'ranjit m tewari', 'avgousta zourelidi', 'david kellogg', 'blake edwards', 'theo love', 'nathan clarkson', 'lucas mcnelly', 'leigh jason', 'thomas dekker', 'juan zapata', 'stefano mordini', 'vishwesh krishnamoorthy', 'rami alon, silvio narizzano', 'katy chevigny, ross kauffman', 'terry spears', 'brian andrew mendoza', 'bobby lacer', 'kevin vanhook', 'mikala', 'william morgan', 'sachin kamlakar khot', 'mohammad hadi karimi', 'craig goodwill', 'joshua dickinson, jane gull, jean hogg, joshua carver, adam collier, amy feeley, toby roberts, deveril', 'torey haas', 'karl geurs', 'simcha jacobovici', 'sonny marler', 'katleho ramaphakela, rethabile ramaphakela', 'yûichi fukuda', 'robert vickers', 'kenneth lonergan', 'casey affleck', 'steve cheng', 'ch. prabhakar', 'bryn evans', 'liu jiang', 'mike mendez', 'jeff garlin', 'sukhbir singh', 'david miller', 'otoja abit', 'vadim kapridov', 'nicole lucas haimes', 'simon baker', 'nizam razak', 'monja art', 'william cameron menzies', 'kevin ang', 'dezso magyar', 'andrew traucki', 'devon downs, kenny gage', 'troy byer', 'kaneesha heath', 'umut kirca', 'einar gabbassov', 'garth davis', 'kief davidson, richard ladkani', 'richard loncraine', 'prentice penny', 'liliana olszewski', 'stacy title', 'steve baker', 'michael gottlieb', 'pavitra chalam, akshay shankar', 'jesse gustafson', 'iain carson', 'sivaroj kongsakul', 'sudhirdurlabh tandel', 'paween purijitpanya', 'clyde scott', 'carlos vermut', 'sukesh mijar', 'lisa marie gamlem, john andreas andersen', 'ray xue', 'eddie augustin', 'caroline cory', 'wj carter', 'quanie cash', 'shorni hardy', 'nabil ayouch', 'derrick mullen', 'aamir bashir', 'su i-hsuan, chuang shiang-an, liu yi', 'cavi borges, ulisses mattos', 'fred m. wilcox', 'amara cash', 'sathyasiva', 'pierre salvadori', 'mike marshall, mark marshall', 'ana quiroga', 'lionel c. martin', 'robert connolly', 'james reed jr.', 'merawi gerima', 'samit kakkad', 'rummy jafry', 'nadav lapid', 'puri jagannadh', 'john hyams', 'anthony wonke', 'robert adetuyi', 'salima koroma', 'ryu jung-woo', 'ulf thomas', 'olaf ittenbach', 'robert hartford-davis', 'richard green', 'vijay chandar', 'terry coker', 'chantal hebert', 'nick davis', 'ryan crego', 'paul wendkos', 'will mccormack, michael govier', 'americ', 'john stevenson, mark osborne', 'daniel j. clark', 'leila djansi, ryan daly', 'satish vegesna', 'jean-paul salomé', 'jason r. goode', 'lamb florence', 'dan zeff', 'david alford', 'neri parenti', 'stephen rutterford', 'hung tsin-yin', 'maxim volkov, andrey galat', 'duane adler', 'carlos sanchez, jason sanchez', 'shannon kohli', 'padmamagan', 'franck ribière', 'lawrence kasdan', 'andrew loveday', 'michel hazanavicius', 'nopparoj chotmunkongsit', 'twila labar', 'nick frangione', 'jonathan singer-vine', 'aakash motiani', 'roy allen smith, melissa suber', 'michael margolis', 'stevie fernandez', 'eduard bordukov', 'joshua sanchez', 'sikander bharti', 'tyler savage', 'michael roberts', 'anna stone', 'kyzza terrazas', 'claudia myers', 'fred cavayé', 'fedor bondarchuk', 'kang cheng, shan hua', 'jeff stilson', 'benjamin cohen, nicolas cotto', 'raymond wood', 'hayato date', 'dominic goodie', 'puneet khanna', 'greg miller', 'richard tuggle', 'r.l. scott', 'adam collins, luke radford', 'dennis alexander nicholson', 'antony szeto', 'manoj beedha', 'scott conditt, jeremy tremp', 'vinod kapri', 'nick powell', 'chris perkel', 'mark stirton', 'brodje wemboendja', 'bisong taiwo', 'maría ripoll', 'roberto ángel salcedo', 'andrew stanton, angus maclane', 'howy parkins, chuck sheetz', 'gavin wilding', 'siripuram rajesh', 'jean delannoy', 'geoffrey wright', 'james gartner', 'raúl arévalo', 'chris zuhdi', 'hashim nadeem khan', 'nathan landeg', 'd.j. viola, george p. breakston', 'k. s. prakash rao', 'wolfgang reitherman, john lounsbery, art stevens', 'jay bachochin', 'ivy ho', 'jeo baby', 'chris mcintyre', 'paul solet', 'jan kounen', 'griff furst', 'pulkit', 'david haycox, mardy south', 'dylan baker', 'josh david jordan', 'claire richards', 'andrew bush', \"miles o'brien\", 'chris bell, josh alexander, greg young', 'dario piana', 'tommy wirkola', 'pete docter, roger gould', 'adil el arbi, bilall fallah', 'david madden', 'brendon marotta', 'geoff luck', 'alma har’el', 'lorie conway', 'jorge blanco', 'michael andres', 'ramon sloan, beasy jones', 'rohith v.s', 'matt piedmont', 'daniel goldhaber', 'tathagata banerjee', 'christian zübert', 'sam blair', 'phil burgers', 'joanna lombardi, bruno ascenzo', 'jean yarborough', 'brandon dickerson', 'monfery dominique', 'frédéric schoendoerffer, yann brion', 'charles wilkinson', 'nick moore', 'rahul kumar singh', 'laurence olivier', 'chad l. scheifele', 'nick leisure', 'd. sankaraiyaa', 'john feist', 'christian schidlowski, peter bardehle', 'urszula antoniak', 'wang lina', 'radha blank', 'carl bessai', 'eric quizon', 'lars büchel', 'udit jawarani', 'isaki lacuesta, isa campo', 'will zens', 'anthony scott burns, nicholas mccarthy, adam egypt mortimer, gary shore, kevin smith, sarah adina smith, scott stewart, kevin kolsch, dennis widmyer', 'mike doyle', 'robert tate', 'sethuraman', 'kevin johnson', 'natalia garagiola', 'henry koster', 'rolf de heer', 'greg whiteley', 'rupert julian', 'jean-françois richet', 'joey kern', 'pavel lungin', 'jose javier reyes', 'christopher norton', 'michael schroeder', 'paul landres, derwin abrahams', 'ra chezhiyan', 'lev spiro', 'hari viswanath', 'assaad yacoub', 'sherif ismail', 'oren uziel', 'jack blum', 'a. raajdheep', 'andy wolk', 'thom mckenna', 'leslye headland', 'milap zaveri', 'glen goei, gavin yap', 'sean hardaway', 'dan klores', 'hazel simpson', 'a. venkatesh', 'daniel roussel', 'karzan kader', 'sidheswar shukla', 'philip seymour hoffman', 'todd bellanca', 'rob williams', 'manatsanun phanlerdwongsakul', 'john gleim', 'armen adilkhanyan', 'peter pardini', 'carlos sánchez', 'matthijs van heijningen', 'jerry kramer', 'patrice laliberté', 'k. asher levin', 'leon leonard', 'courtney sell', 'sudesh manjrekar, atul kale', 'elaine bogan, john sanford', 'brian crano', 'steven feder', 'zhao ji', 'sean anders', 'rodrigo salomón, pietro scappini', 'rajkumar periasamy', 'gillian armstrong', 'ose oyamendan', 'alexander hammett', 'derek peck', 'nick wauters', 'ben sharpsteen, hamilton luske', 'shashanka ghosh, samit basu', 'manoj sharma', 'mostafa abu seif', 'benito fernández', 'riley thomson', 'kashmiere rich', 'jacob cobi benattia, pete berg, james buchanan', 'mukul abhyankar', 'irek dobrowolski', 'christina wayne', 'robert young', \"cris d'amato\", 'marco bonfanti', 'd.j. viola, vittorio cottafavi', 'victor zarcoff', 'anthony bell', 'bharath parepally', 'lewin webb', 'james hacking', 'arun vaidyanathan', 'trisha ziff', 'warwick thornton', 'william j. cowen', 'jerry ciccoritti', 'stephen kijak', 'rich ambler', 'to-hoi kong', 'pascal laugier', 'jericca cleland, kevin munroe', 'sarah holt, ma liyan, caitlin saks, zachary fink', 'harold s. bucquet', 'axelle laffont', 'lorene scafaria', 'emily moss wilson', 'veena sud', 'saschka unseld', 'adrian grünberg', 'rasu ranjith', 'rene liu', 'jonás trueba', 'a. v. meiyappan a. t. krishnaswamy', 'nicolas roeg', 'terje toftenes', 'hearst entertainment', 'ivan andrew payawal', 'johnny perkins', 'shiboprasad mukherjee and nandita roy', 'kayli fortun', 'rohena gera', 'takashi yamazaki, ryuichi yagi, makoto hanafusa', 'ted balaker', 'hamisha daryani ahuja', 'hiroyuki seshita', 'dave needham', 'rana ranbir', 'adam leon', 'danishka esterhazy', 'abel dare', 'lee eung-bok', 'brian knappenberger', 'robert cuffley', 'javier ambrossi, javier calvo', 'jody lambert', 'rich mallery', 'adam smith', 'melissa talbot, mike jeffers', 'bruce brown', 'michel fizzano, lida huver', 'daniel millican', 'robb dipple', 'sam wood, william wyler', 'juliet may', 'puneet sira', 'tom whitter', 'florian schott', 'robert rhodin', 'ahmed adel aqle', 'noor imran mithu', 'bassam kurdali', 'heidi brandenburg, mathew orzel', 'harald zwart', 'eros puglielli', 'jonathan kasdan', 'deane taylor', 'scott derrickson', 'kunihiko yuyama, motonori sakakibara', 'rushmore denooyer', 'dennis ricks', 'tod browning', 'john carchietta', 'troy nixey', 'charlie haskell, koichi sakamoto', 'chandoo mondeti', 'harshavardhan kulkarni', 'jean de segonzac', 'james l. brooks', 'paul solet, rick benattar', 'garrett batty', 'robert moore', 'arjun jandyala', 'billy simpson', 'christian baumeister', 'benny safdie, josh safdie', 'tom wright', 'joel gallen', 'aleksandra szczepanowska', 'chris eigeman', 'raaghav dar', 'mastan alibhai burmawalla, abbas alibhai burmawalla', 'paul johansson', 'xavier koller', 'gerry blaksley', 'rock baijnauth', 'pete gleeson', 'steven fine', 'gordon chan', 'john h. auer', 'james bruce', 'dan rickard', 'khalid mohamed', 'jon knautz', 'sam \"blitz\" bazawule', 'nancy florence savard', 'alyssa rallo bennett, tyler walker', 'adrian langley', 'ben stiller', 'richard vernon', 'peter ferriero', 'maria sadowska', 'shawn crahan', 'adam b. stein, zach lipovsky', 'pearl gluck', 'charles vidor', 'thomas clay', 'don mancini', 'lara saba', 'dewey allen', 'sean byrne', 'lee chung-hyun', 'davis doi', 'ryon baxter', 'marco bazzi', 'carlo mazzacurati', 'yandy laurens', 'richard friedenberg', 'jacob joice, steve ball', 'antoine de montremy', 'charles garrad', 'lisa cholodenko', 'jermaine smith', 'john maclean', 'avtar singh', 'rucha humnabadkar', 'amman abbasi', 'anurin nwunembom, musing derrick', 'christian e. christiansen', 'ra.vijaya murugan', 'mukesh vohra', 'john david coles', 'burt kennedy', 'barry alexander brown', 'rodolphe guenoden', 'caryn waechter', 'louis gonzales', 'bob balaban', 'ernst lubitsc', 'woo-seok yang', 'rand marsh', 'chick vennera, gary graver', 'grayson stroud', 'erik skjoldbjærg', 'shalini balasundaram', 'robert l butler jr', 'jack heller', 'daniel gilboy', 'tianyu zhao', 'felix herngren, måns herngren', 'kiran narayanan', 'shana betz', 'andrew damon henriques', 'david hewlett', 'lou adler', 'sakhil raveendran', 'peter collinson', 'sally aitken', 'ted braun', 'aigars grauba', 'michael barnett', 'corey yuen, patrick leung', 'chusy', 'patrick wells', 'yang lei', 'james redford', 'don mcglynn', 'randy kent', 'pamela romanowsky', 'farhan alam', 'laetitia colombani', 'peter baldwin', 'ties schenk', 'kate mulleavy, laura mulleavy', 'arthur ripley', 'barrett esposito', 'phil austin, peter bergman, phil proctor', 'rajiv chilaka, owll mina', 'dewey nicks', 'jonathan chase cook', 'j. horton', 'ange basterga, nicolas lopez', 'dan holmes', 'kranti redkar', 'aphton corbin', 'gene kelly', 'bruce seth green', 'banner venu films', 'drew pearce', 'alexandra swarens', 'chris reading', 'robert stromberg', 'richard benjamin', 'robert j. samuels, james lew', 'michael thoenes, andrea thoenes', 'souvik mitra', 'brian targett', 'mark joffe', 'mathieu kassovitz', 'michael h royal', 'johan nijenhuis', 'ben finney', 'sandeep chatterjee', 'wei-hao cheng', 'adisorn tresirikasem', 'corey yuen', 'neil fearnly', 'bhimrao mude', 'bilal lashari', 'izu ojukwu', 'martin brest', 'mfanelo ngoma', 'alex pires', 'ryan brennan', 'sharon maguire', 'andrew tan, michael goguen', 'bahij hojeij', 'anurin nwunembom', 'jordan galland', 'avani dias', 'singeetam srinivasa rao', 'kevin tenney', 'david moreton', 'bill oliver', 'tuvshinbold naidandorj', 'trent haaga', 'justin roberts', 'oren peli', 'bette gordon', 'matthew hope', 'peter farrelly, will graham, steve carr, griffin dunne, steve brill, james duffy, jonathan van tulleken, elizabeth banks, patrik forsberg, brett ratner, rusty cundieff, james gunn', 'irving rapper', 'amanda sthers', 'guillermo arriaga', 'william wyler, herbert ross', 'sohail khan', 'mark lo', 'susanna bier', 'abby epstein', 'sandeep reddy vanga', 'john rawlins', 'simranjit singh hundal', 'diego kaplan', 'yılmaz erdoğan, ömer faruk sorak', 'matthew cassani', 'roman atwood, ben pluimer', 'joseph elmore', 'anders refn', 'john boorman', 'shengwei zhou', 'rob margolies', 'hanung bramantyo, pandu adjisurya', 'rana eid', 'doron paz, yoav paz', 'john moffit', 'sidharth malhotra', 'otto brower, christy cabanne', 'kenneth g. crane', 'bruce gower', 'cory edwards', 'frank j. ishizaki', 'michele martin', 'josh mendoza', 'david peoples', 'constance marks', 'selçuk aydemir, birkan pusa', 'jean-pierre devillers', 'laura mañá', 'v.k. naik', 'sam pillsbury', 'john curran', 'luciano de lima', 'kaila york', 'leon gast, jerry garcia', 'shravan kumar', 'carlos saura', 'muraliappas', 'bj mcdonnell', 'he xiaofeng', 'brian baugh', 'melinda janko', 'jim goddard', 'alex law', 'hannes rossacher', 'alison maclean', 'roy boulting', 'robert stevens', 'john brenkus', 'billy morrissette', 'john pozer', 'paul munger', 'cole ruybalid', 'stephen kadwell', 'michael lehmann', 'brian aabech, robert kiviat', 'darlene naponse', 'russell holt', 'fin manjoo', 'moritz rechenberg', 'toby dye', 'benny chan', '20th century fox', 'tru', 'raghu samarth', 'sonny atkins, p.h. bergeron, brian hamilton, matt purdy, dan slater', 'umer adil', 'praveen nischol', 'vijay kumar', 'kyoko miyake', 'eric meza', 'bhaskar', 'pablo olmos arrayales', 'phillip gilbert', 'george schaefer', 'andrew nackman', 'clare beavan', 'matthew goddard', 'ikechukwu onyeka, victor uchegbulem', 'appu n. bhattathiri', 'maris curran', 'mvd', 'aruna raje', 'frazer bailey', 'brian m. conley, nathan ives', 'russ parr', 'ralph staub', 'funke akindele', 'ham tran', 'zep', 'jacek koprowicz', 'hal ashby', 'drew casson', 'chinaza onuzo', 'pavan kumar rajamahendravarapu', \"taylor ri'chard\", 'kerry conran', 'varun narvekar', 'justin cartwright', 'douglas mcgrath', 'chitralaya gopu', 'michael lindsay-hogg', 'etta devine, gabriel diani', 'brett morgen', 'song chang-su', 'damion damaske', 'yasir al yasiri', 'alexander raye pimentel', 'tyler james', 'volker weicker', 'tommy swerdlow', 'holly sloan', 'kiran merchant', 'sinan akkuş', 'fredrick munk', 'laura alvea, josé ortuño', 'karan bali', 'ajay devgn', 'alex gregory, peter huyck', 'jim hemphill', 'michal otlowski', 'kevin', 'mark earl burman, mike cooley', 'jules dassin', 'hybrid llc', 'hadrah daeng ratu', 'harish vyas', 'gonzalo bendala', 'bryan lewis', 'álvaro delgado-aparicio l.', 'saran k advaithan', 'guru ramesh', 'thurop van orman, john rice', 'yeo siew hua', 'lee kae-byeok', 'arthur h. nadel', 'laurent king', 'vitor brandt', 'stuart zicherman', 'ludovico di martino', 'alain desrochers', 'laís bodanzky', 'tom barton-humphreys', 'bill eagles', 'davide marengo', 'john cherry', 'daniel lusko', 'felix van groeningen', 'esham & haseen khan', 'glenn ficarra, john requa', 'michael schoemann', 'zach lamplugh', 'jelle de jonge', 'krish', 'sijo rocky', 'director alex winter goes inside the biggest global corruption scandal in history that was uncovered by hundreds of journalists, working in secret and at enormous risk.', 'thea sharrock', 'liu jie', 'rob mckittrick', 'ritesh rana', 'alethea jones', 'lionello de felice, irving rapper', 'hassan abdulsalam', 'alina teodorescu', 'cameron reilly', 'janet kern', 'ben c. lucas', 'eddie rosas', 'paul krüger, anél stolp', 'param gill', 'ant timpson', 'selvendran', 'randall lobb', 'jevons au, zune kwok, chow kwun-wai, ng ka-leung, wong fei-pang', 'marc vigil', 'giovanni jennings', 'arul s', 'wolfgang reitherman, hamilton luske, clyde geronimi', 'sabal singh shekawat', 'timothy hutton', 'marco schnabel', 'ike', 'venky kudumula', 'jeroen jaspaert, daniel snaddon', 'anne le ny, luc béraud', 'ibai abad', 'michael whyte', 'ian toyton', 'phillyflyboy, bla g.', 'jacob bellamy', 'helen langridge', 'selçuk metin', 'manish vatsalya', 'sampath kandala', 'elan bogarín & jonathan bogarín', 'robbie moffat', 'benjamin duffield', 'saurabh shrivastava', 'denis hennelly', 'pompi ghosh mukherjee', 'hiroshi aoyama, kazumi fukushima, jim stenstrum', 'rami hachache', 'chayanop boonprakob', 'shane fairbanks', 'lydia tenaglia', 'john adams', 'chris burkard', 'shabbir mallick', 'kell kearns', 'mitchell klebanoff, kelly sandefur', 'jo bareun', 'tony h. cadwell', 'marco pontecorvo', 'rajesh mohanan nair', 'punch bharat', 'shashank khaitan, raj mehta, neeraj ghaywan, kayoze irani', 'mark a. altman', 'louis leterrier', 'radhika jayanthi', 'jon avnet', 'john hoffman, janet tobias', 'poluru krishna', 'ekachai uekrongtham', 'jon carey, adam darke', 'andrew lau wai-keung, alan mak', 'jep barcelona', 'david tryhorn, ben nicholas', 'jon sherman', 'neil abramson', 'tony craig, bobs gannaway', 'dan partland', 'roy knyrim', 'weica wang', 'claude barras', 'darryl anka', 'kapil batra', 'adam nimoy', 'ryan p. bartley', 'femi oyeniran, kalvadour peterson', 'matthew warchus', 'alice filippi', 'lee seung-won', 'mark knioght', 'yudai yamaguchi', \"dave o'leske\", 'william b. clemens, john langan, william clemens', 'david wain', 'aleksa gajic, nebojsa andric, stevan djordjevic', 'meenu gaur, farjad nabi', 'julia reagan', 'olivier afonso', 'deepti naval', 'kavi raz', 'tom barbor-might', 'buchi babu sana', 'savage holland', 'robert duvall', 'jerry hibbert', 'adam salky', 'b santosh', 'benjamin ree', 'javier setó', 'hugh hudson', 'scott walker', 'gary sing', 'mohammed hussain', 'marwan nabil', 'johan brisinger', 'roy campanella ii', 'robert ginty', 'dominga sotomayor', 'nicolás onetti, luciano onetti', 'k.c. bokadia', 'sabarinathan muthupandian', \"david 'tosh' gitonga, michael jones\", 'juraj herz', 'douglas horn', 'vanessa parise', 'catherine hardwicke', 'sharon mor', 'hikari', 'nicolas vanier', 'claudio lattanzi', 'james erskine', 'kerry mondragon', 'chi fat chan', 's.a. zaidi', 'philip koch', 'john adams, toby poser', 'lise i. osvoll', 'mike cuff, scott windhauser', 'pablo ferro', 'lisa klein, doug blush', 'jonathan sutak', 'stefan brogren', 'piers haggard', 'mick grogan', 'nikhil nagesh bhat', 'dan fraga, william lau', 'ross kauffman', 'mickey liddell', 'valentina esposito', 'sacha wolff', 'maria lafi', 'ana kokkinos', \"frédérik d'amours\", 'david l. walker', 'edna luise biesold, sarah-violet bliss, bruce thierry cheung, gabrielle demeestere, alexis gambis, brooke goldfinch, shripriya mahesh, pamela romanowsky, tine thomasen, shruti ganguly, virginia urreiztieta, omar zúñiga hidalgo', 'akshay roy', 'david lowell rich', 'elías león', 'michael barrett', 'sanjay kumar bharti', 'jonathan clay', 'rogelio a. gonzález', 'adam bhala lough', 'eugene jarecki', 'shilpi dasgupta', 'steven yamamoto', 'krishnareddy gangadhasuu', 'nicholas winter', 'howard e. baker, john fox, kyung ho lee', 'babak anvari', 'isaac florentine, scott adkins', 'anjan dutta', 'na hong-jin', 'ameir white', 'jud taylor', 'richard bell', 'marc meyers', 'christopher ray', 'alison mcdonald', 'jessica mendez siqeiros', 'michael perlin', 'david oelhoffen', 'walt disney, ub iwerks', 'jeremiah mclamb', 'frank marshall, rob minkoff', 'charlie david', 'bud luckey', 'mark taylor', 'shyamal chaulia, asit mohapatra', 'chris eyre', 'harry thomason, nickolas perry', 'aaron j. christopher', 'michael j.f. scott', 'miguel conde', 'alex timbers', 'andrew gregg', 'sudhin vamattam', 'alberto arnaut estrada', 'krish jagarlamudi', 'shinji aramaki, masaru matsumoto', 'daniel bernal', 'evelyn maude purcell', 'miriam chandy menacherry', 'cole claassen', 'fletcher markle', 'roy del ruth, hal roach', 'mila aung-thwin, van royko', 'michael powell', 'bharat nalluri', 'david jung', 'natty zavitz', 'nick cheung', 'peter care', 'patricia ferreira', 'fernando moro', 'david soren', 'uzodinma okpechi', 'josé ramón larraz', 'jonathan w.c. mills', 'deseria denelle', 'darren grant', 'susan montford', 'dhiraj kumar', 'dana doron, uriel sinai', 'taki kato', 'daniel nunez, lazaro nunez', \"brian o'malley\", 'catherine morshead', 'mitchell lichtenstein', 'josh hodgins, laura megan stahl', 'raul inglis', 'kenya moore', 'rodolfo carnevale', 'jung ji-woo', 'rachakonda vidyasagar', 'bob spiers', 'niels arden oplev', 'elliot mccaffrey', 'brad helmink, john rauschelbach', 'brian jun', 'justin baird', 'alessandro derviso', 'perry lang', 'noël wells', 'saurav palodhi', 'robin aubert', 'dolapo adeleke', 'stephen grimaldi', 'derek lee, clif prowse', 'roy allen smith', 'tonino valerii', 'adamo p. cultraro', 'jeffrey bloom', 'j.c. falcón', 'adam ninyo', 'rodrigo aragão', 'jim podhoretz', 'lucas santa ana', 'kayleb lee', 'mel stuart', 'arpan sarkar, shyamal chaulia', 'patrick osborne', 'hartbreak films,  inc.', 'john francis musial, joshue vietze', 'marina zenovich', 'raman kumar', 'dustin lance black', 'aaron burns', 'bueno', 'rick morales', 'everardo gout', 'edward bennett', 'robert mulligan', 'peter galison', 'nishil sheth', 'nathan grubbs', 'allan northern', 'giacomo lesina', 'ron scalpello', 'jennifer baichwal, nicholas de pencier', 'ajithkumar', 'alex burunova', 'paul urkijo alijo', 'joel potrykus', 'coke horner, desmond weems', 'james seale', 'david campion', 'peter ho-sun chan', 'joan grossman, paul rosdy', 'akiyuki shinbo, nobuyuki takeuchi', 'kevin ko, peter tsi', 'mohammed alhmly', 'kyle rideout', 'neil triffett', 'felix o. adlon', 'donna mcrae, michael vale', 'jon greenhalgh', 'jamall rashaud mcmillan', 'clytie jessop', 'joshy thomas pallickal', 'oliver kienle', 'ryuichi tsunoda', 'michael rossi', 'rob epstein, jeffrey friedman', 'john matthews, richard heap', 'benjamin turner', 'higuchinsky', 'andrew zenn, j.d. butler', 'ziga virc', 'charles mcdougall', 'shawn cauthen', 'dillon cameron', 'devin adair', 'peter lord, jeff newitt', 'erik matti', 'dan bush', 'sanjiv jaiswal', 'simon verhoeven', 'nikolay khomeriki', 'gary howsam, mike smith, john paul tremblay, robb wells', 'claudio noce', 'hank mccune', 'umesh ghadge', 'nicolas brossette', 'patricio valladares', 'chineze anyaene', 'matthew bourne', 'randy mack', 'aamir khan', 'maïwenn', 'mike vogel', 'tristram powell', 'vikas bahl, nitesh tiwari', 'dominic brunt', 'jonathan butterell', 'jehane noujaim', 'mark polonia, john polonia', 'archie hekagery', 'prince joy', 'ali bin matar, ibrahim bin mohamed', 'scott sikma', 'balaraju m', 'jean-françois blais', 'lance mungia', 'ben mccain', 'phil rosan, norman z. mcleod', 'juraj šajmovič', 'jay silverman', 'michelle bello', 'nirit peled', 'lucy cohen', 'mike rohl', 'daniel sánchez arévalo', 'don armstrong', 'thomas sorriaux', 'milla harrison-hansley, alicky sussman', 'mathivanan sakthivel', 'peter miller, carlos sandoval', 'jane preston', 'prachya pinkaew', 'mitch gould', 'francesca gregorini', 'gregg araki', 'andrés couturier', 'isabel russinova', 'royale watkins, rich schlansker', 'natalia valdebenito', 'paula hernández', 'frank h. woodward', 'albert sharpe', 'dan karlok', 'terry mcmahon', 'jessica yu', 'kimberly seilhamer', 'marie clements', 'dewi humphries', 'alan rudolph', 'rudy soedjarwo', 'ben gregor', 'pieter-jan de pue', 'norman krasna', 'ruud van hemert', 'john walsh', 'andy knode', 'tekin girgin', 'guilherme fontes', 'lori kaye', 'r. balki', 'wash westmoreland', 'dre ryan', 'christopher murray', 'bruce w. smith', 'stephen donnelly, olly reid, jun falkenstein', 'jack zagha kababie', 'tamas yvan topolanszky', 'michael mcdonald', 'd.j. viola, bert i. gordon', 'jennifer zoe taylor', 'peter daskaloff', 'julia dyer', 'kevin lima, chris buck', 'matt bruneau-richardson', 'susan rodgers', 'brian averill', 'jeremy coon, tim skousen', 'sergey bondarchuk', 'anne fletcher', 'les blair', 'amir bar-lev', 'charles dance', 'nico wilcox cano', 'jeff kennedy, dean teaster', 'ravikanth perepu', 'christoph würzburger', 'samuel marko', 'robert harling', 'ami canaan mann', 'moxie peng', 'jason goldwatch', 'mirtha vega', 'prakash panchal', 'takuma sato', 'lyju george', 'callie khouri', 'thomas brecheisen', 'nick rizzini', 'andrew jenks', 'rae red', \"frédéric d'amours\", 'rakesh ranjan kumar', 'carl tibbetts', 'elvira lind', 'william sachs', 'martin spottl', 'meer', 'byun hyuk', 'mohan raja', 'pon kumaran', 'sam cullman', 'roger russell', 'katherine fairfax wright', 'xavier maingon, marc-antoine hélard', 'senthilnathan', 'george montgomery', 'saleel kulkarni', 'anjan das', 'sandi tan', 'john murray, emer reynolds', 'marco pollini', 'robert eagar', 'eric schwartz', 'ariel boles', 'bejoy nambiar, priyadarshan, karthik narain, vasanth sai, karthik subbaraj, arvind swamy, rathindran r prasad, sarjun, gautham vasudev menon', 'sudha kongara, vignesh shivan, gautham vasudev menon, vetri maaran', 'mike ott', 'dominique abel fiona gordon bruno romy', 'paco cabezas', 'daniel imasuen', 'philip barantini', 'natalie hewit', 'wagner de assis', 'a. salaam', 'christian rousseau', 'michael cumming', 'christina faith', 'gail willumsen', 'mark waring', 'nancy criss', 'andy devonshire', 'avinash walzade', 'madonne ashwin', 'johnny kevorkian', 'bailey donovan, molly donovan', 'neil diamond', 'guntur soeharjanto', 'oliver robins', 'michael winner', 'james lee', 'robert krantz, j.j. englert', 'emil ben-shimon', 'quek shio-chuan', 'john-paul davidson, stephen warbeck', 'gordon willis', 'dominic wade', 'thegigglebellies', 'jeffrey reiner', 'c.v. kumar', 'joe robert cole', 'arthur springer', 'kanika batra', 'olivier assoua', 'shikha makan', 'flavia casà', 'david veloz', 'c.j. julianus', 'james kondelik, jon kondelik', 'carlos morett', 'brant sersen', 'kacho lópez mari', 'pedro amorim', 'max amini', 'bapu', 'alexis sweet cahill', 'mir-jean bou chaaya', 'adrián garcía bogliano', 'edward sutherland, a. edward sutherland', 'sunny lau', 'mic rodgers', 'mark knigjht', 'jatla siddartha', 'hamilton luske, robert stevenson', 'aqsa altaf', 'andrew oh', 'ratnakar peravali', 'michel tikhomiroff', 'norris wong', 'aaron cadieux, manny famolare', 'katherine dieckmann', 'joe miale', 'ryan barton-grimley', 'ka-wai kam', 'joaquín mazón', 'harry baweja', 'andrew green', 'pudovkin', 'james lemmo', 'mike costanza', 'samuel d. pollard', 'gauri shinde', 'dexter fletcher', 'todd kauffman, mark thornton', 'vishnu narayanan', 'ignacio lópez escrivá', 'michael linn', 'kongkiat khomsiri', 'austin nwaolie', 'frank capra, anatole litvak', 'park in-je', 'adrian weiss', 'srikanth nahatha', 'venkatesh maha', 'aabid bhushan', 'david lee', 'ben browder', 'luca boni, marco ristori', 'susannah heath-eves', 'jamison m. locascio', 'arun chidambaram', 'dani de la torre', 'antonio bellido', 'rehmat rayatt, leva kwestany', 'raj r', 'kyle patrick alvarez', 'roger gual', 'pasha patriki', 'mel brooks', 'sean king', 'tyeisha downer', 'warren ryan', 'ulrike kofler', 'gareth edwards', 'gary stretch', 'fabien beziat, hugues nancy', 'jimmy hayward, steve martino', 'charles jarrott', 'sooni taraporevala', 'vic armstrong', 'jordan ross', 'corbin bernsen', 'luis ara, ignacio jaunsolo', 'chanon yingyong, phuwanit pholdee', 'oscar micheaux, spencer williams, richard e. norman, richard maurice', 'damon gameau', 'jack perez', 'sameer sharma', 'erica milsom', 'lawrence fowler', 'pawan k shrivastava', 'john alexander', 'isaac joel', 'andrea thornton, richard topping', 'michal jarzabek', 'kevin pollak', 'paul maslansky', 'bruce pittman', 'young jun lee', 'kishore tirumala', 'savannah gisleson', 'morgan ingari', 'selvamani selvaraj', 'renzo vasquez', 'le van kiet', 'thanakorn pongsuwan', 'eugenio derbez', 'viju mane', 'mark benjamin, marc levin', 'barry gonzalez', 'anindya bikash dutta', 'josh z. weinstein, joshua z. weinstein', 'farhad safinia', 'david mccracken', 'adam sjöberg', 'lee friedlander', 'mohammadali bashe ahangar', 'cassandra bell', 'matthew currie holmes', 'padraig reynolds', 'manuel alcalá', 'hani al-shaibani', 'chang-min lee', 'justin hardy', 'felix o. adlon, percy adlon', 'pierre unia', 'carl hindmarch', 'mamat khalid', 'hugo macgregor', 'jaysingh', 'del tenney', 'vincente minnelli, charles walters', 'paul fleming', 'mark landre gould', 'eric darnell, tom mcgrath', 'colin strause, greg strause', 'john t. coyle', 'marya cohn', 'robin budd', 'anant balani', 'travis travieso', 'iris shim', 'brian nowak', 'travis stevens', 'michael mason', 'nickolas rossi', 'devashish makhija', 'clay kaytis', 'alain brunard', 'elizabeth wood', 'rohit mittal', 'steven quale', 'laurent cantet', 'fulvio sestito', 'cheta chukwu', 'deepak', 'arto halonen', 'paul cox', 'chad ferrin', 'harald sicheritz', 'iqbal hans', 'daniel wilner', 'dan kwan, daniel scheinert', 'art stevens, ted berman, richard rich', 'nigel simpkiss', 'luca palanca', 'sunao katabuchi', 'ashish r. shukla', 'carlos pérez osorio', 'lu yang', 'warren beatty', 'paul raschid', 'john ridley', 'larry humphrey', 'gagan puri', 'sergio mimica-gezzan', 'cameron ford, charlie turnbull', 'b. harrison smith', 'chun wong', 'micah bickham, galley molina', 'paul gross', 'alex parkinson, richard da costa', 'ben stassen', 'george jackson, doug mchenry', 'tharun mohan', 'jay franklyn jituboh', 'katie mitchell', 'wilfred jackson, hamilton luske, clyde geronimi', 'inna evlannikova', 'javier fesser', 'r. panneerselvam', 'bob rafelson', 'r. rahesh', 'brent miller jr', 'marla m. ancheta', 'svetlana cvetko', 'vivek sharma', 'emmett loverde', 'richard brandes', 'dean craig', 'timothy björklund', 'riccardo milani', 'howie dewin', 'coerte voorhees, john voorhees', 'richard griffin', 'jee-woon kim', 'brad martin', 'eduardo casanova', 'sandeep vanga', 'chandra liow', 'susi ganesan', 'sophia nahli allison', 'john hunter', 'pamela moriarty', 'sabina fedeli, anna migotto', 'sakon tiacharoen', 'brandon camp', 'alexey tsitsilin', 'edward m. erdelac', 'marty krzywonos', 'anuranjan premji', 'izidore k. musallam', 'ben steele', 'michael oblowitz', 'frederick taylor', 'sue ding', 'jackie english', 'mj dixon', 'victor marin', 'jonathan talbert', 'lu chuan', 'p. neelakantan', 'joel david moore', 'amel j. figueroa', 'usp studios, bob the train', 'amarpreet g s chabbra', 'tom morash', 'brett jubinville, laurel dalgleish', 'angel kristi williams', 'dana celeste robinson', 'roberta grossman, sophie sartain', 'monty tiwa', 'xavier durringer', 'hamad alsarraf', 'prince jagrit kiriti', 'bernie rao', 'mark jean', 'takashi miike, takashi hirajô', 'chuck russell', 'ben patterson', 'paco arango', 'owen benjamin', 'yann gozlan', 'kristine peterson', 'donald lawrence flaherty', 'carl hunter', 'mike diva, akiva schaffer', 'nikhil mahajan', 'andy seestedt', 'martin lawrence', 'abrid shine', 'liz tuccillo', 'brandon rhiness', 'jonathan silvers', 'andrew lyman-clarke', 'k. ramanlal', 'adam egypt mortimer', 'heitor dhalia', 'joanne hock', 'andrew gunn', \"kevin o'neill\", 'anjali nayar', 'steve kloves', 'justin galindo', 'tan bing', 'julien christian lutz', 'alexander kaminer', 'scott haze', 'sam de jong', 'christian bisceglia, ascanio malgarini', 'rachel tucker, nick lawrence', 'brad michael elmore', 'félix koch', 'david skato', 'ajit p. bhairavkar', 'tharun bhascker', 'michael gallagher', 'john borowski', 'gregg barson', 'marco dutra', 'george cukor', 'lamont johnson', 'eric gorlow', 'sohail tatari', 'tathagata mukherjee', 'ken selden', 'nancy schwartzman', 'jake jalbert', 'tatsushi omori', 'mark lafferty', 'dado c. lumibao', 'morgan j. freeman', 'michał tylka', 'mike white', 'david del rio', 'corey martin craig', 'jaime escallon-buraglia', 'roberto de feo, paolo strippoli', 'aurelia graves', 'steve gerbson', 'armond cohen', 'drew heriot', 'max mcguire', 'lisa addario, joe syracuse', 'anthony melton, ben franklin', 'dick rickard', 'jay lyons', 'claire andrew', 'biyi bandele', 'carlos sedes', 'joel coen, ethan coen', 'ticoy rodriguez', 'vladimir chubrikov', 'sol choi', 'marc f. voizard', 'renata terra', 'john mitchell, jeremy kipp walker', 'jean-marie pallardy', 'andrew thomas hunt', 'stephen kunken, jack lewars', 'predrag antonijevic', 'elizabeth chai vasarhelyi', 'david mahmoudieh', 'teddy chan', 'j.r. sawyers', 'chris weatherhead', 'rachel ward', 'emeka mbadiwe', 'edward sloman', 'john matthews', 'antonio margheriti', 'd.j. viola, harold p. warren', 'gary michael schultz', 'keisuke yoshida', 'john michael williams', 'kristin peterson kaszubowski', 'kimberley t. zulkowski', 'jacques deray', 'nic champeaux', 'maha venkatesh', 'hiroshi fukutomi', 'wei tung', 'gabriel ochoa', 'morgan murphy', 'jarrad paul, andrew mogel', 'bill roberts, jack kinney, ham luske', 'jakob lass', 'edward bernds', 'rasa senon', 'luca canale brucculeri', 'chris mullins', 'ashley avis', 'fouad al shatti', 'haylar garcia', 'llewellyn m. smith', 'michael junghanns', 'bradley battersby', 'adam wood', 'neil goss', 'massy tadjedin', 'john l. potash', 'bayer mack', 'trudie styler', 'ben younger', 'sergei bodrov', 'nick marck', 'ellen seidler, megan siler', 'kanak mishra', 'k. s. manikandan', 'micah troy', 'mike edwards', 'alberto gatto', 'caspar seale jones', 'michelle esrick', 'shailendra singh', 'cosimo alemà', 'baeble media', 'brett weiner', 'richard rotter', 'kiran rao', 'george fitzmaurice', 'francis whately', 'ed bye', 'michael a. bloom, chuck vinson', 'jj fredrick', 'hayao miyazaki', 'adam sedlák', 'narra sivanagu', 'david butler, sidney lanfield', 'dean cundey', 'p.t. kunju muhammad', 'daniel gordon', 'albert hughes, allen hughes', 'alejandro de grazia, juan stadler', 'maciej dejczer', 'peter schnall', 'juan carlos rulfo', 'roberto girault facha', 'taliaferro j. alexander', 'alfonso arau', 'felicia rivers', 'sharrath sandith', 'joachim fest, christian herrendoerfer', 'edward f. finney', 'dante j. pugliese', 'raj amit kumar', 'william karel', 'matthias mayr', 'jon east', 'christopher johnson', 'teo konuralp', 'rizal halim', 'don argott, sheena m. joyce', 'g. nageswara reddy', 'david d.martin', 'safdar rahman', 'simon pike', \"mark o'connor\", 'jeff leroy', 'jack bennett', 'michihito fujii', 'phil dornfeld', 'marina seresesky', 'jason lupish', 'ahmed yousry, hazem fouda', 'lou antonio', 'trent cooper', 'irwin winkler', 'adam dufour, jacob dufour', 'yuval hadadi', 'charlie kaufman', 'blayne weaver', 'timo tjahjanto, kimo stamboel', 'jean claude le marre', 'terrie samundra', 'ice-t', 'eric idle, aubrey powell', 'johnson cheng', 'remo dsouza', 'siva', 'michael shaun patterson', 'prajwal panchangam', 'billy senese', 'scott rutherford, ben peyser', 'suresh kaasi, surendra, ashok', 'florian gallenberger', 'jonathan mumm', 'anthony caronna, alexander smith', 'clio barnard', 'dennis iliadis', 'richard miron', 'allison liddi-brown', 'kathi selvakumar', 'terry hughes, ian macnaughton', 'neko sparks', 'derek wayne johnson', 'jack topalian', 'joey curtis', 'krishnan jayaraj', 'kevin padden', 'tejas prabha vijay deoskar', 'leslye davis, catrin einhorn', 'tom fassaert', 'emmanuel mageme', 'stéphane rybojad', 'fred grivois', 'raoul martinez, joshua van praag', 'alexandra zelman-doring', 'martin weisz', 'anthony hickox', 'daniel boyd', 'arjun', 'aleksander zobec', \"matt d'elia\", 'manuel sicilia, raul garcia', 'ally pankiw', 'dylan howitt', 'paco aguilar', 'lygia beatriz, jean chambre', 'franck nataf', 'ramin fahrenheit', 'tetsuo yajima', 'vasily chiginskiy', 'zorba grashin', 'paul krizan', 'amaan khan', 'kate melville', 'ryan ross', 'elan dassani, rajeev dassani', 'allison argo', 'ar murugadoss', 'callie khouri, jesse v. johnson', 'k.s. ravikumar', 'peter winther', 'grace wethor', 'colleen bradford krantz', 'keith malloy', 'oleg stepchenko', 'james hunter', 'thomas grane', 'david blair', 'louis meunier', 'i. drakos', 'tadashi nakamura', 'jack donohue', 'anna mastro', 'saket behl', 'bassam tariq', 'brian fee', 'josiah burdick', 'raz degan', 'yoo byung-jae', 'm. rajesh', 'hiro murai', 'karen lam', 'richard kahn, richard c. kahn, bill karn', 'carroll ballard', 'kabir bhatia', 'kieron j. walsh', 'brian caunter', 'david s. jackson', 'jonathan a. rosenbaum', 'ashu trikha jim mulligan', 'susan walter', 'unjoo moon', 'charles b. griffith', 'ian macnaughton', 'sergio barrejón', 'sam miller', 'nidhi sharma', 'eugene ashe', 'giuseppe di paola', 't.akash', 'norry niven', 'bao nhan, namcito', 'haile gerima', 'kiki goshay, jacqueline monetta', 'michael kampa', 'christopher forbes', 'sam voutas', 'shanavas k. bavakutty', 'stephan rick', 'ján sabol', 'david bolt', 'daniel petri', 'michael glover', 'juven cavazos', 'dasari nageswara rao', 'bärbel jacks', 'stephen norrington', 'bob kline', 'jorge ameer', 'khaled youssef', 'ian mccrudden', 'dennis potter', 'srinivasa raju', 'richard roxburgh', 'dan milner', 'oleg malamuzh', 'afonso poyart', 'jean-pierre dardenne, luc dardenne', 'philip yung', 'jane prowse', 'larry yang', \"stanley menino d'costa\", 'marek piwowski', 'alex richanbach', 'magnolia, magnolia', 'akay mason, abosi ogba', 'ash brannon, chris buck', 'jeffrey bassetti', 'aziz ansari', 'daniel joseph', 'beverly davis', 'galt neiderhoffer', 'yuen wo-ping', 'r. thiagarajan', 'giulio petroni', 'elliott nugent', 'abhijeet deshpande', 'antwan smith', 'payal sethi', 'mickey fonseca', 'dennis dimster', 'thierry fessard, yohann thiriet', 'mike ancas', 'al profit', 'udai singh pawar', 'gitanjali rao', 'zatella beatty', 'esteban sapir', 'n. paul kenworthy, ralph wright', 'john hoffman, nanfu wang', 'weiping kaigen', \"ray o'neill\", 'qlf', 'thalapathy prabhu', 'james mather, steve saint leger', 'kevan peterson', 'zhang yimou', 'advait chandan', 'luis lopez, clay tweel', 'henry kynge', 'mark a.z. dippé', 'ashok thiagarajan', \"peter o'brian\", 'luke snellin', 'todd s. yellin', 'derek brown', 'samruddhi porey', 'fabrice du welz', 'bobs gannaway', 'dustin jacobs', 'doug benson', 'jamal (jay) sommerville aka the god i.e.', 'nisheeta keni', 'justin oakey', 'pulin mitra', 'jon binkowski', 'andrew c. erin', 'sam firstenberg', 'jack eve', 'izhak hanooka', 'nathanael wiseman, robert osman', 'kasper collin', 'avinash pendurti', 'keith fulton, louis pepe', 'william k. howard', 'eytan rockaway', 'james manera', 'julie robinson', 'rob mccallum', 'michel poulette', 'uday kumar muntha', 'michael dwyer, kaitlin mclaughlin', 'jason attar', 'kurt kuenne', 'ben shelton', 'stephen hopkins', 'piti jaturaphat', 'clovis cornillac', 'anna matison', 'chandran narikode', 'mark helfrich', 'mckenna harris', 'james neyman', 'daniel watkins', 'david moragas', 'saravana rajendran', 'hong-seon kim', 'stephen burke', 'katsuhiko nishijima, yuuji moriyama', 'dylan reynolds', 'david benullo', 'filip renc', 'yusuf pirhasan', 'jordana spiro', 'vittorio cottafavi', 'raghava lawrence', 'anthony abrams, adam larson broder', 'shaun mir', 'ruben preuss', 'brian pimental', 'tommy faircloth', 'shefali bhushan', 'libor adam, hana hendrychová', 'pradeep bhattarai', 'hayden guppy', 'denis kryuchkov', 'janette clucas', 'ram mukherjee', 'vince gilligan', 'jessica janos', 'gurvinder singh', 'ramesh kadumula', 'denis do', 'don bluth, gary goldman, dan kuenster', 'roman white', 'rob walker', 'ricardo maldonado', 'lana wilson', 'babak payami', 'conrad helten, ezekiel norton, michael goguen', 'shady hanna', 'ana valine', 'bigflo & oli, jérémie levypon', 'amarjit virdi', 'phil roman', 'jeremy larter', 'carl gurevich', 'vasanthabalan', 'anand ranga', 'manish tiwary', 'sabapathy dekshinamurthy', 'alan shapiro', 'jaret martino', 'amshan kumar', 'ellen brown', 'jason wise', 'anita sharma', 'chinedu \"mr. chin\" ernesto, puncho villashio', 'amir lashkari', 'fei xing', 'robert m. young', 'liz plonka', 'david galán galindo', 'gualtiero serafini', 'adam alleca', 'pantham thongsang, cheewatan pusitsuksa', 'andy grieve, lauren lazin', 'jimmy dasaint', 'asim abbasi', 'helen hunt', 'ben howard', 'travis mills', 'yoshiyuki momose', 'frédéric tcheng', 'wang meng', 'devin chanda', 'juan mas', 'claire mccarthy', 'donovan marsh', 'pawan kumar k', 'sean foley', 'jason woliner', 'j. ramesh', 'phil grabsky', 'jonathan edwards', 'priyadarshan jadhav', 'nottapon boonprakob', 'd.j. viola, del tenney', 'sharon everitt', 'ferzan ozpetek', 'christopher menaul', 'matt jones, dave hill', 'chris conlee', 'étienne chatiliez', 'dianna agron, peter chelsom, claus clausen, fernando eimbcke, justin franklin, dennis gansel, dani levy, stephanie martin, josef rusnak, til schweiger, massy tadjedin', 'gaby dellal', 'jeff fisher', 'ryan callaway', 'w. merle connell', 'p. j. pesce', 'sean stanek', 'k. veerakumar', 'lorena munoz', 'max joseph', 'james hawes', 'gilbert chan', 'peter ho', 'adolf el assai', 'agnidev chatterjee', 'jeff blyth', 'chad burns', 'eddie martin', 'alex timbers, sam wrench', 'carlos algara, alejandro martinez-beltran', 'kalyaan', 'ahmad samir farag', 'tristan ferland milewski', 'lambert nnorom', 'taranveer singh', 'michael wood', 'zak bagans', 'philip gunn', 'emma hatherley', 'mischa kamp', 'laura vanzee taylor', 'mabrouk el mechri', 'hugo fregonese', 'richard blake', 'jennifer lynch', 'jim strouse', 'miranda harcourt, stuart mckenzie', 'ari gold', 'j blakeson', 'vincent selva', 'wil lewis iii', 'carl prechezer', 'jason hawkins', 'charlie comparetto', 'hemambar jasti', 'adrian vitoria', 'obaid alhmoudi', 'christopher martin', 'yang woo-seok', 'wilfred jaxon', 'marco deufemia, justin g. dyck', 'natalia leite', 'bramma', 'andrew glazer', 'misty talley', 'jared stern', 'mark rosman', 'perci intalan', 'robert nixon, fisher stevens', 'younuts!', 'abdul aziz hashad', 'larry lansburgh', 'mink', 'akarsh khurana', 'david rambaldi', 'john giorgio', 'vikram sirikonda', 'matt servo, troy mcdonald, laurel dalgleish, brett jubinville', 'joe piscatella', 'arun karnataki', 'tom forrest', 'prasobh vijayan', 'david i. frazer', 'will stallings', 'alessandra de rossi', 'marty callner', 'shantrelle p. lewis', 'shaul schwarz, christina clusiau', 'anandh kanumolu', 'girish vishwanath', 'maïmouna doucouré', 'tudor giurgiu', 'pieter kruit', 'j.p. riley', 'p.s. mithran', 'robert mccullough jr.', 'peter gathings bunche', 'keenen ivory wayans', 'eric zaragosa', 'caarthick raju', 'singampuli', 'rajesh kannaparthi', 'nzingha stewart', 'dave patten', 'david semel', 'karen thomas', 'geoffrey sax', 'jacques kluger', 'sarah smith', 'rich ragsdale', 'wong fei lung', 'ayush raina', 'josé larraza, marc pons', 'salim akil', 'ahmed el gendy', 'sabu varghese', 'alan yuen', 'albert maysles', 'chip taylor communications', 'chris aronoff', 'randall wallace', 'paakhi tyrewala', 'mohamed khan', 'scott jeffrey', 'victor dal chele, alfred gimeno', 'jeff glickman', 'ian toynton', 'christie will wolf', 'julia knowles', 'william victor schotten', 'cecilia verheyden', 'nigel finch', 'dean deblois', 'charlie scharfman', 'pat healy', 'mariano cohn', 'dennis klein', 'lance daly', 'gus holwerda', 'nina may', 'melvin van peebles', 'jadesola osiberu', 'russ mayberry', 'will vinton', 'rene bonniere', 'ahn byoung-wook', 'juan pablo buscarini', 'r.j. daniel hanna', 'rudy de luca', 'chuck sheetz', 'eric d. howell', 'paritosh painter', 'matthew michael carnahan', 'jay oliva', 'yuval adler', 'domee shi', 'storm ashwood', 'ari folman', 'mike rossiter', 'jun falkenstein', 'greta gerwig', 'pavel navageethan', 'anthony g. perkins', 'gregory gieras', 'denny lu, mike myhre', 'mariana tschudi, héctor gálvez', 'sammaria sari simanjuntak', 'sunil reddy', 'terry morse, terry o. morse', 'maría jose cuevas', 'kel thompson', 'zach fortney', 'fay yu', 'brent bonacorso', 'farah nabulsi', 'kunal deshmukh', 'chris prynoski', 'jason cohen', 'baljit sangra', 'fernando sariñana, josé luis gutiérrez', 'napoleon dumo', 'vernon snoop robinson', 'nicolas bary', 'alessio cremonini', 'stella corradi', 'takeshi nozue', 'farida pacha', 'sreelaja mukundakumaran', 'sushil majumdar', 'pablo agüero', 'mohammed el-tahawy, mohamed mostafa', 'moto sakakibara', 'tomer heymann', 'oliver daly', 'jung-ah im, seung-uk jo', 'jonathan trumble', 'fred newmeyer, fred c. newmeyer', 'brett piper', 'frasco mortiz', 'logan bush', 'jay kanzler', 'selçuk aydemir', 'indrajit nattoji', 'david lean', 'nana ekvtimishvili, simon gross', 'francis coppola', 'fernando meirelles, katia lund', 'janson media', 'b. subhash', 'harmony korine', 'kamal sahani', 'go koga', 'patrick magee', 'olivia newman', 'robert trachtenberg', 'david cherniack', 'logan', 'raoul w. heimrich, yvonne wunschel', 'dave fleischer, willard bowsky', 'jeffrey sherman, gregory sherman', 'anand tiwari', 'shamzu zayba', 'karthik saragur', 'norman mcleod', 'clementine malpas, leslie knott', 'ian lilley', 'nicholas danko', 'edon rizvanolli', 'min sook lee', 'gunter h. sanderson', 'jijo pancode', 'alan byron', 'frant gwo', 'israel adrián caetano, bruno stagnaro', 'toka mcbaror, tunde apalowo', 'luca luongo', 'nacho g. velilla', 'salvador espinosa', 'nanfu wang, jialing zhang', 'james d. fields', 'justin channell', 'rachel bell', 'christopher andersen', 'wayne orr', 'ian cheney', 'joseph mbah', 'charles burmeister', 'ángeles reiné', 'jesse adang, syrine boulanouar', 'amit rai', 'mrighdeep lamba', 'charles draper', 'steve majaury, rick morrison', 'spencer gordon bennet', 'robert f. hill', 'olivia milch', 'justin paul ritter', 'stefano usardi', 'jean-claude flamand-barny', 'candy cain', 'tim bell', 'jose montesinos (frenzy)', 'penelope lawson', 'ammar lasani, kanza zia', 'steve horn', 'sarah daggar-nickson', 'nacho vigalondo', 'quoc bao tran', 'mario cambi', 'oliver goetzl', 'brian netto', 'otto brower, david burton', 'robert roworth', 'sam wrench', 'chang chin-jung, chen rong-hui', 'mark steven johnson; mark johnson', 'rayka zehtabchi', 'renata gabryjelska', 'pablo parés', 'adam marcus', 'juan frausto', 'lee yoon-jung', 'milind rau', 'los angeles barea', 'kamal amrohi', 'anil panguluri', 'douglas mcgarth', 'elliot hegarty', 'george nolfi', 'jack starrett', 'jing wong, wai-lun lam', 'william h. bushnell jr.', 'michael m. scott', 'shigeo tanaka', 'brett dejager, max groah, john hale iii, zane hershberger, robert lanphere, jennifer nangle, tory van buskirk, stephen wolfe', 'george waggner', 'peter ramsey, rodney rothman, bob persichetti', 'mimmo mancini', 'ashima chibber', 'austin peck, anneliese vandenberg', 'sanjay dayma', 'james a. contner', 'mohammed iansana', 'dylan haegens, bas van teylingen', 'muharrem gülmez', 'roger graef, james rogan', 'kathryn fasegha', 'denny lynch, ashley lynch', 'frank w chen', 'enrique garcía meza', 'suman ghosh', 'kasper barfoed', 'dr. bob abell', 'jenny gage', 'nam ron', 'ole bornedal', 'álvaro brechner', 'jeremy lutter', 'serdar akar', 'naveen kumar m.n.', 'shyamaprasad', 'sebastian silva', 'arther hiller', 'harry s. webb', 'johpaul george', 'alan cohn', 'red grant', 'trish sie', 'mauro iván ojeda', 'myron davis', 'michael walker', 'joachim rønning', 'miranda de pencier', 'mouli', 'peter andrikidis', 'byron howard, chris williams', 'raja chanda', 'ísold uggadóttir', 'caro meldrum-hanna', 'arthur vinciprova', 'rajan aggarwal', 'walter v marshall', 'gary clayton', 'florenc papas', 'shannon hartman, michelle caputo', 'jill maxcy', 'matheus souza', 'gary wheeler', 'william eubank, will eubank', 'frank marino', 'vondie curtis-hall', 'austin buchanan, samuel niall', 'aaron blaise, robert walker', 'michael spierig, peter spierig', 'manjeet singh', 'nick stagliano', 'michael landon', 'yoo eun jung', 'stickgang biz', 'frank e. abney iii', 'andy goddard', 'sergio corbucci', 'greg tiernan', 'émile gaudreault', 'steve bencich', 'robert krantz', 'andrew waller', 'ross berry', 'pema dhondup', 'michael blieden', 'ismail farouk, hazem fouda', 'gavin hood', 'emmanuel osei-kuffour,  jr', 'm. muthaiah', 'herbert wilcox', 'sy gowthamraj', 'jimmy shaw', 'lu chiang chao, lan jing', 'vipul thiruvaipati', 'david hackl', \"sean patrick o'reilly\", 'adam davis, jerry kolber, trey nelson, erich sturm', 'rebecca johnson', 'lazar vukovic', 'saidi reddy chittepu', 'hugh wilson', 'pi ware', 'joshua zeman', 'ilan ziv', 'allan a. goldstein', 'ryland brickson cole tews', 'peter hutchison', 'russell crowe', 'emelie lindblom', 'jim whiteaker', 'hiromasa yonebayashi', 'andré van heerden', 'daniel roby', 'jake thomas', 'shane kuhn, brendan cowles', 'david alvarado, jason sussberg', 'abner biberman', 'dipendra lama', 'shashank udapurkar', 'patrick durham, paul g. volk', 'madeleine gavin', 'shashanka ghosh', 'rahul dholakia', 'kevin derek', 'john butler', 'daniel farrands', 'vincent masciale', 'david s. goyer', 'michael g. kehoe', 'stuart rosenberg', 'bernard mceveety', 'tanuj bhramar', 'phil cox', 'vikram kumar', 'ana lily amirpour', 'arthur dreifuss', 'alan ball', 'kristopher belman', 'john kahrs', 'ry russo-young', 'jeta amata', 'jay duplass, mark duplass', 'william jewell', 'kani arasu', 'dylan bank', 'daniel noah', 'phil stebbing', 'dustin marcellino', 'alan chan', 'jérémie degruson, ben stassen', 'pascal blanchard, sonia dauger, david dietz', 'marah strauch', 'james cruze', 'siu-hung chung, wong jing', 'zak penn', 'malcolm martin', 'enzo g. castellari', 'ding-lin wang', 'peter tewksbury', 'luke sparke', 'myles sorensen', 'nimród antal', 'martin rosete', 'lijo jose pellissery', 'gary crenshaw', 'allison eckert', 'faraz haider', 'jay chou', 'richard monks', 'antonio jefferson', 'anudeep kv', 'akashdeep', 'dane wilson', 'fluvio iannuci, roly santos', \"sam o'steen\", \"sasha king, brian o'donnell\", 'paul leyden', 'hunter richards', 'john henry westhead', 'alonso ramirez ramos, eddie trigueros, dave wasson', 'lukasz kosmicki', 'eugene levy', 'arun raj varma', 'yasir nawaz', 'gary andrews', 'mohammad adel', 'mozez singh', 'vikram phadnis', 'andrew duncan, ken cunningham', 'vrinda samartha', 'seyi siwoku', 'emmanuel amara', 'gopi puthran', 'narayan chauhan', 'vamshi paidipally', 'tanu balak', 'adam del deo, james d. stern', 'ken olin', 'chan-sang lim', 'henry jaglom', 'kelly noonan', 'yemi martins (usa), oladele matti (nig)', 'edgar wright', 'wojciech marczewski', 'karen j lloyd', 'banjong pisanthanakun, parkpoom wongpoom', 'shin-yeon won', 'd. allan johnson', 'maria pulera', 'daniel yee heng chan', 'ty hodges', 'baltasar kormákur', 'corey pearson', 'natty kumar', 'paul china', 'veronica velasco', 'elio petri', 'jennifer kaytin robinson', 'shanawaz nellikunnil', 'barbra streisand', 'cess silvera', 'john gordillo', 'john eng, norton virgien', 'jeremiah s. chechik', 'andreas goldstein, jakobine motz', 'picky talarico', 'veerangan k', 'james cameron, steven quale', 'patrick a. albright', 'joshua wesely, simon wesely', 'tim hunter', 'alexander peter lercher', 'naresh malhotra', 'kelley slagle, brian stillman', 'catherine devaney', 'duncan singh', 'paresh mokashi', 'rob pallatina', 'ashwiny iyer tiwari, abhishek chaubey, saket chaudhary', 'prem lama', 'fuwad khan', 'gustavo ron', 'maceo greenberg', 'william crain', 'magnus martens', 'billy lyons', 'deepika narayan bhardwaj', 'zoe jones', 'na hyeon', 'lynn shores', 'enah johnscott', 'tony machi', 'carlos bolado', 'lee daniels', 'natalia malykhina, tihoni brčić, fred and sam guillaume, miran miošić, dinko kumanović', 'frédéric tonolli', 'stuart mcdonald', 'atsajun sattakovit', 'jeremy podlog', 'martin krejcí', 'jay martin', 'sriram venu', 'crystal moselle', 'nitesh tiwari', 'max mannix', 'juwan lee', 'henry joost, ariel schulman', 'jeremiah jones', 'rel dowdell', 'partho ghosh', 'frank lloyd', 'bryan fogel', 'andrew wessels', 'kongkiat komesiri', 'prasanth varma', 'deep joshi', 'laurence malkin', 'ladj ly', 'dwight h. little', 'william kaufman', 'salifu zakari', 'atharv baluja', 'zhong yu', 'felipe rodrigo borba', 'michael hurst', 'noah baumbach, jake paltrow', 'armando iannucci', 'david greene', 'akshay akkineni', 'paul miller', 'thomas carr', 'dagen k. w. merrill', 'scott waugh', 'harmony mcelligott', 'ihtziar hurtado ramírez', 'lewis seiler', 'anthony fanelli', 'ali tabrizi', 'samuel jouy', 'damien piscarel, florent bodin', 'saeed hamed', 'abel berry, jennifer michelle stone ii', 'joston theney', 'gabriela tagliavini', 'simon bird', 'richie smyth', 'edward burns', 'pannaga bharana', 'paige goldberg tolmach', 'r. ajay gnanamuthu', 'seth gordon', 'adam ripp', 'byron haskin', 'jennifer leitzes', 'john a. davis', 'jason epperson', 'michael kerry matthews, thomas matthews', 'benjamin may', 'katharine emmer', 'naseef yusuf izuddin', 'leslie h. martinson', 'eric khoo', 'shane meadows', 'bert gillett', 'michael chuah', 'gerry lively', 'd.j. viola, arch hall sr.', 'paul powell', 'shaad ali sahgal', 'mel smith', 'anthony pierce', 'valerio zurlini', 'linda g. mills', 'riki lindhome, jeremy konner', 'antwon rollins', 'uraaz bahl', 'carlo carlei', 'thomas j. wright', 'arthur de kersauson, clément beauvais', 'petra costa, lea glob', 'v n aditya', 'mike mccoy, scott waugh', 'joan micklin silver', 'j. robert wagoner', 'christian lee', 'ritu sarin, tenzing sonam', 'vaughn taylor', 'jon schnitzer', 'james cox', 'gurmmeet singh', 'eric goode, rebecca chaiklin', 'jan holoubek', 'malcolm leo', 'antonio negret', 'thom zimny', 'josef rusnak', 'antoneta kastrati', 'sundar rao nadkarni', 'glenn payne', 'nenshad h. karbhari', 'ari selinger', 'meenakshi vinay rai', 'xabier berraondo', 'frank capra, john huston, hugh stewart, roy boulting, anthony veiller', 'dídac cervera', 'ben rekhi', 'howard kress, harold f. kress', 'ravi kinnagi', 'dilip naik', 'yogesh jadhav  nitin chavan', 'ed hunt', 'anton lorenze', 'eric d. cabello díaz', 'carlos marques-marcet', 'wilfred samson dedewo', 'ronit elkabetz, shlomi elkabetz', 'theodore witcher', 'chiwetel ejiofor', 'stephen amezdroz', 'j. parthiban', 'zachary kerschberg, patrick pineda', 'amanda blue', 'jeremy rush', 'chris roland, maradona dias dos santos', 'rafael flores', 'stepan puchinyan', 'dash shaw', 'ryan koo', 'a.v. meiyappan', 'brandyn t. williams', 'grand corps malade, mehdi idir', 'naman nitin mukesh', 'fredrick de cordova', 'stewart hendler', 'heber cannon, mariah moore, marston sawyers', 'aashiq abu', 'sharad malhotra', 'dean kamitsis, michael whitfield', 'jeremiah chechik', 'bud pollard, del lord', 'jenna laurenzo', 'steno', 'brian goodman', 'alexandre reinecke', 'cedarian crawford', 'louise osmond', 'haruka fujita', 'pedro baron', 'desmond devenish', 'dustin rikert', 'owen carey jones', 'tamara rothschild', 'shatifah carter', 'santosh p jayakumar', 'jorge hernandez aldana', 'surender reddy', 'john patrick shanley', 'andrew fleming', 'edmond goulding', 'bradford thomason, brett whitcomb', 'gangadhar salimath', 'sue kim', 'debaloy dey', 'juan carlos medina', 'gianni siragusa', 'jae sinclair', 'ray enright', 'james r. temple', 'tim burstall', 'brandon naughton', 'tinnu anand', 'apurva dhar badgaiyann', 'anne fontaine', 'daniel smith', 'shuaib mitchell', 'jack hill, stephanie rothman', 'oleg trofim', 'debamitra biswal', 'chris bucher, severin gmünder', 'shea wageman', 'burny mattinson', 'michele placido', 'phil joanou', 'daniel růžička', 'steve anderson', 'maria burton', 'david fortune', 'minh duc nguyen', 'k. ravi shankar', 'sherri l. vandenakker', 'stepan burnashev, nadezhda yumshanova', 'vanessa gazy,  jeremy robbins,  nicholas verso,  shawn thompson', 'craig carlisle', 'stephen canty', 'clive turner, roger nall', 'lucy van beek', 'grear patterson', 'frederick cipoletti', 'lynn novick', 'tucky williams', 'michael steiner', 'patricia marcoccia', 'edward ludwig', 'james prosek', 'boyapati srinu', 'daniel duran', 'tye banks, heidi lawson', 'steve asquith', 'tony abulu', 'joseph hsu', 'b.s.pradeep varma', 'jackson begley', 'michael pearce', 'chris rutkowski', 'brendan malloy, emmett malloy', 'kate forsatz, daryl ferrara', 'haissam hussain', 'partho sen-gupta', 'colin miller', 'andrew sandler', 'idris elba', 'ranjit tiwari', 'tom whitworth', 'carter smith', 'victor m. ordonez, ed palmos (as edward victor), al valletta', 'phil johnston, rich moore', 'kushal srivastava', 'amy segal', 'max kleven', 'vadla janardhan', 'alexandre espigares', 'glen keane', 'john crockett, brian mcculley, manaal khan, carmelo chimera, tayo amos, rebekah wiggins', 'sudabeh mortezai', 'murali ramaswamy', 'steven spiel', 'yee tung-shing', 'yacine belhousse', 'rebecca weaver', 'can ulkay', 'william d. wittliff', 'paul jenkins', 'bill crossland', 'stella meghie', 'liz garbus, lisa cortes', 'fabrizio copano, augusto matte', 'raoul peck', 'shane stanley', 'boris ivanov', 'paul justman', 'todd berger', 'd.j. viola, george a. romero', 'fazil', 'coky giedroyc', 'shan serafin', 'd.c. hamilton', 'matthew thompson', 'liu kuang-hui', 'evgeny afineevsky', 'jack kinney, w. roberts, hamilton luske', 'okey oku', 'michael lockshin', 'jo sung-hee', 'guillermo garcia, david cantolla', 'graham elwood', 'declan dale', 'eve butterly', 'm. a. thirumugam', 'neil gelinas', 'camille shooshani', 'rich schlansker, royale watkins', 'phil wurtzel', 'sean mannion', 'micheal bafaro', 'jun-seong kim', 'thomas vinterberg', 'randy korompis', 'b. ashok kumar', 'lisa ellzey', 'cody knotts', 'saravanan', 'leah walker', 'susan glatzer', 'fritz böhm', 'bent-jorgen perlmutt', 'john woo', 'roger allers', 'chris buck, kevin lima', 'vladlen barbe, joshua greene', 'steven silver', 'fernando colomo', 'danny hiller', 'juan antonio chavero briones', 'prakash kunte', 'gaurav narayanan', 'hideaki takizawa', 'gandhi manivasagam', 'scott sidney', 'justin wilder neese', 'sue lyon', 'will finn, john sanford', 'daan jansen, stijn verlinde', 'keiichi hara', 'john leekley', 'james boss', 'john edginton', 'stacy peralta', 'danny phillips', 'adam oldroyd', 'eva orner', 'august jakobsson', 'nir paniry', 'peter magat', 'ayumu watanabe', 'cecil b. demille', 'jason lei howden', 'henrik martin dahlsbakken', 'jang hoon', 'dhyanesh bhalekar', 'vibhu virender puri', 'sanjeev gupta', 'xiao feng', 'rhiannon bannenberg', 'paulo oriol', 'jastis arimba', 'mikey indio cedano,  jr', 'sydney salkow', 'anthony burns', 'miles forster', 'pamela littky', 'gregory goodell', 'james sadwith', 'chris rogers', 'arepo', 'thomas j. churchill', 'kouzou morishita', 'henrik ruben genz', 'jenny carchman', 'clenét verdi-rose', 'jack fisk', 'thom marshall', 'sean cain', 'damian x. fulton', 'barry cook', 'david marmor', 'giles foster', 'rachel lears', 'jason sussberg, david alvarado', 'noel dockstader, quinn kanaly', 'r.w. perkins', 'brett leonard', 'paul leder', 'jerry e thompson', 'clay staub', 'reginald j gist', 'darius marder', 'louisa warren', 'derek kwok, henri wong', 'mark harris', 'mark brozel', 'jim wheat, ken wheat', 'xavier gens', 'george marshall', 'aaron stevenson', 'richard dembo', 'aurora guerrero', 'greg galloway', 'marc carlini', 'max mcgill', 'will young', 'john burgess', \"saman kesh, jeff desom, dugan o'neal\", 'akin alabi', 'john landis', 'phil stein', 'robert redford', 'chris mason johnson', 'larry jordan', 'ethan hawke', 'fabrice gardel, simon kessler, josselin mahot', 'cooper karl', 'paul campion', 'john schlesinger', 'michael seater', 'chad archibald', 'gastón duprat', 'midhun manuel thomas', 'christopher alender', 'lamonte hawley', 'shagufta rafique', 'travis fine', 'david sington, heather walsh', 'maribel sánchez-maroto', 'don bitters, geoff reisner', 'alexandre heboyan, benoît philippon', 'li jun', 'jonathan wright', 'todd komarnicki', 'barnet kellman', 'elliot silverstein', 'kirk thatcher', 'nizar shafi', 'steve neilson, tony collingwood', 'guy jenkin', 'preston a. whitmore ii', 'alexandra kotchef, hannah leder', 'michael munn', 'max coronel', 'mike wiluan', 'sathyan anthikad', 'jani lachauer, jakob schuh', 'joey soloway', 'sanjiv kolate', 'vishal mishra', 'yesim ustaoglu', 'lauren macmullan', 'matthew pope', 'johnny bones, tony baez milan, aaron j. shelton, robert tinnell, anthony vingas', 'erik nelson', 'austin stark', 'lea borniotto, vera borniotto, edoardo nervi', 'dava whisenant', 'chris bolan', 'sukumar', 'lesli linka glatter', 'rindala kodeih', 'kevin booth', 'rob gibbs, scott morse', 'mat king', 'lucy coleman', 'ryuta tasaki', 'mathias malzieu, stéphane berla', 'femi d. ogunsanwo', 'john francis dillon', 'ashraf fayeq', 'tugçe soysop', 'felix thompson', 'john hughes', 'lasja fauzia susatyo', 'ash christian', 'scott pembroke', 'nicol paone', 'nicholas stoller', 'dominic savage', 'christian vinces', 'steve longi', 'dan moss', 'director gigi saul guerrero talks through culture shock’s themes – immigration, filmmaking, and latinidad – in this one-on-one chat.', 'amanda raymond', 'álvaro longoria, gerardo olivares', 'edgar j. ulmer', 'sidney beaumont, michael bonfiglio', 'rudradeep bhattacharjee', 'desmond mullen', 'joshua rofé', 'carlo fusco', 'jeff chan', 'leopoldo aguilar', 'tyler wayne', 'suri krishnamma', 'a. k. velan', 'jeremiah watkins', 'lafayette cabell', 'michael greenspan', 'paul dano', 'dylan c. brown', 'sara dosa', 'thomas carter', 'renee chabria', 'joyce chopra', 'tim sutton', 'karey kirkpatrick', 'barbara kopple', 'ang lee', 'gireesaaya', 'bill kiely', 'miguel morayta', 'john maggio', 'rick alverson', 'bob hercules, rita coburn whack', 'lin oeding', 'stuart sender', 'kepa sojo', 'ate de jong', 'stephan blinn', 'soumitra ranade', 'mark sloper', 'max ksjonda', 'i. ahmed', 'tyler schnabel, ryan dellaquila', 'benjamin gluck', 'nick millard', 'ankit bagde', 'jaume balagueró', 'prashant nair', 'clive entwistle', 'zeina durra', 'gajendra ahire, viju mane, girish mohite, ravi jadhav', 'v c abhilash', 'jonathan braucher', 'sam gorski', 'jeremiah camara', 'jameel buari', 'rob meltzer', 'marty stalker', 'anuraj manohar', 'rajkrishna', 'norihisa hiranuma', 'denis villeneuve', 'gary mak', 'claude berri', 'mauro john capece', 'tim conrad', 'charles gozali, bagus bramanti', 'rajnarendra', 'richard curtis', 'john stalberg', 'melvin frank, norman panama', 'michael a. ryan', 'jon alpert', 'martin r smith', 'kvr mahendra', 'mark mertens, wim bien', 'vinayan', 'mahmoud sabbagh', 'eric rochant', 'ashok reddy', 'jesse moss', 'gulzar', 'ben lear', 'nadeem baig', 'steve ellmore', 'chuck staley, rowby goren', 'darcy weir, lee lustig', 'grant sputore', 'patrick creadon', 'stephanie abel horowitz', 'chow hin yeung roy', 'barbara białowąs, tomasz mandes', 'james foley', 'james sweeney', 'andrew lau wai-keung, andrew loo', 'masao konno', 'sonia kennebeck', 'robbie grewal', 'indar dzhendubaev', 'sol c. siegel', 'stefan westerwelle', 'steve barron', 'andrea kalin, bill duke', 'ben falcone', 'mike snyder', 'adam jay epstein, andrew jacobson', 'antoni krauze', 'peter small', 'dito montiel', 'alex turner', 'kristine stolakis', \"tommy o'haver\", 'trinadha rao nakkina', 'dare olaitan', 'kenneth müller', 'conor mcpherson', 'adam gierasch', 'jane howell', 'santiago alvarado ilarri', 'n hari prasad reddy', 'pedro flores maldonado', 'ramesh sippy', 'lucía puenzo', 'matt wechsler', 'gillian grisman', 'gillies mackinnon', 'charles saunders', 'elissa down', 'grant heslov', 'anu valia, sonejuhi sinha, brian shoaf, sayeeda moreno, james sweeney, chloe sarbib', 'ami artzi', 'deepak sareen', 'kief davidson', 'd.j. viola, roger corman', 'vamshi p', 'kentucker audley', 'jacob mulliken', 'raphael erichsen', 'jessie nelson', 'leonard nimoy', 'leo riley, eric radomski', 'bob hathcock', 'buddhadev dasgupta', 'david stern, rene reyes, shane rosamonda', 'gil cates jr.', 'vivek elangovan', 'lee shallat chemel', 'hugo moura', 'panos cosmatos', 'luvia petersen, alison ward', 'jack serino', 'jennie livingston', 'xavier beauvois', 'paul kulak', 'craig syracusa', 'rodrigo triana', 'mathew kister', 'james snider', 'william a graham', 'zack whedon', 'michael paul stephenson', 'mahin ibrahim, austin kolodney, will lowell, david beier, dave dorsey, xu zhang, alana waksman, jon yonkondy, drue metz, brandon somerhalder', 'lech majewski', 'prabhakaran', 'jan pinkava', 'felton t. young, nyrita thompson', 'jason connery', 'mirko pincelli', 'chris sparling', 'park young-ju', 'doesjka van hoogdalem', 'justin malone', 'alan taylor', 'wally pfister', 'ray taylor', 'robert wise', 'john elbert ferrer', 'victor levin', 'krzysztof zanussi', 'alaa eddine aljem', 'sung-soo kim', 'seth green', 'mani nasry', 'wyott ordung', 'nguyen nguyen', 'sacha gervasi', 'mostofa sarwar farooki', 'isaac florentine', 'lee jeong-beom', 'k. selva bharathy', 'deva katta', 'sai sekhar', 'daniel doherty ii', 'leroy prinz', 'joby harold', 'alexander t. hwang', 'richard brooks', 'karan lalit butani', 'james lapine', 'eugenio martin', 'grant s. johnson, ippsie jones', 'douglas cheek', 'david bruckner', 'jim aikman', 'rakshith thirthahalli', 'luca amhofer', 'dania pasquini, max giwa', 'feroz', 'jay arnold', 'larry elikann', 'shonali bose', 'alê abreu', 'alvin rakoff', 'tim blake nelson', 'the gigglebots', 'francesco lettieri', 'cooper barnes', 'david avallone', 'anders falck, stinus morell vithner', 'prawal raman', 'renuka shahane', 'leste chan', 'krishna agazzi, filippo gastaldi', 'boris petroff', 'james tovell', 'kevin connolly', 'oyefunke fayoyin', 'skye borgman', 'franklin j. schaffner', 'vikram pradhan', 'jacob rosenberg', 'jim nichols', 'desingh periyasamy', 'b.n. shajeer sha', 'tom caulfield, stephen sandoval', 'chia tang', 'jason sterman, leanne dare', 'jessica mcgaugh, roma sur', 'james l. edwards', 'bhavin wadia', 'eran kolirin', 'craig moss, ash r. shah', 'jim issa', 'heath davis', 'myriam fares', 'syrine boulanouar, nekfeu', 'emily lou', 'michael storey', 'sudhanshu saria', 'terrence rosemore, chris eneaji', 'ralph eggleston', '\\xa0antonio margheriti', 'john hale', 'anthony parisi', 'jo kastner', 'david l.g. hughes', 'eitan anner', 'müfit can saçıntı', 'hendel butoy, mike gabriel', 'jay leonard', 'amitabha singh', 'genevieve nnaji', 'barry cook, neil nightingale', 'stuart acher', 'evan meszaros', 'sridhar', 'stanley kramer', 'david silberg', 'andrés feddersen', 'bradley kaplan', 'marcus gautesen', 'fro rojas', 'bertrand tavernier', 'almudena carracedo, robert bahar', 'peter kosminsky, mary soan', 'amir mohiuddin', 'greg garthe', 'kubhaer t. jethwani', 'walerian borowczyk', 'eleonore pourriat', 'wellson chin sing-wai', 'tommy lee jones', 'earl goshorn', 'michael k. la chiana', 'latavious flournoy', 'thomas bentley', 'john david moffat iv', 'c v kumar', 'yoshiyuki tomino', 'charles robert carner', 'ben allen, tom jenner', 'jay grace', 'umut aral', 'michelle danner', 'james shanks', 'chioke nassor', 'francesco carrozzini', 'jan komasa', 'peter middleton, james spinney', 'patrick white', 'raaj zacharias suresh', 'christian ford', 'mike gutridge', 'charles winkler', 'catherine gund, daresha kyi', 'jake szymanski', 'sheldon cohen', 'david nordquist', 'han qing', 'david benioff, d.b. weiss', 'edith becker, kevin burns', 'swarooj rsj', 'mike smith', 'gordon hessler', 'jim sharman', 'anindya chatterjee', 'stephen anderson, don hall', 'paul bogart', 'gregory monro', 'padmasri', 'shane grant', 'john polson', 'jan suter, raúl campos', 'irena pavlásková', 'thiagarajan kumararaja', 'shazia ali khan', 'stephanie zari', 'jon manning', 'romain serir', 'mark risley', 'alicia joy leblanc, raja gosnell', 'sergio guerrero garzafox', 'hari santhosh', 'aytaç ağırlar', 'mark pellington', 'marcello fondato', 'rima das', 'justin bare, matthew miele', 'jean-paul ouellette', 'stan dragoti', 'chitrapu narayana rao', 'phanindra narsetti', 'rob hardy', 'chakri toleti', 'gina prince-bythewood', 'sadeq behbehani', 'sai paranjape', 'frédéric forestier, thomas langmann', 'christiaan olwagen', 'uri barbash', 'heidi saman', 'jarett bellucci', 'dereck joubert, beverly joubert', 'danielle winter', 'ifeanyi ikpoenyi', 'michael john warren', 'fabian farina', 'lisa zi xiang', 'ed lilly', 'ravi babu', 'robert hutton', 'wei dong', 'mickey reece', 'andre hopson', 'annabel jankel', 'çagan irmak', 'chris mckay', 'ajay bhupathi', 'rahul riji nair', 'carles torras', 'domenico de feudis', 'pierre greco, nancy florence savard', 'andy caballero, diego corsini', 'tim van someren', 'warren fast', 'daniel effiong', 'alex stapleton', 'howard j. ford', 'joe mantello', 'shelly chopra dhar', 'gregory lamberson', 'adriana trigiani', 'rachel talalay', 'james orr', 'don hartman', 'holger tappe', 'malcolm mckay', 'joanna bowzer, tim gagliardo, barry pollack, tim russ, shae-lee shakleford', 'mehmet ada öztekin', 'shinya ayabe', 'cho il', 'marc lawrence', 'terry l. noss, richard rich', 'thej', 'douglas mccarthy', 'a. r. murugadoss', 'soundarya rajnikanth', 'sean haitz', 'don mclennan', 'tamara tana', 'gigi saul guerrero', 'daniele thompson', 'justin lin', 'akira saitoh', 'brooke l. peters', 'joel coen,  ethan coen', 'dennis fallon', 'francisco marcano', 'fredric hobbs', 'jonathan auf der heide, tony ayres', 'hemant dhome', 'john cornell', 'richard dunlap', 'thadd turner', 'carl lindbergh', 'barbara wong', 'stephen boyum', 'saurabh kabra', 'john luessenhop', 'rudolf zehetgruber', 'bun yuen', 'miguel courtois', 'kevin r. adams, joe ksander', 'karen schuback', 'ebrahim hatamikia', 'anthony diblasi', 'wayne abbott', 'pablo aulita', 'sophia rivera', 'sam loh', 'bernard gourley', 'kenny golde', 'john robinson', 'maïa sandoz', 'hernán guerschuny', 'jonathan glazer', 'caradog w. james', 'tiffanie hsu', 'jackie van beek, madeleine sami', 'josh stewart', 'jeff bleckner', 'anthony scott burns', 'vadim dubrovitskiy', 'boyapati srinivas', 'george p. breakston', 'fredric lean', 'alain darborg', 'bill duke', 'david mackay', 'seth barrish, mike birbiglia', 'peter thorwarth', 'k. gopinathan', 'greg emetaz', 'lc santhanamoorthy', 'dwarakh raja', 'rusty nixon', 'navot papushado', 'david stern', 'logan stone', 'joon-ho bong', 'han yan', 'charlie arnaiz', 'pearry reginald teo', 'noel buckner, rob whittlesey', 'ida lupino, elmer clifton', 'mamoru hosoda', 'david lister', 'ricky kennedy', 'surya prakash', 'zsolt pálfi', 'vikram gandhi', 'kristin marcon', 'jeffrey c. bell', 'robert mccallum, jordan c. morris', 'hal ashby, tom trbovich', 'nuhash humayun, syed ahmed shawki, rahat rahman, robiul alam robi, golam kibria farooki, mir mukarram hossain, tanvir ahsan, mahmudul islam, abdullah al noor, krishnendu chattopadhyay, syed saleh ahmed sobhan', 'tommy walton', 'harry elfont, deborah kaplan', 'alfredo ureta', 'jake paltrow', 'harry fraser', 'vasanth nagarajan', 'ken burns, artemis joukowsky', 'ryan kawamoto', 'ben akers', 'len talan', 'elmo williams', 'vijay krishnaraj', 'joe chappelle', 'ivan minin', 'duncan mcmath', 'trey parker', 'steve boettcher', 'genndy tartakovsky', 'barry brewer', 'rod lurie', 'jeff buhler', 'joel paul reisig', 'scott aukerman', 'shyamal bose', 'ameer', 'sarthak dasgupta', 'gerry hoban', 'josh bailey', 'eric notarnicola', 'thomas freeman jr', 'david steinmetz', 'chester tam', 'padmakumar narasimhamurthy', 'b.r. chopra', 'geun-hyun cho', 'david michaels', 'ildiko enyedi', 'curtis everitt', 'ahmed saleh', 'abbas tyrewala', 'patricia font', 'munish bhardwaj', 'baz luhrmann', 'jeremiah zagar', 'wolfgang murnberger', 'maureen bharoocha', 'katoria chanyasubkit', 'lina wertmüller', 'joey kuhn', 'giulia clark, stuart elliott', 'tony leondis, michael labash', 'michael whitton', 'nick bicanic, jason bourque', 'raoul walsh', 'kirk r. thatcher', 'gabriel mariño', 'jesus del cerro', 'alexandre moors', 'rik reinholdtsen', 'sartaj singh pannu', 'k. subash', 'honey trehan', 'jim conover', 'lyric r. cabral, david felix sutcliffe', 'irving reis', 'john gorrie', 'jitender pawar', 'franky okamura', 'ned ehrbar', 'jerry hopper', 'pj raval', 'chezzy boy, muscle', 'paul a. kaufman', 'myles kane, josh koury', 'srinu vaitla', 'dani de la orden', 'gene quintano', 'saji surendran', 'rebecca addelman', 'kinka usher', 'atul sabharwal', 'albert band', 'patrick marber', 'jeremy podeswa', 'michelle wong', 'chris crow', 'andrea molaioli', 'rajdutt', 'jeffrey lau', 'kevin donovan', 'aaron hancox, michael mcnamara', 'ahmed medhat', 'narendra nath', 'amber tamblyn', 'ruckus sky, lane skye', 'farhad mann', 'john wynn, akhtem seitablaev', 'ugo liberatore', 'gardner doolittle', 'mustapha khan', 'rick king', 'matt toronto', 'richard groen', 'bharath kumar pathipati, raja lakkapragada', 'bernard b. ray', 'sean mewshaw', 'mark columbus, lauren hoekstra, sarah kruchowski, ryan moody, simon savelyev, vanita shastry, shadae lamar smith, jeremy david white', 'andrew di pardo, brett kanea', 'neil armfield', 'damani baker', 'sockeye media llc', 'marcus clarke', 'henry alex rubin', 'd.j. viola, milton moses ginsberg', 'abhishek pathak', 'sandip ray', 'charles a townsend', 'rolf niklas berggren', 'diego ros', 'javier colinas', 'buz wallick', 'josé nieto ramírez', 'zuko nodada', 'wayne kramer', 'michael larnell', 'anne le ny', 'john cork', 'john holdsworth', 'rodio nahapetov', 'john mikulak, joshua brown', 'anil v. kumar, anurag basu', 'phil lord, christopher miller', 'connor ciecko', 'daniel markowicz', 'alejandro hartmann', 'dan stone', 'marta jaenes, rosa márquez', 'julio quintana', 'jean negulesco, oreste palella', 'bob giraldi', 'melanie aikenhead', 'peter nelson', 'kitty green', 'peter mcdonnell', 'rocky soraya, anggy umbara', 'adam montierth', 'susan lambert, stefan moore', 'rob w. king', 'shadi ali', 'will bigham', 'miloš forman', 'hugo vivar', 'robert l. parker iii', 'gary lee vincent', 'bryce wagoner', 'chae ki-jun', 'sri krishna, rama sai', 'jim hosking', 'dustin nguyen', 'sam peckinpah', 'joel guelzo', 'ross venokur', 'carla barros', 'mayye zayed', 'mercedes cordova', 'kevin mcmanus, matthew mcmanus', 'marcel gisler', 'drew stone', 'jayson thiessen, ishi rudell', 'angela affinita', 'walker whited', 'kristy de garis, timothy jolley', 'casey walker', 'afia nathaniel', 'sergey popov', 's. r. prabhakaran', 'charlotte zwerin', 'natasha lyonne', 'david scott, sheldon inkol, robin sen', 'malcolm clarke', 'sp gnanamozhi', 'sittisiri mongkolsiri', 'anil thomas', 'patrick hughes', 'ken cameron', 'chang jeong', 'mario parruccini', 'julian farino', 'howard j. ford, jon ford', 'jonathan tydor', 'elliot nugent', 'sukum maetawanitch', 'chris martens', 'matt checkowski', 'sridhar jetty', 'ernie reyes jr.', 'david ross', 'george pavlou', 'len wiseman', 'huang jianming', 'drew waters', 'paul taublieb, jon freeman', 'ak. reed films  (amire k reed)', 'jamie babbit', 'aaron stephenson', 'mauro russo rouge', 'mike sargent', 'padraic mckinley', 'shree narayan singh', 'yibrán asuad', 'dilip mehta', 'igor kovalyov, norton virgien', 'valerio zanoli', 'john trengove', 'almunsif alsuwaisi', 'tim cash', 'matei dima', 'suraj', 'b. jeevan reddy', 'tucia lyman', 'ishaan trivedi', 'todd solondz', 'peter nicks', 'majid al ansari', 'kate sweeney', 'david hinton', 'christopher cain', 'martin mcdonagh', 'prasad velampalli', 'gregory nava', 'michael lansu', 'lewis foster, norman foster', 'miracle nduka', 'pa.vetriselvan', 'claude lelouch', 'jeff deverett', 'ryan zaragoza', 'agustin castañeda', 'terry allen', 'ted tetzlaff', 'marvin hayes', 'sean hanish', 'manu boyer', 'brendan toller', 'hoyt yeatman', 'brock riebe', 'brendan steere', 'richard harris, maurquis boone', 'josé miguel contreras', 'daniel burman', 'tom putnam', 'sebastian dinatale', 'randa haines', 'burr steers', 'robert cammisa, dennis donovan, patrick hendrickson', 'johnson esthappan', 'deng weifeng', 'sergi portabella', 'm.j. isakson', 'steve yu', 'tig notaro', 'rachel mason', 'pepe mora', 'lenin bharathi', 'sagar sarhadi', 'elizabeth allen', 'christopher louie', 'jasmin dizdar', 'jen mcgowan', 'gerard barrett', 'paul kramer', 'van m. pham', 'diego cohen', 'beth sleven, allan jacobsen, kevin wotton', 'onur bilgetay', 'chris l. griffin', 'maurice jones', 'pan nalin', 'randa chahal sabbag', 'jason mills', 'todd verow', 'titus paar', 'keyaar', 'kwanza nicole gooden', 'youssef delara', 'shivendra singh dungarpur', 'lucas figueroa', 'eric summer, éric warin', 'julien ivanowich', 'd.j. viola, monte hellman', 'harald pokieser', 'p.kinslin', 'benny fine', 'corey horton', 'stephanie soechtig, jeremy seifert', 'jesús enrique lópez vargas, athziri morales, brandon ray alba', 'vibeke idsøe', 'douglas tirola', 'wade gasque', 'paul morrison', 'mario n. bonassin', 'rené guerra', 'gary selvaggio, paul sabella', 'cameron cairnes, colin cairnes', 'marc caro, jean-pierre jeunet', 'william j. stribling', 'matt berman', 'stuart beattie', 'daniel ziegler', 'navinder pal singh', 'david wnendt', 'hemant gaba, pratim d. gupta, sudhish kamath, nalan kumarasamy, anu menon, sandeep mohan, qaushiq mukherjee, rajshree ojha, raja sen, abhinav shiv tiwari, suparn verma', 'yaa boaa  aning', 'ilya naishuller', 'doug sweetland', 'michael nickles', 'shantaram rajaram vankudre', 'vicky wight', 'chuan lu', 'white trash tyler', 'don tjernagel', 'evan katz', 'jason spingarn-koff', 'rob dipple', 'habib azar', 'harold harris', 'joel anderson', 'luis prieto', 'niyi towolawi', 'vivek wagh', 'brit mcadams', 'paul van carter', 'geordie day', 'matthew holmes', 'eshom nelms, ian nelms', 'susan kucera', 'torquato joel', 'kevin parkinson', 'none', 'rajeswari udayagiri', 'helen slinger', 'houda benyamina', 'danny garcia', 'aleksandr sery', 'norberto lópez amado', 'd. w. young', 'iqbal durrani', 'sumit roy king', 'gene reynolds', 'alexander gruszynski', 'dakota gorman', 'alex pettyfer', 'nick thune', 'max martini', 'craig elrod', 'suresh', 'gabriela ortega', 'bharat jain', 'mahendran rajamani', 'kumaran', 'cédric anger', 'todd kessler', 'clarence bricker', 'riley thomas', 'juan manuel cotelo', 'jim capobianco', 'frederic ramade', 'péter engert', 'justin mcconnell', 'amaremdar', 'muharrem gülmez, sırrı süreyya önder', 'sunil soraya', 'marquise lepage', 'zach bell', 'kelly noonan gores, adam schomer', 'joel gallen, tig notaro', 'peter wellington', 'scott aukerman, akiva schaffer', 'james bamford', 'blair peters', 'shubham singh', 'peter yates', \"matt o'dowd\", 'roman polański', 'marc de guerre', 'chris williams, byron howard', 'bin bunluerit', 'marcus dreeke', 'adam stein, zach lipovsky', 'david hayter', 'madan ramigani', 'zhang chong', 'jacob schwab', 'julius r. nasso', 'neil marshall', 'wong kar wai', 'scott p. levy', 'dylan kidd', 'david mcabee', 'balu anand', 'shekhar kapur', 'veerabhadram chowdary', 'jonathan prince', 'elsa flores almaraz, richard j montoya', 'rené pérez joglar', 'karen maine', 'aparna sen', 'benson lee', 'mike rianda, jeff rowe', 'john michael mcdonagh', 'sasha joelle achilli', 'alfredo ramos', 'levan gabriadze', 'dj chen', 'guo jingming', 'jan belcl', 'takashi doscher', 'lisa cortés, farah x', 'rowan athale', 'christian schwochow', 'sam patton', 'chris appelhans', 'richard correll', 'santram varma', 'kazuya murata', 'mike christie', 'damien leone', 'jeffrey nachmanoff', 'rudy soedjarwo, riri riza', 'clint butler', 'gary david goldberg', 'amith nair', 'lewis leslie', 'david chuang, chen kuan-chung', 'michael fahey', 'amma asante', 'adam larson broder, tony r. abrams', 'rebecca ugo', 'pawel chochlew', 'víctor garcía', 'david s. hogan', 'mikkel brænne sandemose', 'narges abyar', 'robert moresco', 'matthew patrick', 'peter kondra, mikael schallock', 'jean-patrick benes', 'henry charly', 'greg kwedar', 'zoe lister-jones', 'sergio manfio', 'eric darnell, tom mcgrath, conrad vernon', 'lennart ruff', 'gastão coimbra', 'jason orley', 'franck phelizon', 'ralph straub, ralph staub', 'lindsay posner', 'myriam aziza', 'al carter', 'richard raymond', 'sam j chaitanya', 'surya', 'dennis m. lynch', 'matthew cole weiss', 'kaashvie nair', 'uday nandanavanam', 'juan josé campanella', 'vineeth anil', 'todd louiso', 'gurudev bhalla', 'marja lewis ryan', 'boma iluma', 'fritz ofner', 'sita likitvanichkul, jetarin ratanaserikiat, apirak samudkitpaisan, thanabodee uawithya, adirek wattaleela', 'sharvan kumar rathore', 'tony pietra arjuna', 'dani levy', 'paul maslak', 'mu chu', 'anissa bonnefont', 'janaya n black', 'brb international', 'mark dennis, ben foster', 'iain a. hunt', 'devaki singh, luke kenny', 'r. d. narayanamurthy', 'kim dong-kyu', 'don adams, harry james picardi', 'd.j. viola, tom graeff', 'pedro coutinho', 'david petrucci', 'ralph zondag, eric leighton', 'daniel vernon', 'louise palanker and bill filipiak', 'emmanuel courcol', 'terry gilliam, terry jones', 'gerardo gatica', 'mauro scandolari', 'alex bourne, troy dennison, rebecca harris-smith, david hastings, kaushy patel', 'shahid kabeer', 'james ward byrkit', 'yu yang', 'lina al abed', 'uga carlini', 'james cameron', 'michael muthu', 'sarjun', 'blake harris, chris bouchard', 'susan bellows', 'jean-claude lord', 'mark altman', 'beda docampo feijoo', 'marjane satrapi', 'lars klevberg', 'tanya wexler', 'david lachapelle', 'inma torrente', 'borys lankosz', 'maxwell mcguire', 'kelly asbury', 'john haptas, kristine samuelson', 'takuya inaba', 'nanette burstein', 'michael bonfiglio', 'rachel wortell', 'bheemagani sudhakar goud', 'nguyen thanh tung', 'mitch credle', 'oliver bokelberg', 'jason james', 'sydney pollack', 'g ramesh', 'paul d. hannah', 'lisa immordino vreeland, bent-jorgen perlmutt, frédéric tcheng', 'chris kelly', 'dan oliver', 'suman mukhopadhyay', 'marc brown', 'greg coolidge', 'chet brewster', 'ibrahim yilla', 'sally field', 'jumpei mizusaki, koji morimoto, michael arias, masaru matsumoto, arthell isom, henry thurlow, takanobu mizuno, elsa nakamichi, hajime sasaki, shinji takagi', 'cody stokes', 'alden peters', 'patrick durham', 'justin pemberton', 'maya gallus', 'bo welch', 'andy newbery', 'karan shivajirao chavan, vikram tanajirao patil', \"alma har'el\", 'shaina allen', 'bart layton', 'stella hopkins', 'joanna hogg', 'darin scott', 'stacey lee', 'antonio díaz', 'kalyanji gogana', 'thomas m. wright', 'balaji sakthivel', 'oliver schmitz', 'ryan phillippe', 'james hogan', 'presley paras', 'alexander holt, lance roehrig', 'abir sengupta', 'p. c. sreeram', 'tariq khan', 'louise wardle', 'mauricio de la orta, taedong park', 'wes llewellyn', 'jos humphrey', \"geoff d'eon\", 'anil ganguly', 'mann robinson', 'doug shultz', 'christopher s. rech, brandon kimber', 'jeff margolis', 'taylor guterson', 'cary murnion, jonathan milott', 'greg morgan', 'avi federgreen', 'jennifer westcott', 'jamie robertson', 'crispin sadler, wayne abbott', 'super jojo', 'ashley gething', 'fabienne godet', 'corey l. branch', 'ganeshaa', 'xiaoxing yi, yoshitaka takeuchi, haoling li', 'juliane block', 'jeff kanew', 'cuong ngo', 'july hygreck', 'michal makarewicz', 'benn flore', 'jerry rothwell, reuben atlas', 'tom elkins', 'steven berryessa', 'brandon dermer', 'danish aslam', 'duncan skiles', 'nick budabin', 'dave mullins', 'scott j. ramsey', 'olga gorodetskaya', 'kazuchika kise, masahiko murata', 'tim neeves', 'tj sullivan, greg rankin', 'robert heath', 'grant singer', 'sudesh manjrekar', 'benoît jacquot', 'ganesh vinaayac', 'jeremy teicher, alexi pappas', 'jarand herdal', 'd ho', 'martin wood', 'janet harvey', 'andrew wagner', 'jean beaudin', 'rowan joffe', 'miguel cohan, miguel cohan', 'ralph macchio', 'daniel f. holmes', 'mark lamprell', 'zachary eglinton', 'christiaan van vuuren', 'luis alejandro pérez', 'cassia dian', 'ken barbet', 'isabelle nanty', 'keiko yagi', 'michael del monte', 'don roos', 'n. chandra', 'john smithson', 'chris hamilton', 'jenée lamarque', 'ben crichton', 'dinesh selvaraj', 'jon garcia', 'nic mathieu', 'andy knight', 'kireet khurana, padmakumar narasimhamurthy', 'maria agui carter', 'elliott hasler', 'brian volk-weiss, matt besser', 'bernie denk, jürgen korduletsch', 'zara hayes', 'tina adams', 'amin dora', 'kevin shulman', 'santwana bardoloi', 'demetrius navarro', 'stefen fangmeier', 'callie t. wiser', 'musthafa', 'kiko cruz claverol, patricia font', 'nick weiss', 'adam robitel', 'chukwuma emma-ogbangwo', 'hugo stuven', 'balu mahendra', 'j.m. berrios', 'ravi udyawar', 'mick davis', 'christian tureaud, david salzberg', 'bekir kulozu', 'ruhkiya s. williams', 'patrick read johnson', 'austin everett', 'michael rymer', 'lluís quílez', 'gezus zaire', 'lana wachowski, lilly wachowski', 'ramón de españa', 'sri raj balla', 'ah loong', 'mahesh narayanan', 'dominic anciano, ray burdis', 'amardeep singh gill', 'vanessa berlowitz', 'john uche', 'craig anderson', 'ramon térmens', 'partho mitra', 'milind zumber kavde', 'jagdeep singh', 'rob burnett', 'seren yüce', 'rob stefaniuk', 'jean-paul rappeneau', \"nicole d'angelo, gregory hatanaka\", 'anoop rangi', 'rich moore', 'ron de moraes', 'vernon e. mortensen', 'atul manjrekar', 'eric darnell, simon j. smith', 'célia catunda, kiko mistrorigo, rodrigo eba', 'anna utrecht, octavio lasheras', 'chris nelson', 'brandon crowson', 'michael steed', 'ron elliot', 'annette haywood-carter', 'vandana kataria', 'yanyong kuruaungkoul', 'daria nazarova', 'amole gupte', 'jean-philippe gaud', 'jason winer', 'melissa finell', 'michael p blevins', 'klaus menzel', 'farishad i. latjuba', 'nicholas hytner', 'jaki bradley', 'marcel dorian', 'paul seed', 'abhiram m', 'kim jeong-yong', 'pablo chamorro gonzález', 'ellen page, ian daniel', 'mangesh hadawale', 'gabriel silverman', 'alankrita shrivastava', 'floria sigismondi', 'noé gonzález', 'daisy aitkens', 'kristoffer nyholm', 'pavel parkhomenko', 'molly hermann', 'andy sidaris', 'ural safin', 'louis morneau', 'anoop sathyan', 'jaison pazhayattu', 'leticia jorge romero', 'matthew amos, laura vallis', 'mark a.z. dippé, kyung ho lee', 'rodrigo toro, francisco schultz', 'pablo giorgelli', 'marlene melchior', 'michał kondrat', 'fouad el-mohandes', 'chidi anyanwu', 'taylor wong', \"pablo d'alo abba\", 'allan caggiano', 'casey de fremery', 'george scribner', 'ks ravindra(bobby)', 'timothy reckart', 'keith strausbaugh, anthony guidubaldi', 'curt siodmak', 'steve trenbirth', 'nathaniel warsh', 'christopher soren kelly', 'mamoru oshii', 'ken burns, christopher loren ewers, erik ewers', 'raj kaushal', 'shelagh carter', 'majaja', 'jérémy clapin', 'jesse sweet', 'pushpdeep bhardwaj', 'robyn butler', 'emcy joseph', 'michael grossman', 'rino arreaza', 'damien chazelle, houda benyamina, laïla marrakchi, alan poul', 'sanjay soorkar', 'andy serkis', 'sam boyd', 'david clair', 'bradley raymond, jun falkenstein, bill speers', 'frank ariza', 'mario mattei', 'william berke, william a. berke', 'zu quirke', 'marion pilowsky', 'akin tijani balogun', 'nancy vazquez, michele frantzeskos', 'monty miranda', 'alec macleod', 'mohsin ali', 'gideon p. sara', 'andrea dorfman', 'kwai daniels', 'juan carlos rubio', 'j. elvis weinstein', 'mckenzie woodward', 'luis javier m. henaine', 'tyler jones', 'lewis d. collins', 'isaac rentz', 'todd graff', 'david holley, deborah cardona', 'tara moore', 'eric w. santos', 'robert orlando', 'barry battles', 'ben palmer', 'barbara topsøe-rothenborg', 'alex reis', 'galina salgarelli', 'dorian fernández-moris', 'nadine ibrahim', 'hannes stöhr', 'troy duffy', 'radhika rao, vinay sapru', 'david hayman', 'clara martínez-lázaro', 'tony waters', 'adam del giudice', 'james brown', 'theresa bennett', 'leonid gaidai', 'jason priestley', 'todd nilssen', 'stephen cognetti', 'kim jee-woon', 'palani', 'anggy umbara', 'anthony chan', 'rahul v. chittella, amira bhargava, annie zaidi, pratik rajen kothari, supriya sharma, arunima sharma, satish raj kasireddi', 'ramaa mosley', 'eylem kaftan', 'bill bixby, charles braverman, jackie cooper', 'satish ramamoorthy', 'amit barot', 'alvin case', 'nikk bergman', 'cecilia peck', 'kazuki watanabe', 'jon dabach', 'sunil thakur', 'ellena wood, jesse vile', 'mike mills', 'k c bokadia', 'mariano cohn, gastón duprat', 'harry horner', 'tom gianas, ross r. shuman', 'd.j. viola, joseph green', 'carlo padial', 'wook hwang', 'madeleine parry', 'taylor hackford', 'james fazio', 'kôji masunari', 'charlie bean', 'mark knight director', 'jonathan jäggi', 'joshua tickell, rebecca harrell tickell', 'mauricio dias, tatiana villela', 'satish randive', 'raj nidimoru, krishna d.k.', 'felix starck', 'sébastien betbeder', 'asim raza', 'charlie siskel', 'javier balaguer', 'dong-hoon choi', 'vi anand', 'mark zwonitzer', 'rod cabatana marmol', 'christian alvart', 'le var burton', 'virgil widrich', 'robert klane', 'jamie m. dagg', 'leslie ramsey', 'philip cook', 'robert pulcini, shari springer berman', 'jonathan taylor', 'eric power', 'prabhuraj', 'arjun bali', 'christopher r. miles', 'michael jai white', 'fernando coimbra', 'owen trevor', 'jung-ah im', 'ryan gage, marta baidek', 'pouran derakhshandeh', 'patrick kelly', 'kirk demicco, brandon jeffords', 'penelope buitenhuis', 'seymour robbie', 'travis guba', 'eric silvera, sean kenealy', 'pierre deschamps', 'shyam prasad', 'abhijit kokate, srivinay salian', 'dia taylor', 'sam upton', 'abel ferrara', 'gregg champion', 'kittiphak thonguam', 'sonia bible', 'kevin bray', 'emmanuel mouret', 'shreyash jadhav', 'jason rutherford', 'omar lulu', 'horacio alcalá', 'tolga karaçelik', 'salvador simó', 'valli bindana', 'michael offer', 'eric parkinson, matt reeves, oley sassone', 'chang cheh', 'jon watts', 'frank capra, joris ivens', 'andy andico', 'mark stolzenberg', 'chad barager, kevin speckmaier', 'jonathan zuck', 'dean devlin', 'gaelan connell', 'sandy chronopoulos', 'abdellatif kechiche', 'marcus dunstan', 'lindsay shonteff', 'martin owen', 'jean chambre, lygia beatriz', 'eva müller, michael schmitt', 'michael palmieri, donal mosher', 'alex coletti', 'leung lok man, luk kim-ching', 'todor chapkanov', 'pradeep sarkar', 'neena nejad and xoel pamos', 'law wing-cheong', 'francisco ramalho jr.', 'paul glaser', 'michelle ehlen', 'ellory elkayem', 'thomas d. moser', 'christopher wiggins', 'malik vitthal', 'matthew butler-hart', 'alex infascelli', 'jay dockendorf', 'nigina sayfullaeva', 'julio buchs, lucio fulci', 'eric styles', 'arati kadav', 'h. krvavac', 'peter venn', 'nash edgerton', 'ogundoju ojo, musa raji dop', 'vishal mahadkar', 'vir das', 'nagulan ponnusamy', 'tom edmunds', 'alfons adetuyi', 'steve purcell', 'derrick c. mullen', 'lew ayres', 'sean lafollette', 'narendra bedi', 'robin parsons', 'bruce mcdonald', 'michael brandt', 'michael goldbach', 'sanjay karlapudi', 'nathan silver', 'joe duca', 'k. rajagopal', 'timo joh mayer', 'mike gabriel, eric goldberg', 'svetozar ristovski', 'chad hartigan', 'prakash kovelamudi', 'dr. rudolf lammers', 'kader aoun', 'bruno barreto', 'mike akel', 'sarawut wichiensarn', 'chibuzor afurobi', 'vallo toomla', 'julian schnabel', 'robert kouba', 'david m reynolds', 'vincenzo labella', 'srinivasan venkatesh', 'shyam mandala', 'mark thornton, todd kauffman', 'a. p. nagarajan', 'aaron lieber', 'john oak dalton', 'elizabeth rohrbaugh, daniel powell', 'alex díaz, marcos bucay', 'marshall brickman', 'craig macneill', 'steve hofstetter', 'fumihiko sori', 'larysa kondracki', 'jeffrey travis', 'dennis scholl, kareem tabsch', 'eduardo mendoza de echave', 'mario caiano', 'ashwiny iyer tiwari', 'jan-peter horns', 'sophie fillières', 'david hessemer', 'jon long', 'andrew jacobs', 'pedring lopez', 'jay bulger', 'kevin ford, smriti keshari, eric schlosser', 'li yuhe', 'guido brignone', 'sneha taurani', 'mario xavier', 'brody chu', 'matías bize', 'aaron mirtes', 'diego luna', 'ali kalthami, meshal aljaser, faris godus, mohamed al salman, faisal al amer', 'ray jiang', 'frank mosley', 'c. fitz', 'cheyenne picardo', 'chip hale', 'andy delaney, monty whitebloom', 'teddy lussi-modeste', 'bernard vorham, bernard vorhaus', 'sam taylor-johnson', 'debbie allen', 'ben young', 'amy heckerling', 'tha. muruganantham', 'naressh kuppili', 'severin eskeland', 'gafoor y. elliyaas', 'steven mertens', 'you-jeong chang', 'george butler', 'johnny martin', 'chadney cooles', 'tim wilson', 'julius avery', 'meng hua ho', 'tim kirkby', 'david blanco', 'david morris, jacqui morris', 'will mcfadden', 'frederik du chau', 'kevin hicks', 'onur tukel', 'bruce mcculloch', 'walter murch', 'marcos carnevale', 'ed winfield', 'maurice joyce', 'raymond mcgrath', 'marcus lenz', 'gaurav bavdankar', 'akira kurosawa', 'sameh zoabi', 'matthew salleh', 'john r. leonetti', 'arnaud bouron, antoon krings', 'edoardo winspeare', 'archie borders', 'chung mong-hong', 'travis zariwny', 'slava tsukerman', 'francesco carnesecchi', 'kirby voss', 'yeung yat-tak', 'chris moukarbel', 'doug ellin', 'jude anthany joseph', 'douglas hickox', 'christopher sanders, dean deblois', 'elaine h. kim', 'kaushik ganguly', 'brian connors', 'alastair orr', 'amanda sonnenschein, michael bloom, grannell knox', 'dwayne parker', 'uduak-obong patrick', 'samuel bischoff', 'derrick hammond', 'philippe lefebvre', 'jami', 'megan wennberg', 'muhammad ali', 'oded raz', 'parameswar', 'bob jaffe', 'gregor nicholas', 'pavan sadineni', 'alvy smith', 'nitish bhardwaj', 'nicolas gessner', 'brooklyn ewing', 'reed shusterman', 'dan grin', 'just philippot', 'andré pellenz', 'ian iqbal rashid', 'roy andersson', 'rush sturges', 'johnny k. wu', 'john albarian', 'sandra restrepo', 'garry matheny', 'bryan buckley', 'kyle clark', 'karen disher', 'claude guilmain', 'pawan kripalani', 'pooja bhatt', 'khalid rahman', 'ali askari', 'ian kirby', 'fellipe barbosa', 'joseph lawson', 'robert kenner, taki oldham', 'frank hall green', 'osman ali', 'f. richard jones', 'david wendell boykins', 'billy bob thornton', 'm. padmakumar', 'julia rezende', 'dustin hoffman', 'tanawat aiemjinda', 'paul apel papel (dgn)', 'kim jin-min', 'damon jamal', 'kit monkman', 'alex t. hwang', 'dhana sekaran', 'paul kampf', 'francesco amato', 'a gokul krishna', 'derek cole', 'leslie thomas', 'james woodroffe', 'adrian cale', 'collin schiffli', 'sydney sibilia', 'carl mendez', 'rajesh ganguly', 'fruit chan', 'rama rau', 'david d. dietrich', 'lauren greenfield', 'cati gonzalez', 'cal brunker', 'eric juhola', 'tommy chong', 'patrick wright', 'luis javier henaine', 'morgan neville, robert gordon', 'michael martin', 'anita barbosa', \"tom o'dell\", 'manuel martín cuenca', 'jacques tourneur', 'andrew bergman', 'steve williams', 'jason friedberg', 'eleanore lindo', 'kasia adamik, agnieszka holland', 'cheran', 'ed wexler, gary katona, jamie mitchell', 'jason wright', 'paul landres', 'dean wellins', 'nicholas zeig-owens', 'kate drummond', 'herve bodilis', 'david lee miller', 's. roy luby', 'franco steffanino', 'sigmund spath jr.', 'césar rodrigues', 'ed abroms', 'richard t. heffron', 'esther veronin', 'declan donnellan, nick ormerod', 'françois dompierre', 'alfredo hueck', 'alex israel', 'julien abraham', 'wilhelm liebenberg, federico sanchez', 'alan barillaro', 'christophe honoré', 'yen tan', 'marcelo altmark, mariano mucci, luis a. scalella', 'emmett alston', 'vinoth rajendran', 'joe murray, cosmo segurson', 'cüneyt kaya', 'chris jenkins', 'felipe bretas', 'eva spreitzhofer', 'hsu chih-yen, mag hsu', 'jasmine  jamar alston', 'yocalm studios', 'richard parry', 'jason killian meath', 'olivier jean-marie', 'melinda hill', 'gilles legrand', 'jean claude lamarre', 'jackson ducasse', 'françois marthouret', 'ol parker', 'eddie mensore', 'steven knight', 'brian percival', 'robert rodriguez, patrick osborne', 'naya anindita', 'jason lai', 'tony datis', 'richard l bare', 'mike bencivenga', 'joe ciminera', 'wade alexander', 'steve sacks', 'pepsy romanoff', 'eric bress', 'ali scher', 'hepi mita', 'basava shankar eeday', 'robyn august', 'larry peerce', 'tim bartley', 'joseph giannini', 'vicky matthews, gareth sacala', 'amro salah', 'sorin dan mihalcescu', 'hernán jiménez', 'james keach', 'catalina molina', 'anna wieczur-bluszcz', 'odunlade adekola', 'scott cooper', 'jim abrahams', 'azhagu rajasundaram', 'lyttanya shannon', 'aleksey german', 'ashok dev', 'c3 entertainment,  inc.', 'mandeep kumar', 'adrian munsey, vance goodwin', 'pablo lejarreta, luis alfaro', 'sebastián hofmann', 'joseph c. hanwright', 'mangesh kanthale', 'ted hallock', 'sean menard', 'pedring a. lopez', 'peter howitt', 'edwin chang', 'bob odenkirk', 'rob smat', 'mandla dube', 'griffin dunne', 'nal. senthilkumar', 'soukarya ghosal', 'chris bollinger', 'rupert wainwright', 'jaco booyens', 'rajesh m. selva', 'doug lefler', 'isabel sandoval', 'françois gingras', 'emanuel hoss-desmarais', 'jeffrey w. byrd', 'adarsh eshwarappa', 'anthony mann', 'b. v. s. ravi', 'mark lund', 'uli edel', '\\xa0raoul walsh, mario bava', 'vamshi narasimha', 'dick rude', 'tad stones, toby shelton, victor cook', 'robert cannan, ross adam', 'daryl hannah', 'paul ragsdale', 'michel gondry', 'rachit kusonkoonsiri', 'yance ford', 'karl brown', 'kristi jacobson, lori silverbush', 'simon cellan jones, elinor day', 'george amponsah', 'martín deus', 'michael c. martin', 'chuck conry', 'crane wilbur', 'mohamed yassin', 'robert flaherty', 'ali taner baltacı', 'steve hickner, simon j. smith', 'allen coulter', 'karl mueller', 'sunhil sippy', 'mark andrews, brenda chapman', 'krishna kumar', \"federico d'alessandro\", 'bob rose', 'ossama abu el atta, tarek al eryan', 'jenny ash', 'raj kanwar', 'eduardo pinto', 'henry sarwer-foner', 'steven e. de souza', 'fazila allana', 'leïla sy, kery james', 'dustin mckenzie, andrew duncan, audu paden', 'gauravv k chawla', 'terri randall', 'doug hamilton', 'oscar micheaux', 'sujay ramaiah', 'minar malhotra', 'vivek athreya', 'keith r robinson', 'praveen gandhi', 'roman coppola', 'paul weiland', 'ismael rodriguez, albert c. gannaway, ismael rodríguez', 'william a. graham', 'jacob gentry', 'gregory dixon', 'rodrigo reyes', 'randall larsen', 'matthias hoene', 'peter mortimer, josh lowell', 'david leveaux', 'sung do-jun', 'gordon freeman', 'hong won-ki', 'lee chang-geun', 'dan wolman', 'patrick russell', 'robert mullan', 'kief davidson, pedro kos', 'karim el sobky', 'chella ayyavu', 'gray hofmeyr', 'filip kovacevic', 'martín sastre', 'banjong pisanthanakun, paween purikitpanya, songyos sugmakanan, parkpoom wongpoom, visute poolvoralaks', 'jacob lamendola', 'fhiona-louise', 'nora ephron', 'ramzy bedia, éric judor', 'leanne gater', 'pratim d gupta', 'brian volk-weiss, samuel brownfield', 'frank strayer, frank r. strayer', 'anand shankar', 'lauren miller rogen', 'leonide moguy', 'sunkanmi adebayo', 'isaac feder', 'venu, aashiq abu, jay k', 'seth henrikson', 'michael cristofer', 'matt aselton', 'jordan pacheco', 'katja von garnier', 'aanand rai', 'ben cura', 'manish gupta', 'rogers conners', 'roberto rodríguez', 'lance doty', 'maclain nelson, stephen shimek', 'leif tilden', 'ziggy hofmeyr', 'hubert woroniecki', 'jack beranek', 'alexandra dean', 'joshua oppenheimer', 'ahmet katıksız', 'dominic leclerc', 'mario rouleau', 'david pritchard', 'vipin parashar', 'florian schnell', 'jason moore', 'mike ezuruonye', 'simon kinberg', 'chris carson emmons', 'brie larson', 'sidi cherkawi benzahra', 'lacey schwartz, james adolphus', 'phil sgriccia', 'robert boocheck, james feeney, j.m. logan, chris mcinroy, sarah k. reimers, jason tostevin', 'alex de rakoff', 'anand kamalakar', 'nageshwara rao anchula', 'abbas mustan', 'mike dunkin', 'norman stone', 'aleksey shaparev', 'rob schneider', 'kevin parker flynn', 'byeon hee-sun', 'derek holder, cannis holder', 'vijay roche', 'claudio fah', 'tanveer khan', \"avai d'amico\", 'enrique gato', 'manu ashokan', 'andy casagrande', 'nick laughland', 'ladislaus kiraly', 'kyohei ishiguro', 'amr salama', 'sanket prakash pavse', 'kevin willmott', 'emily hagins', 'cavi borges, luciano vidigal', 'david briggs', 'joseph l. scanlan', 'olivier abbou', 'julie gavras', 'krishna vamshi', 'dan povenmire, robert hughes', 'curtis harrington', 'karim amer, jehane noujaim', 'yoon sung-hyun', 'lew landers', 'dzhanik fayziev', 'priyadarshan, kookie v. gulati', 'jim greayer', 'tom hadzor', 'tony bancroft, scott christian sava', 'miguel ángel lamata', 'robert munic', 'dawn porter', 'brad silverman', 'krishna ashu bhati', 'mike nicoll', 'erle c. kenton', 'aniruddha upadhyay', 'robert ethan gunnerson', 'cheang pou soi', 'david batra, jon rudberg', 'chee keong cheung', 'vijay s. bhanushali', 'duncan napier-bell', 'brett hedlund', 'agasyah karim, khalid kashogi', 'gregory plotkin', 'abhilash reddy', 'jean van de velde', 'greg dorchak', 'dan mazer', 'tim brown', 'matthew atkinson', 'brahmanand reddy', 'bobby mcgruther', 'fajar bustomi', 'malcolm venville', 'geoffrey orthwein, andrew sullivan', 'imtiaz punjabi', 'jay karas, demetri martin', 'curtis graham', 'joey menzel', 'ivan passer', 'milind dhaimade', 'toshiyuki tsuru', 'lisa bryer', 'j-c lord', 'yuki tanada', 'j.f. lawton', 'jeff gipson', 'ian harris', 'craig clyde', 'matt reeves', 'richard phelan, will becher', 'andre ristum', 'matt bell', 'zaza urushadze', 'george sidney', 'joe penna', 'bhushan patel', 'david winning', 'dan svátek', 'emilio aragón', 'arnab chaudhuri', 'diego lerman', 'bakhtier khudoynazarov', 'duccio tessari', 'jesús magaña vázquez', 'christopher hampton', 'joseph ebanks', 'patrick tatopoulos', 'jill rae zurborg', 'a.j. martinson', 'duncan coe, elena weinberg', 'lela swift', 'michael carnick', 'james d. stern, fernando villena', 'shadab khan', 'tony elliott', 'sprocket flicks', 'swaroop vaishali balasaheb sawant', 'appie boudellah, aram van de rest', 'linas phillips', 'bradley hasse', 'joseph l. mankiewicz', 'mathieu auvray', 'shawn linden', 'sharan sharma', \"andré d'elia\", 'don hall, chris williams', 'joseph mathew, dan devivo', 'nima nourizadeh', 'manny rodriguez, matthew mcneil', 'j.f. musial, josh vietze', 'howard hughes', 'tom stout', 'nicole holofcener', 'john woods', 'larry weitzman', 'david feiss', 'mathieu ratthe', 'pablo stoll, juan pablo rebella', 'santiago ventura', 'julio medem', 'david a. cross', 'andy baybutt', 'jesse stanley', 'stephanie turner', 'rob winfrey, mark maness', 'mathieu mortelmans', 'fabio ock, joana mazzucchelli', 'tom tykwer', 'zachary heinzerling', 'daniela de carlo', 'sri senthil', 'kôji shima', 'justin p. lange', 'harvey keith', 'james watkins', 'ramana madhesh', 'd.j. viola, stephen chiodo, nicholas webster', 'anil mehta', 'peter levin', 'dominique rocher', 'sandra l. martin', 'randall lobb, robert mccallum', 'abu bakr shawky', 's. dharani', 'tope alake', 'rock davis, jay rodriguez', 'mario briongos', 'cyrus nowrasteh', 'yvonne mackay', 'binu ulahhannan', 'bolanle austen-peters', 'richard rowntree', 'brian webber', 'hamilton luske, clyde geronimi, wilfred jackson', 'prosit roy', 'w. l. molina', 'kevin nolting', 'huck botko', 'craig moss, j. bryan dick', 'david serrano', 'josh boone', 'raghav peri', 'rolfe kanefsky', 'subramaniam siva', 'mark jones', 't. r. ramanna', 'noushad', 'pramod pawar', 'brian clyde', 'tony maylam', 'craig roberts', 'anne wheeler', 'dustin guy defa', 'tim reis', 'sherif mandour', 'torsten hoffmann, michael watchulonis', 'paul tickell', 'adrian murray', 'daniel monzón', 'gianni di gregorio', 'hal walker', 'shane black', 'john barker', 'ian bagg', 'sean stanek, corbin timbrook', 'lewis milestone, carol reed', 'michael civille', 'donick cary', 'tc', 'geetu mohandas', 'ally walker', 'vincent kok', 'g. ashok', 'anthony page', 'stacy maltin', 'eva vives', 'jean-marc piché', 'william lau, sylvain blais', 'ollie bartlett', 'luis bunuel', 'lucio a. rojas', 'barry devlin', 'stuart strickson', 'jennifer beamish, toby trackman', 'giles alderson', 'rusty cundieff, darin scott', 'barney clay', 'howard mccain', 'hari nath', 'max lewkowicz', 'sagar pathak', 'scott mosier, yarrow cheney', 'robin hardy', 'brian avenet-bradley, laurence avenet-bradley', 'wendy morgan', 'james schroeder', 'guillermo ivan', 'michael james regan', 'taylor king', 'mark toia', 'jude okwudiafor johnson', 'sabir khan', 'juan carlos garcia de paredes, carlos garcia de paredes', 'prem nizar', 'v.vinay kumar', 'dean tucker', 'nathan juran', 'sam dunn', 'tamer bassiouni', 'jonathan liebesman', 'milon v. parker', 'xavier manrique', 'rodrigo guardiola, gabriel cruz rivas', 'mister hero, keith r. robinson', 'arul', 'ralph hemecker', 'michael dillon', 'anjum shahzad', 'hoyt yeatman iv', 'karel reisz', 'lester hsi', 'rich moore, phil johnston', 'greg a. sager', 'v. scott balcerek', 'thomas meadmore', 'danny leiner', 'steven gomez', 'tamara jenkins', 'joseph c tury', 'aaron hann, mario miscione', 'carl dudley, richard goldstone, frances d. lyon, walter thompson', 'marcelo piñeyro', 'garrett clancy', 'matt villines, oz rodriguez', 'john rich', 'alfred zeisler', 'keli price', 'lydia dean pilcher, ginny mohler', 'dustin mckenzie, steve sacks', 'gideon quin', 'santosh manjrekar', 'p. j. pesce, ralph hemecker', 'charles grosvenor, paul sabella, toby bluth', 'lee min-jae', 'kanwal sethi', 'jayanth gali', 'leann erickson', 'ricardo trogi', 'sharon grimberg', 'robert gordon', 'john beuchler', 'philip g. atwell', 'marina rice bader', 'c. v. sasikumar', 'rick ernst', 'sharat katariya', 'joel souza', 'raffaello matarazzo', 'guillermo de oliveira', 'rikhil bahadur', 'robert rodriguez, ethan maniquis', 'monte hellman', 'julia von heinz', 'jason krawczyk', 'keerthi', 'tuva novotny', 'maz jobrani', 'lionel jeffries', 'kristin hanggi', 'd. james newton', 'andrew dillon', 'raj n. sippy', 'garin nugroho', 'igal hecht', 'tarek al eryan', 'robin bissell', 'hugues nancy, fabien beziat', 'luca vullo', 'semi chellas', 'nalita murray', 'tinu pappachan', 'geoff murphy', 'jd cohen', 'joseph losey', 'william c. thomas', 'k. balakrishnan', 'vasantha mani', 'arvind kamath', 'mitchell slan, xavier price', 'dar gai', 'ryan silva', 'christina choe', 'michael x. rose', 'julio fernández talamantes', 'robert radler', 'mack v. wright', 'billy ray', 'jeferson de', 'susan maljan', 'surya kiran', 'wolf wolff, ohmuthi', 'jordan leondopoulos, john c. broderick, john shade', 'otilia portillo padua', 'lance hool', 'niall maccormick', 'rohan sippy', 'aitor arregi, jon garaño, jose mari goenaga', 'johnny to', 'waris hussein', 'patrick mcconnell', 'jon hewitt', 'david glossberg', 'john duncan', 'madasir dar', 'carlos sorín', 'shauna macdonald, kate johnston', 'andrew tan, stephen murray', 'prem aryan', 'jitendra tiwari, pranav singh', 'ak.reed films (amire k reed), duece king', 'marwan hamed', 'robert conway', 'cho li, chen hung-yi, weica wang, liu bang-yao, lin guan-fu, shen chi, yc tom lee', 'gary chapman', 'luther reed', 'kristian boruff', 'augustine frizzell', 'brendan byrne', 'gastón duprat, mariano cohn', 'daniel schechter', 'jason friedberg, aaron setzer', 'martin johnson', 'ellen weissbrod', 'nirpal bhogal', 'daniel espinosa', 'jason hewitt', 'brian kazmarck', 'jack hill, joel reed, stephanie rothman', 'harold schuster, harold d. schuster', 'emily skye', 'juliana vicente', 'steve buscemi', 'shaz bennett', 'chris purchase', 'brian vance', 'ylmaz arslan', 'scott mcaboy', 'randy van dyke', 'woo ming jin', 'david au', 'milton katselas', 'valerie lapointe', 'lee jeong-sub', 'matt ogens', 'richard dutcher', 'mostafa keshvari', 'sabrina rochelle kalangie', 'ion popescu-gopo', 'gautam joglekar', 'alfred castillo jr., lamarcus tinker', 'orson ossman, tyler graham pavey', 'keith l. smith', 'blake van de graaf', 'matthew goodhue', 'tobe hooper', 'luis puenzo', 'tone bell', 'kang nam kyu', 'james cahill', 'richard michaels', 'keshav depur', 'wi ding ho', 'colin teague', 'coke daniels', 'meghna gulzar', 'shinpei hayashiya', 'gilbert cates', 'ted berman, richard rich', 'lance young', 'fernando acevedo', 'scott marshall smith', 'steve conway', 'aniedi anwah', 'max fleischer', 'will forbes', 'sang jun park', 'rashida jones, alan hicks', 'felipe cisneros', 'mike leigh', 'neeraj udhwani', 'wim bonte', 'richard arellano', 'timothy galfas', 'ajoy varma', 'pablo faro', 'phillip borsos', 'jason stone', 'moataz el tony', 'vishwak sen', 'e.a. dupont', 'marcel barrena', 'doug mckeon', 'peter hastings', 'john musker, ron clements, dave michener', 'luis alfaro, javier gómez santander', 'jared moshé', 'ravi kumar', 'hugh schulze', 'lauralee farrer', 'jadzia perez, leia perez', 'gary owen', 'a. edward sutherland', 'kees van oostrum', 'jerry london', 'george a. johnson', 'marina willer', 'pavel kostomarov', 'wanly florexile', 'lukas dhont', 'bornila chatterjee', 'ken loach', 'yemi amodu', 'francisco macri', 'david yuzuk', 'louis garrel', 'steven hunter', 'liza johnson', 'lee kelley', 'utsav mukherjee', 'sebastian jones, ramez silyan', 'terry winkless', 'ben kasulke', 'bartosz m. kowalski', 'timothy boyle (tim boyle)', 'andreas pichler', 'sujay shastri', 'shrihari sathe', 'partha chakraborty', 'andrew lau', 'bille august', 'brent maddock', 'kenny leon', 'zee ntuli', 'maureen goldthorpe', 'peter stebbings', 'gary sherman', 'e ibrahim', 'daniel petrie', 'philip einstein lipski, jørgen lerdam, amalie næsby fick', 'robert berlinger', 'mark ritchie', 'fritz kiersch', 'spencer gordon bennett', 'john stewart muller', 'richard shepard', 'steven stainberg', 'becca gleason', 'peter sattler', 'johnny remo', 'alfred werker', 'jesse v. johnson, jesse johnson', 'mitch dickman', 'max strand', 'alexx media', 'charles matthau', 'madeleine parry, jon olb', 'matt angel, suzanne coote', 'huang lei', 'david bergman', 'madoka raine', 'wolfgang reitherman, john lounsbery', 'guillaume pierret', 'thomas kail', 'christopher chambers', \"matthew o'callaghan\", 'manny rodriguez, jay lavender', 'samuel fischer', 'simon frederick', 'houssam el-din mustafa', 'amol palekar', 'deep basu', 'matt tauber', 'pass patthanakumjon', 'michael parkhurst', 'chaitanya reddy vaka', 'simon shore', 'emeka ukaegbu', 'bruce robinson', 'lonny price', 'matt gallagher', 'rawindra pulle', 'naranippuzha shanavas', 'mariano baez', 'gayane petrosyan', 'tina petrova', 'gs goutham krishna', 'brian helgeland', 'clay porter', 'yogesh deshpande', 'jay baruchel', 'georges hachem', 'philip marlatt', 'jack sholder', 'micki dickoff', 'jay hatcher', 'j.t. petty', 'jaivi dhanda', 'krysia plonka', 'james dearden', 'uncanny episodes', 'gil kenan', 'ben stassen, vincent kesteloot', 'ponram', 'matthew wolfe', 'clarence brown', 'patrick rea', 'jacob joice', 'john lloyd taylor', 'daisy von scherler mayer', 'ajay phansekar', 'mark walsh', 'mykee morettini', 'max lang, jani lachauer', 'cheryl nichols', 'al herman', 'ehtesham uddin', \"richard van't riet\", 'bruce macdonald, gabriel sabloff', 'mansore', 'brad bestelink', 'jai krishna', 'samar khan', 'seema pahwa', 'andrea arnold', 'ari levinson', 'raymie muzquiz, stu livingston', 'greg mottola', 'st. joseph nwanze', 'balaji sanala', 'rick bieber', 'harve foster', 'christel gibson', 'alan yang', 'james w. horne', 'mark tompkins', 'ananda krishnan', 'cai cong', 'terry loane', 'howard hawks, william wyler, richard rosson', 'antti jokinen', 'hriday shetty', 'sanjib dey', 'lewis r. foster', 'manmohan desai', 'jjc skillz, funke akindele', 'daryl duke', 'knox hughes, ray kellogg', 'y. joon chung', 'n.d. wilson', 'gupse özay', 'sayantan ghosal', 'bruce wemple', 'akim macauley', 'aaron mcjames', 'jesse handsher, olivier roland', 'richard tanne', 'kristina wagenbauer', 'thomas toby parkinson', 'prem soni', 'sesh karthikeya', 'roger holzberg', 'volker arzt, angelika sigl', 'dan napoli', 'robert stone', 'sampath', 'robert butler', 'thomas smugala', 'rahul srivastava', 'alyn darnay', 'sedat kirtan, kubilay sarikaya', 'kazuaki kiriya', 'vu duc thang', 'demetri martin', 'sue brooks', 'vincenzo natali', 'elliott lester', 'mahmoud al massad', 'kamlakar torne', 'teng cheng', 'tolu awobiyi', 'nahala johnson', 'han sang-ho', 'thomas stuber', 'james signorelli', 'alastair fothergill, andy byatt', 'rizki balki', 'julián gaviria', 'edward a. kull', 'jaytee thompson', 'pia sukanya', 'richard j. perry', 'brett whitcomb', 'alastair fothergill, mark linfield', 'shreyas talpade', 'robert megha', 's. saha', 'matthew robbins', 'sonny mallhi', 'michael elkin', 'matt thompson', 'joel crawford', 'martin munthe', 'victoria bromley', 'don e. fauntleroy', 'cheryl knapp', 'chris renaud', 'sekhar suri', 'christine luby', 'philip s. plowden', 'white cross', 'john geddes', 'spiro razatos', 'dwayne labbe', 'christine arnold, conor reed, brian watson, christian washington, mike shiell, kris yim, michaela wadzinski, natasha cánepa borrero, emily kimes, nick chuang, rj jj jegatheva, christopher satola, eunkyun ko, anthony leigh, diana reichenbach, robin tremblay, marta topolska', 'raja sen', 'daisy mayer', 'kenzo maihara, amandha wyanto', 'vincent perez', 'avinash das', 'tony kaye', 'matthias guenter, andy herzog', 'jeff calhoun, brett sullivan', 'luis mandoki', 'madonna', 'k. r. jaya', 'prabhu deva', 'joe boyd', 'dean lowell', 'stephen durham', 'freida lee mock', 'vincent ward', 'sam liu, frank paur', 'david lam', 'laslo benedek', 'luke joerger', 'daniel prochaska', 'rotimi akanbi', 'richard w. munchkin, rick jacobson', 'kevan otto', 'aram rappaport', 'jayendra panchapakesan', 'hussein el ansary', 'page hurwitz', 'sandra kogut', 'stephan elliott', 'phillip youmans', 'espen sandberg', 'julian chojnacki', 'chalart sriwanna', 'frank vitale', 'mark monroe', 'jefferson moore, shane sooter', 'andrew kazamia', 'cecilia atán, valeria pivato', 'luis libran, carl june', 'lancelot oduwa imasuen', 'howy parkins', 'jon silver', 'mark halliday', 'yayo herrero', 'nick love', 'jakob verbruggen', 'christopher-lee dos santos', 'carol wiseman', 'ola flyum, david hebditch', 'jonathan teplitzky', 'dan macarthur', 'kaspar astrup schröder', 'rajan madhav', 'johane matte, andrew l. schmidt, francisco ruiz velasco', 'ellie kanner-zuckerman', 'olya zueva', 'filip zylber', 'robert quinn', 'maite ruiz de austri', 'mark craig', 'stefan aust, dirk laabs', 'chillz mental', 'tony leondis', 'philip selkirk', 'gregory lacava', 'tatsuya ishihara', 'umesh bist', 'ui-seok jo', 'dave fleischer', 'jean-pierre jeunet, marc caro', 'r. stephen suettinger', 'kirk douglas', 'david haskell', 'barnet bain', 'sanjay verma', 'vishnu govindhan', 'ben a. williams', 'amit masurkar', 'josef fares', 'luke jurevicius', 'richard greenberg', 'capi validcapi validcapi validcapi validcapi validcapi validcapi validcapi validcapi validcapi validcapi validcapi validcapi validcapi validcapi validcapi validcapi validcapi validcapi validcapi validcapi validcapi validcapi validcapi validcapi validcapi validcapi validcapi validcapi validcapi validcapi validcapi validcapi validcapi validcapi validcapi validcapi validcapi validcapi validcapi validcapi validcapi validcapi validcapi validcapi validcapi validcapi validcapi validcapi validcapi validcapi validcapi validcapi validcapi validcapi validcapi validcapi validcapi validcapi validcapi validcapi validcapi validcapi validcapi validcapi validcapi validcapi validcapi validcapi validcapi validcapi validcapi validcapi validcapi validcapi validcapi validcapi validcapi validcapi validcapi validcapi validcapi validcapi validcapi validcapi validcapi validcapi validcapi validcapi validcapi validcapi validcapi validcapi validcapi validcapi validcapi validcapi validcapi validcapi validcapi validcapi validcapi validcapi', 'tracy lucca', 'martin zandvliet', 'simon egan', 'siddharth p malhotra', 'nicholaus goossen', 'konkona sensharma', 'jean-pierre krief', 'macon blair', 'r.g. springsteen', 'adrian younge', 'bruce gowers', 'fred carpenter', 'bruno podalydes', 'harvey glazer', 'ralph murphy', 'ralph cedar, ralph ceder', 'sian heder', 'patrick vollrath', 'james gardner', 'katarina launing', 'euzhan palcy', 'johnny breedt', 'alo sarkar', 'joe dietsch, louie gibson', 'peter borg', 'bill guttentag, michael ware', 'raj pendurkar', 'kitaro kosaka', 'nanni loy', 'simon cellan jones', 'naoto amazutsumi', 'rupert jones', 'michael lennox', 'jodi flynn, brent montgomery', 'ayman makram', 'mag hsu, hsu chih-yen', 'adam berardi', 'alan alda', 'dr.harnadh policherla', 'stacia crawford', 'michael keller', 'david frazee', 'nico edwards', 'rajesh touchriver', 'curro velázquez', 'diana cossa, neal howard', 'steve ball, andrew duncan', 'tati vogt', 'kurt mattila', 'sean s. cunningham', 'jayesh pradhan', 'nakul singh sawhney', 'yolande zauberman', 'shady srour', 'li weiran', 'mike thurmeier', 'peter farrelly, bobby farrelly', 'cory cavin', 'rob laduca, robert c. ramirez', 'akhigbe ilozobhie', 'norman lear', 'bhavik thakore', 'anusha rizvi, mahmood farooqui', 'paul unwin', 'praveen kandregula', 'eric hurt', 'james marquand', 'jonathan dayton, valerie faris', 'jonathon link', 'nadia bedzhanova', 'df fiuza', 'griffin loch', 'néstor sánchez sotelo', 'atul malhotra', 'rebekah fortune', 'marco hülser', 'kuntz agus', 's krishna', 'fred jackman', 'walt disney', 'andrea di stefano', 'cassi simonds', 'nick cassavetes', 'emanuele michetti', 'eva gardos', 'ofir raul graizer', 'robert nixon', 'stephen s. campanelli', 'muzi mthembu', 'dinesh vijan', 'edward l. cahn', 'ahmed siddiqui', 'jeannot szwarc', 'hereward pelling', 'kim sung-ho', 'jang chang-won', 'rajesh m selva', 'elizabeth shryer', 'donn johnson', 'c s amudhan', 'g. ramesh', 'marc berlin', 'andrew slater', 'natalia shaufert', 'adam dubin', 'ken marino', 'magdy al-hawwary', 'ian olds', 'brian farmer', 'richard mears', 'rk santosh', 'cuba gooding,  jr.', 'nandita das', 'anthony byrne', 'olivier loustau', 'toby shelton, tad stones, alan zaslove', 'vinay laad', 'sakthi chidambaram', 'alice rohrwacher', 'yuvaraj subramani', 'siddharth raj anand', 'ka fai wong', 'harvey glazer, stuart stone', 'jonathan augustin', 'veernala rama krishna rao', 'nikhil pherwani', 'bill marin', 'linda korsten', 'aijaz khan', 'radhu karmakar', 'shane dax taylor', 'sarah siegel-magness', 'robert cullen, josé luis ucha', '藤村明世', 'mario azzopardi', 'larry shaw', 'chad cohen', 'tony mcnamara', 'eric etebari', 'r. john hugh', 'victoria wood', 'david fairhead', 'karen moncrieff', 'jean-marc vallée', 'denny hironaga, eric nemoto', 'ricardo de montreuil', 'shashilal k. nair', 'luis alberto restrepo, andrés beltrán, jaime rayo', 'sophie goodhart', 'stacy pascal gaspard', 'maynard kraak', 'mahmood ali-balogun', 'timothy a. smith', 'teddy newton', 'arun kumar bandari', 'tony zierra', 'vir das, ajay bhuyan', 'milton horowitz', 'gabe klinger', 'geo santini', 'cheng wei-hao', 'zell miller iii, tawanna wilkins', 'samar shaikh', 'mohammad irfan ramly', 'raj mehta', 'colin dench', 'mark obenhaus', 'christine welsh', 'kay cannon', 'mathieu orcel', 'ryuichi hiroki', 'josh trank', 'hiromasa yonebayashi, yoshiyuki momose, akihiko yamashita', 'silk white', 'jeremy grant', 'james gray', 'joe swanberg', 'jason saltiel', 'saquan jones', 'kikuo kawasaki', 'jill bauer, ronna gradus, rashida jones', 'pepe bojórquez', 'ranjit jeyakodi', 'susan lacy', 'jeremy turner', 'bill bixby', 'josh safdie, benny safdie', 'david zeiger', 'elizabeth leiter, kimberly woodard', 'jose gomez', 'andy wilson', 'c. thomas howell, patrick read johnson', 'rick altizer', 'william monahan', 'john carpenter', 'bob byington', 'shelly yo', 'bert & bertie', 'mitsuru hongo', 'alik sakharov', 'jennifer m. kroot', 'hiroshi katagiri', 'rajeev patil', 'james kirkwood', 'rene bueno', 'parthiban', 'massimiliano russo', 'vijay kumar arora', 'jagger gravning', 'michael thelin', 'evan oppenheimer', 'pitambar kale', 'linda saffire, adam schlesinger', 'nonzee nimibutr', 'anita udeep', 'richard w. munchkin', 'jim haggerty', 'ann forry', 'renan ozturk', \"shinji aramaki, mamoru oshii, hideki futamura, toshiyuki kanno, tomoki kyoda, koichi mashimo, yasushi muraki, daisuke nishio, frank o'connor, koji sawai, joseph chou, hiroshi yamazaki\", 'mark hosack', 'abdulaziz alshlahei', 'dana nachman, don hardy jr.', 'mathieu turi', 'tinge krishnan', 'ian macallister mcdonald', 'sajid khan', 'ohmkar', 'chris paine', 'jimena monteoliva', 'alon schwarz, shaul schwarz', 'eric idle', \"francisco d'eufemia\", 'julian karikalan', 'dhruv dhawan', 'bolaji tijani-qudus', 'belen suarez, stu katz', 'sergio pablos', 'elijah holston', 'jeff burr', 'richard compton', 'chiaki kon', 'riagáin grainger', 'keith habersberger', 'joseduardo giordano, sergio goyri jr.', 'neasa ní chianáin, david rane', 'qiao fang', 'jayaraj rajasekharan nair', 'ashley hays wright', 'eddie izzard', 'thomas f. mazziotti', 'brittany andrews', 'eric tsang, xiong xinxin', 'john bridcut', 'marcelo gonzález', 'roger lindley', 'bharat kamma', 'harry chaskin', 'jean-bernard marlin', 'andré odendaal, johan vorster', 'james w. horne, buster keaton', 'chuck vincent', 'venkat mohan', 'helena bergström', 'k bhavani shanker', 'maya zinshtein', 'richard dennison', 'david howard', 'gaylene preston', 'tom holland', 'vaga vardanyan', 'youreka', 'charneice fox', 'deepa mehta', 'colin barr', 'ivan nagy', 'anil charanjeet', 'ricardo benet', 'felix van groeningen, felix van groeningen', 'terry t. miles', 'madeline sharafian', 'richard berry', 'mark davis', 'christopher nolan', 'lonzo nzekwe', 'robert mickelson', 'alex marengo', '9 story entertainment', 'christopher ashley', 'rod blackhurst', 't n krishna', 'sara sugarman', 'roman gackowski', 'esther abah', 'kyle hedrick', 'taketoshi sado', 'ángel gómez hernández', 'tyler milliron', 'matt ruskin', 'eeshwar nivas', 'ishi rudell, jayson thiessen', 'yuvraj kumar', 'edoardo ponti', 'chris mccoy', 'pradeep verma', 'tim maltby', 'b.j. rayniak', 'jibi-joju', 'desi arnaz', 'jermaine fowler', 'james haslam', 'ted mathot', 'fuyuhiko nishi', 'bert ring', 'luis alejandro berdejo', 'esteban diaz baena', 'robert markowitz', 'elle-máijá tailfeathers, kathleen hepburn', 'louis king', 'jean-loup felicioli, alain gagnol', 'tester', 'chino moya', 'daeil kim', 'gordon eastman', 'choi jin-seong', 'jim kammerud, brian smith', 'julio bracho', 'jakub piątek', 'luke holland', 'steve lawson', 'james barr', 'shuko murase', 'samad zarmandili', 'vijay peddakotla', 'david li', 'adam massey', 'cedric condom', 'dallas burgess', 'jenn page', 'monika mitchell', 'jeff gibbs', 'robert smigel', 'tyler greco', 'adam macdonald', 'john irvin', 'cédric jimenez', 'alex de la iglesia', 'uttung shelar', 'ferzan özpetek', 'nicholas naylor', 'richard erdman', 'eva trobisch', 'jeremy sims', 'sibusiso khuzwayo', 'tom stubberfield', 'j.g. turner', 'mark allen michaels', 'peter duncan', 'vishnu varadhan', 'devon bray', 'jason zink', 'louie psihoyos', 'adam deyoe', 'chris bucher', 'michael buster', 'gabe ibáñez', 'assaf bernstein', 'dean wright', 'milcho manchevski', 'damon santostefano', 'alison chernick', 'matthew shoychet', 'shweta basu prasad', 'dan abraham, trent correy', 'arthur muhammad', 'd.j. viola, ray kellogg', 'viridiana lieberman', 'jamie thraves', 'sophie robinson, lotje sodderland', 'dror soref', 'b. padmanabham', 'edward james olmos', 'ali yorgancıoğlu', 'danny devito', 'noah moskin', 'nandhini js', 'siu-tung ching, hark tsui', 'guy-roger duvert', 'stefano lodovichi', 'janet tobias, claus wehlisch', 'ranjan ghosh', 'han kwang il', 'marcel wohlfahrt', 'dale farmer', 'edward anderson', 'ruairi robinson', 'harry o. hoyt', 'jerry reed', 'johnny meier, david aaron stone', 'stephen finnigan', 'janchivdorj sengedorj', 'subrata sen', 'oliver thompson', 'ben brewer, alex brewer', 'pascale lamche', 'suneel darshan', 'stuart baird', 'charles finch', 'mark herman', 'alf kjellin', 'yann arthus-bertrand, michael pitiot', 'henri wong', 'gerald rascionato', 'steve wilson', 'chin-chung chan, woo-ping yuen', 'etienne sauret', 'yulene olaizola', 'vignesh shivan', 'syamsul yusof', 'julien seri', 'cheuk man au', 'hideaki anno, masayuki, mahiro maeda, kazuya tsurumaki', \"derek richards, brad o'connor\", 'barbra streisand, jim gable', 'raj chakraborty', 'maggie kiley', 'kevin tostado', 'gordon parks', 'julius d. feigelson', 'conor mcmahon', 'enzo castellari', 'chris renaud, kyle balda', 'nick ward', 'liu guonan', 'john huddles', 'ganesh kadam', 'rocco ricciardulli', 'ben cookson', 'virgo velasquez', 'cedric nicolas-troyan', 'santhakumar', 'sterling macer jr.', 'david france', 'juani libonatti', 'ninian doff', 'james d. parriott', 'matt palmer', 'dustin mckenzie', 'ariel vromen', 'zach clark', 'peter marcy', 'giorgio serafini, shawn sourgose', 'nemr', 'robbie lopez, jayleen perez, bron theron, wade hampton', 'j.d. scott', 'ruben östlund', 'umut dag', 'edward finney', 'lp', 'oliver frohnauer', 'saro varjabedian', 'jenny kubo', 'godfrey ho', 'ashu trikha', 'jing wong, corey yuen', 'mark murphy', 'dennis dortch', 'spencer weber', 'nattawut poonpiriya', 'george tillman jr.', 'adrian leon', 'joe cacaci', 'fab five freddie', 'pablo macho maysonet iv', 'sydney freeland', 'laugh factory', 'd.j. viola, alan gibson', 'junichi sato, tomotaka shibayama', 'anthony hemingway', 'john stainton', 'shojiro nishimi, guillaume renard', 'mark helenowski, kevin pang', 'angelo j. guglielmo,  jr.', 'hayley macfarlane', 'h.vinoth', 'd.j. viola, christy cabanne', 'john banas', 'adrian wills', 'patricia riggen', 'linda otto', 'jean-francois laguionie', 'john gaspard', 'arne birkenstock', 'director jennifer kent (\"the babadook\") tells the sweeping tale of a young woman\\'s quest for revenge set in 1825 against the perilous and unforgiving terrain of tasmania.', 'branden kramer', 'takeshi fukunaga', 'che sandoval', 'faris godus', 'koichi sakamoto', 'hasan qureshi', 'harold schuster', 'zach lona', 'michael hoffman', 'henderson maddox', 'josh izenberg, wynn padula', 'chairun nissa', 'samuel olatunji', 'tudley james', 'bert marcus', 'grant lahood', 'jan eliasberg', 'rambhala', 'adekunle nodash adejuyigbe', 'arnon manor, timothy ware-hill', 'jennifer phang', 'judah friedlander', 'ramin bahrani', 'danny huston', 'david fairhead, anthony palmer', 'ketche', 'd.j. viola, roger corman, francis ford coppola', 'alastair fothergill, keith scholey', 'sudipto roy', 'a. n. pitchumani', 'chachi', 'george p. quigley', 'bill mcadams jr.', 'jeremy alter', 'alex knapp', \"declan o'brien\", 'janicza bravo', 'andrew patterson', 'douglas elford-argent', 'dheeraj berry', 'corey moss', 'dean hamilton', 'tad stones', 'chandan arora', 'karen leigh hopkins', 'gregory jacobs', 'shawn rech', 'mark w. curran', 'frank longo', 'sergio garcía locatelli', 'k. s. adhiyaman', 'bc fourteen', 'alfredo zacarías', 'camillo bazzoni', 'sasi', 'maritte lee go', 'marie madinier', 'amin hajee', 'adam rodgers', 'ersin celik', 'runnian dong', 'daniel mann', 'mohd khairul azri bin md noor', 'keith behrman', 'francis glebas', 'james komach', 'pete jacelone', 'ganesh vinayakan', 'king baggot', 'scott pleydell-pearce', 'mariano barroso', 'lorena chuscoff', 'joel hershman', 'matt patterson', 'james whale', 'josh lawson', 'angel amuzo maledo', 'frederic compain', 'pedro de echave garcía, pablo azorín williams', 'ron krauss', 'datta mohan bhandare', 'jean-simon chartier', 'sopon sukdapisit', 'robert pirosh', 'd.j. viola, s.f. brownrigg', 'thomas daley', 'dileep narayanan', 'karim ainouz', \"meghan o'hara\", 'santiago diaz, pablo martin farina', 'navjot gulati', 'marcus adams', 'johannes nyholm', 'ken sanzel', 'trevor white', 'reinhold bilgeri', 'hirotsugu kawasaki', 'greg richardson', 'scott mann', 'troy n. ashford', 'kim sung-hoon', 'anastasia pappas', 'ahsan rahim', 'trey nelson', 'michael o. sajbel', 'joe cornet', 'michael white', 'binayak das', 'hitoshi namba', 'v. gowthaman', 'peter robert', 'roger sherman', 'harry michell', 'tara johnson-medinger', 'benjamin thomas', 'vijay', 'toyin abraham', 'mohamed fikry', 'jason park', 'suzy brack', 'will wallace', 'michael degrazier', 'donovan cook', 'kerstin karlhuber', 'cynthia cherry-leon', 'chris lee', \"matthew o'callaghan, todd wilderman\", 'chris w. freeman, spain willingham', 'iman brotoseno', 'sakthi paramesh', 'phillip escott, craig newman', 'arturo montenegro', 'hèctor hernández vicens', 'amos kollek', 'nils skapāns', 'm. golan', 'alex meader', 'alex dunlop', 'sudarshan narayana', 'richard staviarsky, viťo staviarsky', 'idiagbonya samuel', 'lenard fritz krawinkel, holger tappe', 'josh wakely', 'mark deimel', 'clare lewins', 'laura terruso', 'stephen chbosky', 'rahul ravindran', 'sheng ding', 'mari selvaraj', 'andrew mcmurry', 'alessandro palazzi', 'caio cobra', 'mitzi vanessa arreola, amir galvan cervera', 'ron maxwell', 'leandro mark, nicolás silbert', 'ivona juka', 'limbert fabian, brandon oldenburg', 'sam levinson', 'stefano vanzina', 'laïla marrakchi', 'adán medrano', 'joseph dougherty', 'sean breathnach', 'v.p. nageswaran', 'darrell rooney, lynne southerland', 'daniel mann, joseph sargent', 'carlos dunn', 'sunil kulkarni', 'gregory bayne', 'kurt wimmer', 'michael d. ratner', 'd. mitry', 'bob giordano', 'ricardo jacques gale', 'ainsley gardiner, briar grace-smith', 'letizia lamartire', 'brandon bergin', 'clea duvall', 'caroline suh', 'ak. reed films (amire k reed)', 'ranji vijayan', 'kimmy gatewood', 'fabricio heider', 'david ellis', 'ludovic bernard', 'g.k.kumar', 'herbert l. strock', 'prerna wadhawan', 'badri', 'sixx king', 'moritz katz', 'sarah holt', 'alex garland', 'peter james iengo', 'abhijeet warang', 'baggy', 'anand menon', 'arhaan', 'mike judge', 'jason mewes', 'rosana sullivan', 'johnny royal', 'jennifer morrison', 'takeru nakajima, yoshiyuki okada', 'erik white', 'robert hughes, sue perrotto', 'joe pontecorvo', 'jan hrebejk', 'matt cunningham, erik gardner', 'mat hodgson', 'azim lateef', 'adam wingard', 'clay tweel', 'josé eduardo belmonte', 'seymour friedman', 'carey mckenzie', 'sakthi', 'glenn gordon caron', 'christian christiansen', 'peter fison', 'kristian levring', 'akin omotoso', 'susanna white', 'chinaas palanisamy', 'phil alden robinson', 'paul katis', 'david hunt', 'miguel llansó', 'victor gonzalez', 'travis milloy', 'christian johannesson', 'fritz mitchell', 'sidheswar shukla, asit mohapatra', 'jeff turner', 'daniel moreno', 'maya forbes', 'milap milan zaveri', 'casey tebo', 'danielle krudy, bridget savage cole', 'ly minh thang', 'hakan yonat', 'sachin pilgaonkar', 'mark nasser', 'deondray gossfield, quincy lenear gossfield', 'alexandros avranas', 'damon thomas', 'arindam bhattacharya', 'abhiraj k minawala', 'diamuid lawrence', 'mick garris', 'joe newman', 'darren brown', 'lo lieh', 'mijke de jong', 'irving schwartz', 'park joon-hwa', 'k.b. tilak', 'oceanic research group', 'stéphane de freitas', 'kelly lamarr', 'nora fingscheidt', 'michael wolfe', 'victor schertzinger', 'søren kragh-jacobsen', 'dastan khalili', 'audrey cooke', 'norm hiscock, gary howsam, mike smith, john paul tremblay, robb wells', 'jillian schlesinger', 'kwok-man keung', 'jerard mckinzie', 'daniel mccabe', 'shen leping', 'jan suter, raúl campos delgado', 'noviandra santosa', 'malik bendjelloul', 'jason wan lim', 'saurabh sinha', 'rai yuvraj bains', 'felipe cano', 'jonathan milton', 'kevin knoblock', 'sunil naik', 'suresh pillai', 'max nichols', 'john frankenheimer', 'ben bowie, geoff luck', 'sauvik kundu', 'vishwa bhanu', 'rajiv chilaka, binayak das', 'tom middleton, toby l', 'ester gould, reijer zwaan', 'viknish lokarag asokan', 'pat verducci', 'maria demeshkina peek', 'juan piquer simon', 'gautier & leduc', 'juan martinez vera', 'tihany sengupta, vipul mathur', 'wilson coneybeare', 'alex gibney, allison elwood', 'derick prince', 'chatchai katenut, manussa vorasingha, tanwarin sukkhapisit, poj arnon', 'don hall, carlos lópez estrada', 'julie dash', 'don sharp', 'hatem khraiche', 'pia justine cruz', 'sudha kongara, gautham vasudev menon, suhasini mani ratnam, rajiv menon, karthik subbaraj', 'adele k. thomas, richard bailey', 'marina andree škop, dražen žarković', 'mark a.z. dippé, eondeok han', 'elvire berahya lazarus', 'julie cohen, betsy west', 'renji philip', 'daniela goggi', 'fermín muguruza', 'jan suter', 'marco petry', 'bob henry']\n"
          ]
        }
      ]
    },
    {
      "cell_type": "code",
      "source": [
        "\n",
        "# Definir la lista de directores deseados\n",
        "directores_dados = ['mark knight', 'cannis holder', 'jay chapman', 'moonbug entertainment', 'arthur van merwijk' ]\n",
        "\n",
        "\n",
        "# Crear un histograma separado para cada director en la lista\n",
        "for director in directores_dados:\n",
        "    # Filtrar los datos de \"score\" para el director actual\n",
        "    scores_director_actual = movies.loc[movies[\"director\"] == director, \"score\"]\n",
        "    \n",
        "    # Crear un nuevo gráfico para el director actual\n",
        "    plt.figure()\n",
        "    \n",
        "    # Crear el histograma para el director actual\n",
        "    plt.hist(scores_director_actual)\n",
        "    \n",
        "    # Añadir etiquetas al gráfico para el director actual\n",
        "    plt.title(\"Histograma de puntuaciones para películas del director {}\".format(director))\n",
        "    plt.xlabel(\"Puntuación\")\n",
        "    plt.ylabel(\"Frecuencia\")\n",
        "    \n",
        "    # Agregar el valor de cantidad correspondiente al director actual\n",
        "    cantidad_actual = len(scores_director_actual)\n",
        "    plt.text(0.95, 0.95, \"Cantidad: {}\".format(cantidad_actual), \n",
        "             transform=plt.gca().transAxes, horizontalalignment='right', verticalalignment='top')\n",
        "    \n",
        "    # Mostrar el gráfico para el director actual\n",
        "    plt.show()"
      ],
      "metadata": {
        "colab": {
          "base_uri": "https://localhost:8080/",
          "height": 1000
        },
        "id": "Ua2CyNFm-DWn",
        "outputId": "c8a00646-2819-4fc7-95c1-85dd39d5a1b1"
      },
      "execution_count": null,
      "outputs": [
        {
          "output_type": "display_data",
          "data": {
            "text/plain": [
              "<Figure size 432x288 with 1 Axes>"
            ],
            "image/png": "[encoded data removed]"
          },
          "metadata": {
            "needs_background": "light"
          }
        },
        {
          "output_type": "display_data",
          "data": {
            "text/plain": [
              "<Figure size 432x288 with 1 Axes>"
            ],
            "image/png": "[encoded data removed]"
          },
          "metadata": {
            "needs_background": "light"
          }
        },
        {
          "output_type": "display_data",
          "data": {
            "text/plain": [
              "<Figure size 432x288 with 1 Axes>"
            ],
            "image/png": "[encoded data removed]"
          },
          "metadata": {
            "needs_background": "light"
          }
        },
        {
          "output_type": "display_data",
          "data": {
            "text/plain": [
              "<Figure size 432x288 with 1 Axes>"
            ],
            "image/png": "[encoded data removed]"
          },
          "metadata": {
            "needs_background": "light"
          }
        },
        {
          "output_type": "display_data",
          "data": {
            "text/plain": [
              "<Figure size 432x288 with 1 Axes>"
            ],
            "image/png": "[encoded data removed]"
          },
          "metadata": {
            "needs_background": "light"
          }
        }
      ]
    },
    {
      "cell_type": "code",
      "source": [
        "movies['mark knight'] = np.where(movies['director'] == 'mark knight', 1, 0)\n",
        "movies['cannis holder'] = np.where(movies['director'] == 'cannis holder', 1, 0)\n",
        "movies['jay chapman'] = np.where(movies['director'] == 'jay chapman', 1, 0)\n",
        "movies['moonbug entertainment'] = np.where(movies['director'] == 'moonbug entertainment', 1, 0)\n",
        "movies['arthur van merwijk'] = np.where(movies['director'] == 'arthur van merwijk', 1, 0)"
      ],
      "metadata": {
        "id": "YbwXi2Jwsoh5"
      },
      "execution_count": null,
      "outputs": []
    },
    {
      "cell_type": "code",
      "source": [
        "#controlo algunos casos para ver si coincide \n",
        "tabla_valores_unicos = movies[\"mark knight\"].value_counts().reset_index()\n",
        "tabla_valores_unicos.columns = ['valor', 'cantidad']\n",
        "tabla_valores_unicos['porcentaje'] = tabla_valores_unicos['cantidad'] / len(movies) * 100\n",
        "tabla_valores_unicos['porcentaje'] = tabla_valores_unicos['porcentaje'].round(2).astype(str) + '%'\n",
        "print(tabla_valores_unicos)"
      ],
      "metadata": {
        "colab": {
          "base_uri": "https://localhost:8080/"
        },
        "id": "ZPXxxeYutAKE",
        "outputId": "df0198ef-d673-4a85-a619-919a08431ecd"
      },
      "execution_count": null,
      "outputs": [
        {
          "output_type": "stream",
          "name": "stdout",
          "text": [
            "   valor  cantidad porcentaje\n",
            "0      0  10959399     99.51%\n",
            "1      1     54424      0.49%\n"
          ]
        }
      ]
    },
    {
      "cell_type": "markdown",
      "source": [
        "**comentarios** de decidio crear variables nuevas con el top 5 de directores que recibieron calificacion y se elimina la original. Esto es por el supuesto si hay algun usuario que puede tener preferencia por alguno. "
      ],
      "metadata": {
        "id": "XQVFtketv-VP"
      }
    },
    {
      "cell_type": "code",
      "source": [
        "movies.drop('director', axis= 'columns', inplace= True)"
      ],
      "metadata": {
        "id": "Ri8XG_I2FUpM"
      },
      "execution_count": null,
      "outputs": []
    },
    {
      "cell_type": "code",
      "source": [
        "movies.shape"
      ],
      "metadata": {
        "colab": {
          "base_uri": "https://localhost:8080/"
        },
        "id": "OJruQfyxFY2b",
        "outputId": "7b37010d-8ef5-41f5-e9a7-b29a4d1de2e2"
      },
      "execution_count": null,
      "outputs": [
        {
          "output_type": "execute_result",
          "data": {
            "text/plain": [
              "(11013823, 23)"
            ]
          },
          "metadata": {},
          "execution_count": 43
        }
      ]
    },
    {
      "cell_type": "code",
      "source": [
        "movies.head(1)"
      ],
      "metadata": {
        "colab": {
          "base_uri": "https://localhost:8080/",
          "height": 261
        },
        "id": "Y2k17XC-F6Ee",
        "outputId": "a8fcdbea-6ff1-4fec-ec94-3d63d15363fb"
      },
      "execution_count": null,
      "outputs": [
        {
          "output_type": "execute_result",
          "data": {
            "text/plain": [
              "   userId  score  timestamp     id                  title           cast  \\\n",
              "0       1   1.00 2015-03-09  as680  the english civil war  robert whelan   \n",
              "\n",
              "  country date_added  year rating  ... duration_type scored  movie tv show  \\\n",
              "0    None        NaT  2019    13+  ...        season   3.55      0       1   \n",
              "\n",
              "   multiple_values  mark knight  cannis holder  jay chapman  \\\n",
              "0                0            0              0            0   \n",
              "\n",
              "   moonbug entertainment  arthur van merwijk  \n",
              "0                      0                   0  \n",
              "\n",
              "[1 rows x 23 columns]"
            ],
            "text/html": [
              "\n",
              "  <div id=\"df-d473c7a9-3602-4062-85c8-e95e3877c6ad\">\n",
              "    <div class=\"colab-df-container\">\n",
              "      <div>\n",
              "<style scoped>\n",
              "    .dataframe tbody tr th:only-of-type {\n",
              "        vertical-align: middle;\n",
              "    }\n",
              "\n",
              "    .dataframe tbody tr th {\n",
              "        vertical-align: top;\n",
              "    }\n",
              "\n",
              "    .dataframe thead th {\n",
              "        text-align: right;\n",
              "    }\n",
              "</style>\n",
              "<table border=\"1\" class=\"dataframe\">\n",
              "  <thead>\n",
              "    <tr style=\"text-align: right;\">\n",
              "      <th></th>\n",
              "      <th>userId</th>\n",
              "      <th>score</th>\n",
              "      <th>timestamp</th>\n",
              "      <th>id</th>\n",
              "      <th>title</th>\n",
              "      <th>cast</th>\n",
              "      <th>country</th>\n",
              "      <th>date_added</th>\n",
              "      <th>year</th>\n",
              "      <th>rating</th>\n",
              "      <th>...</th>\n",
              "      <th>duration_type</th>\n",
              "      <th>scored</th>\n",
              "      <th>movie</th>\n",
              "      <th>tv show</th>\n",
              "      <th>multiple_values</th>\n",
              "      <th>mark knight</th>\n",
              "      <th>cannis holder</th>\n",
              "      <th>jay chapman</th>\n",
              "      <th>moonbug entertainment</th>\n",
              "      <th>arthur van merwijk</th>\n",
              "    </tr>\n",
              "  </thead>\n",
              "  <tbody>\n",
              "    <tr>\n",
              "      <th>0</th>\n",
              "      <td>1</td>\n",
              "      <td>1.00</td>\n",
              "      <td>2015-03-09</td>\n",
              "      <td>as680</td>\n",
              "      <td>the english civil war</td>\n",
              "      <td>robert whelan</td>\n",
              "      <td>None</td>\n",
              "      <td>NaT</td>\n",
              "      <td>2019</td>\n",
              "      <td>13+</td>\n",
              "      <td>...</td>\n",
              "      <td>season</td>\n",
              "      <td>3.55</td>\n",
              "      <td>0</td>\n",
              "      <td>1</td>\n",
              "      <td>0</td>\n",
              "      <td>0</td>\n",
              "      <td>0</td>\n",
              "      <td>0</td>\n",
              "      <td>0</td>\n",
              "      <td>0</td>\n",
              "    </tr>\n",
              "  </tbody>\n",
              "</table>\n",
              "<p>1 rows × 23 columns</p>\n",
              "</div>\n",
              "      <button class=\"colab-df-convert\" onclick=\"convertToInteractive('df-d473c7a9-3602-4062-85c8-e95e3877c6ad')\"\n",
              "              title=\"Convert this dataframe to an interactive table.\"\n",
              "              style=\"display:none;\">\n",
              "        \n",
              "  <svg xmlns=\"http://www.w3.org/2000/svg\" height=\"24px\"viewBox=\"0 0 24 24\"\n",
              "       width=\"24px\">\n",
              "    <path d=\"M0 0h24v24H0V0z\" fill=\"none\"/>\n",
              "    <path d=\"M18.56 5.44l.94 2.06.94-2.06 2.06-.94-2.06-.94-.94-2.06-.94 2.06-2.06.94zm-11 1L8.5 8.5l.94-2.06 2.06-.94-2.06-.94L8.5 2.5l-.94 2.06-2.06.94zm10 10l.94 2.06.94-2.06 2.06-.94-2.06-.94-.94-2.06-.94 2.06-2.06.94z\"/><path d=\"M17.41 7.96l-1.37-1.37c-.4-.4-.92-.59-1.43-.59-.52 0-1.04.2-1.43.59L10.3 9.45l-7.72 7.72c-.78.78-.78 2.05 0 2.83L4 21.41c.39.39.9.59 1.41.59.51 0 1.02-.2 1.41-.59l7.78-7.78 2.81-2.81c.8-.78.8-2.07 0-2.86zM5.41 20L4 18.59l7.72-7.72 1.47 1.35L5.41 20z\"/>\n",
              "  </svg>\n",
              "      </button>\n",
              "      \n",
              "  <style>\n",
              "    .colab-df-container {\n",
              "      display:flex;\n",
              "      flex-wrap:wrap;\n",
              "      gap: 12px;\n",
              "    }\n",
              "\n",
              "    .colab-df-convert {\n",
              "      background-color: #E8F0FE;\n",
              "      border: none;\n",
              "      border-radius: 50%;\n",
              "      cursor: pointer;\n",
              "      display: none;\n",
              "      fill: #1967D2;\n",
              "      height: 32px;\n",
              "      padding: 0 0 0 0;\n",
              "      width: 32px;\n",
              "    }\n",
              "\n",
              "    .colab-df-convert:hover {\n",
              "      background-color: #E2EBFA;\n",
              "      box-shadow: 0px 1px 2px rgba(60, 64, 67, 0.3), 0px 1px 3px 1px rgba(60, 64, 67, 0.15);\n",
              "      fill: #174EA6;\n",
              "    }\n",
              "\n",
              "    [theme=dark] .colab-df-convert {\n",
              "      background-color: #3B4455;\n",
              "      fill: #D2E3FC;\n",
              "    }\n",
              "\n",
              "    [theme=dark] .colab-df-convert:hover {\n",
              "      background-color: #434B5C;\n",
              "      box-shadow: 0px 1px 3px 1px rgba(0, 0, 0, 0.15);\n",
              "      filter: drop-shadow(0px 1px 2px rgba(0, 0, 0, 0.3));\n",
              "      fill: #FFFFFF;\n",
              "    }\n",
              "  </style>\n",
              "\n",
              "      <script>\n",
              "        const buttonEl =\n",
              "          document.querySelector('#df-d473c7a9-3602-4062-85c8-e95e3877c6ad button.colab-df-convert');\n",
              "        buttonEl.style.display =\n",
              "          google.colab.kernel.accessAllowed ? 'block' : 'none';\n",
              "\n",
              "        async function convertToInteractive(key) {\n",
              "          const element = document.querySelector('#df-d473c7a9-3602-4062-85c8-e95e3877c6ad');\n",
              "          const dataTable =\n",
              "            await google.colab.kernel.invokeFunction('convertToInteractive',\n",
              "                                                     [key], {});\n",
              "          if (!dataTable) return;\n",
              "\n",
              "          const docLinkHtml = 'Like what you see? Visit the ' +\n",
              "            '<a target=\"_blank\" href=https://colab.research.google.com/notebooks/data_table.ipynb>data table notebook</a>'\n",
              "            + ' to learn more about interactive tables.';\n",
              "          element.innerHTML = '';\n",
              "          dataTable['output_type'] = 'display_data';\n",
              "          await google.colab.output.renderOutput(dataTable, element);\n",
              "          const docLink = document.createElement('div');\n",
              "          docLink.innerHTML = docLinkHtml;\n",
              "          element.appendChild(docLink);\n",
              "        }\n",
              "      </script>\n",
              "    </div>\n",
              "  </div>\n",
              "  "
            ]
          },
          "metadata": {},
          "execution_count": 44
        }
      ]
    },
    {
      "cell_type": "markdown",
      "source": [
        "**VARIABLE 'cast'** corresponde al casting de la pelicula. Valores no nulos:  8465400\n",
        "\n"
      ],
      "metadata": {
        "id": "Nf194G_KG5Sl"
      }
    },
    {
      "cell_type": "code",
      "source": [
        "movies[\"first_cast\"] = movies[\"cast\"].str.split(\",\").str.get(0)"
      ],
      "metadata": {
        "id": "ysi4rcoSGstu"
      },
      "execution_count": null,
      "outputs": []
    },
    {
      "cell_type": "code",
      "source": [
        "# Verificamos si hay más de un valor en cada celda de la columna \"values\"\n",
        "movies[\"multiple_values\"] = (movies[\"first_cast\"].str.count(\",\") >= 1).astype(int)"
      ],
      "metadata": {
        "id": "PcIVaujGJUJx"
      },
      "execution_count": null,
      "outputs": []
    },
    {
      "cell_type": "code",
      "source": [
        "tabla_valores_unicos = movies[\"first_cast\"].value_counts().reset_index()\n",
        "tabla_valores_unicos.columns = ['valor', 'cantidad']\n",
        "tabla_valores_unicos['porcentaje'] = tabla_valores_unicos['cantidad'] / len(movies) * 100\n",
        "tabla_valores_unicos['porcentaje'] = tabla_valores_unicos['porcentaje'].round(2).astype(str) + '%'\n",
        "print(tabla_valores_unicos.head(10))"
      ],
      "metadata": {
        "colab": {
          "base_uri": "https://localhost:8080/"
        },
        "id": "VGZmjpSQPSn-",
        "outputId": "b7f5ec68-7daf-4419-da68-deb05a6d79b1"
      },
      "execution_count": null,
      "outputs": [
        {
          "output_type": "stream",
          "name": "stdout",
          "text": [
            "                valor  cantidad porcentaje\n",
            "0      maggie binkley     26678      0.24%\n",
            "1      shah rukh khan     16681      0.15%\n",
            "2                   1     16663      0.15%\n",
            "3          gene autry     15414      0.14%\n",
            "4        akshay kumar     14374      0.13%\n",
            "5        nicolas cage     14022      0.13%\n",
            "6    amitabh bachchan     13866      0.13%\n",
            "7  anne-marie newland     12011      0.11%\n",
            "8          roy rogers     11534       0.1%\n",
            "9  david attenborough     11103       0.1%\n"
          ]
        }
      ]
    },
    {
      "cell_type": "code",
      "source": [
        "movies['maggie binkley'] = np.where(movies['first_cast'] == 'maggie binkley', 1, 0)\n",
        "movies['shah rukh khan'] = np.where(movies['first_cast'] == 'shah rukh khan', 1, 0)\n",
        "movies['gene autry'] = np.where(movies['first_cast'] == 'gene autry', 1, 0)\n",
        "movies['akshay kumar'] = np.where(movies['first_cast'] == 'akshay kumar', 1, 0)\n",
        "movies['nicolas cage'] = np.where(movies['first_cast'] == 'nicolas cage', 1, 0)"
      ],
      "metadata": {
        "id": "83rT6Ab8Jgrn"
      },
      "execution_count": null,
      "outputs": []
    },
    {
      "cell_type": "code",
      "source": [
        "movies.drop('first_cast', axis= 'columns', inplace= True)\n",
        "movies.drop('cast', axis= 'columns', inplace= True)\n"
      ],
      "metadata": {
        "id": "ViqLz2NZRO06"
      },
      "execution_count": null,
      "outputs": []
    },
    {
      "cell_type": "code",
      "source": [
        "movies.head(1)"
      ],
      "metadata": {
        "colab": {
          "base_uri": "https://localhost:8080/",
          "height": 241
        },
        "id": "qxCjH_BxRUrE",
        "outputId": "faff1bbc-9d01-4776-bf80-c2022f7f8976"
      },
      "execution_count": null,
      "outputs": [
        {
          "output_type": "execute_result",
          "data": {
            "text/plain": [
              "   userId  score  timestamp     id                  title country date_added  \\\n",
              "0       1   1.00 2015-03-09  as680  the english civil war    None        NaT   \n",
              "\n",
              "   year rating                      listed_in  ... mark knight  cannis holder  \\\n",
              "0  2019    13+  documentary, special interest  ...           0              0   \n",
              "\n",
              "  jay chapman  moonbug entertainment  arthur van merwijk  maggie binkley  \\\n",
              "0           0                      0                   0               0   \n",
              "\n",
              "   shah rukh khan  gene autry  akshay kumar  nicolas cage  \n",
              "0               0           0             0             0  \n",
              "\n",
              "[1 rows x 27 columns]"
            ],
            "text/html": [
              "\n",
              "  <div id=\"df-c47306b0-bf3e-44f8-af5b-a6d4285e967c\">\n",
              "    <div class=\"colab-df-container\">\n",
              "      <div>\n",
              "<style scoped>\n",
              "    .dataframe tbody tr th:only-of-type {\n",
              "        vertical-align: middle;\n",
              "    }\n",
              "\n",
              "    .dataframe tbody tr th {\n",
              "        vertical-align: top;\n",
              "    }\n",
              "\n",
              "    .dataframe thead th {\n",
              "        text-align: right;\n",
              "    }\n",
              "</style>\n",
              "<table border=\"1\" class=\"dataframe\">\n",
              "  <thead>\n",
              "    <tr style=\"text-align: right;\">\n",
              "      <th></th>\n",
              "      <th>userId</th>\n",
              "      <th>score</th>\n",
              "      <th>timestamp</th>\n",
              "      <th>id</th>\n",
              "      <th>title</th>\n",
              "      <th>country</th>\n",
              "      <th>date_added</th>\n",
              "      <th>year</th>\n",
              "      <th>rating</th>\n",
              "      <th>listed_in</th>\n",
              "      <th>...</th>\n",
              "      <th>mark knight</th>\n",
              "      <th>cannis holder</th>\n",
              "      <th>jay chapman</th>\n",
              "      <th>moonbug entertainment</th>\n",
              "      <th>arthur van merwijk</th>\n",
              "      <th>maggie binkley</th>\n",
              "      <th>shah rukh khan</th>\n",
              "      <th>gene autry</th>\n",
              "      <th>akshay kumar</th>\n",
              "      <th>nicolas cage</th>\n",
              "    </tr>\n",
              "  </thead>\n",
              "  <tbody>\n",
              "    <tr>\n",
              "      <th>0</th>\n",
              "      <td>1</td>\n",
              "      <td>1.00</td>\n",
              "      <td>2015-03-09</td>\n",
              "      <td>as680</td>\n",
              "      <td>the english civil war</td>\n",
              "      <td>None</td>\n",
              "      <td>NaT</td>\n",
              "      <td>2019</td>\n",
              "      <td>13+</td>\n",
              "      <td>documentary, special interest</td>\n",
              "      <td>...</td>\n",
              "      <td>0</td>\n",
              "      <td>0</td>\n",
              "      <td>0</td>\n",
              "      <td>0</td>\n",
              "      <td>0</td>\n",
              "      <td>0</td>\n",
              "      <td>0</td>\n",
              "      <td>0</td>\n",
              "      <td>0</td>\n",
              "      <td>0</td>\n",
              "    </tr>\n",
              "  </tbody>\n",
              "</table>\n",
              "<p>1 rows × 27 columns</p>\n",
              "</div>\n",
              "      <button class=\"colab-df-convert\" onclick=\"convertToInteractive('df-c47306b0-bf3e-44f8-af5b-a6d4285e967c')\"\n",
              "              title=\"Convert this dataframe to an interactive table.\"\n",
              "              style=\"display:none;\">\n",
              "        \n",
              "  <svg xmlns=\"http://www.w3.org/2000/svg\" height=\"24px\"viewBox=\"0 0 24 24\"\n",
              "       width=\"24px\">\n",
              "    <path d=\"M0 0h24v24H0V0z\" fill=\"none\"/>\n",
              "    <path d=\"M18.56 5.44l.94 2.06.94-2.06 2.06-.94-2.06-.94-.94-2.06-.94 2.06-2.06.94zm-11 1L8.5 8.5l.94-2.06 2.06-.94-2.06-.94L8.5 2.5l-.94 2.06-2.06.94zm10 10l.94 2.06.94-2.06 2.06-.94-2.06-.94-.94-2.06-.94 2.06-2.06.94z\"/><path d=\"M17.41 7.96l-1.37-1.37c-.4-.4-.92-.59-1.43-.59-.52 0-1.04.2-1.43.59L10.3 9.45l-7.72 7.72c-.78.78-.78 2.05 0 2.83L4 21.41c.39.39.9.59 1.41.59.51 0 1.02-.2 1.41-.59l7.78-7.78 2.81-2.81c.8-.78.8-2.07 0-2.86zM5.41 20L4 18.59l7.72-7.72 1.47 1.35L5.41 20z\"/>\n",
              "  </svg>\n",
              "      </button>\n",
              "      \n",
              "  <style>\n",
              "    .colab-df-container {\n",
              "      display:flex;\n",
              "      flex-wrap:wrap;\n",
              "      gap: 12px;\n",
              "    }\n",
              "\n",
              "    .colab-df-convert {\n",
              "      background-color: #E8F0FE;\n",
              "      border: none;\n",
              "      border-radius: 50%;\n",
              "      cursor: pointer;\n",
              "      display: none;\n",
              "      fill: #1967D2;\n",
              "      height: 32px;\n",
              "      padding: 0 0 0 0;\n",
              "      width: 32px;\n",
              "    }\n",
              "\n",
              "    .colab-df-convert:hover {\n",
              "      background-color: #E2EBFA;\n",
              "      box-shadow: 0px 1px 2px rgba(60, 64, 67, 0.3), 0px 1px 3px 1px rgba(60, 64, 67, 0.15);\n",
              "      fill: #174EA6;\n",
              "    }\n",
              "\n",
              "    [theme=dark] .colab-df-convert {\n",
              "      background-color: #3B4455;\n",
              "      fill: #D2E3FC;\n",
              "    }\n",
              "\n",
              "    [theme=dark] .colab-df-convert:hover {\n",
              "      background-color: #434B5C;\n",
              "      box-shadow: 0px 1px 3px 1px rgba(0, 0, 0, 0.15);\n",
              "      filter: drop-shadow(0px 1px 2px rgba(0, 0, 0, 0.3));\n",
              "      fill: #FFFFFF;\n",
              "    }\n",
              "  </style>\n",
              "\n",
              "      <script>\n",
              "        const buttonEl =\n",
              "          document.querySelector('#df-c47306b0-bf3e-44f8-af5b-a6d4285e967c button.colab-df-convert');\n",
              "        buttonEl.style.display =\n",
              "          google.colab.kernel.accessAllowed ? 'block' : 'none';\n",
              "\n",
              "        async function convertToInteractive(key) {\n",
              "          const element = document.querySelector('#df-c47306b0-bf3e-44f8-af5b-a6d4285e967c');\n",
              "          const dataTable =\n",
              "            await google.colab.kernel.invokeFunction('convertToInteractive',\n",
              "                                                     [key], {});\n",
              "          if (!dataTable) return;\n",
              "\n",
              "          const docLinkHtml = 'Like what you see? Visit the ' +\n",
              "            '<a target=\"_blank\" href=https://colab.research.google.com/notebooks/data_table.ipynb>data table notebook</a>'\n",
              "            + ' to learn more about interactive tables.';\n",
              "          element.innerHTML = '';\n",
              "          dataTable['output_type'] = 'display_data';\n",
              "          await google.colab.output.renderOutput(dataTable, element);\n",
              "          const docLink = document.createElement('div');\n",
              "          docLink.innerHTML = docLinkHtml;\n",
              "          element.appendChild(docLink);\n",
              "        }\n",
              "      </script>\n",
              "    </div>\n",
              "  </div>\n",
              "  "
            ]
          },
          "metadata": {},
          "execution_count": 50
        }
      ]
    },
    {
      "cell_type": "markdown",
      "source": [
        "**VARIABLE 'country'**corresponde a la identificacion del pais de la pelicula\n"
      ],
      "metadata": {
        "id": "RGrAUX4bVWi5"
      }
    },
    {
      "cell_type": "code",
      "source": [
        "valores_unicos = movies[\"country\"].unique()\n",
        "tabla_valores_unicos = movies[\"country\"].value_counts().reset_index()\n",
        "tabla_valores_unicos.columns = ['valor', 'cantidad']\n",
        "tabla_valores_unicos['porcentaje'] = tabla_valores_unicos['cantidad'] / len(movies) * 100\n",
        "tabla_valores_unicos['porcentaje'] = tabla_valores_unicos['porcentaje'].round(2).astype(str) + '%'\n",
        "print(tabla_valores_unicos)"
      ],
      "metadata": {
        "colab": {
          "base_uri": "https://localhost:8080/"
        },
        "id": "sgI75Z50VmX1",
        "outputId": "2e8c649b-48a0-40f5-c503-a28f2ea949c7"
      },
      "execution_count": null,
      "outputs": [
        {
          "output_type": "stream",
          "name": "stdout",
          "text": [
            "                                     valor  cantidad porcentaje\n",
            "0                            united states   2393642     21.73%\n",
            "1                                    india    577400      5.24%\n",
            "2                           united kingdom    278682      2.53%\n",
            "3                                    japan    247076      2.24%\n",
            "4                                   canada    113773      1.03%\n",
            "..                                     ...       ...        ...\n",
            "881  netherlands, belgium, germany, jordan       428       0.0%\n",
            "882        sweden, united kingdom, finland       425       0.0%\n",
            "883                united states, botswana       423       0.0%\n",
            "884          spain, belgium, united states       421       0.0%\n",
            "885                        spain, colombia       416       0.0%\n",
            "\n",
            "[886 rows x 3 columns]\n"
          ]
        }
      ]
    },
    {
      "cell_type": "markdown",
      "source": [
        "country object Valores no nulos:  5509022, del resto el 21.73% son de US, 5.24 india y resto mas bajo. "
      ],
      "metadata": {
        "id": "m0U9v_vrWZ4P"
      }
    },
    {
      "cell_type": "code",
      "source": [
        "movies['united states'] = np.where(movies['country'] == 'united states', 1, 0)\n",
        "movies['india'] = np.where(movies['country'] == 'india', 1, 0)"
      ],
      "metadata": {
        "id": "ADvbjxP8WrHT"
      },
      "execution_count": null,
      "outputs": []
    },
    {
      "cell_type": "code",
      "source": [
        "movies.drop('country', axis= 'columns', inplace= True)"
      ],
      "metadata": {
        "id": "IK3kyF4dW6hw"
      },
      "execution_count": null,
      "outputs": []
    },
    {
      "cell_type": "code",
      "source": [
        "movies.head(1)"
      ],
      "metadata": {
        "colab": {
          "base_uri": "https://localhost:8080/",
          "height": 241
        },
        "id": "IbxKLwJ0W9S-",
        "outputId": "eb3dab33-94e3-4786-9c6d-83aca77cc839"
      },
      "execution_count": null,
      "outputs": [
        {
          "output_type": "execute_result",
          "data": {
            "text/plain": [
              "   userId  score  timestamp     id                  title date_added  year  \\\n",
              "0       1   1.00 2015-03-09  as680  the english civil war        NaT  2019   \n",
              "\n",
              "  rating                      listed_in platform  ...  jay chapman  \\\n",
              "0    13+  documentary, special interest   amazon  ...            0   \n",
              "\n",
              "  moonbug entertainment  arthur van merwijk  maggie binkley  shah rukh khan  \\\n",
              "0                     0                   0               0               0   \n",
              "\n",
              "   gene autry  akshay kumar  nicolas cage  united states  india  \n",
              "0           0             0             0              0      0  \n",
              "\n",
              "[1 rows x 28 columns]"
            ],
            "text/html": [
              "\n",
              "  <div id=\"df-db5993e8-cc70-4afe-a253-f08a12c96534\">\n",
              "    <div class=\"colab-df-container\">\n",
              "      <div>\n",
              "<style scoped>\n",
              "    .dataframe tbody tr th:only-of-type {\n",
              "        vertical-align: middle;\n",
              "    }\n",
              "\n",
              "    .dataframe tbody tr th {\n",
              "        vertical-align: top;\n",
              "    }\n",
              "\n",
              "    .dataframe thead th {\n",
              "        text-align: right;\n",
              "    }\n",
              "</style>\n",
              "<table border=\"1\" class=\"dataframe\">\n",
              "  <thead>\n",
              "    <tr style=\"text-align: right;\">\n",
              "      <th></th>\n",
              "      <th>userId</th>\n",
              "      <th>score</th>\n",
              "      <th>timestamp</th>\n",
              "      <th>id</th>\n",
              "      <th>title</th>\n",
              "      <th>date_added</th>\n",
              "      <th>year</th>\n",
              "      <th>rating</th>\n",
              "      <th>listed_in</th>\n",
              "      <th>platform</th>\n",
              "      <th>...</th>\n",
              "      <th>jay chapman</th>\n",
              "      <th>moonbug entertainment</th>\n",
              "      <th>arthur van merwijk</th>\n",
              "      <th>maggie binkley</th>\n",
              "      <th>shah rukh khan</th>\n",
              "      <th>gene autry</th>\n",
              "      <th>akshay kumar</th>\n",
              "      <th>nicolas cage</th>\n",
              "      <th>united states</th>\n",
              "      <th>india</th>\n",
              "    </tr>\n",
              "  </thead>\n",
              "  <tbody>\n",
              "    <tr>\n",
              "      <th>0</th>\n",
              "      <td>1</td>\n",
              "      <td>1.00</td>\n",
              "      <td>2015-03-09</td>\n",
              "      <td>as680</td>\n",
              "      <td>the english civil war</td>\n",
              "      <td>NaT</td>\n",
              "      <td>2019</td>\n",
              "      <td>13+</td>\n",
              "      <td>documentary, special interest</td>\n",
              "      <td>amazon</td>\n",
              "      <td>...</td>\n",
              "      <td>0</td>\n",
              "      <td>0</td>\n",
              "      <td>0</td>\n",
              "      <td>0</td>\n",
              "      <td>0</td>\n",
              "      <td>0</td>\n",
              "      <td>0</td>\n",
              "      <td>0</td>\n",
              "      <td>0</td>\n",
              "      <td>0</td>\n",
              "    </tr>\n",
              "  </tbody>\n",
              "</table>\n",
              "<p>1 rows × 28 columns</p>\n",
              "</div>\n",
              "      <button class=\"colab-df-convert\" onclick=\"convertToInteractive('df-db5993e8-cc70-4afe-a253-f08a12c96534')\"\n",
              "              title=\"Convert this dataframe to an interactive table.\"\n",
              "              style=\"display:none;\">\n",
              "        \n",
              "  <svg xmlns=\"http://www.w3.org/2000/svg\" height=\"24px\"viewBox=\"0 0 24 24\"\n",
              "       width=\"24px\">\n",
              "    <path d=\"M0 0h24v24H0V0z\" fill=\"none\"/>\n",
              "    <path d=\"M18.56 5.44l.94 2.06.94-2.06 2.06-.94-2.06-.94-.94-2.06-.94 2.06-2.06.94zm-11 1L8.5 8.5l.94-2.06 2.06-.94-2.06-.94L8.5 2.5l-.94 2.06-2.06.94zm10 10l.94 2.06.94-2.06 2.06-.94-2.06-.94-.94-2.06-.94 2.06-2.06.94z\"/><path d=\"M17.41 7.96l-1.37-1.37c-.4-.4-.92-.59-1.43-.59-.52 0-1.04.2-1.43.59L10.3 9.45l-7.72 7.72c-.78.78-.78 2.05 0 2.83L4 21.41c.39.39.9.59 1.41.59.51 0 1.02-.2 1.41-.59l7.78-7.78 2.81-2.81c.8-.78.8-2.07 0-2.86zM5.41 20L4 18.59l7.72-7.72 1.47 1.35L5.41 20z\"/>\n",
              "  </svg>\n",
              "      </button>\n",
              "      \n",
              "  <style>\n",
              "    .colab-df-container {\n",
              "      display:flex;\n",
              "      flex-wrap:wrap;\n",
              "      gap: 12px;\n",
              "    }\n",
              "\n",
              "    .colab-df-convert {\n",
              "      background-color: #E8F0FE;\n",
              "      border: none;\n",
              "      border-radius: 50%;\n",
              "      cursor: pointer;\n",
              "      display: none;\n",
              "      fill: #1967D2;\n",
              "      height: 32px;\n",
              "      padding: 0 0 0 0;\n",
              "      width: 32px;\n",
              "    }\n",
              "\n",
              "    .colab-df-convert:hover {\n",
              "      background-color: #E2EBFA;\n",
              "      box-shadow: 0px 1px 2px rgba(60, 64, 67, 0.3), 0px 1px 3px 1px rgba(60, 64, 67, 0.15);\n",
              "      fill: #174EA6;\n",
              "    }\n",
              "\n",
              "    [theme=dark] .colab-df-convert {\n",
              "      background-color: #3B4455;\n",
              "      fill: #D2E3FC;\n",
              "    }\n",
              "\n",
              "    [theme=dark] .colab-df-convert:hover {\n",
              "      background-color: #434B5C;\n",
              "      box-shadow: 0px 1px 3px 1px rgba(0, 0, 0, 0.15);\n",
              "      filter: drop-shadow(0px 1px 2px rgba(0, 0, 0, 0.3));\n",
              "      fill: #FFFFFF;\n",
              "    }\n",
              "  </style>\n",
              "\n",
              "      <script>\n",
              "        const buttonEl =\n",
              "          document.querySelector('#df-db5993e8-cc70-4afe-a253-f08a12c96534 button.colab-df-convert');\n",
              "        buttonEl.style.display =\n",
              "          google.colab.kernel.accessAllowed ? 'block' : 'none';\n",
              "\n",
              "        async function convertToInteractive(key) {\n",
              "          const element = document.querySelector('#df-db5993e8-cc70-4afe-a253-f08a12c96534');\n",
              "          const dataTable =\n",
              "            await google.colab.kernel.invokeFunction('convertToInteractive',\n",
              "                                                     [key], {});\n",
              "          if (!dataTable) return;\n",
              "\n",
              "          const docLinkHtml = 'Like what you see? Visit the ' +\n",
              "            '<a target=\"_blank\" href=https://colab.research.google.com/notebooks/data_table.ipynb>data table notebook</a>'\n",
              "            + ' to learn more about interactive tables.';\n",
              "          element.innerHTML = '';\n",
              "          dataTable['output_type'] = 'display_data';\n",
              "          await google.colab.output.renderOutput(dataTable, element);\n",
              "          const docLink = document.createElement('div');\n",
              "          docLink.innerHTML = docLinkHtml;\n",
              "          element.appendChild(docLink);\n",
              "        }\n",
              "      </script>\n",
              "    </div>\n",
              "  </div>\n",
              "  "
            ]
          },
          "metadata": {},
          "execution_count": 54
        }
      ]
    },
    {
      "cell_type": "markdown",
      "source": [
        "**VARIABLE 'timestamp y date_added y year** es la fecha de la valoracion y de subida,y la calificacion. Creo valores de diferencia entre ambas para ver si a menor tiempo entre lanzamiento y evaluacion hay algo que ayude al modelo. "
      ],
      "metadata": {
        "id": "dDClShOFYZWn"
      }
    },
    {
      "cell_type": "code",
      "source": [
        "movies['timestamp'] = movies['timestamp'].dt.year\n"
      ],
      "metadata": {
        "id": "nb6WwHvmYZyc"
      },
      "execution_count": null,
      "outputs": []
    },
    {
      "cell_type": "code",
      "source": [
        "movies.head(1)"
      ],
      "metadata": {
        "colab": {
          "base_uri": "https://localhost:8080/",
          "height": 241
        },
        "id": "rFPOrXCMZKQL",
        "outputId": "2cd66d84-7442-4f99-e68a-0fc9768a52f4"
      },
      "execution_count": null,
      "outputs": [
        {
          "output_type": "execute_result",
          "data": {
            "text/plain": [
              "   userId  score  timestamp     id                  title date_added  year  \\\n",
              "0       1   1.00       2015  as680  the english civil war        NaT  2019   \n",
              "\n",
              "  rating                      listed_in platform  ...  jay chapman  \\\n",
              "0    13+  documentary, special interest   amazon  ...            0   \n",
              "\n",
              "  moonbug entertainment  arthur van merwijk  maggie binkley  shah rukh khan  \\\n",
              "0                     0                   0               0               0   \n",
              "\n",
              "   gene autry  akshay kumar  nicolas cage  united states  india  \n",
              "0           0             0             0              0      0  \n",
              "\n",
              "[1 rows x 28 columns]"
            ],
            "text/html": [
              "\n",
              "  <div id=\"df-df29a681-d3f2-423f-918b-8c95db12bf46\">\n",
              "    <div class=\"colab-df-container\">\n",
              "      <div>\n",
              "<style scoped>\n",
              "    .dataframe tbody tr th:only-of-type {\n",
              "        vertical-align: middle;\n",
              "    }\n",
              "\n",
              "    .dataframe tbody tr th {\n",
              "        vertical-align: top;\n",
              "    }\n",
              "\n",
              "    .dataframe thead th {\n",
              "        text-align: right;\n",
              "    }\n",
              "</style>\n",
              "<table border=\"1\" class=\"dataframe\">\n",
              "  <thead>\n",
              "    <tr style=\"text-align: right;\">\n",
              "      <th></th>\n",
              "      <th>userId</th>\n",
              "      <th>score</th>\n",
              "      <th>timestamp</th>\n",
              "      <th>id</th>\n",
              "      <th>title</th>\n",
              "      <th>date_added</th>\n",
              "      <th>year</th>\n",
              "      <th>rating</th>\n",
              "      <th>listed_in</th>\n",
              "      <th>platform</th>\n",
              "      <th>...</th>\n",
              "      <th>jay chapman</th>\n",
              "      <th>moonbug entertainment</th>\n",
              "      <th>arthur van merwijk</th>\n",
              "      <th>maggie binkley</th>\n",
              "      <th>shah rukh khan</th>\n",
              "      <th>gene autry</th>\n",
              "      <th>akshay kumar</th>\n",
              "      <th>nicolas cage</th>\n",
              "      <th>united states</th>\n",
              "      <th>india</th>\n",
              "    </tr>\n",
              "  </thead>\n",
              "  <tbody>\n",
              "    <tr>\n",
              "      <th>0</th>\n",
              "      <td>1</td>\n",
              "      <td>1.00</td>\n",
              "      <td>2015</td>\n",
              "      <td>as680</td>\n",
              "      <td>the english civil war</td>\n",
              "      <td>NaT</td>\n",
              "      <td>2019</td>\n",
              "      <td>13+</td>\n",
              "      <td>documentary, special interest</td>\n",
              "      <td>amazon</td>\n",
              "      <td>...</td>\n",
              "      <td>0</td>\n",
              "      <td>0</td>\n",
              "      <td>0</td>\n",
              "      <td>0</td>\n",
              "      <td>0</td>\n",
              "      <td>0</td>\n",
              "      <td>0</td>\n",
              "      <td>0</td>\n",
              "      <td>0</td>\n",
              "      <td>0</td>\n",
              "    </tr>\n",
              "  </tbody>\n",
              "</table>\n",
              "<p>1 rows × 28 columns</p>\n",
              "</div>\n",
              "      <button class=\"colab-df-convert\" onclick=\"convertToInteractive('df-df29a681-d3f2-423f-918b-8c95db12bf46')\"\n",
              "              title=\"Convert this dataframe to an interactive table.\"\n",
              "              style=\"display:none;\">\n",
              "        \n",
              "  <svg xmlns=\"http://www.w3.org/2000/svg\" height=\"24px\"viewBox=\"0 0 24 24\"\n",
              "       width=\"24px\">\n",
              "    <path d=\"M0 0h24v24H0V0z\" fill=\"none\"/>\n",
              "    <path d=\"M18.56 5.44l.94 2.06.94-2.06 2.06-.94-2.06-.94-.94-2.06-.94 2.06-2.06.94zm-11 1L8.5 8.5l.94-2.06 2.06-.94-2.06-.94L8.5 2.5l-.94 2.06-2.06.94zm10 10l.94 2.06.94-2.06 2.06-.94-2.06-.94-.94-2.06-.94 2.06-2.06.94z\"/><path d=\"M17.41 7.96l-1.37-1.37c-.4-.4-.92-.59-1.43-.59-.52 0-1.04.2-1.43.59L10.3 9.45l-7.72 7.72c-.78.78-.78 2.05 0 2.83L4 21.41c.39.39.9.59 1.41.59.51 0 1.02-.2 1.41-.59l7.78-7.78 2.81-2.81c.8-.78.8-2.07 0-2.86zM5.41 20L4 18.59l7.72-7.72 1.47 1.35L5.41 20z\"/>\n",
              "  </svg>\n",
              "      </button>\n",
              "      \n",
              "  <style>\n",
              "    .colab-df-container {\n",
              "      display:flex;\n",
              "      flex-wrap:wrap;\n",
              "      gap: 12px;\n",
              "    }\n",
              "\n",
              "    .colab-df-convert {\n",
              "      background-color: #E8F0FE;\n",
              "      border: none;\n",
              "      border-radius: 50%;\n",
              "      cursor: pointer;\n",
              "      display: none;\n",
              "      fill: #1967D2;\n",
              "      height: 32px;\n",
              "      padding: 0 0 0 0;\n",
              "      width: 32px;\n",
              "    }\n",
              "\n",
              "    .colab-df-convert:hover {\n",
              "      background-color: #E2EBFA;\n",
              "      box-shadow: 0px 1px 2px rgba(60, 64, 67, 0.3), 0px 1px 3px 1px rgba(60, 64, 67, 0.15);\n",
              "      fill: #174EA6;\n",
              "    }\n",
              "\n",
              "    [theme=dark] .colab-df-convert {\n",
              "      background-color: #3B4455;\n",
              "      fill: #D2E3FC;\n",
              "    }\n",
              "\n",
              "    [theme=dark] .colab-df-convert:hover {\n",
              "      background-color: #434B5C;\n",
              "      box-shadow: 0px 1px 3px 1px rgba(0, 0, 0, 0.15);\n",
              "      filter: drop-shadow(0px 1px 2px rgba(0, 0, 0, 0.3));\n",
              "      fill: #FFFFFF;\n",
              "    }\n",
              "  </style>\n",
              "\n",
              "      <script>\n",
              "        const buttonEl =\n",
              "          document.querySelector('#df-df29a681-d3f2-423f-918b-8c95db12bf46 button.colab-df-convert');\n",
              "        buttonEl.style.display =\n",
              "          google.colab.kernel.accessAllowed ? 'block' : 'none';\n",
              "\n",
              "        async function convertToInteractive(key) {\n",
              "          const element = document.querySelector('#df-df29a681-d3f2-423f-918b-8c95db12bf46');\n",
              "          const dataTable =\n",
              "            await google.colab.kernel.invokeFunction('convertToInteractive',\n",
              "                                                     [key], {});\n",
              "          if (!dataTable) return;\n",
              "\n",
              "          const docLinkHtml = 'Like what you see? Visit the ' +\n",
              "            '<a target=\"_blank\" href=https://colab.research.google.com/notebooks/data_table.ipynb>data table notebook</a>'\n",
              "            + ' to learn more about interactive tables.';\n",
              "          element.innerHTML = '';\n",
              "          dataTable['output_type'] = 'display_data';\n",
              "          await google.colab.output.renderOutput(dataTable, element);\n",
              "          const docLink = document.createElement('div');\n",
              "          docLink.innerHTML = docLinkHtml;\n",
              "          element.appendChild(docLink);\n",
              "        }\n",
              "      </script>\n",
              "    </div>\n",
              "  </div>\n",
              "  "
            ]
          },
          "metadata": {},
          "execution_count": 56
        }
      ]
    },
    {
      "cell_type": "code",
      "source": [
        "print(movies['year'].dtypes)\n"
      ],
      "metadata": {
        "colab": {
          "base_uri": "https://localhost:8080/"
        },
        "id": "B925WAv4ZtdO",
        "outputId": "3618fa68-ac40-4234-e500-dc8f5d61a5a3"
      },
      "execution_count": null,
      "outputs": [
        {
          "output_type": "stream",
          "name": "stdout",
          "text": [
            "int64\n"
          ]
        }
      ]
    },
    {
      "cell_type": "code",
      "source": [
        "movies['diftiempo'] = movies['timestamp']-movies['year']\n"
      ],
      "metadata": {
        "id": "ksGOb5J9Z0tX"
      },
      "execution_count": null,
      "outputs": []
    },
    {
      "cell_type": "code",
      "source": [
        "#date_added Valores no nulos:  6440690 asi que la elimino\n",
        "movies.drop('date_added', axis= 'columns', inplace= True)"
      ],
      "metadata": {
        "id": "8KwOctCNdXPn"
      },
      "execution_count": null,
      "outputs": []
    },
    {
      "cell_type": "code",
      "source": [
        "#ya trabajado timestamp tambien la borro, year la dejo\n",
        "movies.drop('timestamp', axis= 'columns', inplace= True)"
      ],
      "metadata": {
        "id": "BbKQHsORd_FR"
      },
      "execution_count": null,
      "outputs": []
    },
    {
      "cell_type": "markdown",
      "source": [
        "**VARIABLE rating** se trata de la clasificacion de la pelicula"
      ],
      "metadata": {
        "id": "EPEa-SwWeiTU"
      }
    },
    {
      "cell_type": "code",
      "source": [
        "valores_unicos = movies[\"rating\"].unique()\n",
        "print(valores_unicos)"
      ],
      "metadata": {
        "colab": {
          "base_uri": "https://localhost:8080/"
        },
        "id": "IwBbxz5WepJA",
        "outputId": "3648df17-c8bb-476b-e2d1-7814cfc93f2e"
      },
      "execution_count": null,
      "outputs": [
        {
          "output_type": "stream",
          "name": "stdout",
          "text": [
            "['13+' 'tv-y' 'tv-14' 'pg-13' 'tv-nr' 'tv-ma' 'tv-pg' 'pg' 'tv-g' '16+'\n",
            " '7+' 'nr' 'tv-y7' 'r' 'all' 'g' '18+' 'tv-y7-fv' 'ur' 'unrated' 'nc-17'\n",
            " 'ages_18_' '16' 'not rated' 'not_rate' 'ages_16_' 'all_ages']\n"
          ]
        }
      ]
    },
    {
      "cell_type": "code",
      "source": [
        "dummies = pd.get_dummies(movies['rating'])\n"
      ],
      "metadata": {
        "id": "0TQEWWi-e7ZY"
      },
      "execution_count": null,
      "outputs": []
    },
    {
      "cell_type": "code",
      "source": [
        "movies = pd.concat([movies, dummies], axis=1)\n"
      ],
      "metadata": {
        "id": "QR9DtE-pgdr-"
      },
      "execution_count": null,
      "outputs": []
    },
    {
      "cell_type": "code",
      "source": [
        "movies.columns"
      ],
      "metadata": {
        "colab": {
          "base_uri": "https://localhost:8080/"
        },
        "id": "TCmhRPlXggE3",
        "outputId": "7badbcb2-d161-46ab-d040-1ae09d9cd714"
      },
      "execution_count": null,
      "outputs": [
        {
          "output_type": "execute_result",
          "data": {
            "text/plain": [
              "Index(['userId', 'score', 'id', 'title', 'year', 'rating', 'listed_in',\n",
              "       'platform', 'duration_int', 'duration_type', 'scored', 'movie',\n",
              "       'tv show', 'multiple_values', 'mark knight', 'cannis holder',\n",
              "       'jay chapman', 'moonbug entertainment', 'arthur van merwijk',\n",
              "       'maggie binkley', 'shah rukh khan', 'gene autry', 'akshay kumar',\n",
              "       'nicolas cage', 'united states', 'india', 'diftiempo', '13+', '16',\n",
              "       '16+', '18+', '7+', 'ages_16_', 'ages_18_', 'all', 'all_ages', 'g',\n",
              "       'nc-17', 'not rated', 'not_rate', 'nr', 'pg', 'pg-13', 'r', 'tv-14',\n",
              "       'tv-g', 'tv-ma', 'tv-nr', 'tv-pg', 'tv-y', 'tv-y7', 'tv-y7-fv',\n",
              "       'unrated', 'ur'],\n",
              "      dtype='object')"
            ]
          },
          "metadata": {},
          "execution_count": 64
        }
      ]
    },
    {
      "cell_type": "code",
      "source": [
        "movies.drop('rating', axis= 'columns', inplace= True)"
      ],
      "metadata": {
        "id": "cQp2LLCIgoue"
      },
      "execution_count": null,
      "outputs": []
    },
    {
      "cell_type": "markdown",
      "source": [
        "**VARIABLE listed_in** agrupacion de tipo"
      ],
      "metadata": {
        "id": "dgJy1OaDg47V"
      }
    },
    {
      "cell_type": "code",
      "source": [
        "valores_unicos = movies[\"listed_in\"].unique()\n",
        "print(valores_unicos)"
      ],
      "metadata": {
        "colab": {
          "base_uri": "https://localhost:8080/"
        },
        "id": "AfBip3PMhRER",
        "outputId": "c912d8f4-1300-4a19-dd59-cee5ccd49341"
      },
      "execution_count": null,
      "outputs": [
        {
          "output_type": "stream",
          "name": "stdout",
          "text": [
            "['documentary, special interest' 'children & family movies, comedies'\n",
            " 'crime, drama, latino' ... \"kids' tv, reality tv, tv dramas\"\n",
            " 'drama, science fiction, teen'\n",
            " 'children & family movies, classic movies, dramas']\n"
          ]
        }
      ]
    },
    {
      "cell_type": "code",
      "source": [
        "valores_unicos = movies[\"listed_in\"].unique()\n",
        "tabla_valores_unicos = movies[\"listed_in\"].value_counts().reset_index()\n",
        "tabla_valores_unicos.columns = ['valor', 'cantidad']\n",
        "tabla_valores_unicos['porcentaje'] = tabla_valores_unicos['cantidad'] / len(movies) * 100\n",
        "tabla_valores_unicos['porcentaje'] = tabla_valores_unicos['porcentaje'].round(2).astype(str) + '%'\n",
        "print(tabla_valores_unicos.head(20))"
      ],
      "metadata": {
        "colab": {
          "base_uri": "https://localhost:8080/"
        },
        "id": "y9-YeZa3h0n0",
        "outputId": "a04a517f-09c9-4d55-e703-a64bdef9586e"
      },
      "execution_count": null,
      "outputs": [
        {
          "output_type": "stream",
          "name": "stdout",
          "text": [
            "                                               valor  cantidad porcentaje\n",
            "0                                              drama    508978      4.62%\n",
            "1                                             comedy    291653      2.65%\n",
            "2                                      documentaries    274926       2.5%\n",
            "3                                      comedy, drama    201664      1.83%\n",
            "4                                    drama, suspense    191180      1.74%\n",
            "5                                        documentary    179223      1.63%\n",
            "6                                    animation, kids    178510      1.62%\n",
            "7                                               kids    175374      1.59%\n",
            "8                       dramas, international movies    173773      1.58%\n",
            "9                                    stand-up comedy    159359      1.45%\n",
            "10                                            horror    146025      1.33%\n",
            "11                                     action, drama    145032      1.32%\n",
            "12                     documentary, special interest    142474      1.29%\n",
            "13                                          tv shows    134018      1.22%\n",
            "14            comedies, dramas, international movies    130963      1.19%\n",
            "15  dramas, independent movies, international movies    120500      1.09%\n",
            "16                                            action    116263      1.06%\n",
            "17                                    drama, romance    112594      1.02%\n",
            "18                                          kids' tv    104773      0.95%\n",
            "19                          children & family movies    103206      0.94%\n"
          ]
        }
      ]
    },
    {
      "cell_type": "code",
      "source": [
        "#voy unificando algunos generos y reajustando para ver si puedo clasificar la mayor cantidad de casos. \n",
        "movies['listed_in'] = movies['listed_in'].replace(['documentary', 'documentary, special interest'], 'documentaries')\n",
        "movies['listed_in'] = movies['listed_in'].replace(['animation, kids', \"kids' tv\", 'children & family movies'], 'kids')\n",
        "movies['listed_in'] = movies['listed_in'].replace(['comedy, drama', \"dramas, international movies\", 'dramas, independent movies, international movies', 'drama, romance'], 'drama')\n",
        "\n"
      ],
      "metadata": {
        "id": "LTDVdJKTkUmm"
      },
      "execution_count": null,
      "outputs": []
    },
    {
      "cell_type": "code",
      "source": [
        "#reviso nuevamente\n",
        "valores_unicos = movies[\"listed_in\"].unique()\n",
        "tabla_valores_unicos = movies[\"listed_in\"].value_counts().reset_index()\n",
        "tabla_valores_unicos.columns = ['valor', 'cantidad']\n",
        "tabla_valores_unicos['porcentaje'] = tabla_valores_unicos['cantidad'] / len(movies) * 100\n",
        "tabla_valores_unicos['porcentaje'] = tabla_valores_unicos['porcentaje'].round(2).astype(str) + '%'\n",
        "print(tabla_valores_unicos.head(20))"
      ],
      "metadata": {
        "colab": {
          "base_uri": "https://localhost:8080/"
        },
        "id": "5pHsFyWdl2EA",
        "outputId": "bcfb5d43-8b86-4379-cd31-a24e96191248"
      },
      "execution_count": null,
      "outputs": [
        {
          "output_type": "stream",
          "name": "stdout",
          "text": [
            "                                                valor  cantidad porcentaje\n",
            "0                                               drama   1117509     10.15%\n",
            "1                                       documentaries    596623      5.42%\n",
            "2                                                kids    561863       5.1%\n",
            "3                                              comedy    291653      2.65%\n",
            "4                                     drama, suspense    191180      1.74%\n",
            "5                                     stand-up comedy    159359      1.45%\n",
            "6                                              horror    146025      1.33%\n",
            "7                                       action, drama    145032      1.32%\n",
            "8                                            tv shows    134018      1.22%\n",
            "9              comedies, dramas, international movies    130963      1.19%\n",
            "10                                             action    116263      1.06%\n",
            "11  arts, entertainment, and culture, comedy, spec...    102948      0.93%\n",
            "12                 children & family movies, comedies     96527      0.88%\n",
            "13                                   horror, suspense     94862      0.86%\n",
            "14                                           suspense     89873      0.82%\n",
            "15                documentaries, international movies     89243      0.81%\n",
            "16      dramas, international movies, romantic movies     86413      0.78%\n",
            "17                     comedies, international movies     84590      0.77%\n",
            "18                           action, adventure, anime     84107      0.76%\n",
            "19    comedies, international movies, romantic movies     72842      0.66%\n"
          ]
        }
      ]
    },
    {
      "cell_type": "code",
      "source": [
        "movies['listed_in'] = movies['listed_in'].replace(['action, drama', \"dramas, international movies, romantic movies\"], 'drama')\n",
        "movies['listed_in'] = movies['listed_in'].replace(['stand-up comedy', \"comedies, dramas, international movies\", 'comedies, international movies','comedies, international movies' ], 'comedy')\n",
        "movies['listed_in'] = movies['listed_in'].replace(['documentaries, international movies'], 'documentaries')"
      ],
      "metadata": {
        "id": "pbxiUG09mAa7"
      },
      "execution_count": null,
      "outputs": []
    },
    {
      "cell_type": "code",
      "source": [
        "#reviso nuevamente\n",
        "valores_unicos = movies[\"listed_in\"].unique()\n",
        "tabla_valores_unicos = movies[\"listed_in\"].value_counts().reset_index()\n",
        "tabla_valores_unicos.columns = ['valor', 'cantidad']\n",
        "tabla_valores_unicos['porcentaje'] = tabla_valores_unicos['cantidad'] / len(movies) * 100\n",
        "tabla_valores_unicos['porcentaje'] = tabla_valores_unicos['porcentaje'].round(2).astype(str) + '%'\n",
        "print(tabla_valores_unicos.head(20))"
      ],
      "metadata": {
        "colab": {
          "base_uri": "https://localhost:8080/"
        },
        "id": "SXc1DEYbm5WZ",
        "outputId": "e6e37ca9-2356-464b-8742-e3d82aebd89e"
      },
      "execution_count": null,
      "outputs": [
        {
          "output_type": "stream",
          "name": "stdout",
          "text": [
            "                                                valor  cantidad porcentaje\n",
            "0                                               drama   1348954     12.25%\n",
            "1                                       documentaries    685866      6.23%\n",
            "2                                              comedy    666565      6.05%\n",
            "3                                                kids    561863       5.1%\n",
            "4                                     drama, suspense    191180      1.74%\n",
            "5                                              horror    146025      1.33%\n",
            "6                                            tv shows    134018      1.22%\n",
            "7                                              action    116263      1.06%\n",
            "8   arts, entertainment, and culture, comedy, spec...    102948      0.93%\n",
            "9                  children & family movies, comedies     96527      0.88%\n",
            "10                                   horror, suspense     94862      0.86%\n",
            "11                                           suspense     89873      0.82%\n",
            "12                           action, adventure, anime     84107      0.76%\n",
            "13    comedies, international movies, romantic movies     72842      0.66%\n",
            "14                            action, drama, suspense     68688      0.62%\n",
            "15                                   special interest     68414      0.62%\n",
            "16                                             dramas     65933       0.6%\n",
            "17                                   action, suspense     65518      0.59%\n",
            "18            dramas, international movies, thrillers     64126      0.58%\n",
            "19   action & adventure, dramas, international movies     63663      0.58%\n"
          ]
        }
      ]
    },
    {
      "cell_type": "code",
      "source": [
        "movies['listed_in'] = movies['listed_in'].replace(['drama, suspense','dramas, international movies, thrillers', 'dramas' ], 'drama')\n",
        "movies['listed_in'] = movies['listed_in'].replace(['horror','suspense' ], 'horror, suspense')\n"
      ],
      "metadata": {
        "id": "xYKKtW8pnFs0"
      },
      "execution_count": null,
      "outputs": []
    },
    {
      "cell_type": "code",
      "source": [
        "#reviso nuevamente\n",
        "valores_unicos = movies[\"listed_in\"].unique()\n",
        "tabla_valores_unicos = movies[\"listed_in\"].value_counts().reset_index()\n",
        "tabla_valores_unicos.columns = ['valor', 'cantidad']\n",
        "tabla_valores_unicos['porcentaje'] = tabla_valores_unicos['cantidad'] / len(movies) * 100\n",
        "tabla_valores_unicos['porcentaje'] = tabla_valores_unicos['porcentaje'].round(2).astype(str) + '%'\n",
        "print(tabla_valores_unicos.head(30))"
      ],
      "metadata": {
        "colab": {
          "base_uri": "https://localhost:8080/"
        },
        "id": "pCyXKJjTnpkK",
        "outputId": "675eb43b-bc7c-40af-cb70-fb23a5f22853"
      },
      "execution_count": null,
      "outputs": [
        {
          "output_type": "stream",
          "name": "stdout",
          "text": [
            "                                                valor  cantidad porcentaje\n",
            "0                                               drama   1670193     15.16%\n",
            "1                                       documentaries    685866      6.23%\n",
            "2                                              comedy    666565      6.05%\n",
            "3                                                kids    561863       5.1%\n",
            "4                                    horror, suspense    330760       3.0%\n",
            "5                                            tv shows    134018      1.22%\n",
            "6                                              action    116263      1.06%\n",
            "7   arts, entertainment, and culture, comedy, spec...    102948      0.93%\n",
            "8                  children & family movies, comedies     96527      0.88%\n",
            "9                            action, adventure, anime     84107      0.76%\n",
            "10    comedies, international movies, romantic movies     72842      0.66%\n",
            "11                            action, drama, suspense     68688      0.62%\n",
            "12                                   special interest     68414      0.62%\n",
            "13                                   action, suspense     65518      0.59%\n",
            "14   action & adventure, dramas, international movies     63663      0.58%\n",
            "15                                 action & adventure     61644      0.56%\n",
            "16                          animation, comedy, family     59024      0.54%\n",
            "17                  international tv shows, tv dramas     58220      0.53%\n",
            "18                           action, adventure, drama     56575      0.51%\n",
            "19               comedies, dramas, independent movies     55644      0.51%\n",
            "20  crime tv shows, international tv shows, tv dramas     52934      0.48%\n",
            "21                                           comedies     52527      0.48%\n",
            "22                             comedy, drama, romance     51881      0.47%\n",
            "23                                            romance     49117      0.45%\n",
            "24                                    comedy, romance     48741      0.44%\n",
            "25                                            western     48455      0.44%\n",
            "26           action & adventure, international movies     48070      0.44%\n",
            "27                         dramas, independent movies     47975      0.44%\n",
            "28                              kids' tv, tv comedies     47335      0.43%\n",
            "29                          music videos and concerts     45495      0.41%\n"
          ]
        }
      ]
    },
    {
      "cell_type": "code",
      "source": [
        "\n",
        "movies['listed_in'] = movies['listed_in'].replace(['comedies, international movies, romantic movies', 'comedies, dramas, independent movies', 'comedies','comedy, romance' ], 'comedy')\n"
      ],
      "metadata": {
        "id": "csA6LzU9n6AL"
      },
      "execution_count": null,
      "outputs": []
    },
    {
      "cell_type": "code",
      "source": [
        "#reviso nuevamente\n",
        "valores_unicos = movies[\"listed_in\"].unique()\n",
        "tabla_valores_unicos = movies[\"listed_in\"].value_counts().reset_index()\n",
        "tabla_valores_unicos.columns = ['valor', 'cantidad']\n",
        "tabla_valores_unicos['porcentaje'] = tabla_valores_unicos['cantidad'] / len(movies) * 100\n",
        "tabla_valores_unicos['porcentaje'] = tabla_valores_unicos['porcentaje'].round(2).astype(str) + '%'\n",
        "print(tabla_valores_unicos.head(5))"
      ],
      "metadata": {
        "colab": {
          "base_uri": "https://localhost:8080/"
        },
        "id": "WF5vY2AuocH1",
        "outputId": "423e50d1-f150-49d0-e08f-fa86ebb8d3fd"
      },
      "execution_count": null,
      "outputs": [
        {
          "output_type": "stream",
          "name": "stdout",
          "text": [
            "              valor  cantidad porcentaje\n",
            "0             drama   1670193     15.16%\n",
            "1            comedy    896319      8.14%\n",
            "2     documentaries    685866      6.23%\n",
            "3              kids    561863       5.1%\n",
            "4  horror, suspense    330760       3.0%\n"
          ]
        }
      ]
    },
    {
      "cell_type": "code",
      "source": [
        "#me quedo con los 5 primeros y genero dummies, luego elimino la columna. \n",
        "movies['drama'] = np.where(movies['listed_in'] == 'drama', 1, 0)\n",
        "movies['comedy'] = np.where(movies['listed_in'] == 'comedy', 1, 0)\n",
        "movies['documentaries'] = np.where(movies['listed_in'] == 'documentaries', 1, 0)\n",
        "movies['kids'] = np.where(movies['listed_in'] == 'kids', 1, 0)\n",
        "movies['horror, suspense'] = np.where(movies['listed_in'] == 'horror, suspense', 1, 0)\n",
        "\n"
      ],
      "metadata": {
        "id": "Qhl-vwtsoi8_"
      },
      "execution_count": null,
      "outputs": []
    },
    {
      "cell_type": "code",
      "source": [
        "movies.drop('listed_in', axis= 'columns', inplace= True)"
      ],
      "metadata": {
        "id": "pU2aYEmipEgr"
      },
      "execution_count": null,
      "outputs": []
    },
    {
      "cell_type": "code",
      "source": [
        "movies.columns"
      ],
      "metadata": {
        "colab": {
          "base_uri": "https://localhost:8080/"
        },
        "id": "mQBdVBCtpKSW",
        "outputId": "173da1cf-6336-4427-85c9-e3df71972a9a"
      },
      "execution_count": null,
      "outputs": [
        {
          "output_type": "execute_result",
          "data": {
            "text/plain": [
              "Index(['userId', 'score', 'id', 'title', 'year', 'platform', 'duration_int',\n",
              "       'duration_type', 'scored', 'movie', 'tv show', 'multiple_values',\n",
              "       'mark knight', 'cannis holder', 'jay chapman', 'moonbug entertainment',\n",
              "       'arthur van merwijk', 'maggie binkley', 'shah rukh khan', 'gene autry',\n",
              "       'akshay kumar', 'nicolas cage', 'united states', 'india', 'diftiempo',\n",
              "       '13+', '16', '16+', '18+', '7+', 'ages_16_', 'ages_18_', 'all',\n",
              "       'all_ages', 'g', 'nc-17', 'not rated', 'not_rate', 'nr', 'pg', 'pg-13',\n",
              "       'r', 'tv-14', 'tv-g', 'tv-ma', 'tv-nr', 'tv-pg', 'tv-y', 'tv-y7',\n",
              "       'tv-y7-fv', 'unrated', 'ur', 'drama', 'comedy', 'documentaries', 'kids',\n",
              "       'horror, suspense'],\n",
              "      dtype='object')"
            ]
          },
          "metadata": {},
          "execution_count": 78
        }
      ]
    },
    {
      "cell_type": "code",
      "source": [
        "movies.head(1)"
      ],
      "metadata": {
        "colab": {
          "base_uri": "https://localhost:8080/",
          "height": 189
        },
        "id": "-6dSzBGapSKR",
        "outputId": "d211d98b-e0b3-423d-bc89-37aed6936e21"
      },
      "execution_count": null,
      "outputs": [
        {
          "output_type": "execute_result",
          "data": {
            "text/plain": [
              "   userId  score     id                  title  year platform  duration_int  \\\n",
              "0       1   1.00  as680  the english civil war  2019   amazon             1   \n",
              "\n",
              "  duration_type  scored  movie  ...  tv-y  tv-y7  tv-y7-fv  unrated  ur  \\\n",
              "0        season    3.55      0  ...     0      0         0        0   0   \n",
              "\n",
              "   drama  comedy  documentaries  kids  horror, suspense  \n",
              "0      0       0              1     0                 0  \n",
              "\n",
              "[1 rows x 57 columns]"
            ],
            "text/html": [
              "\n",
              "  <div id=\"df-e2f67db0-9fa6-479f-9a3a-5acad2513059\">\n",
              "    <div class=\"colab-df-container\">\n",
              "      <div>\n",
              "<style scoped>\n",
              "    .dataframe tbody tr th:only-of-type {\n",
              "        vertical-align: middle;\n",
              "    }\n",
              "\n",
              "    .dataframe tbody tr th {\n",
              "        vertical-align: top;\n",
              "    }\n",
              "\n",
              "    .dataframe thead th {\n",
              "        text-align: right;\n",
              "    }\n",
              "</style>\n",
              "<table border=\"1\" class=\"dataframe\">\n",
              "  <thead>\n",
              "    <tr style=\"text-align: right;\">\n",
              "      <th></th>\n",
              "      <th>userId</th>\n",
              "      <th>score</th>\n",
              "      <th>id</th>\n",
              "      <th>title</th>\n",
              "      <th>year</th>\n",
              "      <th>platform</th>\n",
              "      <th>duration_int</th>\n",
              "      <th>duration_type</th>\n",
              "      <th>scored</th>\n",
              "      <th>movie</th>\n",
              "      <th>...</th>\n",
              "      <th>tv-y</th>\n",
              "      <th>tv-y7</th>\n",
              "      <th>tv-y7-fv</th>\n",
              "      <th>unrated</th>\n",
              "      <th>ur</th>\n",
              "      <th>drama</th>\n",
              "      <th>comedy</th>\n",
              "      <th>documentaries</th>\n",
              "      <th>kids</th>\n",
              "      <th>horror, suspense</th>\n",
              "    </tr>\n",
              "  </thead>\n",
              "  <tbody>\n",
              "    <tr>\n",
              "      <th>0</th>\n",
              "      <td>1</td>\n",
              "      <td>1.00</td>\n",
              "      <td>as680</td>\n",
              "      <td>the english civil war</td>\n",
              "      <td>2019</td>\n",
              "      <td>amazon</td>\n",
              "      <td>1</td>\n",
              "      <td>season</td>\n",
              "      <td>3.55</td>\n",
              "      <td>0</td>\n",
              "      <td>...</td>\n",
              "      <td>0</td>\n",
              "      <td>0</td>\n",
              "      <td>0</td>\n",
              "      <td>0</td>\n",
              "      <td>0</td>\n",
              "      <td>0</td>\n",
              "      <td>0</td>\n",
              "      <td>1</td>\n",
              "      <td>0</td>\n",
              "      <td>0</td>\n",
              "    </tr>\n",
              "  </tbody>\n",
              "</table>\n",
              "<p>1 rows × 57 columns</p>\n",
              "</div>\n",
              "      <button class=\"colab-df-convert\" onclick=\"convertToInteractive('df-e2f67db0-9fa6-479f-9a3a-5acad2513059')\"\n",
              "              title=\"Convert this dataframe to an interactive table.\"\n",
              "              style=\"display:none;\">\n",
              "        \n",
              "  <svg xmlns=\"http://www.w3.org/2000/svg\" height=\"24px\"viewBox=\"0 0 24 24\"\n",
              "       width=\"24px\">\n",
              "    <path d=\"M0 0h24v24H0V0z\" fill=\"none\"/>\n",
              "    <path d=\"M18.56 5.44l.94 2.06.94-2.06 2.06-.94-2.06-.94-.94-2.06-.94 2.06-2.06.94zm-11 1L8.5 8.5l.94-2.06 2.06-.94-2.06-.94L8.5 2.5l-.94 2.06-2.06.94zm10 10l.94 2.06.94-2.06 2.06-.94-2.06-.94-.94-2.06-.94 2.06-2.06.94z\"/><path d=\"M17.41 7.96l-1.37-1.37c-.4-.4-.92-.59-1.43-.59-.52 0-1.04.2-1.43.59L10.3 9.45l-7.72 7.72c-.78.78-.78 2.05 0 2.83L4 21.41c.39.39.9.59 1.41.59.51 0 1.02-.2 1.41-.59l7.78-7.78 2.81-2.81c.8-.78.8-2.07 0-2.86zM5.41 20L4 18.59l7.72-7.72 1.47 1.35L5.41 20z\"/>\n",
              "  </svg>\n",
              "      </button>\n",
              "      \n",
              "  <style>\n",
              "    .colab-df-container {\n",
              "      display:flex;\n",
              "      flex-wrap:wrap;\n",
              "      gap: 12px;\n",
              "    }\n",
              "\n",
              "    .colab-df-convert {\n",
              "      background-color: #E8F0FE;\n",
              "      border: none;\n",
              "      border-radius: 50%;\n",
              "      cursor: pointer;\n",
              "      display: none;\n",
              "      fill: #1967D2;\n",
              "      height: 32px;\n",
              "      padding: 0 0 0 0;\n",
              "      width: 32px;\n",
              "    }\n",
              "\n",
              "    .colab-df-convert:hover {\n",
              "      background-color: #E2EBFA;\n",
              "      box-shadow: 0px 1px 2px rgba(60, 64, 67, 0.3), 0px 1px 3px 1px rgba(60, 64, 67, 0.15);\n",
              "      fill: #174EA6;\n",
              "    }\n",
              "\n",
              "    [theme=dark] .colab-df-convert {\n",
              "      background-color: #3B4455;\n",
              "      fill: #D2E3FC;\n",
              "    }\n",
              "\n",
              "    [theme=dark] .colab-df-convert:hover {\n",
              "      background-color: #434B5C;\n",
              "      box-shadow: 0px 1px 3px 1px rgba(0, 0, 0, 0.15);\n",
              "      filter: drop-shadow(0px 1px 2px rgba(0, 0, 0, 0.3));\n",
              "      fill: #FFFFFF;\n",
              "    }\n",
              "  </style>\n",
              "\n",
              "      <script>\n",
              "        const buttonEl =\n",
              "          document.querySelector('#df-e2f67db0-9fa6-479f-9a3a-5acad2513059 button.colab-df-convert');\n",
              "        buttonEl.style.display =\n",
              "          google.colab.kernel.accessAllowed ? 'block' : 'none';\n",
              "\n",
              "        async function convertToInteractive(key) {\n",
              "          const element = document.querySelector('#df-e2f67db0-9fa6-479f-9a3a-5acad2513059');\n",
              "          const dataTable =\n",
              "            await google.colab.kernel.invokeFunction('convertToInteractive',\n",
              "                                                     [key], {});\n",
              "          if (!dataTable) return;\n",
              "\n",
              "          const docLinkHtml = 'Like what you see? Visit the ' +\n",
              "            '<a target=\"_blank\" href=https://colab.research.google.com/notebooks/data_table.ipynb>data table notebook</a>'\n",
              "            + ' to learn more about interactive tables.';\n",
              "          element.innerHTML = '';\n",
              "          dataTable['output_type'] = 'display_data';\n",
              "          await google.colab.output.renderOutput(dataTable, element);\n",
              "          const docLink = document.createElement('div');\n",
              "          docLink.innerHTML = docLinkHtml;\n",
              "          element.appendChild(docLink);\n",
              "        }\n",
              "      </script>\n",
              "    </div>\n",
              "  </div>\n",
              "  "
            ]
          },
          "metadata": {},
          "execution_count": 79
        }
      ]
    },
    {
      "cell_type": "markdown",
      "source": [
        "**VARIABLE platfomr** agrupacion por servicio"
      ],
      "metadata": {
        "id": "IeES2jOxpfmj"
      }
    },
    {
      "cell_type": "code",
      "source": [
        "valores_unicos = movies[\"platform\"].unique()\n",
        "print(valores_unicos)"
      ],
      "metadata": {
        "colab": {
          "base_uri": "https://localhost:8080/"
        },
        "id": "hBvDc005pvWy",
        "outputId": "d4891a50-1f5a-483b-bf43-b39a84a13db9"
      },
      "execution_count": null,
      "outputs": [
        {
          "output_type": "stream",
          "name": "stdout",
          "text": [
            "['amazon' 'netflix' 'hulu' 'disney']\n"
          ]
        }
      ]
    },
    {
      "cell_type": "code",
      "source": [
        "movies['amazon'] = np.where(movies['platform'] == 'amazon', 1, 0)\n",
        "movies['netflix'] = np.where(movies['platform'] == 'netflix', 1, 0)\n",
        "movies['hulu'] = np.where(movies['platform'] == 'hulu', 1, 0)\n",
        "movies['disney'] = np.where(movies['platform'] == 'disney', 1, 0)"
      ],
      "metadata": {
        "id": "Zp-bUh-KpaHS"
      },
      "execution_count": null,
      "outputs": []
    },
    {
      "cell_type": "code",
      "source": [
        "movies.drop('platform', axis= 'columns', inplace= True)"
      ],
      "metadata": {
        "id": "amsxGHw_qAI4"
      },
      "execution_count": null,
      "outputs": []
    },
    {
      "cell_type": "code",
      "source": [
        "movies.head(1)"
      ],
      "metadata": {
        "colab": {
          "base_uri": "https://localhost:8080/",
          "height": 189
        },
        "id": "EWK2eweoqGw0",
        "outputId": "4a409255-4f4a-443f-8463-5b0d72b4b924"
      },
      "execution_count": null,
      "outputs": [
        {
          "output_type": "execute_result",
          "data": {
            "text/plain": [
              "   userId  score     id                  title  year  duration_int  \\\n",
              "0       1   1.00  as680  the english civil war  2019             1   \n",
              "\n",
              "  duration_type  scored  movie  tv show  ...  ur  drama  comedy  \\\n",
              "0        season    3.55      0        1  ...   0      0       0   \n",
              "\n",
              "   documentaries  kids  horror, suspense  amazon  netflix  hulu  disney  \n",
              "0              1     0                 0       1        0     0       0  \n",
              "\n",
              "[1 rows x 60 columns]"
            ],
            "text/html": [
              "\n",
              "  <div id=\"df-b5227451-71ed-476a-9296-5f67242a708b\">\n",
              "    <div class=\"colab-df-container\">\n",
              "      <div>\n",
              "<style scoped>\n",
              "    .dataframe tbody tr th:only-of-type {\n",
              "        vertical-align: middle;\n",
              "    }\n",
              "\n",
              "    .dataframe tbody tr th {\n",
              "        vertical-align: top;\n",
              "    }\n",
              "\n",
              "    .dataframe thead th {\n",
              "        text-align: right;\n",
              "    }\n",
              "</style>\n",
              "<table border=\"1\" class=\"dataframe\">\n",
              "  <thead>\n",
              "    <tr style=\"text-align: right;\">\n",
              "      <th></th>\n",
              "      <th>userId</th>\n",
              "      <th>score</th>\n",
              "      <th>id</th>\n",
              "      <th>title</th>\n",
              "      <th>year</th>\n",
              "      <th>duration_int</th>\n",
              "      <th>duration_type</th>\n",
              "      <th>scored</th>\n",
              "      <th>movie</th>\n",
              "      <th>tv show</th>\n",
              "      <th>...</th>\n",
              "      <th>ur</th>\n",
              "      <th>drama</th>\n",
              "      <th>comedy</th>\n",
              "      <th>documentaries</th>\n",
              "      <th>kids</th>\n",
              "      <th>horror, suspense</th>\n",
              "      <th>amazon</th>\n",
              "      <th>netflix</th>\n",
              "      <th>hulu</th>\n",
              "      <th>disney</th>\n",
              "    </tr>\n",
              "  </thead>\n",
              "  <tbody>\n",
              "    <tr>\n",
              "      <th>0</th>\n",
              "      <td>1</td>\n",
              "      <td>1.00</td>\n",
              "      <td>as680</td>\n",
              "      <td>the english civil war</td>\n",
              "      <td>2019</td>\n",
              "      <td>1</td>\n",
              "      <td>season</td>\n",
              "      <td>3.55</td>\n",
              "      <td>0</td>\n",
              "      <td>1</td>\n",
              "      <td>...</td>\n",
              "      <td>0</td>\n",
              "      <td>0</td>\n",
              "      <td>0</td>\n",
              "      <td>1</td>\n",
              "      <td>0</td>\n",
              "      <td>0</td>\n",
              "      <td>1</td>\n",
              "      <td>0</td>\n",
              "      <td>0</td>\n",
              "      <td>0</td>\n",
              "    </tr>\n",
              "  </tbody>\n",
              "</table>\n",
              "<p>1 rows × 60 columns</p>\n",
              "</div>\n",
              "      <button class=\"colab-df-convert\" onclick=\"convertToInteractive('df-b5227451-71ed-476a-9296-5f67242a708b')\"\n",
              "              title=\"Convert this dataframe to an interactive table.\"\n",
              "              style=\"display:none;\">\n",
              "        \n",
              "  <svg xmlns=\"http://www.w3.org/2000/svg\" height=\"24px\"viewBox=\"0 0 24 24\"\n",
              "       width=\"24px\">\n",
              "    <path d=\"M0 0h24v24H0V0z\" fill=\"none\"/>\n",
              "    <path d=\"M18.56 5.44l.94 2.06.94-2.06 2.06-.94-2.06-.94-.94-2.06-.94 2.06-2.06.94zm-11 1L8.5 8.5l.94-2.06 2.06-.94-2.06-.94L8.5 2.5l-.94 2.06-2.06.94zm10 10l.94 2.06.94-2.06 2.06-.94-2.06-.94-.94-2.06-.94 2.06-2.06.94z\"/><path d=\"M17.41 7.96l-1.37-1.37c-.4-.4-.92-.59-1.43-.59-.52 0-1.04.2-1.43.59L10.3 9.45l-7.72 7.72c-.78.78-.78 2.05 0 2.83L4 21.41c.39.39.9.59 1.41.59.51 0 1.02-.2 1.41-.59l7.78-7.78 2.81-2.81c.8-.78.8-2.07 0-2.86zM5.41 20L4 18.59l7.72-7.72 1.47 1.35L5.41 20z\"/>\n",
              "  </svg>\n",
              "      </button>\n",
              "      \n",
              "  <style>\n",
              "    .colab-df-container {\n",
              "      display:flex;\n",
              "      flex-wrap:wrap;\n",
              "      gap: 12px;\n",
              "    }\n",
              "\n",
              "    .colab-df-convert {\n",
              "      background-color: #E8F0FE;\n",
              "      border: none;\n",
              "      border-radius: 50%;\n",
              "      cursor: pointer;\n",
              "      display: none;\n",
              "      fill: #1967D2;\n",
              "      height: 32px;\n",
              "      padding: 0 0 0 0;\n",
              "      width: 32px;\n",
              "    }\n",
              "\n",
              "    .colab-df-convert:hover {\n",
              "      background-color: #E2EBFA;\n",
              "      box-shadow: 0px 1px 2px rgba(60, 64, 67, 0.3), 0px 1px 3px 1px rgba(60, 64, 67, 0.15);\n",
              "      fill: #174EA6;\n",
              "    }\n",
              "\n",
              "    [theme=dark] .colab-df-convert {\n",
              "      background-color: #3B4455;\n",
              "      fill: #D2E3FC;\n",
              "    }\n",
              "\n",
              "    [theme=dark] .colab-df-convert:hover {\n",
              "      background-color: #434B5C;\n",
              "      box-shadow: 0px 1px 3px 1px rgba(0, 0, 0, 0.15);\n",
              "      filter: drop-shadow(0px 1px 2px rgba(0, 0, 0, 0.3));\n",
              "      fill: #FFFFFF;\n",
              "    }\n",
              "  </style>\n",
              "\n",
              "      <script>\n",
              "        const buttonEl =\n",
              "          document.querySelector('#df-b5227451-71ed-476a-9296-5f67242a708b button.colab-df-convert');\n",
              "        buttonEl.style.display =\n",
              "          google.colab.kernel.accessAllowed ? 'block' : 'none';\n",
              "\n",
              "        async function convertToInteractive(key) {\n",
              "          const element = document.querySelector('#df-b5227451-71ed-476a-9296-5f67242a708b');\n",
              "          const dataTable =\n",
              "            await google.colab.kernel.invokeFunction('convertToInteractive',\n",
              "                                                     [key], {});\n",
              "          if (!dataTable) return;\n",
              "\n",
              "          const docLinkHtml = 'Like what you see? Visit the ' +\n",
              "            '<a target=\"_blank\" href=https://colab.research.google.com/notebooks/data_table.ipynb>data table notebook</a>'\n",
              "            + ' to learn more about interactive tables.';\n",
              "          element.innerHTML = '';\n",
              "          dataTable['output_type'] = 'display_data';\n",
              "          await google.colab.output.renderOutput(dataTable, element);\n",
              "          const docLink = document.createElement('div');\n",
              "          docLink.innerHTML = docLinkHtml;\n",
              "          element.appendChild(docLink);\n",
              "        }\n",
              "      </script>\n",
              "    </div>\n",
              "  </div>\n",
              "  "
            ]
          },
          "metadata": {},
          "execution_count": 83
        }
      ]
    },
    {
      "cell_type": "code",
      "source": [
        "import pyarrow as pa\n",
        "import pyarrow.parquet as pq"
      ],
      "metadata": {
        "id": "jcJsdyrrr2x-"
      },
      "execution_count": null,
      "outputs": []
    },
    {
      "cell_type": "code",
      "source": [
        "archivo = pa.Table.from_pandas(movies)\n",
        "pq.write_table(archivo, 'archivoEDA.parquet')"
      ],
      "metadata": {
        "id": "4uHKbDVkrGn3"
      },
      "execution_count": null,
      "outputs": []
    }
  ]
}